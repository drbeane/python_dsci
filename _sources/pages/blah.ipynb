{
 "cells": [
  {
   "cell_type": "markdown",
   "id": "301734d6-9404-4c9d-92b4-a2cad3a0bf0f",
   "metadata": {},
   "source": [
    "# Introduction to Machine Learning\n"
   ]
  },
  {
   "cell_type": "markdown",
   "id": "bfe4fda9-f7c1-4f95-a47c-256f505292c4",
   "metadata": {},
   "source": [
    "## What is Machine Learning\n",
    "\n",
    "\n",
    "Machine learning is a subfield of artificial intelligence that uses computer science, mathematics, and statistics to create algorithms capable of analyzing and learning from previously collected data. Machine learning models are trained to perform certain tasks through trial and error, rather than by following a set of rules that have been explicitly programmed by a human. In many cases, this approach is simpler to implement than developing explicit rules, and is often more effective. \n",
    "\n",
    "\n",
    "\n"
   ]
  },
  {
   "cell_type": "markdown",
   "id": "c6af4e0c-77e4-4048-b12b-69d50a1b1153",
   "metadata": {},
   "source": [
    "## Applications of Machine Learning \n",
    "\n",
    "Machine learning has applications in many fields. A (non-exaustive) list of applications includes spam detection, generating search results, image classification, voice recognition, programming autonomous vehicles, predicting credit scores, predicting housing costs, medical diagnoses, recommender systems, and handwriting recognition. "
   ]
  }
 ],
 "metadata": {
  "kernelspec": {
   "display_name": "Python 3",
   "language": "python",
   "name": "python3"
  },
  "language_info": {
   "codemirror_mode": {
    "name": "ipython",
    "version": 3
   },
   "file_extension": ".py",
   "mimetype": "text/x-python",
   "name": "python",
   "nbconvert_exporter": "python",
   "pygments_lexer": "ipython3",
   "version": "3.8.8"
  }
 },
 "nbformat": 4,
 "nbformat_minor": 5
}
