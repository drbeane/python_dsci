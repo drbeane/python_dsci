{
 "cells": [
  {
   "cell_type": "markdown",
   "metadata": {},
   "source": [
    "# Applications of Recursion\n",
    "\n",
    "We will now provide examples of a few ways in which recursion can be applied. "
   ]
  },
  {
   "cell_type": "markdown",
   "metadata": {},
   "source": [
    "### Factorial\n",
    "\n",
    "In the cell below, we use recursion to write a function that calculates the factorial of a positive integer. "
   ]
  },
  {
   "cell_type": "code",
   "execution_count": null,
   "metadata": {},
   "outputs": [],
   "source": [
    "def factorial(n):\n",
    "    if n == 1:\n",
    "        return 1\n",
    "    else:\n",
    "        return n * factorial(n - 1)"
   ]
  },
  {
   "cell_type": "markdown",
   "metadata": {},
   "source": [
    "We will now test our `factorial()` function by calling it on the first 10 positive integers. "
   ]
  },
  {
   "cell_type": "code",
   "execution_count": null,
   "metadata": {},
   "outputs": [],
   "source": [
    "for i in range(1, 11):\n",
    "    print(factorial(i))"
   ]
  },
  {
   "cell_type": "markdown",
   "metadata": {},
   "source": [
    "### Sum Elements\n",
    "\n",
    "Suppose that you are provided with several integers, but that the integers are stored in a collection of nested lists. We will write a recursive function named `sum_nested()` to calculate the sum of the elements in such a structure. "
   ]
  },
  {
   "cell_type": "code",
   "execution_count": null,
   "metadata": {},
   "outputs": [],
   "source": [
    "def sum_nested(x):\n",
    "    total = 0\n",
    "    for item in x:\n",
    "        if type(item) == list:\n",
    "            total += sum_nested(item)\n",
    "        else:\n",
    "            total += item\n",
    "    return total"
   ]
  },
  {
   "cell_type": "markdown",
   "metadata": {},
   "source": [
    "We will now test the function on several examples. "
   ]
  },
  {
   "cell_type": "code",
   "execution_count": null,
   "metadata": {},
   "outputs": [],
   "source": [
    "print(sum_nested([1, 2, 3]))\n",
    "print(sum_nested([1, [2], 3]))\n",
    "print(sum_nested([1, [2], [1, 2, 3]]))\n",
    "print(sum_nested([1, [2, [5, 6, [4, 9]]], [1, 2, 3]]))"
   ]
  },
  {
   "cell_type": "markdown",
   "metadata": {},
   "source": [
    "### Palindrome Checker\n",
    "\n",
    "The function below accepts a string as an argument, and then checks to see if that string is a palindrome. It accomplishes that using recursion. At each step, the function checks to see if the first and last character are equal. If so, then it calls itself on the substring that omits those two characters. The recursion ends when we arrive at a string with a lenth of 1 or less. "
   ]
  },
  {
   "cell_type": "code",
   "execution_count": null,
   "metadata": {},
   "outputs": [],
   "source": [
    "def is_palindrome(text):\n",
    "    if len(text) <= 1:\n",
    "        return True\n",
    "    if text[0] != text[-1]:\n",
    "        return False\n",
    "    return is_palindrome(text[1:-1])"
   ]
  },
  {
   "cell_type": "markdown",
   "metadata": {},
   "source": [
    "We will now test our function on several examples. "
   ]
  },
  {
   "cell_type": "code",
   "execution_count": null,
   "metadata": {},
   "outputs": [],
   "source": [
    "print(is_palindrome('abcba'))\n",
    "print(is_palindrome('abgfcfgba'))\n",
    "print(is_palindrome('abfgcfgba'))\n",
    "print(is_palindrome('aaa'))\n",
    "print(is_palindrome('aa'))\n",
    "print(is_palindrome('a'))"
   ]
  }
 ],
 "metadata": {
  "kernelspec": {
   "display_name": "Python 3",
   "language": "python",
   "name": "python3"
  },
  "language_info": {
   "codemirror_mode": {
    "name": "ipython",
    "version": 3
   },
   "file_extension": ".py",
   "mimetype": "text/x-python",
   "name": "python",
   "nbconvert_exporter": "python",
   "pygments_lexer": "ipython3",
   "version": "3.8.5"
  }
 },
 "nbformat": 4,
 "nbformat_minor": 4
}
