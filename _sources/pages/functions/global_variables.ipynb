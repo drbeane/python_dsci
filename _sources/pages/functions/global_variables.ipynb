{
 "cells": [
  {
   "cell_type": "markdown",
   "metadata": {},
   "source": [
    "# Global Variables"
   ]
  },
  {
   "cell_type": "markdown",
   "metadata": {},
   "source": [
    "## Accessing Global Variables from within Local Scopes\n",
    "\n",
    "A variable defined in the global scope is accessible from anywhere within your program, even from within local scopes. Let's see an example of this. "
   ]
  },
  {
   "cell_type": "code",
   "execution_count": 5,
   "metadata": {},
   "outputs": [
    {
     "name": "stdout",
     "output_type": "stream",
     "text": [
      "256\n",
      "81\n"
     ]
    }
   ],
   "source": [
    "def square_a():\n",
    "    return a**2\n",
    "\n",
    "#print(square_a())\n",
    "\n",
    "a = 16\n",
    "\n",
    "print(square_a())\n",
    "\n",
    "a = 9\n",
    "\n",
    "print(square_a())"
   ]
  },
  {
   "cell_type": "markdown",
   "metadata": {},
   "source": [
    "Whenever a variable is referenced from within a local scope, Python will search that local scope for a variable with that name. If none is found, then it will search for the variable within the global scope. If no variable with that name is found in the global scope, then an error will be generated. \n",
    "\n",
    "There are occasions when it is helpful to have a function access a global variable, but before doing so, you should always ask yourself if it would make more sense to simply define your function so that it can accept the global value as an argument. "
   ]
  },
  {
   "cell_type": "code",
   "execution_count": 6,
   "metadata": {},
   "outputs": [
    {
     "name": "stdout",
     "output_type": "stream",
     "text": [
      "8\n",
      "27\n",
      "64\n"
     ]
    }
   ],
   "source": [
    "def raise_to_a(x):\n",
    "    return x**a\n",
    "\n",
    "a = 3\n",
    "print(raise_to_a(2))\n",
    "print(raise_to_a(3))\n",
    "print(raise_to_a(4))"
   ]
  },
  {
   "cell_type": "code",
   "execution_count": 7,
   "metadata": {},
   "outputs": [
    {
     "name": "stdout",
     "output_type": "stream",
     "text": [
      "8\n",
      "27\n",
      "64\n"
     ]
    }
   ],
   "source": [
    "def raise_to_power(x, power):\n",
    "    return x**power\n",
    "\n",
    "a = 3\n",
    "print(raise_to_power(2, a))\n",
    "print(raise_to_power(3, a))\n",
    "print(raise_to_power(4, a))"
   ]
  },
  {
   "cell_type": "markdown",
   "metadata": {},
   "source": [
    "## Altering Global Variables from Within a Local Scope\n",
    "\n",
    "Assume that we have a variable named `my_var` in the global scope, but do not currently have a variable with that name in body of a certain function. \n",
    "\n",
    "* If we reference `my_var` from within the function, in an expression like `temp = my_var * 2`, for example, then the value of my_var will be pulled from the global scope. \n",
    "* If we include in our function a line such as `my_var = 2`, then this will create a new local variable named `my_var`, masking the global variable with the same name. The value of `my_var` in the global scope will be unchanged. "
   ]
  },
  {
   "cell_type": "code",
   "execution_count": 8,
   "metadata": {},
   "outputs": [
    {
     "name": "stdout",
     "output_type": "stream",
     "text": [
      "37\n",
      "50\n",
      "37\n"
     ]
    }
   ],
   "source": [
    "def setAto50():\n",
    "    a = 50\n",
    "    return a\n",
    "\n",
    "a = 37\n",
    "print(a)\n",
    "print(setAto50())\n",
    "print(a)"
   ]
  },
  {
   "cell_type": "markdown",
   "metadata": {},
   "source": [
    "But what if we do wish to change the value of a global variable from within a local scope? We can provide a function with permission to alter global variables using the **`global`** keyword. If we would like for a function to have write permission for a global variable, then at the beginning of the function, we can include a line containing the keyword `global` followed by the name of the variable. \n"
   ]
  },
  {
   "cell_type": "code",
   "execution_count": 9,
   "metadata": {
    "scrolled": true
   },
   "outputs": [
    {
     "name": "stdout",
     "output_type": "stream",
     "text": [
      "37\n",
      "50\n",
      "50\n"
     ]
    }
   ],
   "source": [
    "def setAto50():\n",
    "    global a \n",
    "    a = 50\n",
    "    return a\n",
    "\n",
    "a = 37\n",
    "print(a)\n",
    "print(setAto50())\n",
    "print(a)"
   ]
  }
 ],
 "metadata": {
  "kernelspec": {
   "display_name": "Python 3",
   "language": "python",
   "name": "python3"
  },
  "language_info": {
   "codemirror_mode": {
    "name": "ipython",
    "version": 3
   },
   "file_extension": ".py",
   "mimetype": "text/x-python",
   "name": "python",
   "nbconvert_exporter": "python",
   "pygments_lexer": "ipython3",
   "version": "3.8.5"
  }
 },
 "nbformat": 4,
 "nbformat_minor": 4
}
