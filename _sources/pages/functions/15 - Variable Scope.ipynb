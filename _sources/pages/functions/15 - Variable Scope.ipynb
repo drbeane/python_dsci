{
 "cells": [
  {
   "cell_type": "markdown",
   "metadata": {},
   "source": [
    "# Lesson 15 - Variable Scope\n",
    "\n",
    "### The following topics are discussed in this notebook:\n",
    "* Variable scope\n",
    "* Masking"
   ]
  },
  {
   "cell_type": "markdown",
   "metadata": {},
   "source": [
    "## Variable Scope\n",
    "\n",
    "When a function or variable is created in Python, it is placed into a particular scope. A **scope** is a organizational layer that determines which variables are visible to other variables. Some scopes will exist for the length of your python session, while others will have a limited lifetime. \n",
    "\n",
    "Scopes are arranged in a heirarchy. At the top level of this heirarchy is the **global scope**. Most objects that we create in Python will exist in the global scope. The global scope will persist for the duration of our Python session, and variables define within it are accessible from anywhere within our program. \n",
    "\n",
    "When a function is called, it creates its own **local scope** that will exist only during the time it takes for the function to execute. Any parameters used in the function, or variables created in the body of the function, will exist only in this local scope, and will disappear after the function finishes executing. To see a demonstration of this, consider the example below. \n"
   ]
  },
  {
   "cell_type": "code",
   "execution_count": 1,
   "metadata": {},
   "outputs": [
    {
     "name": "stdout",
     "output_type": "stream",
     "text": [
      "11\n"
     ]
    }
   ],
   "source": [
    "def addition(x, y):\n",
    "    temp = x + y\n",
    "    return temp\n",
    "    \n",
    "result = addition(4, 7)\n",
    "print(result)"
   ]
  },
  {
   "cell_type": "markdown",
   "metadata": {},
   "source": [
    "In the cell above, `addition()` and `result` were created in the global scope. These objects will be accessible anywhere within our program. However, `x`, `y`, and `temp` were created within a local scope. They are accessible from within the body of `addition`, but will dissappear once addition has finished executing. To verify this, uncomment each of the statements below, one at a time, and confirm that each statement produces and error."
   ]
  },
  {
   "cell_type": "code",
   "execution_count": 2,
   "metadata": {},
   "outputs": [],
   "source": [
    "#print(x)\n",
    "#print(y)\n",
    "#print(temp)"
   ]
  },
  {
   "cell_type": "markdown",
   "metadata": {},
   "source": [
    "## Masking \n",
    "\n",
    "Assume that we create a variable within a function body or as a function parameter, and this variable has the same name as a variable within the global scope. In this situation, the local variable **masks** the global variable. When the variable is referenced from within the local scope, it will use the locally defined value for the variable, as opposed to the value define within the global scope.  "
   ]
  },
  {
   "cell_type": "code",
   "execution_count": 3,
   "metadata": {},
   "outputs": [
    {
     "name": "stdout",
     "output_type": "stream",
     "text": [
      "11\n",
      "14 5 73\n"
     ]
    }
   ],
   "source": [
    "def addition(x, y):\n",
    "    temp = x + y\n",
    "    return temp\n",
    "\n",
    "\n",
    "x = 14\n",
    "y = 5\n",
    "temp = 73\n",
    "\n",
    "result = addition(4, 7)\n",
    "\n",
    "print(result)\n",
    "print(x, y, temp)"
   ]
  },
  {
   "cell_type": "markdown",
   "metadata": {},
   "source": [
    "When we call a function from within another function, we get a sequence of nested local scopes. "
   ]
  },
  {
   "cell_type": "code",
   "execution_count": 4,
   "metadata": {},
   "outputs": [
    {
     "name": "stdout",
     "output_type": "stream",
     "text": [
      "24\n",
      "35\n"
     ]
    }
   ],
   "source": [
    "def multiplication(x, y):\n",
    "    result = 0\n",
    "    for i in range(y):\n",
    "        result = addition(result, x)\n",
    "    return result \n",
    "    \n",
    "print(multiplication(4,6))\n",
    "print(multiplication(5,7))"
   ]
  },
  {
   "cell_type": "markdown",
   "metadata": {},
   "source": [
    "## Accessing Global Variables from within Local Scopes\n",
    "\n",
    "A variable defined in the global scope is accessible from anywhere within your program, even from within local scopes. Let's see an example of this. "
   ]
  },
  {
   "cell_type": "code",
   "execution_count": 5,
   "metadata": {},
   "outputs": [
    {
     "name": "stdout",
     "output_type": "stream",
     "text": [
      "256\n",
      "81\n"
     ]
    }
   ],
   "source": [
    "def square_a():\n",
    "    return a**2\n",
    "\n",
    "#print(square_a())\n",
    "\n",
    "a = 16\n",
    "\n",
    "print(square_a())\n",
    "\n",
    "a = 9\n",
    "\n",
    "print(square_a())"
   ]
  },
  {
   "cell_type": "markdown",
   "metadata": {},
   "source": [
    "Whenever a variable is referenced from within a local scope, Python will search that local scope for a variable with that name. If none is found, then it will search for the variable within the global scope. If no variable with that name is found in the global scope, then an error will be generated. \n",
    "\n",
    "There are occasions when it is helpful to have a function access a global variable, but before doing so, you should always ask yourself if it would make more sense to simply define your function so that it can accept the global value as an argument. "
   ]
  },
  {
   "cell_type": "code",
   "execution_count": 6,
   "metadata": {},
   "outputs": [
    {
     "name": "stdout",
     "output_type": "stream",
     "text": [
      "8\n",
      "27\n",
      "64\n"
     ]
    }
   ],
   "source": [
    "def raise_to_a(x):\n",
    "    return x**a\n",
    "\n",
    "a = 3\n",
    "print(raise_to_a(2))\n",
    "print(raise_to_a(3))\n",
    "print(raise_to_a(4))"
   ]
  },
  {
   "cell_type": "code",
   "execution_count": 7,
   "metadata": {},
   "outputs": [
    {
     "name": "stdout",
     "output_type": "stream",
     "text": [
      "8\n",
      "27\n",
      "64\n"
     ]
    }
   ],
   "source": [
    "def raise_to_power(x, power):\n",
    "    return x**power\n",
    "\n",
    "a = 3\n",
    "print(raise_to_power(2, a))\n",
    "print(raise_to_power(3, a))\n",
    "print(raise_to_power(4, a))"
   ]
  },
  {
   "cell_type": "markdown",
   "metadata": {},
   "source": [
    "## Altering Global Variables from Within a Local Scope\n",
    "\n",
    "Assume that we have a variable named `my_var` in the global scope, but do not currently have a variable with that name in body of a certain function. \n",
    "\n",
    "* If we reference `my_var` from within the function, in an expression like `temp = my_var * 2`, for example, then the value of my_var will be pulled from the global scope. \n",
    "* If we include in our function a line such as `my_var = 2`, then this will create a new local variable named `my_var`, masking the global variable with the same name. The value of `my_var` in the global scope will be unchanged. "
   ]
  },
  {
   "cell_type": "code",
   "execution_count": 8,
   "metadata": {},
   "outputs": [
    {
     "name": "stdout",
     "output_type": "stream",
     "text": [
      "37\n",
      "50\n",
      "37\n"
     ]
    }
   ],
   "source": [
    "def setAto50():\n",
    "    a = 50\n",
    "    return a\n",
    "\n",
    "a = 37\n",
    "print(a)\n",
    "print(setAto50())\n",
    "print(a)"
   ]
  },
  {
   "cell_type": "markdown",
   "metadata": {},
   "source": [
    "But what if we do wish to change the value of a global variable from within a local scope? We can provide a function with permission to alter global variables using the **`global`** keyword. If we would like for a function to have write permission for a global variable, then at the beginning of the function, we can include a line containing the keyword `global` followed by the name of the variable. \n"
   ]
  },
  {
   "cell_type": "code",
   "execution_count": 9,
   "metadata": {
    "scrolled": true
   },
   "outputs": [
    {
     "name": "stdout",
     "output_type": "stream",
     "text": [
      "37\n",
      "50\n",
      "50\n"
     ]
    }
   ],
   "source": [
    "def setAto50():\n",
    "    global a \n",
    "    a = 50\n",
    "    return a\n",
    "\n",
    "a = 37\n",
    "print(a)\n",
    "print(setAto50())\n",
    "print(a)"
   ]
  }
 ],
 "metadata": {
  "kernelspec": {
   "display_name": "Python 3",
   "language": "python",
   "name": "python3"
  },
  "language_info": {
   "codemirror_mode": {
    "name": "ipython",
    "version": 3
   },
   "file_extension": ".py",
   "mimetype": "text/x-python",
   "name": "python",
   "nbconvert_exporter": "python",
   "pygments_lexer": "ipython3",
   "version": "3.7.1"
  }
 },
 "nbformat": 4,
 "nbformat_minor": 4
}
