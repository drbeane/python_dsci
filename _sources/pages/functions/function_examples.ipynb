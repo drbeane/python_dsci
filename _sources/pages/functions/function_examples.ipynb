{
 "cells": [
  {
   "cell_type": "markdown",
   "metadata": {},
   "source": [
    "# Examples of Functions"
   ]
  },
  {
   "cell_type": "markdown",
   "metadata": {},
   "source": [
    "## Example: Reporting the Square of a Number\n",
    "\n",
    "In this example, we will write a function called `square_message()`. The function should take one argument, `n`, and should print the message:\n",
    "\n",
    "    The square of [n] is [n**2]."
   ]
  },
  {
   "cell_type": "code",
   "execution_count": null,
   "metadata": {},
   "outputs": [],
   "source": [
    "def square_message(n):\n",
    "    print(\"The square of \", n, \" is \", n**2, \".\", sep='')"
   ]
  },
  {
   "cell_type": "markdown",
   "metadata": {},
   "source": [
    "In the cell below, we have a loop that applies the function `square_message()` to every element of the list `A`. "
   ]
  },
  {
   "cell_type": "code",
   "execution_count": null,
   "metadata": {},
   "outputs": [],
   "source": [
    "A = [12, 34, 89, 17, 23, 49, 87, 34, 89, 71]\n",
    "\n",
    "for i in range(0, len(A)):\n",
    "    square_message(A[i])\n"
   ]
  },
  {
   "cell_type": "markdown",
   "metadata": {},
   "source": [
    "## Example: Summing the First `n` Positive Integers\n",
    "\n",
    "In the following cell, we write a function called `sum_first()` that takes a single parameter `n`, and returns the sum of the first n positive integers. "
   ]
  },
  {
   "cell_type": "code",
   "execution_count": null,
   "metadata": {},
   "outputs": [],
   "source": [
    "def sum_first(n):\n",
    "    \n",
    "    total = 0\n",
    "    \n",
    "    for i in range(1,n+1):\n",
    "        total = total + i\n",
    "        \n",
    "    return total"
   ]
  },
  {
   "cell_type": "markdown",
   "metadata": {},
   "source": [
    "We now call `sum_first()` on 100, and also on 237, printing the return value for each function call. "
   ]
  },
  {
   "cell_type": "code",
   "execution_count": null,
   "metadata": {},
   "outputs": [],
   "source": [
    "print(sum_first(100))\n",
    "print(sum_first(237))"
   ]
  },
  {
   "cell_type": "markdown",
   "metadata": {},
   "source": [
    "## Example: Factorials\n",
    "\n",
    "We will now write a function called `fact()` that takes in one argument, assumed to be an integer, and returns the factorial of that integer."
   ]
  },
  {
   "cell_type": "code",
   "execution_count": null,
   "metadata": {},
   "outputs": [],
   "source": [
    "def fact(n):\n",
    "    \n",
    "    product = 1\n",
    "    \n",
    "    for i in range(1,n+1):\n",
    "        product = product * i\n",
    "        \n",
    "    return product"
   ]
  },
  {
   "cell_type": "markdown",
   "metadata": {},
   "source": [
    "We will use our function calculate the factorials of 3, 5, 10, and 20."
   ]
  },
  {
   "cell_type": "code",
   "execution_count": null,
   "metadata": {},
   "outputs": [],
   "source": [
    "print(fact(3))\n",
    "print(fact(5))\n",
    "print(fact(10))\n",
    "print(fact(20))"
   ]
  },
  {
   "cell_type": "markdown",
   "metadata": {},
   "source": [
    "## Example: `sum_power` Function\n",
    "\n",
    "In the cell below, we create a function called `sum_power`. The function has two parameters, `x` and `n`. The parameter `x` is intended to be a list. The parameter `n` should be an `int` with a default value of `1`. The function should raise each element to the power of `n`, sum the resulting values, and then return this sum. "
   ]
  },
  {
   "cell_type": "code",
   "execution_count": null,
   "metadata": {},
   "outputs": [],
   "source": [
    "def sum_power(x, n=1):\n",
    "    total = 0\n",
    "    \n",
    "    for i in range(0, len(x)):\n",
    "        total += x[i]**n\n",
    "        \n",
    "    return total "
   ]
  },
  {
   "cell_type": "markdown",
   "metadata": {},
   "source": [
    "We test our function in the cell below. "
   ]
  },
  {
   "cell_type": "code",
   "execution_count": null,
   "metadata": {},
   "outputs": [],
   "source": [
    "A = [4,-3,1]\n",
    "print(sum_power(A))\n",
    "print(sum_power(A, 2))\n",
    "print(sum_power(A, 3))\n",
    "print(sum_power(A, 7))"
   ]
  },
  {
   "cell_type": "markdown",
   "metadata": {},
   "source": [
    "## Example: `find_item` Function\n",
    "\n",
    "In the cell below, we define a function called `find_item` that has three parameters, `x`, `item`, and `first`. The parameter `x` is expected to be a list. The parameter `first` should have a default value of `True`. The function should behave as follows:\n",
    "\n",
    "* If `first == True`, then the function should search for the first time that `item` appears in `x`, and should return the index of that occurrence.\n",
    "* If `first == False`, then the function should search for the last time that `item` appears in `x`, and should return the index of that occurrence.\n",
    "* If `item` does not appear in `x`, then the function should return `None`."
   ]
  },
  {
   "cell_type": "code",
   "execution_count": null,
   "metadata": {},
   "outputs": [],
   "source": [
    "def find_item(x, item, first=True):\n",
    "    idx = None\n",
    "    for i in range(0, len(x)):\n",
    "        if x[i] == item:\n",
    "            idx = i\n",
    "            if first:\n",
    "                return idx\n",
    "    return idx"
   ]
  },
  {
   "cell_type": "markdown",
   "metadata": {},
   "source": [
    "After defining your function, use the following lines of code to test it."
   ]
  },
  {
   "cell_type": "code",
   "execution_count": null,
   "metadata": {},
   "outputs": [],
   "source": [
    "letter_list = ['B', 'C', 'A', 'D', 'A', 'C', 'B', 'A', 'D']\n",
    "\n",
    "print(find_item(letter_list, 'A'))\n",
    "print(find_item(letter_list, 'A', first=False))\n",
    "print(find_item(letter_list, 'D'))\n",
    "print(find_item(letter_list, 'D', first=False))\n",
    "print(find_item(letter_list, 'E'))\n",
    "print(find_item(letter_list, 'E', first=False))"
   ]
  },
  {
   "cell_type": "markdown",
   "metadata": {},
   "source": [
    "## Example: Division with Remainder\n",
    "\n",
    "Write a function `div_w_remainder()` that takes two arguments, `num` and `div`, and returns the number of times that `div` evenly divides `num` (i.e. the quotient), as well as the remainder of `num` after division by `div`. Coerce the remainder into an integer."
   ]
  },
  {
   "cell_type": "code",
   "execution_count": null,
   "metadata": {},
   "outputs": [],
   "source": [
    "def div_w_remainder(num, div):\n",
    "    \n",
    "    quotient = int(num/div)\n",
    "    remainder = num % div\n",
    "    \n",
    "    return (quotient, remainder)"
   ]
  },
  {
   "cell_type": "markdown",
   "metadata": {},
   "source": [
    "We will now consider several examples to test our function."
   ]
  },
  {
   "cell_type": "code",
   "execution_count": null,
   "metadata": {},
   "outputs": [],
   "source": [
    "q, r = div_w_remainder(17, 3)\n",
    "print('Quotient: ', q)\n",
    "print('Remainder:', r)"
   ]
  },
  {
   "cell_type": "code",
   "execution_count": null,
   "metadata": {},
   "outputs": [],
   "source": [
    "q, r = div_w_remainder(459, 17)\n",
    "print('Quotient: ', q)\n",
    "print('Remainder:', r)"
   ]
  },
  {
   "cell_type": "code",
   "execution_count": null,
   "metadata": {},
   "outputs": [],
   "source": [
    "q, r = div_w_remainder(6237, 13)\n",
    "print('Quotient: ', q)\n",
    "print('Remainder:', r)"
   ]
  },
  {
   "cell_type": "markdown",
   "metadata": {},
   "source": [
    "## Example: Locating Elements in a List\n",
    "\n",
    "Write a function called `locate`. The function should take two arguments: a list called `x`, and another variable called `item`. \n",
    "\n",
    "The function should return two values: A list of indices at which the element in `x` is equal to `item`, and a count of the number of times that `item` appears in `x`. "
   ]
  },
  {
   "cell_type": "code",
   "execution_count": null,
   "metadata": {},
   "outputs": [],
   "source": [
    "def locate(x, item):\n",
    "   \n",
    "    index_list = []\n",
    "\n",
    "    for i in range(0, len(x)):\n",
    "        if x[i] == item:\n",
    "            index_list.append(i)\n",
    "\n",
    "    return (index_list, len(index_list))"
   ]
  },
  {
   "cell_type": "markdown",
   "metadata": {},
   "source": [
    "A list of student grades is provided in the cell below. Call `locate()` five times. In each function call, pass in `grades` for `x`. For `item`, use each of the following values: `'A'`, `'B'`, `'C'`, `'D'`, and `'F'`.\n",
    "\n",
    "For each function call, print out a message of the following form:\n",
    "\n",
    "    A: indices = [......], count = ##\n"
   ]
  },
  {
   "cell_type": "code",
   "execution_count": null,
   "metadata": {},
   "outputs": [],
   "source": [
    "grades = ['A', 'D', 'A', 'C', 'B', 'F', 'A', 'D', 'C', 'B', 'F', 'A', 'C', \n",
    "          'B', 'A', 'B', 'B', 'C', 'B', 'F', 'D', 'D', 'A', 'C', 'B']\n",
    "\n",
    "for letter in ['A', 'B', 'C', 'D', 'F']:\n",
    "    idx, c = locate(grades, letter)\n",
    "    print(str(letter) + ': indices = ' + str(idx) + ', count = ' + str(c) )\n"
   ]
  }
 ],
 "metadata": {
  "kernelspec": {
   "display_name": "Python 3",
   "language": "python",
   "name": "python3"
  },
  "language_info": {
   "codemirror_mode": {
    "name": "ipython",
    "version": 3
   },
   "file_extension": ".py",
   "mimetype": "text/x-python",
   "name": "python",
   "nbconvert_exporter": "python",
   "pygments_lexer": "ipython3",
   "version": "3.8.5"
  }
 },
 "nbformat": 4,
 "nbformat_minor": 4
}
