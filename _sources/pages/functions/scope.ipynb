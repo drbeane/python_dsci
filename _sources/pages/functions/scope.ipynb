{
 "cells": [
  {
   "cell_type": "markdown",
   "metadata": {},
   "source": [
    "# Variable Scope\n",
    "\n",
    "When a function or variable is created in Python, it is placed into a particular scope. A **scope** is a organizational layer that determines which variables are visible to other variables. Some scopes will exist for the length of your python session, while others will have a limited lifetime. \n",
    "\n",
    "Scopes are arranged in a heirarchy. At the top level of this heirarchy is the **global scope**. Most objects that we create in Python will exist in the global scope. The global scope will persist for the duration of our Python session, and variables define within it are accessible from anywhere within our program. \n",
    "\n",
    "When a function is called, it creates its own **local scope** that will exist only during the time it takes for the function to execute. Any parameters used in the function, or variables created in the body of the function, will exist only in this local scope, and will disappear after the function finishes executing. To see a demonstration of this, consider the example below. \n"
   ]
  },
  {
   "cell_type": "code",
   "execution_count": 1,
   "metadata": {},
   "outputs": [
    {
     "name": "stdout",
     "output_type": "stream",
     "text": [
      "11\n"
     ]
    }
   ],
   "source": [
    "def addition(x, y):\n",
    "    temp = x + y\n",
    "    return temp\n",
    "    \n",
    "result = addition(4, 7)\n",
    "print(result)"
   ]
  },
  {
   "cell_type": "markdown",
   "metadata": {},
   "source": [
    "In the cell above, `addition()` and `result` were created in the global scope. These objects will be accessible anywhere within our program. However, `x`, `y`, and `temp` were created within a local scope. They are accessible from within the body of `addition`, but will dissappear once addition has finished executing. To verify this, uncomment each of the statements below, one at a time, and confirm that each statement produces and error."
   ]
  },
  {
   "cell_type": "code",
   "execution_count": 2,
   "metadata": {},
   "outputs": [],
   "source": [
    "#print(x)\n",
    "#print(y)\n",
    "#print(temp)"
   ]
  },
  {
   "cell_type": "markdown",
   "metadata": {},
   "source": [
    "## Masking \n",
    "\n",
    "Assume that we create a variable within a function body or as a function parameter, and this variable has the same name as a variable within the global scope. In this situation, the local variable **masks** the global variable. When the variable is referenced from within the local scope, it will use the locally defined value for the variable, as opposed to the value define within the global scope.  "
   ]
  },
  {
   "cell_type": "code",
   "execution_count": 3,
   "metadata": {},
   "outputs": [
    {
     "name": "stdout",
     "output_type": "stream",
     "text": [
      "11\n",
      "14 5 73\n"
     ]
    }
   ],
   "source": [
    "def addition(x, y):\n",
    "    temp = x + y\n",
    "    return temp\n",
    "\n",
    "\n",
    "x = 14\n",
    "y = 5\n",
    "temp = 73\n",
    "\n",
    "result = addition(4, 7)\n",
    "\n",
    "print(result)\n",
    "print(x, y, temp)"
   ]
  },
  {
   "cell_type": "markdown",
   "metadata": {},
   "source": [
    "When we call a function from within another function, we get a sequence of nested local scopes. "
   ]
  },
  {
   "cell_type": "code",
   "execution_count": 4,
   "metadata": {},
   "outputs": [
    {
     "name": "stdout",
     "output_type": "stream",
     "text": [
      "24\n",
      "35\n"
     ]
    }
   ],
   "source": [
    "def multiplication(x, y):\n",
    "    result = 0\n",
    "    for i in range(y):\n",
    "        result = addition(result, x)\n",
    "    return result \n",
    "    \n",
    "print(multiplication(4,6))\n",
    "print(multiplication(5,7))"
   ]
  }
 ],
 "metadata": {
  "kernelspec": {
   "display_name": "Python 3",
   "language": "python",
   "name": "python3"
  },
  "language_info": {
   "codemirror_mode": {
    "name": "ipython",
    "version": 3
   },
   "file_extension": ".py",
   "mimetype": "text/x-python",
   "name": "python",
   "nbconvert_exporter": "python",
   "pygments_lexer": "ipython3",
   "version": "3.8.5"
  }
 },
 "nbformat": 4,
 "nbformat_minor": 4
}
