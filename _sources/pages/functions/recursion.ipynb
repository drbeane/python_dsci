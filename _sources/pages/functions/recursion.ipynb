{
 "cells": [
  {
   "cell_type": "markdown",
   "metadata": {},
   "source": [
    "# Recursion\n"
   ]
  },
  {
   "cell_type": "markdown",
   "metadata": {},
   "source": [
    "\n",
    "It is possible for a function to call itself. The act of a function calling itself is called **recursion**, and a function that uses recursion is referred to as **recursive**. It might not be immediately obviously what would happen if a function was to call itself, or why this might be useful. In fact, recursions can be a difficult concept to fully understand, but it is none-the-less a very powerful tool for addressing certain types of problems.  In this lesson we will discuss how recursion work. We will also provide an indication as to some of the potential uses of recursion. \n",
    "\n",
    "### First Example of Recursion\n",
    "\n",
    "In the cell below, we create a function named `countdown()`. Notice that this function calls itself, and is thus recursive. "
   ]
  },
  {
   "cell_type": "code",
   "execution_count": null,
   "metadata": {},
   "outputs": [],
   "source": [
    "def countdown(n):\n",
    "    if n <= 0:\n",
    "        print('Blastoff!')\n",
    "    else:\n",
    "        print(n)\n",
    "        countdown(n-1)"
   ]
  },
  {
   "cell_type": "markdown",
   "metadata": {},
   "source": [
    "We will now call the function, supplying a value of 5 for the parameter `n`."
   ]
  },
  {
   "cell_type": "code",
   "execution_count": null,
   "metadata": {},
   "outputs": [],
   "source": [
    "countdown(5)"
   ]
  },
  {
   "cell_type": "markdown",
   "metadata": {},
   "source": [
    "Let's break down what occurred when we called `countdown()` in the previous cell. \n",
    "\n",
    "* We explicitly called `countdown(5)`. The `if` condition did not trigger, so 5 was printed, and then `countdown(4)` was called. \n",
    "* Within the call `countdown(4)`, the `if` condition did not trigger, so 4 was printed, and then `countdown(3)` was called. \n",
    "* Within the call `countdown(3)`, the `if` condition did not trigger, so 3 was printed, and then `countdown(2)` was called. \n",
    "* Within the call `countdown(2)`, the `if` condition did not trigger, so 2 was printed, and then `countdown(1)` was called. \n",
    "* Within the call `countdown(1)`, the `if` condition did not trigger, so 1 was printed, and then `countdown(0)` was called. \n",
    "* Within the call `countdown(0)`, the `if` condition triggered, printing `'Blastoff!'`. No other functions were called, allowing the recursion to end. \n",
    "\n",
    "Each new call to `countdown()` creates its own local scope that lives inside the local scope from which it was called. Furthermore, none of the function calls are allowed to exit until of its calls that it has created have finished executing. This is demonstrated more clearly in the following example.\n",
    "\n",
    "### Second Recursion Example\n",
    "\n",
    "In the example below, notice that we have included print statements before and after the line that involves recursion. When a function call encounters a call to a function (even itself), it will pause its own execution, and will then process the new call to completion before moving own to later instructions. "
   ]
  },
  {
   "cell_type": "code",
   "execution_count": null,
   "metadata": {},
   "outputs": [],
   "source": [
    "def recursion_example(n):\n",
    "    print('Beginning call for n =', n)\n",
    "\n",
    "    if n == 0:\n",
    "        print('We have hit zero!')\n",
    "    else:\n",
    "        recursion_example(n-1)\n",
    "        \n",
    "    print('Finishing call for n =', n)"
   ]
  },
  {
   "cell_type": "markdown",
   "metadata": {},
   "source": [
    "We will now test this function by calling it with `n=3`."
   ]
  },
  {
   "cell_type": "code",
   "execution_count": null,
   "metadata": {},
   "outputs": [],
   "source": [
    "recursion_example(2)"
   ]
  },
  {
   "cell_type": "markdown",
   "metadata": {},
   "source": [
    "Since the last print statement in the definition of `recursion_example()` occurs after the recursive step, this line does not execute for ANY of the function calls until the recursion ends. At that point, the function calls end in reverse order and the remaining print statements are executed, again, in reverse order. \n",
    "\n",
    "The diagram below attempts to further explain what happens when we call `recursion_example(2)`. The actions described below occur in the order in which they are shown, and lines with the same level of horizontal indentation occur within the same call to `recursion_example()`. "
   ]
  },
  {
   "cell_type": "raw",
   "metadata": {},
   "source": [
    "    recursion_example(2) is called\n",
    "    │\n",
    "    ├──── print('Beginning call for n = 2')\n",
    "    │\n",
    "    ├──── recursion_example(1) is called. \n",
    "    │     │\n",
    "    │     ├──── print('Beginning call for n = 1')\n",
    "    │     │\n",
    "    │     ├──── recursion_example(0) is called. \n",
    "    │     │     │\n",
    "    │     │     ├──── print('We have hit zero!')\n",
    "    │     │     │\n",
    "    │     │     ├──── print('Finishing call for n = 1')\n",
    "    │     │\n",
    "    │     ├──── print('Finishing call for n = 2')\n",
    "    │\n",
    "    ├──── print('Finishing call for n = 3')"
   ]
  },
  {
   "cell_type": "markdown",
   "metadata": {},
   "source": [
    "## Base Case and Infinite Recursion\n",
    "\n",
    "Notice that both of the examples we provided above include an `if...else` statement in which one branch causes the function to recurse, and the other branch allows the recursion to end. This is typical of recursive functions. A recursive function will generally have one or more sets of parameter values for which the function does not recurse. Such a set of parameter values is referred to as a `base case` for the function. Recursive functions should be written so as to guarantee that they will always encounter a base case. Otherwise, the function might recur infinitely.    \n",
    "\n",
    "Two examples of potentially infinitely recursive functions are provided below. The first function does nothing other than call itself, and there is no condition to keep it from continuing to do so. The second function had a condition that could potentially allow it to stop recurring, but notice that this condition will never be met if an odd number is supplied for the parameter `n`. "
   ]
  },
  {
   "cell_type": "code",
   "execution_count": null,
   "metadata": {},
   "outputs": [],
   "source": [
    "def to_infinity():\n",
    "    to_infinity()\n",
    "\n",
    "def infinite_odds(n):\n",
    "    print(n)\n",
    "    if n == 0:\n",
    "        print('Done!')\n",
    "    else:\n",
    "        infinite_odds(n-2)"
   ]
  },
  {
   "cell_type": "markdown",
   "metadata": {},
   "source": [
    "In truth, Python will not allow infinite recursion. There is a maximum depth at which recursive functions can be stacked. By default, this number is 3000 on most systems. If the number of recursive calls to a function hits this depth, an error message will be displayed saying `\"maximum recursion depth exceeded\"`. "
   ]
  }
 ],
 "metadata": {
  "kernelspec": {
   "display_name": "Python 3",
   "language": "python",
   "name": "python3"
  },
  "language_info": {
   "codemirror_mode": {
    "name": "ipython",
    "version": 3
   },
   "file_extension": ".py",
   "mimetype": "text/x-python",
   "name": "python",
   "nbconvert_exporter": "python",
   "pygments_lexer": "ipython3",
   "version": "3.8.5"
  }
 },
 "nbformat": 4,
 "nbformat_minor": 4
}
