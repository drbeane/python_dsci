{
 "cells": [
  {
   "cell_type": "markdown",
   "metadata": {},
   "source": [
    "# Returning Multiple Values\n",
    "\n",
    "It is possible for a Python function to return multiple values. To To accomplish this, we can combine the desired return values together into a list or a tuple, which we then return. Alternately, we can simply list the return values in the return statement, separated by commas.\n",
    "\n",
    "When storing the values returned by such a function in variables, we can list the target variable names on the left of the assignment operator, separated by commas. "
   ]
  },
  {
   "cell_type": "code",
   "execution_count": null,
   "metadata": {
    "scrolled": true
   },
   "outputs": [],
   "source": [
    "def power(a,b):\n",
    "    return (a**b, b**a)\n",
    "\n",
    "a_to_b, b_to_a = power(2,5)\n",
    "print(a_to_b)\n",
    "print(b_to_a)"
   ]
  },
  {
   "cell_type": "markdown",
   "metadata": {},
   "source": [
    "## Example: Division with Remainder\n",
    "\n",
    "Write a function `div_w_remainder()` that takes two arguments, `num` and `div`, and returns the number of times that `div` evenly divides `num` (i.e. the quotient), as well as the remainder of `num` after division by `div`. Coerce the remainder into an integer."
   ]
  },
  {
   "cell_type": "code",
   "execution_count": null,
   "metadata": {},
   "outputs": [],
   "source": [
    "def div_w_remainder(num, div):\n",
    "    \n",
    "    quotient = int(num/div)\n",
    "    remainder = num % div\n",
    "    \n",
    "    return (quotient, remainder)"
   ]
  },
  {
   "cell_type": "markdown",
   "metadata": {},
   "source": [
    "We will now consider several examples to test our function."
   ]
  },
  {
   "cell_type": "code",
   "execution_count": null,
   "metadata": {},
   "outputs": [],
   "source": [
    "q, r = div_w_remainder(17, 3)\n",
    "print('Quotient: ', q)\n",
    "print('Remainder:', r)"
   ]
  },
  {
   "cell_type": "code",
   "execution_count": null,
   "metadata": {},
   "outputs": [],
   "source": [
    "q, r = div_w_remainder(459, 17)\n",
    "print('Quotient: ', q)\n",
    "print('Remainder:', r)"
   ]
  },
  {
   "cell_type": "code",
   "execution_count": null,
   "metadata": {},
   "outputs": [],
   "source": [
    "q, r = div_w_remainder(6237, 13)\n",
    "print('Quotient: ', q)\n",
    "print('Remainder:', r)"
   ]
  },
  {
   "cell_type": "markdown",
   "metadata": {},
   "source": [
    "## Example: Locating Elements in a List\n",
    "\n",
    "Write a function called `locate`. The function should take two arguments: a list called `x`, and another variable called `item`. \n",
    "\n",
    "The function should return two values: A list of indices at which the element in `x` is equal to `item`, and a count of the number of times that `item` appears in `x`. "
   ]
  },
  {
   "cell_type": "code",
   "execution_count": null,
   "metadata": {},
   "outputs": [],
   "source": [
    "def locate(x, item):\n",
    "   \n",
    "    index_list = []\n",
    "\n",
    "    for i in range(0, len(x)):\n",
    "        if x[i] == item:\n",
    "            index_list.append(i)\n",
    "\n",
    "    return (index_list, len(index_list))"
   ]
  },
  {
   "cell_type": "markdown",
   "metadata": {},
   "source": [
    "A list of student grades is provided in the cell below. Call `locate()` five times. In each function call, pass in `grades` for `x`. For `item`, use each of the following values: `'A'`, `'B'`, `'C'`, `'D'`, and `'F'`.\n",
    "\n",
    "For each function call, print out a message of the following form:\n",
    "\n",
    "    A: indices = [......], count = ##\n"
   ]
  },
  {
   "cell_type": "code",
   "execution_count": null,
   "metadata": {},
   "outputs": [],
   "source": [
    "grades = ['A', 'D', 'A', 'C', 'B', 'F', 'A', 'D', 'C', 'B', 'F', 'A', 'C', \n",
    "          'B', 'A', 'B', 'B', 'C', 'B', 'F', 'D', 'D', 'A', 'C', 'B']\n",
    "\n",
    "for letter in ['A', 'B', 'C', 'D', 'F']:\n",
    "    idx, c = locate(grades, letter)\n",
    "    print(str(letter) + ': indices = ' + str(idx) + ', count = ' + str(c) )\n"
   ]
  }
 ],
 "metadata": {
  "kernelspec": {
   "display_name": "Python 3",
   "language": "python",
   "name": "python3"
  },
  "language_info": {
   "codemirror_mode": {
    "name": "ipython",
    "version": 3
   },
   "file_extension": ".py",
   "mimetype": "text/x-python",
   "name": "python",
   "nbconvert_exporter": "python",
   "pygments_lexer": "ipython3",
   "version": "3.8.5"
  }
 },
 "nbformat": 4,
 "nbformat_minor": 4
}
