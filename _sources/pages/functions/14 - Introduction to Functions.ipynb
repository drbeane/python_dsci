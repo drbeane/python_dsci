{
 "cells": [
  {
   "cell_type": "markdown",
   "metadata": {},
   "source": [
    "# Lesson 14 - Introduction to Functions\n",
    "\n",
    "### The following topics are discussed in this notebook:\n",
    "\n",
    "* Defining functions.\n",
    "* Parameters and arguments.\n",
    "* Return values.\n"
   ]
  },
  {
   "cell_type": "markdown",
   "metadata": {},
   "source": [
    "## Function Basics\n",
    "\n",
    "A **function** is a sequence of instructions that has been given a name. Functions usually (but not always) take some number of inputs, called **parameters**, and usually (but not always) give an output, called the **return value**. When we use a function in our code, we say that we are **calling** the function. \n",
    "\n",
    "Once a function has been defined, it can be called from anywhere within your program. If you find that there is a task that you are repeating often and that requires several lines of codes, it might be a good idea to group those lines of code together into a function. \n",
    "\n",
    "Most functions we write will accept one or more inputs and will generate an output. However, We will start by considering functions that do not accept inputs, and that do not provide outputs. The syntax for defining such a function is as follows:\n",
    "\n",
    "<pre>\n",
    "def function_name():\n",
    "    Code to be executed by the function.\n",
    "</pre>\n",
    "\n",
    "We start by defining a (very) simple function below. "
   ]
  },
  {
   "cell_type": "code",
   "execution_count": null,
   "metadata": {},
   "outputs": [],
   "source": [
    "def greeting():\n",
    "    print(\"Hello, world!\")"
   ]
  },
  {
   "cell_type": "markdown",
   "metadata": {},
   "source": [
    "Notice that nothing was printed when we defined the function. This cell defined the function, but it did not call it. Thus, the code inside of the function was not executed. "
   ]
  },
  {
   "cell_type": "code",
   "execution_count": null,
   "metadata": {},
   "outputs": [],
   "source": [
    "greeting()"
   ]
  },
  {
   "cell_type": "code",
   "execution_count": null,
   "metadata": {
    "scrolled": true
   },
   "outputs": [],
   "source": [
    "for i in range(0,5):\n",
    "    greeting()"
   ]
  },
  {
   "cell_type": "markdown",
   "metadata": {},
   "source": [
    "## Parameters and Arguments\n",
    "\n",
    "The function `greeting()` defined above is not vary useful, for a few reasons. In particular, it doesn't accept any inputs. There are occassions when you will want to write functions that take no inputs, but functions are generally more useful when we are able to supply them information that affects how they behave. \n",
    "\n",
    "When defining a function, we can specify that a function expects one or more inputs by listing variable names between the parentheses to serve as placeholders for the inputs. The placeholders themselves are called **parameters**, and specific values that are supplied as inputs are referred to as **arguments**. \n",
    "\n",
    "In the example below, we create a function `square()` that has a single parameter, denoted by `n`. When the function is called, an argument must be supplied as a value for this parameter. The function will then print the square of that argument. \n"
   ]
  },
  {
   "cell_type": "code",
   "execution_count": null,
   "metadata": {},
   "outputs": [],
   "source": [
    "def square(n):\n",
    "    print(n**2)"
   ]
  },
  {
   "cell_type": "markdown",
   "metadata": {},
   "source": [
    "In the cell below, we call the `square` function with several different arguments. Each one of these arguments is substituted in for the parameter `n` for that particular function call. "
   ]
  },
  {
   "cell_type": "code",
   "execution_count": null,
   "metadata": {},
   "outputs": [],
   "source": [
    "square(2)\n",
    "square(3.6)\n",
    "square(-3)"
   ]
  },
  {
   "cell_type": "markdown",
   "metadata": {},
   "source": [
    "If we would like, we can specify the name of the parameter when we are calling a function. This is usually not necessary, however. "
   ]
  },
  {
   "cell_type": "code",
   "execution_count": null,
   "metadata": {},
   "outputs": [],
   "source": [
    "square(n=4)"
   ]
  },
  {
   "cell_type": "markdown",
   "metadata": {},
   "source": [
    "Note that (unlike many languages) Python does not ask us to specifiy what data type the arguments should be. However, if we supply an argument for which the function would perform an illegal operation, we will get an error. "
   ]
  },
  {
   "cell_type": "code",
   "execution_count": null,
   "metadata": {},
   "outputs": [],
   "source": [
    "square('circle')"
   ]
  },
  {
   "cell_type": "markdown",
   "metadata": {},
   "source": [
    "Additionally, if a function has one or more parameters, but we don't supply arguments for those parameters when we call the function, we will get an error."
   ]
  },
  {
   "cell_type": "code",
   "execution_count": null,
   "metadata": {},
   "outputs": [],
   "source": [
    "square()"
   ]
  },
  {
   "cell_type": "markdown",
   "metadata": {},
   "source": [
    "## Example: Reporting the Square of a Number\n",
    "\n",
    "In this example, we will write a function called `square_message()`. The function should take one argument, `n`, and should print the message:\n",
    "\n",
    "    The square of [n] is [n**2]."
   ]
  },
  {
   "cell_type": "code",
   "execution_count": null,
   "metadata": {},
   "outputs": [],
   "source": [
    "def square_message(n):\n",
    "    print(\"The square of \", n, \" is \", n**2, \".\", sep='')"
   ]
  },
  {
   "cell_type": "markdown",
   "metadata": {},
   "source": [
    "In the cell below, we have a loop that applies the function `square_message()` to every element of the list `A`. "
   ]
  },
  {
   "cell_type": "code",
   "execution_count": null,
   "metadata": {},
   "outputs": [],
   "source": [
    "A = [12, 34, 89, 17, 23, 49, 87, 34, 89, 71]\n",
    "\n",
    "for i in range(0, len(A)):\n",
    "    square_message(A[i])\n"
   ]
  },
  {
   "cell_type": "markdown",
   "metadata": {},
   "source": [
    "## Return Values\n",
    "\n",
    "All of the function we have written so far have printed some sort of message. However, we will not always desire this sort of behavior. Most of the pre-defined functions we have seen in this course print nothing at all, but instead provide some sort of output that can be printed, or stored into a variable. \n",
    "\n",
    "For example, the `sum()` function takes a list as an input, and provides the sum of the values in the list as the output. When a function provides an output, that output is called a **return value**. \n",
    "\n",
    "The syntax for defining a function with a return value is as follows:\n",
    "\n",
    "    def my_function(parameter1, parameter 2, ...):\n",
    "        Code to be executed.\n",
    "        return value_to_be_returned\n",
    "        \n",
    "As a simple example, the cell below defines a function called `half()` that accepts a single input, and returns the input divided by 2. "
   ]
  },
  {
   "cell_type": "code",
   "execution_count": null,
   "metadata": {},
   "outputs": [],
   "source": [
    "def half(x):\n",
    "    return x/2"
   ]
  },
  {
   "cell_type": "code",
   "execution_count": null,
   "metadata": {},
   "outputs": [],
   "source": [
    "y = half(36)\n",
    "print(y)"
   ]
  },
  {
   "cell_type": "code",
   "execution_count": null,
   "metadata": {},
   "outputs": [],
   "source": [
    "half(9) + half(14)"
   ]
  },
  {
   "cell_type": "code",
   "execution_count": null,
   "metadata": {},
   "outputs": [],
   "source": [
    "print(half(100))\n",
    "print(half(35))\n",
    "print(half(3.14159))"
   ]
  },
  {
   "cell_type": "markdown",
   "metadata": {},
   "source": [
    "We can nest function calls inside of each other. In this way, the return value for one function call becomes the argument for another. "
   ]
  },
  {
   "cell_type": "code",
   "execution_count": null,
   "metadata": {},
   "outputs": [],
   "source": [
    "one_eighth = half(half(half(20)))\n",
    "print(one_eighth)"
   ]
  },
  {
   "cell_type": "markdown",
   "metadata": {},
   "source": [
    "## Example: Summing the First `n` Positive Integers\n",
    "\n",
    "In the following cell, we write a function called `sum_first()` that takes a single parameter `n`, and returns the sum of the first n positive integers. "
   ]
  },
  {
   "cell_type": "code",
   "execution_count": null,
   "metadata": {},
   "outputs": [],
   "source": [
    "def sum_first(n):\n",
    "    \n",
    "    total = 0\n",
    "    \n",
    "    for i in range(1,n+1):\n",
    "        total = total + i\n",
    "        \n",
    "    return total"
   ]
  },
  {
   "cell_type": "markdown",
   "metadata": {},
   "source": [
    "We now call `sum_first()` on 100, and also on 237, printing the return value for each function call. "
   ]
  },
  {
   "cell_type": "code",
   "execution_count": null,
   "metadata": {},
   "outputs": [],
   "source": [
    "print(sum_first(100))\n",
    "print(sum_first(237))"
   ]
  },
  {
   "cell_type": "markdown",
   "metadata": {},
   "source": [
    "## Example: Factorials\n",
    "\n",
    "We will now write a function called `fact()` that takes in one argument, assumed to be an integer, and returns the factorial of that integer."
   ]
  },
  {
   "cell_type": "code",
   "execution_count": null,
   "metadata": {},
   "outputs": [],
   "source": [
    "def fact(n):\n",
    "    \n",
    "    product = 1\n",
    "    \n",
    "    for i in range(1,n+1):\n",
    "        product = product * i\n",
    "        \n",
    "    return product"
   ]
  },
  {
   "cell_type": "markdown",
   "metadata": {},
   "source": [
    "We will use our function calculate the factorials of 3, 5, 10, and 20."
   ]
  },
  {
   "cell_type": "code",
   "execution_count": null,
   "metadata": {},
   "outputs": [],
   "source": [
    "print(fact(3))\n",
    "print(fact(5))\n",
    "print(fact(10))\n",
    "print(fact(20))"
   ]
  },
  {
   "cell_type": "markdown",
   "metadata": {},
   "source": [
    "## Functions with Multiple Parameters\n",
    "\n",
    "It is possible for functions to have two or more parameters. Consider the following example."
   ]
  },
  {
   "cell_type": "code",
   "execution_count": null,
   "metadata": {},
   "outputs": [],
   "source": [
    "def power(a, b):\n",
    "    return a**b"
   ]
  },
  {
   "cell_type": "code",
   "execution_count": null,
   "metadata": {
    "scrolled": true
   },
   "outputs": [],
   "source": [
    "print( power(2, 5) )\n",
    "print( power(3, 4) )\n",
    "print( power(10, 2) )\n",
    "print( power(2, 10) )"
   ]
  },
  {
   "cell_type": "markdown",
   "metadata": {},
   "source": [
    "Notice that when we call a function with multiple arguments, the arguments are assigned to the parameters in the same order as they appear. If we specify names for the parameters when we call a function, then we can supply the arguments in any order that we wish. "
   ]
  },
  {
   "cell_type": "code",
   "execution_count": null,
   "metadata": {},
   "outputs": [],
   "source": [
    "print(power(a=4, b=3))\n",
    "print(power(b=3, a=4))"
   ]
  },
  {
   "cell_type": "markdown",
   "metadata": {},
   "source": [
    "Supplying names for our parameters can make our code easier to read when we are using functions with many parameters. It can also be useful when we can't recall the exact order in which the parameters appeared in the function definition. "
   ]
  },
  {
   "cell_type": "markdown",
   "metadata": {},
   "source": [
    "## Default Parameter Values"
   ]
  },
  {
   "cell_type": "markdown",
   "metadata": {},
   "source": [
    "It is sometimes useful to assign a default value to a parameter. This can be done by setting the parameter equal to the desired default value in the function definition. When the function is called, if an argument is supplied for this parameter, it will override the default value. If no argument is supplied for a parameter with a default value, then the default will be used. "
   ]
  },
  {
   "cell_type": "code",
   "execution_count": null,
   "metadata": {},
   "outputs": [],
   "source": [
    "def sum_first(arg_list, n=5):\n",
    "    total = 0\n",
    "    for i in range(n):\n",
    "        total += arg_list[i]\n",
    "    return total"
   ]
  },
  {
   "cell_type": "code",
   "execution_count": null,
   "metadata": {},
   "outputs": [],
   "source": [
    "my_list = [4, 8, 5, 7, 4, 9, 1, 6, 3, 2]\n",
    "\n",
    "print(sum_first(my_list, 3))\n",
    "print(sum_first(my_list, 5))\n",
    "print(sum_first(my_list))"
   ]
  },
  {
   "cell_type": "markdown",
   "metadata": {},
   "source": [
    "If the argument supplied for `n` in the `sum_first()` function is greater than the length of the list, then the function will result in an error. We will now rewrite this function so that it instead retuns the sum of all of the elements in the list in this situation. "
   ]
  },
  {
   "cell_type": "code",
   "execution_count": null,
   "metadata": {},
   "outputs": [],
   "source": [
    "def sum_first(arg_list, n=5):\n",
    "    \n",
    "    total = 0\n",
    "    m = min(n, len(arg_list))\n",
    "    \n",
    "    for i in range(m):\n",
    "        total += arg_list[i]\n",
    "        \n",
    "    return total"
   ]
  },
  {
   "cell_type": "code",
   "execution_count": null,
   "metadata": {},
   "outputs": [],
   "source": [
    "print(sum_first(my_list, 15))"
   ]
  },
  {
   "cell_type": "markdown",
   "metadata": {},
   "source": [
    "## Example: `sum_power` Function\n",
    "\n",
    "In the cell below, we create a function called `sum_power`. The function has two parameters, `x` and `n`. The parameter `x` is intended to be a list. The parameter `n` should be an `int` with a default value of `1`. The function should raise each element to the power of `n`, sum the resulting values, and then return this sum. "
   ]
  },
  {
   "cell_type": "code",
   "execution_count": null,
   "metadata": {},
   "outputs": [],
   "source": [
    "def sum_power(x, n=1):\n",
    "    total = 0\n",
    "    \n",
    "    for i in range(0, len(x)):\n",
    "        total += x[i]**n\n",
    "        \n",
    "    return total "
   ]
  },
  {
   "cell_type": "markdown",
   "metadata": {},
   "source": [
    "We test our function in the cell below. "
   ]
  },
  {
   "cell_type": "code",
   "execution_count": null,
   "metadata": {},
   "outputs": [],
   "source": [
    "A = [4,-3,1]\n",
    "print(sum_power(A))\n",
    "print(sum_power(A, 2))\n",
    "print(sum_power(A, 3))\n",
    "print(sum_power(A, 7))"
   ]
  },
  {
   "cell_type": "markdown",
   "metadata": {},
   "source": [
    "## Example: `find_item` Function\n",
    "\n",
    "In the cell below, we define a function called `find_item` that has three parameters, `x`, `item`, and `first`. The parameter `x` is expected to be a list. The parameter `first` should have a default value of `True`. The function should behave as follows:\n",
    "\n",
    "* If `first == True`, then the function should search for the first time that `item` appears in `x`, and should return the index of that occurrence.\n",
    "* If `first == False`, then the function should search for the last time that `item` appears in `x`, and should return the index of that occurrence.\n",
    "* If `item` does not appear in `x`, then the function should return `None`."
   ]
  },
  {
   "cell_type": "code",
   "execution_count": null,
   "metadata": {},
   "outputs": [],
   "source": [
    "def find_item(x, item, first=True):\n",
    "    idx = None\n",
    "    for i in range(0, len(x)):\n",
    "        if x[i] == item:\n",
    "            idx = i\n",
    "            if first:\n",
    "                return idx\n",
    "    return idx"
   ]
  },
  {
   "cell_type": "markdown",
   "metadata": {},
   "source": [
    "After defining your function, use the following lines of code to test it."
   ]
  },
  {
   "cell_type": "code",
   "execution_count": null,
   "metadata": {},
   "outputs": [],
   "source": [
    "letter_list = ['B', 'C', 'A', 'D', 'A', 'C', 'B', 'A', 'D']\n",
    "\n",
    "print(find_item(letter_list, 'A'))\n",
    "print(find_item(letter_list, 'A', first=False))\n",
    "print(find_item(letter_list, 'D'))\n",
    "print(find_item(letter_list, 'D', first=False))\n",
    "print(find_item(letter_list, 'E'))\n",
    "print(find_item(letter_list, 'E', first=False))"
   ]
  },
  {
   "cell_type": "markdown",
   "metadata": {},
   "source": [
    "## Returning Multiple Values\n",
    "\n",
    "It is possible for a Python function to return multiple values. To To accomplish this, we can combine the desired return values together into a list or a tuple, which we then return. Alternately, we can simply list the return values in the return statement, separated by commas.\n",
    "\n",
    "When storing the values returned by such a function in variables, we can list the target variable names on the left of the assignment operator, separated by commas. "
   ]
  },
  {
   "cell_type": "code",
   "execution_count": null,
   "metadata": {
    "scrolled": true
   },
   "outputs": [],
   "source": [
    "def power(a,b):\n",
    "    return (a**b, b**a)\n",
    "\n",
    "a_to_b, b_to_a = power(2,5)\n",
    "print(a_to_b)\n",
    "print(b_to_a)"
   ]
  },
  {
   "cell_type": "markdown",
   "metadata": {},
   "source": [
    "## Example: Division with Remainder\n",
    "\n",
    "Write a function `div_w_remainder()` that takes two arguments, `num` and `div`, and returns the number of times that `div` evenly divides `num` (i.e. the quotient), as well as the remainder of `num` after division by `div`. Coerce the remainder into an integer."
   ]
  },
  {
   "cell_type": "code",
   "execution_count": null,
   "metadata": {},
   "outputs": [],
   "source": [
    "def div_w_remainder(num, div):\n",
    "    \n",
    "    quotient = int(num/div)\n",
    "    remainder = num % div\n",
    "    \n",
    "    return (quotient, remainder)"
   ]
  },
  {
   "cell_type": "markdown",
   "metadata": {},
   "source": [
    "We will now consider several examples to test our function."
   ]
  },
  {
   "cell_type": "code",
   "execution_count": null,
   "metadata": {},
   "outputs": [],
   "source": [
    "q, r = div_w_remainder(17, 3)\n",
    "print('Quotient: ', q)\n",
    "print('Remainder:', r)"
   ]
  },
  {
   "cell_type": "code",
   "execution_count": null,
   "metadata": {},
   "outputs": [],
   "source": [
    "q, r = div_w_remainder(459, 17)\n",
    "print('Quotient: ', q)\n",
    "print('Remainder:', r)"
   ]
  },
  {
   "cell_type": "code",
   "execution_count": null,
   "metadata": {},
   "outputs": [],
   "source": [
    "q, r = div_w_remainder(6237, 13)\n",
    "print('Quotient: ', q)\n",
    "print('Remainder:', r)"
   ]
  },
  {
   "cell_type": "markdown",
   "metadata": {},
   "source": [
    "## Example: Locating Elements in a List\n",
    "\n",
    "Write a function called `locate`. The function should take two arguments: a list called `x`, and another variable called `item`. \n",
    "\n",
    "The function should return two values: A list of indices at which the element in `x` is equal to `item`, and a count of the number of times that `item` appears in `x`. "
   ]
  },
  {
   "cell_type": "code",
   "execution_count": null,
   "metadata": {},
   "outputs": [],
   "source": [
    "def locate(x, item):\n",
    "   \n",
    "    index_list = []\n",
    "\n",
    "    for i in range(0, len(x)):\n",
    "        if x[i] == item:\n",
    "            index_list.append(i)\n",
    "\n",
    "    return (index_list, len(index_list))"
   ]
  },
  {
   "cell_type": "markdown",
   "metadata": {},
   "source": [
    "A list of student grades is provided in the cell below. Call `locate()` five times. In each function call, pass in `grades` for `x`. For `item`, use each of the following values: `'A'`, `'B'`, `'C'`, `'D'`, and `'F'`.\n",
    "\n",
    "For each function call, print out a message of the following form:\n",
    "\n",
    "    A: indices = [......], count = ##\n"
   ]
  },
  {
   "cell_type": "code",
   "execution_count": null,
   "metadata": {},
   "outputs": [],
   "source": [
    "grades = ['A', 'D', 'A', 'C', 'B', 'F', 'A', 'D', 'C', 'B', 'F', 'A', 'C', \n",
    "          'B', 'A', 'B', 'B', 'C', 'B', 'F', 'D', 'D', 'A', 'C', 'B']\n",
    "\n",
    "for letter in ['A', 'B', 'C', 'D', 'F']:\n",
    "    idx, c = locate(grades, letter)\n",
    "    print(str(letter) + ': indices = ' + str(idx) + ', count = ' + str(c) )\n"
   ]
  },
  {
   "cell_type": "markdown",
   "metadata": {},
   "source": [
    "## Multiple Return Statements\n",
    "\n",
    "It is possible for a function to have multiple return statements. As soon as a return statement is hit, however, the function returns that value and then exits. As an illustration of this idea, compare the following two functions, both of which return the absolute value of a number. "
   ]
  },
  {
   "cell_type": "code",
   "execution_count": null,
   "metadata": {},
   "outputs": [],
   "source": [
    "def abs_val_1(x):\n",
    "    \n",
    "    if (x < 0):\n",
    "        absVal = -x\n",
    "    else:\n",
    "        absVal = x\n",
    "        \n",
    "    return absVal"
   ]
  },
  {
   "cell_type": "code",
   "execution_count": null,
   "metadata": {},
   "outputs": [],
   "source": [
    "print(abs_val_1(9))\n",
    "print(abs_val_1(-3.8))"
   ]
  },
  {
   "cell_type": "code",
   "execution_count": null,
   "metadata": {},
   "outputs": [],
   "source": [
    "def abs_val_2(x):\n",
    "    if(x < 0):\n",
    "        return -x\n",
    "    return x"
   ]
  },
  {
   "cell_type": "code",
   "execution_count": null,
   "metadata": {},
   "outputs": [],
   "source": [
    "print(abs_val_2(9))\n",
    "print(abs_val_2(-3.8))"
   ]
  }
 ],
 "metadata": {
  "kernelspec": {
   "display_name": "Python 3",
   "language": "python",
   "name": "python3"
  },
  "language_info": {
   "codemirror_mode": {
    "name": "ipython",
    "version": 3
   },
   "file_extension": ".py",
   "mimetype": "text/x-python",
   "name": "python",
   "nbconvert_exporter": "python",
   "pygments_lexer": "ipython3",
   "version": "3.7.1"
  }
 },
 "nbformat": 4,
 "nbformat_minor": 4
}
