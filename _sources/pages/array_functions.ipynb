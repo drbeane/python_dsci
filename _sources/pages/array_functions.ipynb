{
 "cells": [
  {
   "cell_type": "markdown",
   "id": "286e95aa-5fce-4047-9d23-ffd656a8c9f3",
   "metadata": {},
   "source": [
    "# Array Functions\n",
    "\n",
    "```{todo}\n",
    "Mention transformations vs aggregations\n",
    "```\n"
   ]
  },
  {
   "cell_type": "markdown",
   "id": "9c11a7ca-99f0-4dc6-bdf8-28b89e601b6a",
   "metadata": {},
   "source": [
    "Most list functions can also be applied to arrays. For example, functions such as `sum()` and `len()` operate on arrays in exactly the same way as they would on lists. The numpy package also provides us with several additional functions that do not exist in base Python, as well as versions of standard Python functions that have been optimized for arrays. \n",
    "\n",
    "For example, even though we can use `sum()` to calculate the sum of values in an array, numpy also provides us with a function called `np.sum()`, which can be used on both lists and arrays, but has been optimized for performance on arrays. To provide an example of this, we will import the `time` package, with provides us with a tool for measuring the execution time for portions of code. "
   ]
  },
  {
   "cell_type": "code",
   "execution_count": null,
   "id": "8c37a084-49f0-4967-926a-aad4bc309f09",
   "metadata": {},
   "outputs": [],
   "source": [
    "import time"
   ]
  },
  {
   "cell_type": "markdown",
   "id": "4ec131b3-6b7b-413b-8e43-c1b29a19b6af",
   "metadata": {},
   "source": [
    "The function time.time() will report the current system time, in seconds. In the following cell, we have four loops. Each loop will calculate one million sums, using either `sum()` or `np.sum()`, and running on either a list or an array. We will check the time before and after each loop runs. "
   ]
  },
  {
   "cell_type": "code",
   "execution_count": null,
   "id": "3dab926a-da72-4c5a-9756-d5d2bc7c5a2e",
   "metadata": {},
   "outputs": [],
   "source": [
    "t1 = time.time()\n",
    "for i in range(1000000):\n",
    "    sum(myList)\n",
    "    \n",
    "t2 = time.time()\n",
    "for i in range(1000000):\n",
    "    sum(myArray)\n",
    "    \n",
    "t3 = time.time()\n",
    "for i in range(1000000):\n",
    "    np.sum(myList)\n",
    "    \n",
    "t4 = time.time()\n",
    "for i in range(1000000):\n",
    "    np.sum(myArray)\n",
    "\n",
    "t5 = time.time()"
   ]
  },
  {
   "cell_type": "markdown",
   "id": "18d510a2-651f-40c8-bfd5-8ec54da7fde7",
   "metadata": {},
   "source": [
    "In the cell below, we will calculate the time required for each loop to run, and will plot the results using `matplotlib`. "
   ]
  },
  {
   "cell_type": "code",
   "execution_count": null,
   "id": "ffd511ae-116e-4dae-bc31-9065aa3c0ceb",
   "metadata": {},
   "outputs": [],
   "source": [
    "import matplotlib.pyplot as plt"
   ]
  },
  {
   "cell_type": "code",
   "execution_count": null,
   "id": "0195cde1-d434-4a19-96da-7330be02edda",
   "metadata": {},
   "outputs": [],
   "source": [
    "labels = ['sum on\\nlist', 'sum on\\narray', 'np.sum on\\nlist', 'np.sum on\\narray']\n",
    "heights = [t5 - t4, t4 - t3, t3 - t2, t2 - t1]\n",
    "\n",
    "plt.bar(labels, heights, color='cornflowerblue', edgecolor='k')\n",
    "plt.ylabel('Time (in seconds)')\n",
    "plt.show()"
   ]
  },
  {
   "cell_type": "markdown",
   "id": "5bd1427f-c67e-40ae-bb42-d0c8aeca57ad",
   "metadata": {},
   "source": [
    "Numpy also provides the following functions: \n",
    "\n",
    "* **`np.prod()`** returns the product of the elements in an array. \n",
    "* **`np.max()`** returns the largest element in an array. \n",
    "* **`np.min()`** returns the smallest element in an array. \n",
    "* **`np.argmax()`** returns the index of the largest element in an array. \n",
    "* **`np.argmin()`** returns the index of the smallest element in an array. \n",
    "* **`np.mean()`** returns the mean of the elements in an array. \n",
    "* **`np.std()`** returns the standard deviation of elements in an array. \n",
    "* **`np.unique()`** returns an array of distinct elements in an array. "
   ]
  },
  {
   "cell_type": "code",
   "execution_count": null,
   "id": "82f9c5b5-ec16-4e46-86d2-765de4a0b98b",
   "metadata": {},
   "outputs": [],
   "source": [
    "test_array = np.array([3.2, 4.8, 8.7, 8.7, 6.4, 5.3, 5.3, \n",
    "                       1.8, 4.8, 1.8, 5.4, 3.1, 3.2, 1.8])\n",
    "\n",
    "print('Sum:               ', np.sum(test_array))\n",
    "print('Product:           ', np.prod(test_array))\n",
    "print('Max:               ', np.max(test_array))\n",
    "print('Min:               ', np.min(test_array))\n",
    "print('ArgMax:            ', np.argmax(test_array))\n",
    "print('ArgMin:            ', np.argmin(test_array))\n",
    "print('Mean:              ', np.mean(test_array))\n",
    "print('Standard Deviation:', np.std(test_array))\n",
    "print('Distinct Elements: ', np.unique(test_array))"
   ]
  },
  {
   "cell_type": "markdown",
   "id": "aa7638d7-0e6b-4f0a-aef5-71aa26e065e5",
   "metadata": {},
   "source": [
    "## Elementwise Functions\n",
    "\n",
    "Numpy provides us with several elementwise functions. The functions will apply a certain operation to each element of an array, returning a new array. We will not cover all of these here, but will show you a few examples. \n",
    "\n",
    "* **`np.exp()`** raises `e` to each element within an array. \n",
    "* **`np.log()`** applies the natural logarithm to each element within an array. \n",
    "* **`np.round()`** rounds each element of an array to a specified number of decimal places. "
   ]
  },
  {
   "cell_type": "code",
   "execution_count": null,
   "id": "36914d3b-f8ee-491f-b890-92da33f796a9",
   "metadata": {},
   "outputs": [],
   "source": [
    "float_array = [3.45143, 1.23498, 6.57618, 2.47508, 7.50698]\n",
    "\n",
    "print('Example of np.exp:  ', np.exp(float_array))\n",
    "print('Example of np.log:  ', np.log(float_array))\n",
    "print('Example of np.round:', np.round(float_array, 2))\n",
    "print('Example of np.round:', np.round(float_array, 0))"
   ]
  },
  {
   "cell_type": "markdown",
   "id": "455fc091-5158-4aa9-96e2-342f23e7356b",
   "metadata": {},
   "source": [
    "### Example: Calculating Total Sales\n",
    "\n",
    "Two lists, `sales` and `prices` are provided below. Each entry of sales provides the number of units of a different product sold by a store during a given week. The `prices` lists provides the unit price of each of the products.\n",
    "\n",
    "Without using NumPy, write some code that will print out a single number `totalSales` that is equal to the store's total revenue during the week."
   ]
  },
  {
   "cell_type": "code",
   "execution_count": null,
   "id": "c6a0c899-0ccf-49a3-9fc1-0fc2038b9ecf",
   "metadata": {},
   "outputs": [],
   "source": [
    "sales = [24, 61, 17, 34, 41, 29, 32, 43]\n",
    "prices = [10.50, 5.76, 13.49, 8.13, 7.79, 12.60, 9.51, 11.34]\n",
    "\n",
    "totalSales = 0\n",
    "for i in range(0, len(sales)):\n",
    "    totalSales += sales[i] * prices[i]\n",
    "    \n",
    "print(totalSales)"
   ]
  },
  {
   "cell_type": "markdown",
   "id": "28e2134d-d99a-4eda-95e2-6f8cc259f55e",
   "metadata": {},
   "source": [
    "The cell below converts the lists `sales` and `price` into arrays. Use NumPy to accomplish to calculate `totalSales`. See if you can do it with only one new line of code. "
   ]
  },
  {
   "cell_type": "code",
   "execution_count": null,
   "id": "825dee8f-6440-4031-9fd3-90bf0ac56d7a",
   "metadata": {},
   "outputs": [],
   "source": [
    "sales_array = np.array(sales)\n",
    "prices_array = np.array(prices)\n",
    "\n",
    "totalSales = np.sum(sales_array * prices_array)\n",
    "print(totalSales)"
   ]
  },
  {
   "cell_type": "code",
   "execution_count": null,
   "id": "36fcbed8-0c57-4e9b-a4c4-e92ccc182ba8",
   "metadata": {},
   "outputs": [],
   "source": []
  }
 ],
 "metadata": {
  "kernelspec": {
   "display_name": "Python 3 (ipykernel)",
   "language": "python",
   "name": "python3"
  },
  "language_info": {
   "codemirror_mode": {
    "name": "ipython",
    "version": 3
   },
   "file_extension": ".py",
   "mimetype": "text/x-python",
   "name": "python",
   "nbconvert_exporter": "python",
   "pygments_lexer": "ipython3",
   "version": "3.8.12"
  }
 },
 "nbformat": 4,
 "nbformat_minor": 5
}
