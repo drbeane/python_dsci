{
 "cells": [
  {
   "cell_type": "markdown",
   "id": "5131abe6-21f9-476a-8aab-c0f09fe8a54d",
   "metadata": {},
   "source": [
    "# Array Comparisons\n",
    "\n",
    "Unlike lists, we can perform numerical comparisons with arrays. The comparison is carried out for each element of the array, and the result is an array of boolean values, containing the results of each comparison."
   ]
  },
  {
   "cell_type": "code",
   "execution_count": 1,
   "id": "1396f51c-81c8-4cac-8499-9dc9ba190ee1",
   "metadata": {},
   "outputs": [],
   "source": [
    "import numpy as np"
   ]
  },
  {
   "cell_type": "code",
   "execution_count": null,
   "id": "8594c79a-8257-46e6-88a3-143db03d1b72",
   "metadata": {},
   "outputs": [],
   "source": [
    "someArray = np.array([4, 7, 6, 3, 9, 8])\n",
    "\n",
    "print(someArray < 5)"
   ]
  },
  {
   "cell_type": "markdown",
   "id": "e1fac6bd-b42b-4baa-b054-d4c97b5801cc",
   "metadata": {},
   "source": [
    "There are many applications of array comparisons, but one is that it provides us with a convenient way to count the number of elements in an array that satisfy a certain condition. Since Python treats `True` as being equal to 1 and `False` as being equal to 0, we can use the sum function along with Boolean masking to count the number of elements in an array that satisfy a certain critera. "
   ]
  },
  {
   "cell_type": "code",
   "execution_count": null,
   "id": "125697d7-d993-4006-90b7-fc3360e70fa7",
   "metadata": {},
   "outputs": [],
   "source": [
    "cat = np.array(['A', 'C', 'A', 'B', 'B', 'C', 'A', 'A' ,\n",
    "                'C', 'B', 'C', 'C', 'A', 'B', 'A', 'A'])"
   ]
  },
  {
   "cell_type": "code",
   "execution_count": null,
   "id": "7108c07a-0801-46ae-a41b-8a17b2542f22",
   "metadata": {},
   "outputs": [],
   "source": [
    "print('Count of A:', np.sum(cat == 'A'))\n",
    "print('Count of B:', np.sum(cat == 'B'))\n",
    "print('Count of C:', np.sum(cat == 'C'))"
   ]
  },
  {
   "cell_type": "code",
   "execution_count": null,
   "id": "a668c02b-79e1-4e3d-9ba2-1a5839f23ad5",
   "metadata": {},
   "outputs": [],
   "source": [
    "val = np.array([8, 1, 3, 6, 10, 6, 12, 4,\n",
    "                6, 1, 4, 8,  5, 4, 12, 4])\n",
    "\n",
    "print('Number of elememts > 6: ', np.sum(val > 6) )\n",
    "print('Number of elements <= 6:', np.sum(val <= 6) )\n",
    "print('Number of even elements:', np.sum(val % 2 == 0) )\n",
    "print('Number of odd elements: ', np.sum(val % 2 != 0) )"
   ]
  },
  {
   "cell_type": "markdown",
   "id": "5fc2dd3b-4c00-45d3-bba8-67fa00ddecb0",
   "metadata": {},
   "source": [
    "## Logical Operators for Arrays"
   ]
  },
  {
   "cell_type": "markdown",
   "id": "7665be9a-4d6f-4c75-afa3-8313229447de",
   "metadata": {},
   "source": [
    "We can use the `&` and `|` operators to combine two boolean arrays into a single boolean array. Numpy also provides a unary negation operator `~`.  \n",
    "\n",
    "* `&` performs the **and** operation on the elements of the two arrays, one pair at a time.\n",
    "* `|` performs the **or** operation on the elements of the two arrays, one pair at a time.\n",
    "* `~` can be placed in front of a boolean array to negate the elements of that array. "
   ]
  },
  {
   "cell_type": "markdown",
   "id": "0ce9af21-b259-409f-ae1d-95f41c9259f7",
   "metadata": {},
   "source": [
    "We will illustrate how these operators work using the two boolean arrays defined below."
   ]
  },
  {
   "cell_type": "code",
   "execution_count": null,
   "id": "12d8a6aa-3da4-4745-9d7d-4dd041d94e06",
   "metadata": {},
   "outputs": [],
   "source": [
    "b1 = np.array([True, True, False, False])\n",
    "b2 = np.array([True, False, True, False])"
   ]
  },
  {
   "cell_type": "markdown",
   "id": "52403cd5-e813-4240-9546-a8d42d82a185",
   "metadata": {},
   "source": [
    "In the cell below, we illustrate the use of the `&` and `|` operators."
   ]
  },
  {
   "cell_type": "code",
   "execution_count": null,
   "id": "54817f08-d633-43aa-8208-cac6cee6868a",
   "metadata": {},
   "outputs": [],
   "source": [
    "print('b1 and b2:', b1 & b2)\n",
    "print('b1 or b2: ', b1 | b2)"
   ]
  },
  {
   "cell_type": "markdown",
   "id": "592112b9-887b-4637-bdaa-e09f8eb76e2b",
   "metadata": {},
   "source": [
    "We will now provide example of using the negation operator `~`. "
   ]
  },
  {
   "cell_type": "code",
   "execution_count": null,
   "id": "7d569c3b-9686-4211-a2bd-9190f94266d0",
   "metadata": {},
   "outputs": [],
   "source": [
    "print('Negation of b1:', ~b1)\n",
    "print('Negation of b2:', ~b2)"
   ]
  },
  {
   "cell_type": "markdown",
   "id": "89aea320-c023-480e-87dd-a014908d534a",
   "metadata": {},
   "source": [
    "We can use these operators to perform counts that depend on two (or more) conditions."
   ]
  },
  {
   "cell_type": "markdown",
   "id": "24283eae-6ae2-4f54-b939-48b2420b15e5",
   "metadata": {},
   "source": [
    "In the cell below, we use comparisons to count the number of elements in `val` that are even and greater than 5."
   ]
  },
  {
   "cell_type": "code",
   "execution_count": null,
   "id": "51be42af-5100-402e-b362-cd1ca5b20f60",
   "metadata": {},
   "outputs": [],
   "source": [
    "print(np.sum((val % 2 == 0) & (val > 5)))"
   ]
  },
  {
   "cell_type": "markdown",
   "id": "1da34e25-f484-4152-a55c-3a5254997c29",
   "metadata": {},
   "source": [
    "The following cell uses three comparisons to count the number of elements in `val` that are even, divisible by 3, and greater than 7."
   ]
  },
  {
   "cell_type": "code",
   "execution_count": null,
   "id": "2a99c094-ac67-4173-88de-7111e36bc15a",
   "metadata": {},
   "outputs": [],
   "source": [
    "print(np.sum((val % 2 == 0) & (val % 3 == 0) & (val > 7)))"
   ]
  },
  {
   "cell_type": "markdown",
   "id": "9d85908d-78c0-44d5-88a4-886314a8f724",
   "metadata": {},
   "source": [
    "We can use the logical operators on boolean arrays produced by comparisons involving different lists. In the cell below, we count the number of elements in `cat` that are equal to `A`, and for which the associated element of `val` is greater than 5. "
   ]
  },
  {
   "cell_type": "code",
   "execution_count": null,
   "id": "784cb06b-7252-4dd9-aca9-d436b30b06ad",
   "metadata": {},
   "outputs": [],
   "source": [
    "print(np.sum( (cat == 'A') & (val > 5) ))"
   ]
  }
 ],
 "metadata": {
  "kernelspec": {
   "display_name": "Python 3 (ipykernel)",
   "language": "python",
   "name": "python3"
  },
  "language_info": {
   "codemirror_mode": {
    "name": "ipython",
    "version": 3
   },
   "file_extension": ".py",
   "mimetype": "text/x-python",
   "name": "python",
   "nbconvert_exporter": "python",
   "pygments_lexer": "ipython3",
   "version": "3.8.12"
  }
 },
 "nbformat": 4,
 "nbformat_minor": 5
}
