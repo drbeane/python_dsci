{
 "cells": [
  {
   "cell_type": "markdown",
   "metadata": {},
   "source": [
    "# Introduction to Python\n",
    "\n",
    "### The following topics are discussed in this notebook:\n",
    "* Values, Types, and Lists\n",
    "* Expressions and Statements\n",
    "* Variables\n",
    "* Function\n",
    "* Objects \n",
    "* Errors\n",
    "* Comments"
   ]
  },
  {
   "cell_type": "markdown",
   "metadata": {},
   "source": [
    "This notebook is intended to provide you with a quick introduction to some of the concepts and terminology that you will encounter in this course. We will not explore any of these concepts in depth at this moment, but will discuss each of them more thoroughly in future lessons."
   ]
  },
  {
   "cell_type": "markdown",
   "metadata": {},
   "source": [
    "## Values, Types, and Lists\n",
    "\n",
    "A **value** is anything that represents a piece of information. That information could be numerical, a piece of text, or something more complicated. The following are all values in Python: \n",
    "\n",
    "    7, 8.214, 'cat', 'dog', 'Hello world!'\n",
    "    \n",
    "We can ask Python to display a value to the screen using the `print()` function. In the cell below, we print three of the values mentioned above. "
   ]
  },
  {
   "cell_type": "code",
   "execution_count": 1,
   "metadata": {},
   "outputs": [
    {
     "name": "stdout",
     "output_type": "stream",
     "text": [
      "7\n",
      "8.214\n",
      "Hello World!\n"
     ]
    }
   ],
   "source": [
    "print(7)\n",
    "print(8.214)\n",
    "print('Hello World!')"
   ]
  },
  {
   "cell_type": "markdown",
   "metadata": {},
   "source": [
    "Every value has a **type** that describes what kind of information is represented by the value. There are many different types that a value can have, but the three most basic types in Python are integers, floating-point numbers (or floats), and strings. \n",
    "\n",
    "* An **integer** is value that represents a whole number. \n",
    "* A **float** is a value that represents a decimal number. \n",
    "* A **string** is a value that represents a piece of text. \n",
    "\n",
    "We can use the `type()` function to check the type of a value. "
   ]
  },
  {
   "cell_type": "code",
   "execution_count": 2,
   "metadata": {},
   "outputs": [
    {
     "name": "stdout",
     "output_type": "stream",
     "text": [
      "The type of the value 7 is  <class 'int'>\n",
      "The type of the value 8.214 is  <class 'float'>\n",
      "The type of the value 'Hello World!' is  <class 'str'>\n"
     ]
    }
   ],
   "source": [
    "print(\"The type of the value 7 is \", type(7))\n",
    "print(\"The type of the value 8.214 is \", type(8.214))\n",
    "print(\"The type of the value 'Hello World!' is \", type('Hello World!'))"
   ]
  },
  {
   "cell_type": "markdown",
   "metadata": {},
   "source": [
    "Notice that Python abbreviates the types as `int`, `float`, and `str`. "
   ]
  },
  {
   "cell_type": "markdown",
   "metadata": {},
   "source": [
    "A **list** is a collection of values that have been grouped together and arranged in a specific order. A list is defined, and displayed, using brackets: `[]`. In the cell below, we create and display a list containing the integer values 1, 4, 6, and 3 (in that order). "
   ]
  },
  {
   "cell_type": "code",
   "execution_count": 3,
   "metadata": {},
   "outputs": [
    {
     "name": "stdout",
     "output_type": "stream",
     "text": [
      "[1, 4, 6, 3]\n"
     ]
    }
   ],
   "source": [
    "print([1, 4, 6, 3])"
   ]
  },
  {
   "cell_type": "markdown",
   "metadata": {},
   "source": [
    "## Expressions and Statements\n",
    "\n",
    "An **expression** is a sequence of characters that can be evaluated or reduced down to a single value. Here are three examples of Python expressions: \n",
    "\n",
    "`2*(5 + 8)`, `sum([1, 4, 6, 3])`, `'Mary' + 'ville'`\n",
    "\n",
    "You might be able to guess what values each of these expressions will evaluate as. To check your intuition, we will print the value of each of these expressions below. "
   ]
  },
  {
   "cell_type": "code",
   "execution_count": 4,
   "metadata": {},
   "outputs": [
    {
     "name": "stdout",
     "output_type": "stream",
     "text": [
      "26\n",
      "14\n",
      "Maryville\n"
     ]
    }
   ],
   "source": [
    "print(2*(5 + 8))\n",
    "print(sum([1, 4, 6, 3]))\n",
    "print('Mary' + 'ville')"
   ]
  },
  {
   "cell_type": "markdown",
   "metadata": {},
   "source": [
    "If it wasn't immediately clear to you how these expressions would be evaluated, don't worry.  You'll learn everything you need to understand these expressions early in this course."
   ]
  },
  {
   "cell_type": "markdown",
   "metadata": {},
   "source": [
    "A **statement** is a unit of code containing an instruction. Statements often contain expressions. An example of a statement is shown below. \n",
    "\n",
    "    print(2*(5 + 8))\n",
    "\n",
    "This statement instructs Python to print the value of the expression `2*(5 + 8)`, which evaluates to the value 26. "
   ]
  },
  {
   "cell_type": "markdown",
   "metadata": {},
   "source": [
    "## Variables\n",
    "\n",
    "A **variable** can be thought of as a container or storage location for a piece of information. Every variable has two features: a value and a name.  \n",
    "\n",
    "* The **value** of a variable is the information that is stored within the variable. This could be a single number, a list of numbers, a string of characters, or some more complex type of information. \n",
    "* The **name** of a variable is sequence of characters that is used to identify the variable. We use the name of a variable in statements to access its contents. \n",
    "\n",
    "We define variables using the assignment operator `=`. A statement used to define a variable is referred to as an **assignment statement**. \n",
    "\n",
    "In the cell below, we use two assignment statements to define variables named `x` and `y`. We then include a statement to print the value of the expression `x + y`. This will display the sum of the numerical values that we stored in the variables `x` and `y`. "
   ]
  },
  {
   "cell_type": "code",
   "execution_count": 5,
   "metadata": {},
   "outputs": [
    {
     "name": "stdout",
     "output_type": "stream",
     "text": [
      "79\n"
     ]
    }
   ],
   "source": [
    "x = 42\n",
    "y = 37\n",
    "\n",
    "print(x + y)"
   ]
  },
  {
   "cell_type": "markdown",
   "metadata": {},
   "source": [
    "## Functions\n",
    "\n",
    "A **function** is a named collection of statements that (often, but not always) accepts some input, performs some set of instructions, and (often, but not always) returns some output. \n",
    "\n",
    "The inputs provided to a function (if it has any) are called **arguments**. The output that is provided by the function (if it has one) is called the **return value** of the function. When we use a function within a statement, we say that we are **calling** the function. \n",
    "\n",
    "We have seen two examples of functions already in this lesson: the `print()` function and the `sum()` function. We will now use both of these in an example. "
   ]
  },
  {
   "cell_type": "code",
   "execution_count": 8,
   "metadata": {},
   "outputs": [
    {
     "name": "stdout",
     "output_type": "stream",
     "text": [
      "14\n"
     ]
    }
   ],
   "source": [
    "total = sum([1, 4, 6, 3])\n",
    "print(total)"
   ]
  },
  {
   "cell_type": "markdown",
   "metadata": {},
   "source": [
    "The cell above consists of two statements. In the first statement, we provided the list `[1, 4, 6, 3]` as an argument to the `sum()` function. The sum function ran several pre-written statements (that we do not see) to calculate the sum of the values stored in the list. It then returned (or output) the calculated sum as a value to be used in an assignment statement, storing it in a variable named `total`. \n",
    "\n",
    "In the second statement, the variable `total` was provided as an argument to the `print()` function, which caused the value `14` to be displayed the to screen. \n",
    "\n",
    "In the cell below, we use a function named `len()` to determine the length, or number of characters, in a string value. "
   ]
  },
  {
   "cell_type": "code",
   "execution_count": 11,
   "metadata": {},
   "outputs": [
    {
     "name": "stdout",
     "output_type": "stream",
     "text": [
      "12\n"
     ]
    }
   ],
   "source": [
    "count = len('Hello World!')\n",
    "print(count)"
   ]
  },
  {
   "cell_type": "markdown",
   "metadata": {},
   "source": [
    "Python has many built-in functions such as `sum()`, `len()`, and `print()`. We also have the ability to create our own **user-defined functions**. We will discuss this in depth in a later lesson. "
   ]
  },
  {
   "cell_type": "markdown",
   "metadata": {},
   "source": [
    "## Objects\n",
    "\n",
    "You will occasionally see the term **object** used to refer to a value, variable, or function. We will discuss exactly what this term means later in the course, but for now you just just consider this as an umbrella term used to refer to values, variables, and functions.  "
   ]
  },
  {
   "cell_type": "markdown",
   "metadata": {},
   "source": [
    "## Errors\n",
    "\n",
    "There will be times when you write a line of code that Python does not understand, or that represents an instruction that Python is unable to complete. In this situations, Python will generate an **error**. When an error is encountered, Python will display an error message that intended to help you identify the cause of the error. \n",
    "\n",
    "We will now provide a couple examples of statements that produce errors."
   ]
  },
  {
   "cell_type": "code",
   "execution_count": 12,
   "metadata": {},
   "outputs": [
    {
     "ename": "ZeroDivisionError",
     "evalue": "division by zero",
     "output_type": "error",
     "traceback": [
      "\u001b[1;31m---------------------------------------------------------------------------\u001b[0m",
      "\u001b[1;31mZeroDivisionError\u001b[0m                         Traceback (most recent call last)",
      "\u001b[1;32m<ipython-input-12-dfcedec16dfc>\u001b[0m in \u001b[0;36m<module>\u001b[1;34m\u001b[0m\n\u001b[0;32m      1\u001b[0m \u001b[0ma\u001b[0m \u001b[1;33m=\u001b[0m \u001b[1;36m5\u001b[0m\u001b[1;33m\u001b[0m\u001b[1;33m\u001b[0m\u001b[0m\n\u001b[0;32m      2\u001b[0m \u001b[0mb\u001b[0m \u001b[1;33m=\u001b[0m \u001b[1;36m0\u001b[0m\u001b[1;33m\u001b[0m\u001b[1;33m\u001b[0m\u001b[0m\n\u001b[1;32m----> 3\u001b[1;33m \u001b[0mprint\u001b[0m\u001b[1;33m(\u001b[0m\u001b[0ma\u001b[0m \u001b[1;33m/\u001b[0m \u001b[0mb\u001b[0m\u001b[1;33m)\u001b[0m\u001b[1;33m\u001b[0m\u001b[1;33m\u001b[0m\u001b[0m\n\u001b[0m",
      "\u001b[1;31mZeroDivisionError\u001b[0m: division by zero"
     ]
    }
   ],
   "source": [
    "a = 5\n",
    "b = 0\n",
    "print(a / b)"
   ]
  },
  {
   "cell_type": "markdown",
   "metadata": {},
   "source": [
    "In the cell above, we asked Python to display the value of 5 divided by 0. Division by zero is, of course, a calculate that Python is unable to perform, and the statement results in an error. The last line of an error message is often the most important. This line will let you know which of several possible error types was encountered, and will also give a description of the error. In this case, the error type was **`ZeroDivisionError`**. \n",
    "\n",
    "Notice on the third line of the error message, there is an arrow that points to the line where the error was encountered. This can be useful for helping you to debug your code. \n",
    "\n",
    "Let consider another example."
   ]
  },
  {
   "cell_type": "code",
   "execution_count": 14,
   "metadata": {},
   "outputs": [
    {
     "name": "stdout",
     "output_type": "stream",
     "text": [
      "Python is cool!\n"
     ]
    }
   ],
   "source": [
    "print('Python is cool!')"
   ]
  },
  {
   "cell_type": "markdown",
   "metadata": {},
   "source": [
    "The type of the error we encountered is **`SyntaxError`**. A syntax error occurs when Python encounters a statement that it does not understand, or is not able to parse. The line in the cell above does not represent a valid Python statement, and Python does not know what to do with it. "
   ]
  },
  {
   "cell_type": "code",
   "execution_count": 16,
   "metadata": {},
   "outputs": [
    {
     "name": "stdout",
     "output_type": "stream",
     "text": [
      "7\n",
      "28\n",
      "1.6\n"
     ]
    }
   ],
   "source": [
    "print(5 + 2)\n",
    "print(4 * 7)\n",
    "print(8 / 5)"
   ]
  },
  {
   "cell_type": "markdown",
   "metadata": {},
   "source": [
    "## Comments\n",
    "\n",
    "A **comment** is a piece of text contained within a program that does not represent executable code, and is intended to be ignored by the interpreter. Comments in Python are created using the pound sign, `#`. Anything that appears on a line following this symbol will be treated as a comment, and will be ignored by the Python interpreter.\n",
    "\n",
    "Comments are primarily used to document code. They can provide descriptions of the intended purpose of a piece of code, making it easier for someone reading the code to understand. \n",
    "\n",
    "In the cell below, we have recreated a previous example, but have added comments to document the code. \n"
   ]
  },
  {
   "cell_type": "code",
   "execution_count": 17,
   "metadata": {},
   "outputs": [
    {
     "name": "stdout",
     "output_type": "stream",
     "text": [
      "79\n"
     ]
    }
   ],
   "source": [
    "# In this example, we will define two variables\n",
    "# named x and y, and will display their sum. \n",
    "\n",
    "x = 42  # Store the value 42 in the variable x\n",
    "y = 37  # Store the value 37 in the variable y\n",
    "\n",
    "print(x + y)  # Print the sum of x and y. "
   ]
  },
  {
   "cell_type": "markdown",
   "metadata": {},
   "source": [
    "Comments are also often used to temporarily \"turn off\" a line of code that the programming does not want to execute, but does not wish to delete. This can be useful in debugging a program that produces an error. The code below contains three print statements, one of which produces an error. We have used a comment to disable the statement that results in an error. "
   ]
  },
  {
   "cell_type": "code",
   "execution_count": 19,
   "metadata": {},
   "outputs": [
    {
     "name": "stdout",
     "output_type": "stream",
     "text": [
      "6.5\n",
      "9.0\n"
     ]
    }
   ],
   "source": [
    "print(13 / 2)\n",
    "#print(5 / 0)\n",
    "print(27 / 3)"
   ]
  }
 ],
 "metadata": {
  "kernelspec": {
   "display_name": "Python 3",
   "language": "python",
   "name": "python3"
  },
  "language_info": {
   "codemirror_mode": {
    "name": "ipython",
    "version": 3
   },
   "file_extension": ".py",
   "mimetype": "text/x-python",
   "name": "python",
   "nbconvert_exporter": "python",
   "pygments_lexer": "ipython3",
   "version": "3.8.3"
  }
 },
 "nbformat": 4,
 "nbformat_minor": 2
}
