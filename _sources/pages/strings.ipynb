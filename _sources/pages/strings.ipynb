{
 "cells": [
  {
   "cell_type": "markdown",
   "metadata": {},
   "source": [
    "# Strings\n",
    "\n",
    "A string object is a piece of text, or in other words, a sequence of characters. When defining a string, we must put the characters that compose it inside either single or double quotes. These quotes are what allows Python to distinguish between a string and a command. \n",
    "\n",
    "In the cell below, we define a string variable, with the value `\"Hello World!\"`, and we then print the result. "
   ]
  },
  {
   "cell_type": "code",
   "execution_count": null,
   "metadata": {},
   "outputs": [],
   "source": [
    "my_string = \"Hello world!\"\n",
    "print(my_string)"
   ]
  },
  {
   "cell_type": "markdown",
   "metadata": {},
   "source": [
    "The official name of the Python string type is `str`. We confirm this be calling `type()` on `my_string`. "
   ]
  },
  {
   "cell_type": "code",
   "execution_count": null,
   "metadata": {},
   "outputs": [],
   "source": [
    "type(my_string)"
   ]
  },
  {
   "cell_type": "markdown",
   "metadata": {},
   "source": [
    "## Empty Strings\n",
    "\n",
    "It is possible to define a string that contains no characters. Such a string is referred to as an **empty string**. We can define an empty string by placing two single or double quotes next to each other without any characters between them. We see an example of this in the next cell. "
   ]
  },
  {
   "cell_type": "code",
   "execution_count": null,
   "metadata": {},
   "outputs": [],
   "source": [
    "empty_string = \"\"\n",
    "print(empty_string)"
   ]
  },
  {
   "cell_type": "markdown",
   "metadata": {},
   "source": [
    "We will see a practical use of empty strings later in this lesson. "
   ]
  },
  {
   "cell_type": "markdown",
   "metadata": {},
   "source": [
    "## The `len()` Function\n",
    "\n",
    "Python provides several built-in functions for working with strings. The first such function we will discuss is `len()`. The `len()` function allows you to determine the length of a string."
   ]
  },
  {
   "cell_type": "code",
   "execution_count": null,
   "metadata": {},
   "outputs": [],
   "source": [
    "x = \"There are 39 characters in this string.\"\n",
    "print(len(x))"
   ]
  },
  {
   "cell_type": "markdown",
   "metadata": {},
   "source": [
    "As you might expect, an empty string has a length of zero. "
   ]
  },
  {
   "cell_type": "code",
   "execution_count": null,
   "metadata": {},
   "outputs": [],
   "source": [
    "print(len(empty_string))"
   ]
  },
  {
   "cell_type": "markdown",
   "metadata": {},
   "source": [
    "## Single Quotes versus Double Quotes\n",
    "\n",
    "As mentioned above, we can also use single quotes when defining a string. The following definition of `my_string` is equivalent to the previous definition. "
   ]
  },
  {
   "cell_type": "code",
   "execution_count": null,
   "metadata": {},
   "outputs": [],
   "source": [
    "my_string = 'Hello world!'\n",
    "print(my_string)"
   ]
  },
  {
   "cell_type": "markdown",
   "metadata": {},
   "source": [
    "One benefit of being able to use either single quotes or double quotes when creating strings is that it allows us a convenient way to create strings that themselves contain quotes as characters. For instance, assume that we want to create a variable containing the following string:\n",
    "\n",
    "    He yelled, \"I have had enough!\" before storming out of the room.\n",
    "    \n",
    "The following attempt at creating this string will give us an error."
   ]
  },
  {
   "cell_type": "code",
   "execution_count": null,
   "metadata": {},
   "outputs": [],
   "source": [
    "sentence = \"He yelled, \"I have had enough!\" before storming out of the room.\""
   ]
  },
  {
   "cell_type": "markdown",
   "metadata": {},
   "source": [
    "In the example above, Python got confused by the quotation marks in the middle of the string. When it encountered the second quotation mark, it believed that this was the end of the string, although this was intended to be part of the string. \n",
    "\n",
    "There are a few ways to fix this. The simplest is to use single quotes to define the string. When Python encounters the first single quote, it knows that a string is being defined. It won't stop reading characters into the string until it hits another single quote. Any double quotes that it encounters along the way will be treated as inert characters."
   ]
  },
  {
   "cell_type": "code",
   "execution_count": null,
   "metadata": {},
   "outputs": [],
   "source": [
    "sentence = 'He yelled, \"I have had enough!\" before storming out of the room.'\n",
    "print(sentence)"
   ]
  },
  {
   "cell_type": "markdown",
   "metadata": {},
   "source": [
    "## Escape Sequences\n",
    "An **escape sequence** is a sequence of characters that Python applies special meaning to when they are encountered in a string. Several common escape sequences are listed below.\n",
    "\n",
    "| Escape Sequence  | Result |\n",
    "|:---:|-----|\n",
    "| **`\\'`**  | Prints a single quote. |\n",
    "| **`\\\"`**  | Prints a double quote. |\n",
    "| **`\\n`**  | Inserts a newline. |\n",
    "| **`\\t`**  | Inserts a tab. |\n",
    "| **`\\\\`**  | Inserts a backslash. |\n",
    "\n",
    "For an example use case for escape sequences, assume that we want to define a variable containing the following string of characters: \n",
    "\n",
    "    He yelled, \"I've had enough!\" before storming out of the room.\n",
    "    \n",
    "As before, the presence of double quotes within the string prohibit us from being able to use double quotes to define the string. Furthermore, since the character for the apostrophe is the same as the character for a single quote, we are now no longer able to use single quotes to define our string. One solution is to use an escape sequence for the apostrophe so that Python knows to interpret it as text. "
   ]
  },
  {
   "cell_type": "code",
   "execution_count": null,
   "metadata": {},
   "outputs": [],
   "source": [
    "sentence = 'He yelled, \"I\\'ve had enough!\" before storming out of the room.'\n",
    "print(sentence)"
   ]
  },
  {
   "cell_type": "markdown",
   "metadata": {},
   "source": [
    "Had we wished, we could have escaped the double quotes within the string as well as the apostrophe. In this case, we could have used either single or double quotes to define our string. "
   ]
  },
  {
   "cell_type": "markdown",
   "metadata": {},
   "source": [
    "We can use the `\\n` escape sequence to insert a newline inside of a string. "
   ]
  },
  {
   "cell_type": "code",
   "execution_count": null,
   "metadata": {},
   "outputs": [],
   "source": [
    "tale2cities = \"It was the best of times.\\nIt was the worst of times.\"\n",
    "print(tale2cities)"
   ]
  },
  {
   "cell_type": "markdown",
   "metadata": {},
   "source": [
    "We can use `\\t` to insert tabs in our string. This can be used for indenting lines, or for aligning output. "
   ]
  },
  {
   "cell_type": "code",
   "execution_count": null,
   "metadata": {},
   "outputs": [],
   "source": [
    "print(\"Regular.\")\n",
    "print(\"\\tIndented.\")\n",
    "print(\"\\t\\tDouble indented.\")"
   ]
  },
  {
   "cell_type": "markdown",
   "metadata": {},
   "source": [
    "The tab escape sequence can be used to align portions of multi-line output. The following example shows how we might use tabs to align columns in the printout of an employee database. "
   ]
  },
  {
   "cell_type": "code",
   "execution_count": null,
   "metadata": {
    "tags": []
   },
   "outputs": [],
   "source": [
    "print('ID\\tEmployee Name\\tSalary')\n",
    "print('-------------------------------')\n",
    "print('107\\tJane Doe\\t$54,000')\n",
    "print('139\\tJohn Smith\\t$48,300')\n",
    "print('162\\tPat Jones\\t$52,500')"
   ]
  },
  {
   "cell_type": "markdown",
   "metadata": {},
   "source": [
    "## Operations Involving Strings\n",
    "\n",
    "When appearing between numbers, the symbols `+`, `-`, `*`, `/`, and `**` perform the relevant arithmetic operations. However, these symbols can sometimes be used to combine instance of data types. We will see examples of this as we introduce new data types. The only one of these symbols that can be used between two strings is the `+` symbol. \n",
    "\n",
    "When `+` is used between two strings, it combines, or **concatenates** the strings. The string that appears on the left side of `+` will come first, and the string on the right side will be appended to the end. "
   ]
  },
  {
   "cell_type": "code",
   "execution_count": null,
   "metadata": {},
   "outputs": [],
   "source": [
    "a = 'star'\n",
    "b = 'wars'\n",
    "c = a + b\n",
    "print(c)"
   ]
  },
  {
   "cell_type": "markdown",
   "metadata": {},
   "source": [
    "We can use `+` to combine several strings at once. It is not necessary for all of the string values to be stored in variables. We see this in the next example, which places a space between the words \"star\" and \"wars\".  "
   ]
  },
  {
   "cell_type": "code",
   "execution_count": null,
   "metadata": {},
   "outputs": [],
   "source": [
    "d = a + ' ' + b\n",
    "print(d)"
   ]
  },
  {
   "cell_type": "markdown",
   "metadata": {},
   "source": [
    "## Operations Involving Strings and Numbers"
   ]
  },
  {
   "cell_type": "markdown",
   "metadata": {},
   "source": [
    "If we try to combine a string and a number with +, we will get an error."
   ]
  },
  {
   "cell_type": "code",
   "execution_count": null,
   "metadata": {
    "scrolled": true
   },
   "outputs": [],
   "source": [
    "print(\"one\" + 2)"
   ]
  },
  {
   "cell_type": "markdown",
   "metadata": {},
   "source": [
    "Note that numbers enclosed with quotes are also considered strings. Python does not recongnize them as numbers."
   ]
  },
  {
   "cell_type": "code",
   "execution_count": null,
   "metadata": {},
   "outputs": [],
   "source": [
    "print(\"1\" + 2)"
   ]
  },
  {
   "cell_type": "markdown",
   "metadata": {},
   "source": [
    "Although we are not able to \"add\" strings to numbers, we are able to \"multiply\" a string by a number. The result will be a string that has concatenated with itself the specified number of times."
   ]
  },
  {
   "cell_type": "code",
   "execution_count": null,
   "metadata": {},
   "outputs": [],
   "source": [
    "print(\"blah \" * 5)"
   ]
  },
  {
   "cell_type": "markdown",
   "metadata": {},
   "source": [
    "Since the product of a string and an integer produces another string, expressions of this type can be concatenated together."
   ]
  },
  {
   "cell_type": "code",
   "execution_count": null,
   "metadata": {},
   "outputs": [],
   "source": [
    "print(\"la \" * 4 + \"doo \" * 3)"
   ]
  },
  {
   "cell_type": "markdown",
   "metadata": {},
   "source": [
    "## Type Coercion with Strings\n",
    "\n",
    "We will now explore under what situations we are able to convert between `str` objects and `int` or `float` objects. \n",
    "\n",
    "We can convert a `str` object to an `int` or a `float` if the value contained within the string makes sense as the new data type. "
   ]
  },
  {
   "cell_type": "code",
   "execution_count": null,
   "metadata": {},
   "outputs": [],
   "source": [
    "a_str = '61'\n",
    "a_int = int(a_str)\n",
    "a_float = float(a_str)\n",
    "print(a_int)\n",
    "print(a_float)"
   ]
  },
  {
   "cell_type": "code",
   "execution_count": null,
   "metadata": {},
   "outputs": [],
   "source": [
    "b_str = '7.93'\n",
    "b_float = float(b_str)\n",
    "print(b_float)"
   ]
  },
  {
   "cell_type": "markdown",
   "metadata": {},
   "source": [
    "Since the value of `b_str` is not interpretable as an integer, we will get an error if we attempt to coerce it to an integer."
   ]
  },
  {
   "cell_type": "code",
   "execution_count": null,
   "metadata": {},
   "outputs": [],
   "source": [
    "b_int = int(b_str)"
   ]
  },
  {
   "cell_type": "markdown",
   "metadata": {},
   "source": [
    "If we are very insistent about coercing `b_int` to an integer, we can first coerce it into a float, and then an integer. "
   ]
  },
  {
   "cell_type": "code",
   "execution_count": null,
   "metadata": {},
   "outputs": [],
   "source": [
    "b_int = int(float(b_str))\n",
    "print(b_int)"
   ]
  },
  {
   "cell_type": "markdown",
   "metadata": {},
   "source": [
    "We can always convert an `int` or a `float` object to a `str` using the `str()` function."
   ]
  },
  {
   "cell_type": "code",
   "execution_count": null,
   "metadata": {},
   "outputs": [],
   "source": [
    "x_float = 4.5\n",
    "x_str = str(x_float)\n",
    "print(x_str)"
   ]
  },
  {
   "cell_type": "code",
   "execution_count": null,
   "metadata": {},
   "outputs": [],
   "source": [
    "y_int = 8675409\n",
    "y_str = str(y_int)\n",
    "print(y_str)"
   ]
  },
  {
   "cell_type": "markdown",
   "metadata": {},
   "source": [
    "Converting numerical values to strings can be very useful if we want to output a message that contains a mixture of predetermined text, as well as numeric values that are stored in variables. Converting the numeric portions of the message to strings allowed them to be concatenated with the rest of the text. \n",
    "\n",
    "Consider the following example."
   ]
  },
  {
   "cell_type": "code",
   "execution_count": null,
   "metadata": {},
   "outputs": [],
   "source": [
    "z = 3.56\n",
    "z2 = z**2\n",
    "\n",
    "print('The square of ' + str(z) + ' is ' + str(z2) + '.')"
   ]
  },
  {
   "cell_type": "markdown",
   "metadata": {},
   "source": [
    "We could have obtained the same result as above without using coercion by passing multiple arguments to the `print()` function and setting the `sep` parameter equal to the empty string, as shown below. "
   ]
  },
  {
   "cell_type": "code",
   "execution_count": null,
   "metadata": {},
   "outputs": [],
   "source": [
    "print('The square of ', z, ' is ', z2, '.', sep='')"
   ]
  },
  {
   "cell_type": "markdown",
   "metadata": {},
   "source": [
    "## Methods\n",
    "\n",
    "The majority of the functions we will encounter when working with strings are **methods**. The difference between a method and other types of functions we will encounter is subtle, and will be discussed in greater detail later in the course. For now, we simply note the following points regarding methods:\n",
    "1. A method is a function that belongs to a specific object (such as an `int`, `float`, or `str`). \n",
    "2. To use a method on an object, you write the name of the object, followed by a dot, followed by the name of the method, followed by a set of parentheses.\n",
    "\n",
    "In the following example, we consider three string methods:\n",
    "\n",
    "* `upper()` converts the string to uppercase. \n",
    "* `lower()` converts the string to lowercase. \n",
    "* `title()` capitalizes the first letter of each word in the string. \n",
    "\n",
    "Note that none of these methods actually change the contents of the string. They instead provide a new string as their output. "
   ]
  },
  {
   "cell_type": "code",
   "execution_count": null,
   "metadata": {},
   "outputs": [],
   "source": [
    "myString = \"There's a method in the madness.\"\n",
    "print(myString.upper())\n",
    "print(myString.lower())\n",
    "print(myString.title())"
   ]
  },
  {
   "cell_type": "markdown",
   "metadata": {},
   "source": [
    "Some methods accept inputs (also called arguments). One example is the `count()` method. This method searches the string to see how many times the supplied input (also a string) appears within the original string. This is demonstrated below. "
   ]
  },
  {
   "cell_type": "code",
   "execution_count": null,
   "metadata": {},
   "outputs": [],
   "source": [
    "print( myString.count(\"m\") )\n",
    "print( myString.count(\"e\") )"
   ]
  },
  {
   "cell_type": "markdown",
   "metadata": {},
   "source": [
    "The `replace()` method accepts two arguments. This method scans the source string, and replaces all occurences of the first argument with the second argument. Again, it does not actually change the contents of the original string. It instead returns a new string as output. "
   ]
  },
  {
   "cell_type": "code",
   "execution_count": null,
   "metadata": {
    "scrolled": true,
    "tags": []
   },
   "outputs": [],
   "source": [
    "a = \"a \"\n",
    "b =  \"no \"\n",
    "print( myString.replace(a, b) )"
   ]
  },
  {
   "cell_type": "markdown",
   "metadata": {},
   "source": [
    "## f-Strings\n",
    "\n",
    "Beginning with Version 3.6, Python has come equipped with a powerful tool for creating and formatting strings known as **f-strings**. We can define an f-string by simply placing an `f` character in front of the string, immediately before the initial quote. "
   ]
  },
  {
   "cell_type": "code",
   "execution_count": null,
   "metadata": {},
   "outputs": [],
   "source": [
    "boring_fstring = f'This is an example of an f-string.'\n",
    "print(boring_fstring)"
   ]
  },
  {
   "cell_type": "markdown",
   "metadata": {},
   "source": [
    "The example above illustrates the basic syntax for creating an f-string, but it is not particularly useful. We could have obtained the same result using an ordinary string. The benefits of f-strings arise from situation in which we would like to define a string that incorporates values stored in variables. If we place a set of brackets containing a variable name within an f-string, then the value of that variable will be inserted into the string at that location. This is illustrated in the next example. "
   ]
  },
  {
   "cell_type": "code",
   "execution_count": null,
   "metadata": {},
   "outputs": [],
   "source": [
    "first = 'Robbie'\n",
    "last = 'Beane'\n",
    "\n",
    "name_message = f'Hello. My first name is {first} and my last name is {last}.'\n",
    "print(name_message)"
   ]
  },
  {
   "cell_type": "markdown",
   "metadata": {},
   "source": [
    "In the example above, the values we inserted into the f-string were both strings themselves. However, we can place variables containing numerical values inside of the brackets as well. When doing so, it is NOT necessary to coerce the variable into a string.\n",
    "\n",
    "We are not restricted to using names of variables inside of brackets in an f-string. We can, in fact, place any expression that we would like inside of the brackets. \n",
    "\n",
    "These concepts are illustrated in the next example. "
   ]
  },
  {
   "cell_type": "code",
   "execution_count": null,
   "metadata": {},
   "outputs": [],
   "source": [
    "z = 3.56\n",
    "print(f'The square of {z} is {z**2}.')"
   ]
  },
  {
   "cell_type": "markdown",
   "metadata": {},
   "source": [
    "## Aligning Text with f-Strings\n",
    "\n",
    "Occasionally, we would like to insert a value into a string with additional spaces padding the value on the left or the right so that the printed value and the additional spaces together constitute a specific number of characters. We can accomplish this using f-strings by following the expression within the braces with a colon `:`, one of the symbols `<` or `>`, and then an integer value. The integer indicates the number of characters that should be set aside for the inserted value, and the selected arrow symbol controls whether the value should be left-justified (`<`) or right-justified (`>`). \n",
    "\n",
    "We illustrated this in the cell below. "
   ]
  },
  {
   "cell_type": "code",
   "execution_count": null,
   "metadata": {},
   "outputs": [],
   "source": [
    "my_text = 'text'\n",
    "\n",
    "print(f'--{my_text:>6}--')\n",
    "print(f'--{my_text:<6}--')"
   ]
  },
  {
   "cell_type": "markdown",
   "metadata": {},
   "source": [
    "This feature of f-strings is particularly useful when we would like to display output in a tabular format, consisting of multiple rows and columns. We can use f-strings to make sure that each entry in a column takes the same amount of space, and is aligned on either the left or the right. This is illustrated below. "
   ]
  },
  {
   "cell_type": "code",
   "execution_count": null,
   "metadata": {},
   "outputs": [],
   "source": [
    "num1 = 1\n",
    "fname1 = 'George'\n",
    "lname1 = 'Washington'\n",
    "\n",
    "num2 = 2\n",
    "fname2 = 'John'\n",
    "lname2 = 'Adams'\n",
    "\n",
    "num3 = 16\n",
    "fname3 = 'Abraham'\n",
    "lname3 = 'Lincoln'\n",
    "\n",
    "\n",
    "print('First Name     Last Name      Number')\n",
    "print('--------------------------------------')\n",
    "print(f'{fname1:<15}{lname1:<15}{num1:>6}')\n",
    "print(f'{fname2:<15}{lname2:<15}{num2:>6}')\n",
    "print(f'{fname3:<15}{lname3:<15}{num3:>6}')"
   ]
  },
  {
   "cell_type": "markdown",
   "metadata": {},
   "source": [
    "## Working with Text Files\n"
   ]
  },
  {
   "cell_type": "markdown",
   "metadata": {},
   "source": [
    "In this lesson, we will see how to use the `open()` function to open an existing text file, or to create a new text file. We will see how to read text from a file and how to write text to a file. \n",
    "\n",
    "In several of the examples we see in this lesson, we will be working with the file `my_file.txt` in the `data/` directory. This file is a text file containing the three lines of text shown below. "
   ]
  },
  {
   "cell_type": "markdown",
   "metadata": {},
   "source": [
    "    This is the first line. \n",
    "    This is the second line. \n",
    "    This is the third line. "
   ]
  },
  {
   "cell_type": "markdown",
   "metadata": {},
   "source": [
    "## Opening and Closing Files\n",
    "\n",
    "We will start by discussing how to open and close files. These tasks can be accomplished using the `open()` and `close()` functions. The `open()` function requires a parameter named `file` that is expected to be a string representing the path to a file. This function also accepts a number of optional parameters. The most important of these is `mode`, which we will consider later in the lesson. \n",
    "\n",
    "In the cell below, we open the file `my_file.txt`, storing the value returned into a variable named `fin` (which stands for file input). We then print the type of `fin`, and see that it has type `_io.TextIOWrapper`. This object does not contain the actual text from the file, but instead provides a link through which we can access the contents of the file. "
   ]
  },
  {
   "cell_type": "code",
   "execution_count": 1,
   "metadata": {},
   "outputs": [],
   "source": [
    "fin = open('data/my_file.txt')\n",
    "print(type(fin))"
   ]
  },
  {
   "cell_type": "markdown",
   "metadata": {},
   "source": [
    "After running the cell above, the file will be open in Python. You won't see the contents of the file as a window in your operating system, but the file is none-the-less open. If you were to try to delete the file at this point, you would likely see a message similar to the one below:\n",
    "\n",
    "    \"The action can't be completed because the file is open in Python.\"\n",
    "    \n",
    "We can confirm that the file is open by printing the `closed` attribute of the `TextIOWrapper` object. "
   ]
  },
  {
   "cell_type": "code",
   "execution_count": 2,
   "metadata": {},
   "outputs": [
    {
     "name": "stdout",
     "output_type": "stream",
     "text": [
      "False\n"
     ]
    }
   ],
   "source": [
    "print(fin.closed)"
   ]
  },
  {
   "cell_type": "markdown",
   "metadata": {},
   "source": [
    "It is good practice to always close files when you are done working with them. This can be accomplished using the `close()` method of the `TextIOWrapper` object. \n",
    "\n",
    "Python will automatically close any open files when the Python sessions ends, but closing the files manually will free up valuable resources, and is particularly important in programs that work with multiple files, or very large files."
   ]
  },
  {
   "cell_type": "code",
   "execution_count": 3,
   "metadata": {},
   "outputs": [],
   "source": [
    "fin.close()"
   ]
  },
  {
   "cell_type": "markdown",
   "metadata": {},
   "source": [
    "We will again check the value of the `closed` attribute to confirm that the file has been closed. "
   ]
  },
  {
   "cell_type": "code",
   "execution_count": 4,
   "metadata": {},
   "outputs": [
    {
     "name": "stdout",
     "output_type": "stream",
     "text": [
      "True\n"
     ]
    }
   ],
   "source": [
    "print(fin.closed)"
   ]
  },
  {
   "cell_type": "markdown",
   "metadata": {},
   "source": [
    "## The Mode Parameter \n",
    "\n",
    "We can use the `mode` parameter to specify the time of file operations should be allowed on the file we have opened. In particular, we can use `mode` to specify if we would like for the text file to be read-only, or if writing to the file should be allowed. \n",
    "\n",
    "A list of possible values for the `mode` parameter is provided below, along with explanations of the purpose of these values. \n",
    "* `r` means \"read\". A file opened in this model will be read-only. \n",
    "* `w` means \"write\". If the file does not exist, it is created. If the file does exist, it is overwritten.\n",
    "* `x` means \"write\". This mode will only works if the file does not already exist. If the file already exists, an error will occur.\n",
    "* `a` means \"append\". This mode allows for new lines to be added to the end of a file. \n",
    "\n",
    "The default value for `mode` is `r`, so if we only wish to read the contents of a file, we do not need to specify the `mode` parameter. "
   ]
  },
  {
   "cell_type": "markdown",
   "metadata": {},
   "source": [
    "## Reading File  Contents\n",
    "\n",
    "There are several tools available for reading the contents of an open file. The three most common such tools are the methods `read()`, `read_lines()`, and `read_line()`. \n",
    "\n",
    "* The **`read()`** method will return a string that contains the entire content of the file. \n",
    "* The **`readlines()`** method will return a list of strings, with each string representing a single line of the file. \n",
    "* The **`readline()`** method will return an iterator, each value of which will be a string representing a single line of the file. \n",
    "\n",
    "### read()\n",
    "\n",
    "We will now take a look at an example of using the `read()` method. "
   ]
  },
  {
   "cell_type": "code",
   "execution_count": 5,
   "metadata": {},
   "outputs": [],
   "source": [
    "fin = open('data/my_file.txt')\n",
    "contents = fin.read()\n",
    "fin.close()"
   ]
  },
  {
   "cell_type": "markdown",
   "metadata": {},
   "source": [
    "We will print the data type of the `contents` variable to confirm that it is a string. "
   ]
  },
  {
   "cell_type": "code",
   "execution_count": 6,
   "metadata": {},
   "outputs": [
    {
     "name": "stdout",
     "output_type": "stream",
     "text": [
      "<class 'str'>\n"
     ]
    }
   ],
   "source": [
    "print(type(contents))"
   ]
  },
  {
   "cell_type": "markdown",
   "metadata": {},
   "source": [
    "If we print `contents`, we will see that it contains all three lines of `my_file.txt`. "
   ]
  },
  {
   "cell_type": "code",
   "execution_count": 7,
   "metadata": {},
   "outputs": [
    {
     "name": "stdout",
     "output_type": "stream",
     "text": [
      "This is the first line.\n",
      "This is the second line.\n",
      "This is the third line.\n"
     ]
    }
   ],
   "source": [
    "print(contents)"
   ]
  },
  {
   "cell_type": "markdown",
   "metadata": {},
   "source": [
    "If we disply the `contents` variable without using `print()`, we can see that the string contains newline characters used to separate the lines. "
   ]
  },
  {
   "cell_type": "code",
   "execution_count": 8,
   "metadata": {},
   "outputs": [
    {
     "data": {
      "text/plain": [
       "'This is the first line.\\nThis is the second line.\\nThis is the third line.'"
      ]
     },
     "execution_count": 8,
     "metadata": {},
     "output_type": "execute_result"
    }
   ],
   "source": [
    "contents"
   ]
  },
  {
   "cell_type": "markdown",
   "metadata": {},
   "source": [
    "If we wanted to separate each line of the file into its own string, we could use the `split()` method, splitting the string on newline characters. "
   ]
  },
  {
   "cell_type": "code",
   "execution_count": 9,
   "metadata": {},
   "outputs": [
    {
     "name": "stdout",
     "output_type": "stream",
     "text": [
      "['This is the first line.', 'This is the second line.', 'This is the third line.']\n"
     ]
    }
   ],
   "source": [
    "contents_list = contents.split('\\n')\n",
    "print(contents_list)"
   ]
  },
  {
   "cell_type": "markdown",
   "metadata": {},
   "source": [
    "### readlines()\n",
    "\n",
    "We will now explore the `readlines()` method. In the cell below, we open the file `my_files.txt`, read its contents using `readlines()`, and then close the file. We also dispay the results returned by `readlines()` to confirm that this is a list of strings. "
   ]
  },
  {
   "cell_type": "code",
   "execution_count": 10,
   "metadata": {},
   "outputs": [
    {
     "name": "stdout",
     "output_type": "stream",
     "text": [
      "['This is the first line.\\n', 'This is the second line.\\n', 'This is the third line.']\n"
     ]
    }
   ],
   "source": [
    "fin = open('data/my_file.txt')\n",
    "contents_list = fin.readlines()\n",
    "fin.close()\n",
    "\n",
    "print(contents_list)"
   ]
  },
  {
   "cell_type": "markdown",
   "metadata": {},
   "source": [
    "Notice that each string  above ends with a newline character. If we wish to remove these, we can use the `strip()` method which removes whitespace characters from the end of a string. "
   ]
  },
  {
   "cell_type": "code",
   "execution_count": 11,
   "metadata": {},
   "outputs": [
    {
     "name": "stdout",
     "output_type": "stream",
     "text": [
      "['This is the first line.', 'This is the second line.', 'This is the third line.']\n"
     ]
    }
   ],
   "source": [
    "for i in range(len(contents_list)):\n",
    "    contents_list[i] = contents_list[i].strip()\n",
    "    \n",
    "print(contents_list)"
   ]
  },
  {
   "cell_type": "markdown",
   "metadata": {},
   "source": [
    "## Using With\n",
    "\n",
    "We can use the `with` keyword to reduce the number of steps involved in working with a file. When we open a file using `with`, the file will be automatically closed when we leave the `with` block. The usage of this keyword is illustrated in the example below. "
   ]
  },
  {
   "cell_type": "code",
   "execution_count": 12,
   "metadata": {},
   "outputs": [
    {
     "name": "stdout",
     "output_type": "stream",
     "text": [
      "['This is the first line.', 'This is the second line.', 'This is the third line.']\n"
     ]
    }
   ],
   "source": [
    "with open('data/my_file.txt') as fin:\n",
    "    contents = fin.read()\n",
    "\n",
    "contents_list = contents.split('\\n')\n",
    "print(contents_list)"
   ]
  },
  {
   "cell_type": "markdown",
   "metadata": {},
   "source": [
    "## Writing to a File \n",
    "\n",
    "We will see how to write to a file by setting the `mode` parameter of `open` to `w`. When using `mode='w'`, a new file will be created if one does not already exist with the specified name. If the file does already exist, then it will be overwritten. \n",
    "\n",
    "In the cell below, we will create a file named `new_file.txt` within the `data/` folder, and will then write three lines to it. "
   ]
  },
  {
   "cell_type": "code",
   "execution_count": 13,
   "metadata": {},
   "outputs": [],
   "source": [
    "line1 = 'This is the first line.\\n'\n",
    "line2 = 'This is the second line.\\n'\n",
    "line3 = 'This is the third line.'\n",
    "\n",
    "with open('data/new_file.txt', 'w') as fout:\n",
    "    fout.write(line1)\n",
    "    fout.write(line2)\n",
    "    fout.write(line3)"
   ]
  },
  {
   "cell_type": "markdown",
   "metadata": {},
   "source": [
    "We will confirm that the file was written correctly by opening the file in read-only mode and printing its contents. "
   ]
  },
  {
   "cell_type": "code",
   "execution_count": 14,
   "metadata": {},
   "outputs": [
    {
     "name": "stdout",
     "output_type": "stream",
     "text": [
      "This is the first line.\n",
      "This is the second line.\n",
      "This is the third line.\n"
     ]
    }
   ],
   "source": [
    "with open('data/new_file.txt') as fin:\n",
    "    print(fin.read())"
   ]
  },
  {
   "cell_type": "markdown",
   "metadata": {},
   "source": [
    "## Appending\n",
    "\n",
    "If we open a file using `mode='a'`, then we can write to the end of the file. This will not delete the current content of the file, but will instead append new lines to the end of the file. "
   ]
  },
  {
   "cell_type": "code",
   "execution_count": 15,
   "metadata": {},
   "outputs": [],
   "source": [
    "line4 = '\\nThis is the fourth line.'\n",
    "line5 = '\\nThis is the fifth line.'\n",
    "\n",
    "with open('data/new_file.txt', 'a') as fout:\n",
    "    fout.write(line4)\n",
    "    fout.write(line5)"
   ]
  },
  {
   "cell_type": "markdown",
   "metadata": {},
   "source": [
    "We will confirm that the new content was written to the file by opening the file in read-only mode and printing its contents. "
   ]
  },
  {
   "cell_type": "code",
   "execution_count": 16,
   "metadata": {},
   "outputs": [
    {
     "name": "stdout",
     "output_type": "stream",
     "text": [
      "This is the first line.\n",
      "This is the second line.\n",
      "This is the third line.\n",
      "This is the fourth line.\n",
      "This is the fifth line.\n"
     ]
    }
   ],
   "source": [
    "with open('data/new_file.txt') as fin:\n",
    "    print(fin.read())"
   ]
  },
  {
   "cell_type": "markdown",
   "metadata": {},
   "source": [
    "## Processing Strings of Text\n",
    "\n",
    "Occasionally, you will need to break each line of a text file up into smaller pieces called tokens. It is particularly necessary in situations in which we are reading tabular data that has been stored as a text file. \n",
    "\n",
    "In the exampe below, we will open the file `titanic.txt` and read its contents using `readlines()`. We will then split each line into tokens, and print the contents of each line in a tabular format. "
   ]
  },
  {
   "cell_type": "code",
   "execution_count": 17,
   "metadata": {},
   "outputs": [
    {
     "name": "stdout",
     "output_type": "stream",
     "text": [
      "Survived  Pclass  Sex       Age     Name                                                        \n",
      "0         3       male      22      Mr. Owen Harris Braund                                      \n",
      "1         1       female    38      Mrs. John Bradley (Florence Briggs Thayer) Cumings          \n",
      "1         3       female    26      Miss. Laina Heikkinen                                       \n",
      "1         1       female    35      Mrs. Jacques Heath (Lily May Peel) Futrelle                 \n",
      "0         3       male      35      Mr. William Henry Allen                                     \n",
      "0         3       male      27      Mr. James Moran                                             \n",
      "0         1       male      54      Mr. Timothy J McCarthy                                      \n",
      "0         3       male      2       Master. Gosta Leonard Palsson                               \n",
      "1         3       female    27      Mrs. Oscar W (Elisabeth Vilhelmina Berg) Johnson            \n",
      "1         2       female    14      Mrs. Nicholas (Adele Achem) Nasser                          \n",
      "1         3       female    4       Miss. Marguerite Rut Sandstrom                              \n",
      "1         1       female    58      Miss. Elizabeth Bonnell                                     \n",
      "0         3       male      20      Mr. William Henry Saundercock                               \n",
      "0         3       male      39      Mr. Anders Johan Andersson                                  \n",
      "0         3       female    14      Miss. Hulda Amanda Adolfina Vestrom                         \n",
      "1         2       female    55      Mrs. (Mary D Kingcome) Hewlett                              \n",
      "0         3       male      2       Master. Eugene Rice                                         \n",
      "1         2       male      23      Mr. Charles Eugene Williams                                 \n",
      "0         3       female    31      Mrs. Julius (Emelia Maria Vandemoortele) Vander Planke      \n"
     ]
    }
   ],
   "source": [
    "with open('data/titanic.txt') as fin:\n",
    "    line_list = fin.readlines()\n",
    "    \n",
    "for line in line_list[:20]:\n",
    "    tokens = line.split('\\t')\n",
    "    print(f'{tokens[0]:<10}{tokens[1]:<8}{tokens[3]:<10}{tokens[4]:<8}{tokens[2]:<60}')\n",
    "        "
   ]
  }
 ],
 "metadata": {
  "kernelspec": {
   "display_name": "Python 3",
   "language": "python",
   "name": "python3"
  },
  "language_info": {
   "codemirror_mode": {
    "name": "ipython",
    "version": 3
   },
   "file_extension": ".py",
   "mimetype": "text/x-python",
   "name": "python",
   "nbconvert_exporter": "python",
   "pygments_lexer": "ipython3",
   "version": "3.8.8"
  }
 },
 "nbformat": 4,
 "nbformat_minor": 4
}
