{
 "cells": [
  {
   "cell_type": "markdown",
   "metadata": {},
   "source": [
    "# Arithmetic Operations\n",
    "\n",
    "Python can be used to perform calculations involving addition, subtraction, multiplication, and division, as well as other types of artihmetic operations. These are some of the most fundamental types of commands that Python is able to process. We will discuss several of these operations in this chapter. \n",
    "\n",
    "Within this chapter, you will find sections discussing how to perform each of the following arithmetic operations in Python.\n",
    "\n",
    "* [Addition and Subtraction](addition)\n",
    "* [Multiplication and Division](addition)\n",
    "* [Exponentiation](exponentiation)\n",
    "* [Order of Operations](order_of_operations)\n",
    "* [Modulus and Floor Division](modulus_floor_division)\n",
    "* [Rounding](rounding)\n",
    "* [Floating-Point Representation](fp_representation)\n",
    "\n"
   ]
  },
  {
   "cell_type": "markdown",
   "metadata": {},
   "source": [
    "```{tableofcontents}\n",
    "```"
   ]
  },
  {
   "cell_type": "markdown",
   "metadata": {},
   "source": [
    "## Addition and Subtraction\n",
    "\n",
    "Perhaps unsurprisingly, our discussion of mathematical operation will begin with addition and subtraction. \n",
    "\n",
    "### Addition\n",
    "\n",
    "Addition in Python is performed by placing the plus symbol (`+`) between two numbers. In the cell below we provide an example of using Python to perfom addition. "
   ]
  },
  {
   "cell_type": "code",
   "execution_count": 8,
   "metadata": {},
   "outputs": [
    {
     "name": "stdout",
     "output_type": "stream",
     "text": [
      "7.9\n"
     ]
    }
   ],
   "source": [
    "print(4.2 + 3.7)"
   ]
  },
  {
   "cell_type": "markdown",
   "metadata": {},
   "source": [
    "**<font size=5>Subtraction</font>**\n",
    "\n",
    "We can also perform subtraction in Python. This is accomplished by placing a hyphen character (`-`) between two numbers. An example is provided in the code cell below. "
   ]
  },
  {
   "cell_type": "code",
   "execution_count": 9,
   "metadata": {
    "tags": []
   },
   "outputs": [
    {
     "name": "stdout",
     "output_type": "stream",
     "text": [
      "-12\n"
     ]
    }
   ],
   "source": [
    "print(3 - 15)"
   ]
  },
  {
   "cell_type": "markdown",
   "metadata": {},
   "source": [
    "---\n",
    "## Multiplication and Division \n",
    "\n",
    "Moving on from addition and subtraction, we will now consider the multiplication and division operations. "
   ]
  },
  {
   "cell_type": "markdown",
   "metadata": {},
   "source": [
    "### Multiplication\n",
    "\n",
    "Multiplication in Python is performed by placing an asterisk character (`*`) between two numbers.  "
   ]
  },
  {
   "cell_type": "code",
   "execution_count": 2,
   "metadata": {},
   "outputs": [
    {
     "name": "stdout",
     "output_type": "stream",
     "text": [
      "42\n"
     ]
    }
   ],
   "source": [
    "print(6 * 7)"
   ]
  },
  {
   "cell_type": "markdown",
   "metadata": {},
   "source": [
    "### Division\n",
    "\n",
    "Division is peformed by placing the forward slash character (`/`) between two numbers. The next three cells provide examples of division. "
   ]
  },
  {
   "cell_type": "code",
   "execution_count": 3,
   "metadata": {},
   "outputs": [
    {
     "name": "stdout",
     "output_type": "stream",
     "text": [
      "2.5\n"
     ]
    }
   ],
   "source": [
    "print(5 / 2)"
   ]
  },
  {
   "cell_type": "code",
   "execution_count": 4,
   "metadata": {},
   "outputs": [
    {
     "name": "stdout",
     "output_type": "stream",
     "text": [
      "4.0\n"
     ]
    }
   ],
   "source": [
    "print(8 / 2)"
   ]
  },
  {
   "cell_type": "code",
   "execution_count": 5,
   "metadata": {},
   "outputs": [
    {
     "name": "stdout",
     "output_type": "stream",
     "text": [
      "2.3333333333333335\n"
     ]
    }
   ],
   "source": [
    "print(7 / 3)"
   ]
  },
  {
   "cell_type": "markdown",
   "metadata": {},
   "source": [
    "The operation `7 / 3` in the preceding cell results in a repeating decimal. Python (like any other programming language) is not capable of storing real numbers to infinite precision. Numbers with non-terminating decimal expansions must be rounded to a specific finite precision.\n",
    "\n",
    "You may notice that there is something unusual about how Pyhon rounded the final digit of the result in the cell above. We will address this issue later in the section [Floating-Point Representation](fp_representation)."
   ]
  },
  {
   "cell_type": "markdown",
   "metadata": {},
   "source": [
    "### Division by Zero"
   ]
  },
  {
   "cell_type": "markdown",
   "metadata": {},
   "source": [
    "If we attempt to divide by zero, we get an error. "
   ]
  },
  {
   "cell_type": "code",
   "execution_count": 6,
   "metadata": {},
   "outputs": [
    {
     "ename": "ZeroDivisionError",
     "evalue": "division by zero",
     "output_type": "error",
     "traceback": [
      "\u001b[1;31m---------------------------------------------------------------------------\u001b[0m",
      "\u001b[1;31mZeroDivisionError\u001b[0m                         Traceback (most recent call last)",
      "\u001b[1;32m<ipython-input-6-52cebea8b64f>\u001b[0m in \u001b[0;36m<module>\u001b[1;34m\u001b[0m\n\u001b[1;32m----> 1\u001b[1;33m \u001b[1;36m42\u001b[0m \u001b[1;33m/\u001b[0m \u001b[1;36m0\u001b[0m\u001b[1;33m\u001b[0m\u001b[1;33m\u001b[0m\u001b[0m\n\u001b[0m",
      "\u001b[1;31mZeroDivisionError\u001b[0m: division by zero"
     ]
    }
   ],
   "source": [
    "42 / 0"
   ]
  },
  {
   "cell_type": "markdown",
   "metadata": {
    "tags": []
   },
   "source": [
    "Errors are an ever-present part of any programmer's existence. Every error results in an error message that attempts to explain what caused the error. Note that the last line in the output above says: \n",
    "\n",
    "    ZeroDivisionError: division by zero\n",
    "    \n",
    "This is Python's way of telling us that we got an error because we attempted to commmit the mathematical sin of dividing by zero. Error messages are often cryptic and difficult to interpret, but it is important that you attempt to understand what any error messages you encounter are trying to tell you. Being able to read error messages can be a big help when attempting to debug your code. "
   ]
  },
  {
   "cell_type": "markdown",
   "metadata": {},
   "source": [
    "## Exponentiation and Roots\n",
    "\n",
    "In this section, we will discuss how to use Python to perform exponentiation. We will also consider a special case of exponentiation: calculating roots.\n",
    "\n",
    "### Exponentiation\n",
    "\n",
    "Python uses two asterisks (`**`) to indicate the operation of exponentiation. In the next cell, we will calculate 3 raised to the 5th power, or $3^5$."
   ]
  },
  {
   "cell_type": "code",
   "execution_count": 1,
   "metadata": {},
   "outputs": [
    {
     "name": "stdout",
     "output_type": "stream",
     "text": [
      "243\n"
     ]
    }
   ],
   "source": [
    "print(3 ** 5)"
   ]
  },
  {
   "cell_type": "markdown",
   "metadata": {},
   "source": [
    "```{admonition} Note about Exponentiation Operator\n",
    ":class: note\n",
    "Many programming languages and computer algebra systems use the \"carat\" symbol (`^`) for exponentiation. Python is somewhat unusual in its use of `**` for exponentiation. However, even if you are familiar with using `^` to indicate exponents, you will likely get used to Python's way of doing things quickly. \n",
    "\n",
    "Be careful, though. Python *does* use the carat operator, but to indicate a different operation called [bitwise XOR](https://en.wikipedia.org/wiki/Bitwise_operation#XOR) (which we won't discuss here). This can be something of a pitfall because if you typed `3 ^ 5` in an attempt to calculate $3^5$, you would NOT get an error, but you would get the incorrect answer (try this on your own). If you didn't realize that your answer was wrong, that could cause some problems for you down the road. \n",
    "```"
   ]
  },
  {
   "cell_type": "markdown",
   "metadata": {},
   "source": [
    "### Negative Exponents\n",
    "\n",
    "We can use negative exponenents when performing calculations in Python. Recall that the mathematical expression $x^{-n}$ is defined by $x^{-n} = \\frac{1}{x^n}$. In the next cell, we will calculate $5^{-2}$, which is equal to $1/25$. "
   ]
  },
  {
   "cell_type": "code",
   "execution_count": 2,
   "metadata": {},
   "outputs": [
    {
     "name": "stdout",
     "output_type": "stream",
     "text": [
      "0.04\n"
     ]
    }
   ],
   "source": [
    "print( 5 ** -2 )"
   ]
  },
  {
   "cell_type": "markdown",
   "metadata": {},
   "source": [
    "### Calculating Roots\n",
    "\n",
    "We can also use exponents to calculate roots. Recall that the $n$th root of a number can be calculated by raising that number to the power $1/n$. In other words, $\\sqrt[n]{x} = x^{1 / n}$. \n",
    "\n",
    "As an example, we will now calculate the square root of 81. Note that $\\sqrt{81} = 81^{1/2} = 81^{0.5}$. "
   ]
  },
  {
   "cell_type": "code",
   "execution_count": 7,
   "metadata": {},
   "outputs": [
    {
     "name": "stdout",
     "output_type": "stream",
     "text": [
      "9.0\n"
     ]
    }
   ],
   "source": [
    "print(81 ** 0.5)"
   ]
  },
  {
   "cell_type": "markdown",
   "metadata": {},
   "source": [
    "In the next cell, we will calculate the fourth root of 37. "
   ]
  },
  {
   "cell_type": "code",
   "execution_count": 4,
   "metadata": {},
   "outputs": [
    {
     "name": "stdout",
     "output_type": "stream",
     "text": [
      "2.4663257145596607\n"
     ]
    }
   ],
   "source": [
    "print(37 ** (1/4))"
   ]
  },
  {
   "cell_type": "markdown",
   "metadata": {},
   "source": [
    "```{admonition} Warning About Parentheses\n",
    ":class: warning\n",
    "Notice that we placed parentheses around the fraction `1/4` in the code cell above. It is important for us to do so. Python respects the standard mathematical [order of operations](https://mathworld.wolfram.com/PEMDAS.html). If we did not include the parentheses, then Python would have raised 37 to the power of 1 and then divided the result by 4. In summary:\n",
    "\n",
    "* The Python expression `37 ** 1/4` would calculate the value of $\\frac{37^1}{4} = 9.25$. \n",
    "* The Python expression `37 ** (1/4)` would calculate the value of $37^{1/4} = 2.4663257145596607$. \n",
    "\n",
    "We will discuss order of operations in more detail in the next section. \n",
    "```\n",
    "\n",
    "We can avoid the need for parentheses in the cell above by replacing the fractional exponent with its decimal representation. This is illustrated in the next cell. "
   ]
  },
  {
   "cell_type": "code",
   "execution_count": 5,
   "metadata": {},
   "outputs": [
    {
     "name": "stdout",
     "output_type": "stream",
     "text": [
      "2.4663257145596607\n"
     ]
    }
   ],
   "source": [
    "print(37 ** 0.25)"
   ]
  },
  {
   "cell_type": "markdown",
   "metadata": {
    "tags": []
   },
   "source": [
    "## Order of Operations\n",
    "\n",
    "The value of a mathematical expression can be dependent on the order in which you perform the operations that constitute that expression. To avoid ambiguity or the need for excessive use of parentheses, mathematicians have adopted a standard [order of operations](https://mathworld.wolfram.com/PEMDAS.html) that should be followed when evaluating expressions. Python aheres to these same rules when evaluating expressions. "
   ]
  },
  {
   "cell_type": "markdown",
   "metadata": {},
   "source": [
    "### PEMDAS\n",
    "\n",
    "The order of operations is often summarizued using the acronym **PEMDAS**. The meaning of this acronym is explained below. \n",
    "\n",
    "* **(P)arentheses.** Calculate the value of any expression appearing within a set of parentheses before performing calculations that involve that expression.  \n",
    "\n",
    "* **(E)xponentiation.** Perform calculations involving exponentiation before moving on to other operations. \n",
    "\n",
    "* **(M)ultiplication and (D)ivision.** Perform calculations involving multiplication and division before those involving addition or subtraction. \n",
    "\n",
    "* **(A)ddition and (S)ubtraction.** Perform calculations involving addition and subtraction last. \n",
    "\n",
    "In the next cell, we will demonstrate that Python does indeed perform multiplication prior to addition. "
   ]
  },
  {
   "cell_type": "code",
   "execution_count": 1,
   "metadata": {},
   "outputs": [
    {
     "name": "stdout",
     "output_type": "stream",
     "text": [
      "34\n"
     ]
    }
   ],
   "source": [
    "print(4 + 5 * 6)"
   ]
  },
  {
   "cell_type": "markdown",
   "metadata": {},
   "source": [
    "If we wished for the addition to be performed before the multiplication in the expression above, then we could add parentheses to the expression. This is demonstrated below. "
   ]
  },
  {
   "cell_type": "code",
   "execution_count": 2,
   "metadata": {},
   "outputs": [
    {
     "name": "stdout",
     "output_type": "stream",
     "text": [
      "54\n"
     ]
    }
   ],
   "source": [
    "print((4 + 5) * 6)"
   ]
  },
  {
   "cell_type": "markdown",
   "metadata": {},
   "source": [
    "We can combine parentheses and operations to form complex arithmetic expressions. "
   ]
  },
  {
   "cell_type": "code",
   "execution_count": 16,
   "metadata": {},
   "outputs": [
    {
     "name": "stdout",
     "output_type": "stream",
     "text": [
      "245.0\n"
     ]
    }
   ],
   "source": [
    "print( (1 + 4) * (3 + 8 / 2) ** 2 )"
   ]
  },
  {
   "cell_type": "markdown",
   "metadata": {},
   "source": [
    "### Parentheses and Roots"
   ]
  },
  {
   "cell_type": "markdown",
   "metadata": {},
   "source": [
    "As discussed in a previous section, we can calculate roots by raising values to fractional exponents, but we need to be careful about using exponents when we do so. \n",
    "\n",
    "Assume, for example, that we wish to calculate the third root of 216 (which is equal to 6). Consider the attempt in the next cell. "
   ]
  },
  {
   "cell_type": "code",
   "execution_count": 17,
   "metadata": {},
   "outputs": [
    {
     "name": "stdout",
     "output_type": "stream",
     "text": [
      "72.0\n"
     ]
    }
   ],
   "source": [
    "print(216 ** 1/3)"
   ]
  },
  {
   "cell_type": "markdown",
   "metadata": {},
   "source": [
    "Since exponentiation is performed before division, Python processes this expression by first raising 216 to the power 1 (which gives 216), and then dividing the result by 3, yielding 72. We can correct this by placing parentheses around the fraction. This is demonstrated in the cell below. "
   ]
  },
  {
   "cell_type": "code",
   "execution_count": 18,
   "metadata": {},
   "outputs": [
    {
     "name": "stdout",
     "output_type": "stream",
     "text": [
      "5.999999999999999\n"
     ]
    }
   ],
   "source": [
    "print(216 ** (1/3))"
   ]
  },
  {
   "cell_type": "markdown",
   "metadata": {},
   "source": [
    "```{admonition} Note on rounding\n",
    ":class: note\n",
    "Notice that there appears to be a (tiny) error in the value calculated above. The result should be exactly equal to 6, but we get something very slightly smaller than 6. We will discuss the cause of this error in a later section: [Rounding Issues](rounding_issues). \n",
    "\n",
    "This type of apparent \"rounding error\" is not uncommon in Python (or any programming language) and can disconcerting the first few times you encounter it, but be reassured that this tiny discrepency is extremely unlikely to have any practical significance, and should not typically be cause for concern. \n",
    "```"
   ]
  },
  {
   "cell_type": "markdown",
   "metadata": {},
   "source": [
    "## Modulus and Floor Division\n",
    "\n",
    "In this section, we will discuss the **modulus** and **floor division** operations. Both of these operations are related to the process of dividing one integer by another. "
   ]
  },
  {
   "cell_type": "markdown",
   "metadata": {},
   "source": [
    "### The Modulus Operation\n",
    "\n",
    "The **modulus operation** yields the remainder obtained from dividing one integer by another. It is performed in Python by placing the percent character (`%`) between two integer values. The number on the left of the `%` symbol is divided by the one on the right, and Python reports back the remainder of this division. \n",
    "\n",
    "Let's consider a few examples. We will start by calculating the remainder obtained when dividing 8 by 3. "
   ]
  },
  {
   "cell_type": "code",
   "execution_count": 1,
   "metadata": {},
   "outputs": [
    {
     "name": "stdout",
     "output_type": "stream",
     "text": [
      "2\n"
     ]
    }
   ],
   "source": [
    "print(8 % 3)"
   ]
  },
  {
   "cell_type": "markdown",
   "metadata": {},
   "source": [
    "In the next example, we will calculate the remainder of 25 divided by 7. "
   ]
  },
  {
   "cell_type": "code",
   "execution_count": 2,
   "metadata": {},
   "outputs": [
    {
     "name": "stdout",
     "output_type": "stream",
     "text": [
      "4\n"
     ]
    }
   ],
   "source": [
    "print(25 % 7)"
   ]
  },
  {
   "cell_type": "markdown",
   "metadata": {},
   "source": [
    "As our last example of the modulus operation, we will calculate the remainder of 90 divided by 3. Note that since 90 is divisible by 3, we get a remainder of 0. "
   ]
  },
  {
   "cell_type": "code",
   "execution_count": 3,
   "metadata": {},
   "outputs": [
    {
     "name": "stdout",
     "output_type": "stream",
     "text": [
      "0\n"
     ]
    }
   ],
   "source": [
    "print(90 % 3)"
   ]
  },
  {
   "cell_type": "markdown",
   "metadata": {},
   "source": [
    "The modulus operator has many useful applications in programming, some of which we will explore in later sections.\n",
    "\n",
    "```{note} \n",
    "The symbol used to indicate the modulus operation varies from one programming language to another. Several programming languages use `%`, as Python does. But it is also common to see `%%` or `mod` used to indicate this operation.  \n",
    "```"
   ]
  },
  {
   "cell_type": "markdown",
   "metadata": {},
   "source": [
    "### Floor Division\n",
    "\n",
    "The **floor division** operation is related to the modulus operation in that it is obtained through the process of integer division. However, floor division reports back the quotient of the division rather than the remainder. We use double slashes (`//`) to perform floor division in Python. \n",
    "\n",
    "We will illustration floor division using the same examples we considered for the modulus. We will start with 8 divided by 3. "
   ]
  },
  {
   "cell_type": "code",
   "execution_count": 4,
   "metadata": {},
   "outputs": [
    {
     "name": "stdout",
     "output_type": "stream",
     "text": [
      "2\n"
     ]
    }
   ],
   "source": [
    "print(8 // 3)"
   ]
  },
  {
   "cell_type": "markdown",
   "metadata": {},
   "source": [
    "Next, we will calculate the quotient resulting from dividing 25 by 7. "
   ]
  },
  {
   "cell_type": "code",
   "execution_count": 5,
   "metadata": {},
   "outputs": [
    {
     "name": "stdout",
     "output_type": "stream",
     "text": [
      "3\n"
     ]
    }
   ],
   "source": [
    "print(25 // 7)"
   ]
  },
  {
   "cell_type": "markdown",
   "metadata": {},
   "source": [
    "We conclude the section by calculating the quotient of 90 divided by 3. "
   ]
  },
  {
   "cell_type": "code",
   "execution_count": 6,
   "metadata": {},
   "outputs": [
    {
     "name": "stdout",
     "output_type": "stream",
     "text": [
      "30\n"
     ]
    }
   ],
   "source": [
    "print(90 // 3)"
   ]
  },
  {
   "cell_type": "markdown",
   "metadata": {
    "tags": []
   },
   "source": [
    "```{note}\n",
    "When writing code, there are often many different ways to obtain a particular result. We can also perform floor division using the `int()` function. This function returns the whole number (or integer) part of a decimal number. As a consequence, the following two expressions will generate the same value:\n",
    "\n",
    "    25 // 7\n",
    "    int(25 / 7)\n",
    "\n",
    "Although the `int()` function can be used for floor division, it has additional uses that we will see in a later section. \n",
    "```"
   ]
  },
  {
   "cell_type": "markdown",
   "metadata": {},
   "source": [
    "## Floating-Point Representation\n",
    "\n",
    "In this section, we will discuss a commonly-occurring issue in which Python seemingly misrepresents the value of certain decimal numbers.\n",
    "\n",
    "### Floating-Point Values\n",
    "\n",
    "A **floating-point** value is a numerical value that contains a decimal point. For example, each of the following values are floating-point values:\n",
    "\n",
    "    3.14159, 4.5, 2.3333333, 19.0\n",
    "\n",
    "### Rounding Issues in Floating Point Calculations\n",
    "\n",
    "We have seen examples in previous sections where Python seems to make very small rounding errors when providing the result of calculations involving floating-point values. \n",
    "\n",
    "For example, consider the result obtained from dividing 7 by 3. "
   ]
  },
  {
   "cell_type": "code",
   "execution_count": 1,
   "metadata": {},
   "outputs": [
    {
     "name": "stdout",
     "output_type": "stream",
     "text": [
      "2.3333333333333335\n"
     ]
    }
   ],
   "source": [
    "print(7 / 3)"
   ]
  },
  {
   "cell_type": "markdown",
   "metadata": {},
   "source": [
    "The exact value of $7/3$ is $2.3333...$, which the threes in the fractional part continuing on forever. Computers are not typically capable of storing decimal values with to infinite precision, and thus Python (and other programming languages) are forced to round values such as this. However, you would expect that the last digit of the rounded result would be a 3 rather than a 5. It would seem that Python is making a rounding error. \n",
    "\n",
    "This issue is perhaps demonstrated more strikingly in the next example, in which we add `0.1` and `0.2`."
   ]
  },
  {
   "cell_type": "code",
   "execution_count": 2,
   "metadata": {},
   "outputs": [
    {
     "name": "stdout",
     "output_type": "stream",
     "text": [
      "0.30000000000000004\n"
     ]
    }
   ],
   "source": [
    "print(0.1 + 0.2)"
   ]
  },
  {
   "cell_type": "markdown",
   "metadata": {},
   "source": [
    "You would obvsiously expect the result of the calculation above to be `0.3`, but Python reports a result that is very, very slightly larger. This is particularly strange considering that you would likely not expect this calculation to involve any rounding at all!"
   ]
  },
  {
   "cell_type": "markdown",
   "metadata": {},
   "source": [
    "### Binary Representation\n",
    "\n",
    "These unexpected results stem from the fact that computers internally represent numbers in a base 2 (binary) number system rather than the base 10 (decimal) system that modern humans are familiar with. We will not delve into the details of exactly why binary representations sometimes yield unexpected results when working with floating point numbers, but suffice it to say that tiny rounding \"errors\" can occur when converting a number from base 10 (as it appears on the screen) to base 2 (as it is stored by the computer), and vice-versa. You can read more about this topic here: [Floating-Point Error in Python](https://www.geeksforgeeks.org/floating-point-error-in-python/).\n",
    "\n",
    "\n",
    "\n"
   ]
  },
  {
   "cell_type": "markdown",
   "metadata": {},
   "source": [
    "### How to Handle Such Errors\n",
    "\n",
    "Understanding that operations involving float-point values might occasionally result in tiny rounding errors, the question remains: What do we do about it? In most cases, the answer is simple: Nothing. If you are using the result of such a calculation in another calculation, the discrepency between the actual value and the calculated value is so small that it is unlikely to be relevant. \n",
    "\n",
    "If you are displaying the value as a final result, and find the incorrectly rounded result to be displeasing, then you can simply rounded the displayed result to any precision that is less than what was used to store the number. To see an illustration of this, we will again perform the calculation `0.1 + 0.2`, but will this time round the result to 10 decimal places. "
   ]
  },
  {
   "cell_type": "code",
   "execution_count": 4,
   "metadata": {},
   "outputs": [
    {
     "name": "stdout",
     "output_type": "stream",
     "text": [
      "0.3\n"
     ]
    }
   ],
   "source": [
    "print(round(0.1 + 0.2, 10))"
   ]
  },
  {
   "cell_type": "markdown",
   "metadata": {},
   "source": [
    "The key point to take away from this discussion is that you should understand that there is always a chance that a floating-point operation might produce a result that is slightly different from (but very close to) the exact result. "
   ]
  }
 ],
 "metadata": {
  "kernelspec": {
   "display_name": "Python 3",
   "language": "python",
   "name": "python3"
  },
  "language_info": {
   "codemirror_mode": {
    "name": "ipython",
    "version": 3
   },
   "file_extension": ".py",
   "mimetype": "text/x-python",
   "name": "python",
   "nbconvert_exporter": "python",
   "pygments_lexer": "ipython3",
   "version": "3.8.8"
  }
 },
 "nbformat": 4,
 "nbformat_minor": 4
}
