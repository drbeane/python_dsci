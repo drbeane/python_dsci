{
 "cells": [
  {
   "cell_type": "markdown",
   "metadata": {},
   "source": [
    "# Exponentiation and Roots\n",
    "\n",
    "In this section, we will discuss how to use Python to perform exponentiation. We will also consider a special case of exponentiation: calculating roots.\n",
    "\n",
    "## Exponentiation\n",
    "\n",
    "Python uses two asterisks (`**`) to indicate the operation of exponentiation. In the next cell, we will calculate 3 raised to the 5th power, or $3^5$."
   ]
  },
  {
   "cell_type": "code",
   "execution_count": 1,
   "metadata": {},
   "outputs": [
    {
     "name": "stdout",
     "output_type": "stream",
     "text": [
      "243\n"
     ]
    }
   ],
   "source": [
    "print(3 ** 5)"
   ]
  },
  {
   "cell_type": "markdown",
   "metadata": {},
   "source": [
    "```{admonition} Note about Exponentiation Operator\n",
    ":class: note\n",
    "Many programming languages and computer algebra systems use the \"carat\" symbol (`^`) for exponentiation. Python is somewhat unusual in its use of `**` for exponentiation. However, even if you are familiar with using `^` to indicate exponents, you will likely get used to Python's way of doing things quickly. \n",
    "\n",
    "Be careful, though. Python *does* use the carat operator, but to indicate a different operation called [bitwise XOR](https://en.wikipedia.org/wiki/Bitwise_operation#XOR) (which we won't discuss here). This can be something of a pitfall because if you typed `3 ^ 5` in an attempt to calculate $3^5$, you would NOT get an error, but you would get the incorrect answer (try this on your own). If you didn't realize that your answer was wrong, that could cause some problems for you down the road. \n",
    "```"
   ]
  },
  {
   "cell_type": "markdown",
   "metadata": {},
   "source": [
    "## Negative Exponents\n",
    "\n",
    "We can use negative exponenents when performing calculations in Python. Recall that the mathematical expression $x^{-n}$ is defined by $x^{-n} = \\frac{1}{x^n}$. In the next cell, we will calculate $5^{-2}$, which is equal to $1/25$. "
   ]
  },
  {
   "cell_type": "code",
   "execution_count": 2,
   "metadata": {},
   "outputs": [
    {
     "name": "stdout",
     "output_type": "stream",
     "text": [
      "0.04\n"
     ]
    }
   ],
   "source": [
    "print( 5 ** -2 )"
   ]
  },
  {
   "cell_type": "markdown",
   "metadata": {},
   "source": [
    "## Calculating Roots\n",
    "\n",
    "We can also use exponents to calculate roots. Recall that the $n$th root of a number can be calculated by raising that number to the power $1/n$. In other words, $\\sqrt[n]{x} = x^{1 / n}$. \n",
    "\n",
    "As an example, we will now calculate the square root of 81. Note that $\\sqrt{81} = 81^{1/2} = 81^{0.5}$. "
   ]
  },
  {
   "cell_type": "code",
   "execution_count": 7,
   "metadata": {},
   "outputs": [
    {
     "name": "stdout",
     "output_type": "stream",
     "text": [
      "9.0\n"
     ]
    }
   ],
   "source": [
    "print(81 ** 0.5)"
   ]
  },
  {
   "cell_type": "markdown",
   "metadata": {},
   "source": [
    "In the next cell, we will calculate the fourth root of 37. "
   ]
  },
  {
   "cell_type": "code",
   "execution_count": 4,
   "metadata": {},
   "outputs": [
    {
     "name": "stdout",
     "output_type": "stream",
     "text": [
      "2.4663257145596607\n"
     ]
    }
   ],
   "source": [
    "print(37 ** (1/4))"
   ]
  },
  {
   "cell_type": "markdown",
   "metadata": {},
   "source": [
    "```{admonition} Warning About Parentheses\n",
    ":class: warning\n",
    "Notice that we placed parentheses around the fraction `1/4` in the code cell above. Is is important for us to do so. Python respects the standard mathematical [order of operations](https://mathworld.wolfram.com/PEMDAS.html). If we did not include the parentheses, then Python would have raised 37 to the power of 1 and then divided the result by 4. In summary:\n",
    "\n",
    "* The Python expression `37 ** 1/4` would calculate the value of $\\frac{37^1}{4} = 9.25$. \n",
    "* The Python expression `37 ** (1/4)` would calculate the value of $37^{1/4} = 2.4663257145596607$. \n",
    "\n",
    "We will discuss order of operations in more detail in the next section. \n",
    "```\n",
    "\n",
    "We can avoid the need for parentheses in the cell above by replacing the fractional exponent with its decimal representation. This is illustrated in the next cell. "
   ]
  },
  {
   "cell_type": "code",
   "execution_count": 5,
   "metadata": {},
   "outputs": [
    {
     "name": "stdout",
     "output_type": "stream",
     "text": [
      "2.4663257145596607\n"
     ]
    }
   ],
   "source": [
    "print(37 ** 0.25)"
   ]
  }
 ],
 "metadata": {
  "kernelspec": {
   "display_name": "Python 3",
   "language": "python",
   "name": "python3"
  },
  "language_info": {
   "codemirror_mode": {
    "name": "ipython",
    "version": 3
   },
   "file_extension": ".py",
   "mimetype": "text/x-python",
   "name": "python",
   "nbconvert_exporter": "python",
   "pygments_lexer": "ipython3",
   "version": "3.8.8"
  }
 },
 "nbformat": 4,
 "nbformat_minor": 4
}
