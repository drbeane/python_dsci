{
 "cells": [
  {
   "cell_type": "markdown",
   "metadata": {},
   "source": [
    "# Floating-Point Representation\n",
    "\n",
    "In this section, we will discuss a commonly-occurring issue in which Python seemingly misrepresents the value of certain decimal numbers.\n",
    "\n",
    "## Floating-Point Values\n",
    "\n",
    "A **floating-point** value is a numerical value that contains a decimal point. For example, each of the following values are floating-point values:\n",
    "\n",
    "    3.14159, 4.5, 2.3333333, 19.0\n",
    "\n",
    "## Rounding Issues in Floating Point Calculations\n",
    "\n",
    "We have seen examples in previous sections where Python seems to make very small rounding errors when providing the result of calculations involving floating-point values. \n",
    "\n",
    "For example, consider the result obtained from dividing 7 by 3. "
   ]
  },
  {
   "cell_type": "code",
   "execution_count": 1,
   "metadata": {},
   "outputs": [
    {
     "name": "stdout",
     "output_type": "stream",
     "text": [
      "2.3333333333333335\n"
     ]
    }
   ],
   "source": [
    "print(7 / 3)"
   ]
  },
  {
   "cell_type": "markdown",
   "metadata": {},
   "source": [
    "The exact value of $7/3$ is $2.3333...$, which the threes in the fractional part continuing on forever. Computers are not typically capable of storing decimal values with to infinite precision, and thus Python (and other programming languages) are forced to round values such as this. However, you would expect that the last digit of the rounded result would be a 3 rather than a 5. It would seem that Python is making a rounding error. \n",
    "\n",
    "This issue is perhaps demonstrated more strikingly in the next example, in which we add `0.1` and `0.2`."
   ]
  },
  {
   "cell_type": "code",
   "execution_count": 2,
   "metadata": {},
   "outputs": [
    {
     "name": "stdout",
     "output_type": "stream",
     "text": [
      "0.30000000000000004\n"
     ]
    }
   ],
   "source": [
    "print(0.1 + 0.2)"
   ]
  },
  {
   "cell_type": "markdown",
   "metadata": {},
   "source": [
    "You would obvsiously expect the result of the calculation above to be `0.3`, but Python reports a result that is very, very slightly larger. This is particularly strange considering that you would likely not expect this calculation to involve any rounding at all!"
   ]
  },
  {
   "cell_type": "markdown",
   "metadata": {},
   "source": [
    "## Binary Representation\n",
    "\n",
    "These unexpected results stem from the fact that computers internally represent numbers in a base 2 (binary) number system rather than the base 10 (decimal) system that modern humans are familiar with. We will not delve into the details of exactly why binary representations sometimes yield unexpected results when working with floating point numbers, but suffice it to say that tiny rounding \"errors\" can occur when converting a number from base 10 (as it appears on the screen) to base 2 (as it is stored by the computer), and vice-versa. You can read more about this topic here: [Floating-Point Error in Python](https://www.geeksforgeeks.org/floating-point-error-in-python/).\n",
    "\n",
    "\n",
    "\n"
   ]
  },
  {
   "cell_type": "markdown",
   "metadata": {},
   "source": [
    "## How to Handle Such Errors\n",
    "\n",
    "Understanding that operations involving float-point values might occasionally result in tiny rounding errors, the question remains: What do we do about it? In most cases, the answer is simple: Nothing. If you are using the result of such a calculation in another calculation, the value discrepency between the actual value and the calculated value is so small that it is unlikely to be relevant. \n",
    "\n",
    "If you are displaying the value as a final result, and find the incorrectly rounded result to be displeasing, then you can simply rounded the displayed result to any precision that is less than what was used to store the number. To see an illustration of this, we will again perform the calculation `0.1 + 0.2`, but will this time round the result to 10 decimal places. "
   ]
  },
  {
   "cell_type": "code",
   "execution_count": 4,
   "metadata": {},
   "outputs": [
    {
     "name": "stdout",
     "output_type": "stream",
     "text": [
      "0.3\n"
     ]
    }
   ],
   "source": [
    "print(round(0.1 + 0.2, 10))"
   ]
  },
  {
   "cell_type": "markdown",
   "metadata": {},
   "source": [
    "The key point to take away from this discussion is that you should understand that there is always a chance that a floating-point operation might produce a result that is slightly different from (but very close to) the exact result. "
   ]
  }
 ],
 "metadata": {
  "kernelspec": {
   "display_name": "Python 3",
   "language": "python",
   "name": "python3"
  },
  "language_info": {
   "codemirror_mode": {
    "name": "ipython",
    "version": 3
   },
   "file_extension": ".py",
   "mimetype": "text/x-python",
   "name": "python",
   "nbconvert_exporter": "python",
   "pygments_lexer": "ipython3",
   "version": "3.8.8"
  }
 },
 "nbformat": 4,
 "nbformat_minor": 4
}
