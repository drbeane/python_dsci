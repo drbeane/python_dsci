{
 "cells": [
  {
   "cell_type": "markdown",
   "metadata": {},
   "source": [
    "### Rounding Issues\n",
    "\n",
    "The result obtained by dividing 7 by 3 is 2.3333.... Notice that when we performed this operation above, we got `2.3333333333333335`. It might seem a bit odd that Python decided to round the last digit of that number of a 5. You will encounter rounding odditities like this from time to time. In fact, the next example will likely seem even stranger."
   ]
  },
  {
   "cell_type": "code",
   "execution_count": 14,
   "metadata": {},
   "outputs": [
    {
     "data": {
      "text/plain": [
       "0.30000000000000004"
      ]
     },
     "execution_count": 14,
     "metadata": {},
     "output_type": "execute_result"
    }
   ],
   "source": [
    "0.1 + 0.2"
   ]
  },
  {
   "cell_type": "markdown",
   "metadata": {},
   "source": [
    "These unexpected results stem from the fact that computers represent numbers in a base 2 (binary) number system rather than the base 10 (decimal) system that modern humans are familiar with. While it might be disconcerting to encounter results like this, the good news is that the difference between the expected result and what we were give by Python is extremely small, and is incredibly unlikely to be any cause for concern. Later on, we will learn how to \"hide\" this sort of behavior by rounding the results of our calculations. "
   ]
  }
 ],
 "metadata": {
  "kernelspec": {
   "display_name": "Python 3",
   "language": "python",
   "name": "python3"
  },
  "language_info": {
   "codemirror_mode": {
    "name": "ipython",
    "version": 3
   },
   "file_extension": ".py",
   "mimetype": "text/x-python",
   "name": "python",
   "nbconvert_exporter": "python",
   "pygments_lexer": "ipython3",
   "version": "3.8.5"
  }
 },
 "nbformat": 4,
 "nbformat_minor": 4
}
