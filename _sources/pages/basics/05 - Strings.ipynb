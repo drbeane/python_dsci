{
 "cells": [
  {
   "cell_type": "markdown",
   "metadata": {},
   "source": [
    "# Lesson 05 - Strings\n",
    "\n",
    "### The following topics are discussed in this notebook:\n",
    "* An introduction to the string data type.\n",
    "* Escape sequences.\n",
    "* Operations on strings.\n",
    "* String functions."
   ]
  },
  {
   "cell_type": "markdown",
   "metadata": {},
   "source": [
    "## Introduction to Strings\n",
    "\n",
    "A string object is a piece of text, or in other words, a sequence of characters. When defining a string, we must put the characters that compose it inside either single or double quotes. These quotes are what allows Python to distinguish between a string and a command. \n",
    "\n",
    "In the cell below, we define a string variable, with the value `\"Hello World!\"`, and we then print the result. "
   ]
  },
  {
   "cell_type": "code",
   "execution_count": null,
   "metadata": {},
   "outputs": [],
   "source": [
    "my_string = \"Hello world!\"\n",
    "print(my_string)"
   ]
  },
  {
   "cell_type": "markdown",
   "metadata": {},
   "source": [
    "The official name of the Python string type is `str`. We confirm this be calling `type()` on `my_string`. "
   ]
  },
  {
   "cell_type": "code",
   "execution_count": null,
   "metadata": {},
   "outputs": [],
   "source": [
    "type(my_string)"
   ]
  },
  {
   "cell_type": "markdown",
   "metadata": {},
   "source": [
    "## Empty Strings\n",
    "\n",
    "It is possible to define a string that contains no characters. Such a string is referred to as an **empty string**. We can define an empty string by placing two single or double quotes next to each other without any characters between them. We see an example of this in the next cell. "
   ]
  },
  {
   "cell_type": "code",
   "execution_count": null,
   "metadata": {},
   "outputs": [],
   "source": [
    "empty_string = \"\"\n",
    "print(empty_string)"
   ]
  },
  {
   "cell_type": "markdown",
   "metadata": {},
   "source": [
    "We will see a practical use of empty strings later in this lesson. "
   ]
  },
  {
   "cell_type": "markdown",
   "metadata": {},
   "source": [
    "## Single Quotes versus Double Quotes\n",
    "\n",
    "As mentioned above, we can also use single quotes when defining a string. The following definition of `my_string` is equivalent to the previous definition. "
   ]
  },
  {
   "cell_type": "code",
   "execution_count": null,
   "metadata": {},
   "outputs": [],
   "source": [
    "my_string = 'Hello world!'\n",
    "print(my_string)"
   ]
  },
  {
   "cell_type": "markdown",
   "metadata": {},
   "source": [
    "One benefit of being able to use either single quotes or double quotes when creating strings is that it allows us a convenient way to create strings that themselves contain quotes as characters. For instance, assume that we want to create a variable containing the following string:\n",
    "\n",
    "    He yelled, \"I have had enough!\" before storming out of the room.\n",
    "    \n",
    "The following attempt at creating this string will give us an error."
   ]
  },
  {
   "cell_type": "code",
   "execution_count": null,
   "metadata": {},
   "outputs": [],
   "source": [
    "sentence = \"He yelled, \"I have had enough!\" before storming out of the room.\""
   ]
  },
  {
   "cell_type": "markdown",
   "metadata": {},
   "source": [
    "In the example above, Python got confused by the quotation marks in the middle of the string. When it encountered the second quotation mark, it believed that this was the end of the string, although this was intended to be part of the string. \n",
    "\n",
    "There are a few ways to fix this. The simplest is to use single quotes to define the string. When Python encounters the first single quote, it knows that a string is being defined. It won't stop reading characters into the string until it hits another single quote. Any double quotes that it encounters along the way will be treated as inert characters."
   ]
  },
  {
   "cell_type": "code",
   "execution_count": null,
   "metadata": {},
   "outputs": [],
   "source": [
    "sentence = 'He yelled, \"I have had enough!\" before storming out of the room.'\n",
    "print(sentence)"
   ]
  },
  {
   "cell_type": "markdown",
   "metadata": {},
   "source": [
    "## Escape Sequences\n",
    "An **escape sequence** is a sequence of characters that Python applies special meaning to when they are encountered in a string. Several common escape sequences are listed below.\n",
    "\n",
    "| Escape Sequence  | Result |\n",
    "|:---:|-----|\n",
    "| **`\\'`**  | Prints a single quote. |\n",
    "| **`\\\"`**  | Prints a double quote. |\n",
    "| **`\\n`**  | Inserts a newline. |\n",
    "| **`\\t`**  | Inserts a tab. |\n",
    "| **`\\\\`**  | Inserts a backslash. |\n",
    "\n",
    "For an example use case for escape sequences, assume that we want to define a variable containing the following string of characters: \n",
    "\n",
    "    He yelled, \"I've had enough!\" before storming out of the room.\n",
    "    \n",
    "As before, the presence of double quotes within the string prohibit us from being able to use double quotes to define the string. Furthermore, since the character for the apostrophe is the same as the character for a single quote, we are now no longer able to use single quotes to define our string. One solution is to use an escape sequence for the apostrophe so that Python knows to interpret it as text. "
   ]
  },
  {
   "cell_type": "code",
   "execution_count": null,
   "metadata": {},
   "outputs": [],
   "source": [
    "sentence = 'He yelled, \"I\\'ve had enough!\" before storming out of the room.'\n",
    "print(sentence)"
   ]
  },
  {
   "cell_type": "markdown",
   "metadata": {},
   "source": [
    "Had we wished, we could have escaped the double quotes within the string as well as the apostrophe. In this case, we could have used either single or double quotes to define our string. "
   ]
  },
  {
   "cell_type": "markdown",
   "metadata": {},
   "source": [
    "We can use the `\\n` escape sequence to insert a newline inside of a string. "
   ]
  },
  {
   "cell_type": "code",
   "execution_count": null,
   "metadata": {},
   "outputs": [],
   "source": [
    "tale2cities = \"It was the best of times.\\nIt was the worst of times.\"\n",
    "print(tale2cities)"
   ]
  },
  {
   "cell_type": "markdown",
   "metadata": {},
   "source": [
    "We can use `\\t` to insert tabs in our string. This can be used for indenting lines, or for aligning output. "
   ]
  },
  {
   "cell_type": "code",
   "execution_count": null,
   "metadata": {},
   "outputs": [],
   "source": [
    "print(\"Regular.\")\n",
    "print(\"\\tIndented.\")\n",
    "print(\"\\t\\tDouble indented.\")"
   ]
  },
  {
   "cell_type": "markdown",
   "metadata": {},
   "source": [
    "The tab escape sequence can be used to align portions of multi-line output. The following example shows how we might use tabs to align columns in the printout of an employee database. "
   ]
  },
  {
   "cell_type": "code",
   "execution_count": null,
   "metadata": {},
   "outputs": [],
   "source": [
    "print('ID\\tEmployee Name\\tSalary')\n",
    "print('-------------------------------')\n",
    "print('107\\tJane Doe\\t$54,000')\n",
    "print('139\\tJohn Smith\\t$48,300')\n",
    "print('162\\tPat Jones\\t$52,500')"
   ]
  },
  {
   "cell_type": "markdown",
   "metadata": {},
   "source": [
    "## Operations Involving Strings\n",
    "\n",
    "When appearing between numbers, the symbols `+`, `-`, `*`, `/`, and `**` perform the relevant arithmetic operations. However, these symbols can sometimes be used to combine instance of data types. We will see examples of this as we introduce new data types. The only one of these symbols that can be used between two strings is the `+` symbol. \n",
    "\n",
    "When `+` is used between two strings, it combines, or **concatenates** the strings. The string that appears on the left side of `+` will come first, and the string on the right side will be appended to the end. "
   ]
  },
  {
   "cell_type": "code",
   "execution_count": null,
   "metadata": {},
   "outputs": [],
   "source": [
    "a = 'star'\n",
    "b = 'wars'\n",
    "c = a + b\n",
    "print(c)"
   ]
  },
  {
   "cell_type": "markdown",
   "metadata": {},
   "source": [
    "We can use `+` to combine several strings at once. It is not necessary for all of the string values to be stored in variables. We see this in the next example, which places a space between the words \"star\" and \"wars\".  "
   ]
  },
  {
   "cell_type": "code",
   "execution_count": null,
   "metadata": {},
   "outputs": [],
   "source": [
    "d = a + ' ' + b\n",
    "print(d)"
   ]
  },
  {
   "cell_type": "markdown",
   "metadata": {},
   "source": [
    "## Operations Involving Strings and Numbers"
   ]
  },
  {
   "cell_type": "markdown",
   "metadata": {},
   "source": [
    "If we try to combine a string and a number with +, we will get an error."
   ]
  },
  {
   "cell_type": "code",
   "execution_count": null,
   "metadata": {
    "scrolled": true
   },
   "outputs": [],
   "source": [
    "print(\"one\" + 2)"
   ]
  },
  {
   "cell_type": "markdown",
   "metadata": {},
   "source": [
    "Note that numbers enclosed with quotes are also considered strings. Python does not recongnize them as numbers."
   ]
  },
  {
   "cell_type": "code",
   "execution_count": null,
   "metadata": {},
   "outputs": [],
   "source": [
    "print(\"1\" + 2)"
   ]
  },
  {
   "cell_type": "markdown",
   "metadata": {},
   "source": [
    "Although we are not able to \"add\" strings to numbers, we are able to \"multiply\" a string by a number. The result will be a string that has concatenated with itself the specified number of times."
   ]
  },
  {
   "cell_type": "code",
   "execution_count": null,
   "metadata": {},
   "outputs": [],
   "source": [
    "print(\"blah \" * 5)"
   ]
  },
  {
   "cell_type": "markdown",
   "metadata": {},
   "source": [
    "Since the product of a string and an integer produces another string, expressions of this type can be concatenated together."
   ]
  },
  {
   "cell_type": "code",
   "execution_count": null,
   "metadata": {},
   "outputs": [],
   "source": [
    "print(\"la \" * 4 + \"doo \" * 3)"
   ]
  },
  {
   "cell_type": "markdown",
   "metadata": {},
   "source": [
    "## Type Coercion with Strings\n",
    "\n",
    "We will now explore under what situations we are able to convert between `str` objects and `int` or `float` objects. \n",
    "\n",
    "We can convert a `str` object to an `int` or a `float` if the value contained within the string makes sense as the new data type. "
   ]
  },
  {
   "cell_type": "code",
   "execution_count": null,
   "metadata": {},
   "outputs": [],
   "source": [
    "a_str = '61'\n",
    "a_int = int(a_str)\n",
    "a_float = float(a_str)\n",
    "print(a_int)\n",
    "print(a_float)"
   ]
  },
  {
   "cell_type": "code",
   "execution_count": null,
   "metadata": {},
   "outputs": [],
   "source": [
    "b_str = '7.93'\n",
    "b_float = float(b_str)\n",
    "print(b_float)"
   ]
  },
  {
   "cell_type": "markdown",
   "metadata": {},
   "source": [
    "Since the value of `b_str` is not interpretable as an integer, we will get an error if we attempt to coerce it to an integer."
   ]
  },
  {
   "cell_type": "code",
   "execution_count": null,
   "metadata": {},
   "outputs": [],
   "source": [
    "b_int = int(b_str)"
   ]
  },
  {
   "cell_type": "markdown",
   "metadata": {},
   "source": [
    "If we are very insistent about coercing `b_int` to an integer, we can first coerce it into a float, and then an integer. "
   ]
  },
  {
   "cell_type": "code",
   "execution_count": null,
   "metadata": {},
   "outputs": [],
   "source": [
    "b_int = int(float(b_str))\n",
    "print(b_int)"
   ]
  },
  {
   "cell_type": "markdown",
   "metadata": {},
   "source": [
    "We can always convert an `int` or a `float` object to a `str` using the `str()` function."
   ]
  },
  {
   "cell_type": "code",
   "execution_count": null,
   "metadata": {},
   "outputs": [],
   "source": [
    "x_float = 4.5\n",
    "x_str = str(x_float)\n",
    "print(x_str)"
   ]
  },
  {
   "cell_type": "code",
   "execution_count": null,
   "metadata": {},
   "outputs": [],
   "source": [
    "y_int = 8675409\n",
    "y_str = str(y_int)\n",
    "print(y_str)"
   ]
  },
  {
   "cell_type": "markdown",
   "metadata": {},
   "source": [
    "Converting numerical values to strings can be very useful if we want to output a message that contains a mixture of predetermined text, as well as numeric values that are stored in variables. Converting the numeric portions of the message to strings allowed them to be concatenated with the rest of the text. \n",
    "\n",
    "Consider the following example."
   ]
  },
  {
   "cell_type": "code",
   "execution_count": null,
   "metadata": {},
   "outputs": [],
   "source": [
    "z = 3.56\n",
    "z2 = z**2\n",
    "\n",
    "print('The square of ' + str(z) + ' is ' + str(z2) + '.')"
   ]
  },
  {
   "cell_type": "markdown",
   "metadata": {},
   "source": [
    "We could have obtained the same result as above without using coercion by passing multiple arguments to the `print()` function and setting the `sep` parameter equal to the empty string, as shown below. "
   ]
  },
  {
   "cell_type": "code",
   "execution_count": null,
   "metadata": {},
   "outputs": [],
   "source": [
    "print('The square of ', z, ' is ', z2, '.', sep='')"
   ]
  },
  {
   "cell_type": "markdown",
   "metadata": {},
   "source": [
    "## The `len()` Function\n",
    "\n",
    "Python provides several built-in functions for working with strings. The first such function we will discuss is `len()`. The `len()` function allows you to determine the length of a string."
   ]
  },
  {
   "cell_type": "code",
   "execution_count": null,
   "metadata": {},
   "outputs": [],
   "source": [
    "x = \"There are 39 characters in this string.\"\n",
    "print(len(x))"
   ]
  },
  {
   "cell_type": "markdown",
   "metadata": {},
   "source": [
    "As you might expect, an empty string has a length of zero. "
   ]
  },
  {
   "cell_type": "code",
   "execution_count": null,
   "metadata": {},
   "outputs": [],
   "source": [
    "print(len(empty_string))"
   ]
  },
  {
   "cell_type": "markdown",
   "metadata": {},
   "source": [
    "## Methods\n",
    "\n",
    "The majority of the functions we will encounter when working with strings are **methods**. The difference between a method and other types of functions we will encounter is subtle, and will be discussed in greater detail later in the course. For now, we simply note the following points regarding methods:\n",
    "1. A method is a function that belongs to a specific object (such as an `int`, `float`, or `str`). \n",
    "2. To use a method on an object, you write the name of the object, followed by a dot, followed by the name of the method, followed by a set of parentheses.\n",
    "\n",
    "In the following example, we consider three string methods:\n",
    "\n",
    "* `upper()` converts the string to uppercase. \n",
    "* `lower()` converts the string to lowercase. \n",
    "* `title()` capitalizes the first letter of each word in the string. \n",
    "\n",
    "Note that none of these methods actually change the contents of the string. They instead provide a new string as their output. "
   ]
  },
  {
   "cell_type": "code",
   "execution_count": null,
   "metadata": {},
   "outputs": [],
   "source": [
    "myString = \"There's a method in the madness.\"\n",
    "print(myString.upper())\n",
    "print(myString.lower())\n",
    "print(myString.title())"
   ]
  },
  {
   "cell_type": "markdown",
   "metadata": {},
   "source": [
    "Some methods accept inputs (also called arguments). One example is the `count()` method. This method searches the string to see how many times the supplied input (also a string) appears within the original string. This is demonstrated below. "
   ]
  },
  {
   "cell_type": "code",
   "execution_count": null,
   "metadata": {},
   "outputs": [],
   "source": [
    "print( myString.count(\"m\") )\n",
    "print( myString.count(\"e\") )"
   ]
  },
  {
   "cell_type": "markdown",
   "metadata": {},
   "source": [
    "The `replace()` method accepts two arguments. This method scans the source string, and replaces all occurences of the first argument with the second argument. Again, it does not actually change the contents of the original string. It instead returns a new string as output. "
   ]
  },
  {
   "cell_type": "code",
   "execution_count": null,
   "metadata": {
    "scrolled": true
   },
   "outputs": [],
   "source": [
    "a = \"a \"\n",
    "b =  \"no \"\n",
    "print( myString.replace(a, b) )"
   ]
  },
  {
   "cell_type": "markdown",
   "metadata": {},
   "source": [
    "## f-Strings\n",
    "\n",
    "Beginning with Version 3.6, Python has come equipped with a powerful tool for creating and formatting strings known as **f-strings**. We can define an f-string by simply placing an `f` character in front of the string, immediately before the initial quote. "
   ]
  },
  {
   "cell_type": "code",
   "execution_count": null,
   "metadata": {},
   "outputs": [],
   "source": [
    "boring_fstring = f'This is an example of an f-string.'\n",
    "print(boring_fstring)"
   ]
  },
  {
   "cell_type": "markdown",
   "metadata": {},
   "source": [
    "The example above illustrates the basic syntax for creating an f-string, but it is not particularly useful. We could have obtained the same result using an ordinary string. The benefits of f-strings arise from situation in which we would like to define a string that incorporates values stored in variables. If we place a set of brackets containing a variable name within an f-string, then the value of that variable will be inserted into the string at that location. This is illustrated in the next example. "
   ]
  },
  {
   "cell_type": "code",
   "execution_count": null,
   "metadata": {},
   "outputs": [],
   "source": [
    "first = 'Robbie'\n",
    "last = 'Beane'\n",
    "\n",
    "name_message = f'Hello. My first name is {first} and my last name is {last}.'\n",
    "print(name_message)"
   ]
  },
  {
   "cell_type": "markdown",
   "metadata": {},
   "source": [
    "In the example above, the values we inserted into the f-string were both strings themselves. However, we can place variables containing numerical values inside of the brackets as well. When doing so, it is NOT necessary to coerce the variable into a string.\n",
    "\n",
    "We are not restricted to using names of variables inside of brackets in an f-string. We can, in fact, place any expression that we would like inside of the brackets. \n",
    "\n",
    "These concepts are illustrated in the next example. "
   ]
  },
  {
   "cell_type": "code",
   "execution_count": null,
   "metadata": {},
   "outputs": [],
   "source": [
    "z = 3.56\n",
    "print(f'The square of {z} is {z**2}.')"
   ]
  },
  {
   "cell_type": "markdown",
   "metadata": {},
   "source": [
    "### Aligning Text with f-Strings\n",
    "\n",
    "Occasionally, we would like to insert a value into a string with additional spaces padding the value on the left or the right so that the printed value and the additional spaces together constitute a specific number of characters. We can accomplish this using f-strings by following the expression within the braces with a colon `:`, one of the symbols `<` or `>`, and then an integer value. The integer indicates the number of characters that should be set aside for the inserted value, and the selected arrow symbol controls whether the value should be left-justified (`<`) or right-justified (`>`). \n",
    "\n",
    "We illustrated this in the cell below. "
   ]
  },
  {
   "cell_type": "code",
   "execution_count": null,
   "metadata": {},
   "outputs": [],
   "source": [
    "my_text = 'text'\n",
    "\n",
    "print(f'--{my_text:>6}--')\n",
    "print(f'--{my_text:<6}--')"
   ]
  },
  {
   "cell_type": "markdown",
   "metadata": {},
   "source": [
    "This feature of f-strings is particularly useful when we would like to display output in a tabular format, consisting of multiple rows and columns. We can use f-strings to make sure that each entry in a column takes the same amount of space, and is aligned on either the left or the right. This is illustrated below. "
   ]
  },
  {
   "cell_type": "code",
   "execution_count": null,
   "metadata": {},
   "outputs": [],
   "source": [
    "num1 = 1\n",
    "fname1 = 'George'\n",
    "lname1 = 'Washington'\n",
    "\n",
    "num2 = 2\n",
    "fname2 = 'John'\n",
    "lname2 = 'Adams'\n",
    "\n",
    "num3 = 16\n",
    "fname3 = 'Abraham'\n",
    "lname3 = 'Lincoln'\n",
    "\n",
    "\n",
    "print('First Name     Last Name      Number')\n",
    "print('--------------------------------------')\n",
    "print(f'{fname1:<15}{lname1:<15}{num1:>6}')\n",
    "print(f'{fname2:<15}{lname2:<15}{num2:>6}')\n",
    "print(f'{fname3:<15}{lname3:<15}{num3:>6}')"
   ]
  }
 ],
 "metadata": {
  "kernelspec": {
   "display_name": "Python 3",
   "language": "python",
   "name": "python3"
  },
  "language_info": {
   "codemirror_mode": {
    "name": "ipython",
    "version": 3
   },
   "file_extension": ".py",
   "mimetype": "text/x-python",
   "name": "python",
   "nbconvert_exporter": "python",
   "pygments_lexer": "ipython3",
   "version": "3.8.3"
  }
 },
 "nbformat": 4,
 "nbformat_minor": 4
}
