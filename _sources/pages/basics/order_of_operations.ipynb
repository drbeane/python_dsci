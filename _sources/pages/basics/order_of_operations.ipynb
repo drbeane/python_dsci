{
 "cells": [
  {
   "cell_type": "markdown",
   "metadata": {
    "tags": []
   },
   "source": [
    "# Order of Operations\n",
    "\n",
    "The value of a mathematical expression can be dependent on the order in which you perform the operations that constitute that expression. To avoid ambiguity or the need for excessive use of parentheses, mathematicians have adopted a standard [order of operations](https://mathworld.wolfram.com/PEMDAS.html) that should be followed when evaluating expressions. Python aheres to these same rules when evaluating expressions. "
   ]
  },
  {
   "cell_type": "markdown",
   "metadata": {},
   "source": [
    "## PEMDAS\n",
    "\n",
    "The order of operations is often summarizued using the acronym **PEMDAS**. The meaning of this acronym is explained below. \n",
    "\n",
    "* **(P)arentheses.** Calculate the value of any expression appearing within a set of parentheses before performing calculations that involve that expression.  \n",
    "\n",
    "* **(E)xponentiation.** Perform calculations involving exponentiation before moving on to other operations. \n",
    "\n",
    "* **(M)ultiplication and (D)ivision.** Perform calculations involving multiplication and division before those involving addition or subtraction. \n",
    "\n",
    "* **(A)ddition and (S)ubtraction.** Perform calculations involving addition and subtraction last. \n",
    "\n",
    "In the next cell, we will demonstrate that Python does indeed perform multiplication prior to addition. "
   ]
  },
  {
   "cell_type": "code",
   "execution_count": 1,
   "metadata": {},
   "outputs": [
    {
     "name": "stdout",
     "output_type": "stream",
     "text": [
      "34\n"
     ]
    }
   ],
   "source": [
    "print(4 + 5 * 6)"
   ]
  },
  {
   "cell_type": "markdown",
   "metadata": {},
   "source": [
    "If we wished for the addition to be performed before the multiplication in the expression above, then we could add parentheses to the expression. This is demonstrated below. "
   ]
  },
  {
   "cell_type": "code",
   "execution_count": 2,
   "metadata": {},
   "outputs": [
    {
     "name": "stdout",
     "output_type": "stream",
     "text": [
      "54\n"
     ]
    }
   ],
   "source": [
    "print((4 + 5) * 6)"
   ]
  },
  {
   "cell_type": "markdown",
   "metadata": {},
   "source": [
    "We can combine parentheses and operations to form complex arithmetic expressions. "
   ]
  },
  {
   "cell_type": "code",
   "execution_count": 16,
   "metadata": {},
   "outputs": [
    {
     "name": "stdout",
     "output_type": "stream",
     "text": [
      "245.0\n"
     ]
    }
   ],
   "source": [
    "print( (1 + 4) * (3 + 8 / 2) ** 2 )"
   ]
  },
  {
   "cell_type": "markdown",
   "metadata": {},
   "source": [
    "## Parentheses and Roots"
   ]
  },
  {
   "cell_type": "markdown",
   "metadata": {},
   "source": [
    "As discussed in a previous section, we can calculate roots by raising values to fractional exponents, but we need to be careful about using exponents when we do so. \n",
    "\n",
    "Assume, for example, that we wish to calculate the third root of 216 (which is equal to 6). Consider the attempt in the next cell. "
   ]
  },
  {
   "cell_type": "code",
   "execution_count": 17,
   "metadata": {},
   "outputs": [
    {
     "name": "stdout",
     "output_type": "stream",
     "text": [
      "72.0\n"
     ]
    }
   ],
   "source": [
    "print(216 ** 1/3)"
   ]
  },
  {
   "cell_type": "markdown",
   "metadata": {},
   "source": [
    "Since exponentiation is performed before division, Python processes this expression by first raising 216 to the power 1 (which gives 216), and then dividing the result by 3, yielding 72. We can correct this by placing parentheses around the fraction. This is demonstrated in the cell below. "
   ]
  },
  {
   "cell_type": "code",
   "execution_count": 18,
   "metadata": {},
   "outputs": [
    {
     "name": "stdout",
     "output_type": "stream",
     "text": [
      "5.999999999999999\n"
     ]
    }
   ],
   "source": [
    "print(216 ** (1/3))"
   ]
  },
  {
   "cell_type": "markdown",
   "metadata": {},
   "source": [
    "```{admonition} Note on rounding\n",
    ":class: note\n",
    "Notice that there seems to be a (tiny) error in the value calculated above. The result should be exactly equal to 6, but we get something very, very slightly smaller than 6. We will discuss the cause of this error in a later section: [Rounding Issues](rounding_issues). \n",
    "\n",
    "This type of apparent \"rounding error\" is not uncommon in Python (or any programming language) and can disconcerting the first few times you encounter it, but be reassured that this tiny discrepency is extremely unlikely to have any practical significance, and should not typically be cause for concern. \n",
    "```"
   ]
  }
 ],
 "metadata": {
  "kernelspec": {
   "display_name": "Python 3",
   "language": "python",
   "name": "python3"
  },
  "language_info": {
   "codemirror_mode": {
    "name": "ipython",
    "version": 3
   },
   "file_extension": ".py",
   "mimetype": "text/x-python",
   "name": "python",
   "nbconvert_exporter": "python",
   "pygments_lexer": "ipython3",
   "version": "3.8.8"
  }
 },
 "nbformat": 4,
 "nbformat_minor": 4
}
