{
 "cells": [
  {
   "cell_type": "markdown",
   "metadata": {},
   "source": [
    "# Rounding\n",
    "\n",
    "Python comes equipped with a `round()` function that we can use to round decimal number to a certain desired precision. To use the `round()` function, we would need to place two numbers inside the parentheses, separated by a comma. The first number is the number that is to be rounded, while the second number should be a integer indicating the number of decimal digits that we wish to round to. \n",
    "\n",
    "Some examples of the `round()` function are provided below. "
   ]
  },
  {
   "cell_type": "code",
   "execution_count": 1,
   "metadata": {},
   "outputs": [
    {
     "name": "stdout",
     "output_type": "stream",
     "text": [
      "3.0\n",
      "3.1\n",
      "3.14\n",
      "3.142\n",
      "3.1416\n"
     ]
    }
   ],
   "source": [
    "print(round(3.14159, 0))\n",
    "print(round(3.14159, 1))\n",
    "print(round(3.14159, 2))\n",
    "print(round(3.14159, 3))\n",
    "print(round(3.14159, 4))"
   ]
  },
  {
   "cell_type": "markdown",
   "metadata": {},
   "source": [
    "## Rounding to the Nearest Integer\n",
    "\n",
    "If we do not provide `round()` with the desired number of digits, then the number provided will be rounded to the nearest integer. This is illustrated in the example below. "
   ]
  },
  {
   "cell_type": "code",
   "execution_count": 2,
   "metadata": {},
   "outputs": [
    {
     "name": "stdout",
     "output_type": "stream",
     "text": [
      "12\n",
      "13\n"
     ]
    }
   ],
   "source": [
    "print(round(12.3))\n",
    "print(round(12.7))"
   ]
  },
  {
   "cell_type": "markdown",
   "metadata": {},
   "source": [
    "Notice that we have two ways to tell `round()` to round to the nearest integer: We can explicitly tell it to round to 0 decimal places, or we can not tell provide it with a number of digits to round to. Both of these methods are illustrated in the next cell. "
   ]
  },
  {
   "cell_type": "code",
   "execution_count": 4,
   "metadata": {},
   "outputs": [
    {
     "name": "stdout",
     "output_type": "stream",
     "text": [
      "3.0\n",
      "3\n"
     ]
    }
   ],
   "source": [
    "print(round(2.71818, 0))\n",
    "print(round(2.71818))"
   ]
  },
  {
   "cell_type": "markdown",
   "metadata": {},
   "source": [
    "As indicated by the way output above, there is a subtle difference between the two usages of `round()` in the previous cell. We will discuss these differences in more detail in a later section. In most cases, the two approaches can be used interchangeably. "
   ]
  },
  {
   "cell_type": "markdown",
   "metadata": {},
   "source": [
    "# Modulus and Floor Division\n",
    "\n",
    "In this section, we will discuss the **modulus** and **floor division** operations. Both of these operations are related to the process of dividing one integer by another. "
   ]
  },
  {
   "cell_type": "markdown",
   "metadata": {},
   "source": [
    "## The Modulus Operation\n",
    "\n",
    "The **modulus operation** yields the remainder obtained from dividing one integer by another. It is performed in Python by placing the percent character (`%`) between two integer values. The number on the left of the `%` symbol is divided by the one on the right, and Python reports back the remainder of this division. \n",
    "\n",
    "Let's consider a few examples. We will start by calculating the remainder obtained when dividing 8 by 3. "
   ]
  },
  {
   "cell_type": "code",
   "execution_count": 1,
   "metadata": {},
   "outputs": [
    {
     "name": "stdout",
     "output_type": "stream",
     "text": [
      "2\n"
     ]
    }
   ],
   "source": [
    "print(8 % 3)"
   ]
  },
  {
   "cell_type": "markdown",
   "metadata": {},
   "source": [
    "In the next example, we will calculate the remainder of 25 divided by 7. "
   ]
  },
  {
   "cell_type": "code",
   "execution_count": 2,
   "metadata": {},
   "outputs": [
    {
     "name": "stdout",
     "output_type": "stream",
     "text": [
      "4\n"
     ]
    }
   ],
   "source": [
    "print(25 % 7)"
   ]
  },
  {
   "cell_type": "markdown",
   "metadata": {},
   "source": [
    "As our last example of the modulus operation, we will calculate the remainder of 90 divided by 3. Note that since 90 is divisible by 3, we get a remainder of 0. "
   ]
  },
  {
   "cell_type": "code",
   "execution_count": 3,
   "metadata": {},
   "outputs": [
    {
     "name": "stdout",
     "output_type": "stream",
     "text": [
      "0\n"
     ]
    }
   ],
   "source": [
    "print(90 % 3)"
   ]
  },
  {
   "cell_type": "markdown",
   "metadata": {},
   "source": [
    "The modulus operator has many useful applications in programming, some of which we will explore in later sections.\n",
    "\n",
    "```{note} \n",
    "The symbol used to indicate the modulus operation varies from one programming language to another. Several programming languages use `%`, as Python does. But it is also common to see `%%` or `mod` used to indicate this operation.  \n",
    "```"
   ]
  },
  {
   "cell_type": "markdown",
   "metadata": {},
   "source": [
    "## Floor Division\n",
    "\n",
    "The **floor division** operation is related to the modulus operation in that it is obtained through the process of integer division. However, floor division reports back the quotient of the division rather than the remainder. We use double slashes (`//`) to perform floor division in Python. \n",
    "\n",
    "We will illustration floor division using the same examples we considered for the modulus. We will start with 8 divided by 3. "
   ]
  },
  {
   "cell_type": "code",
   "execution_count": 4,
   "metadata": {},
   "outputs": [
    {
     "name": "stdout",
     "output_type": "stream",
     "text": [
      "2\n"
     ]
    }
   ],
   "source": [
    "print(8 // 3)"
   ]
  },
  {
   "cell_type": "markdown",
   "metadata": {},
   "source": [
    "Next, we will calculate the quotient resulting from dividing 25 by 7. "
   ]
  },
  {
   "cell_type": "code",
   "execution_count": 5,
   "metadata": {},
   "outputs": [
    {
     "name": "stdout",
     "output_type": "stream",
     "text": [
      "3\n"
     ]
    }
   ],
   "source": [
    "print(25 // 7)"
   ]
  },
  {
   "cell_type": "markdown",
   "metadata": {},
   "source": [
    "We conclude the section by calculating the quotient of 90 divided by 3. "
   ]
  },
  {
   "cell_type": "code",
   "execution_count": 6,
   "metadata": {},
   "outputs": [
    {
     "name": "stdout",
     "output_type": "stream",
     "text": [
      "30\n"
     ]
    }
   ],
   "source": [
    "print(90 // 3)"
   ]
  },
  {
   "cell_type": "markdown",
   "metadata": {},
   "source": [
    "```{note}\n",
    "When writing code, there are often many different ways to obtain a particular result. We can also perform floor division using the `int()` function. This function returns the whole number (or integer) part of a decimal number. As a consequence, the following two expressions will generate the same value:\n",
    "\n",
    "    25 // 7\n",
    "    int(25 / 7)\n",
    "\n",
    "Although the `int()` function can be used for floor division, it has additional uses that we will see in a later section. \n",
    "```"
   ]
  }
 ],
 "metadata": {
  "kernelspec": {
   "display_name": "Python 3",
   "language": "python",
   "name": "python3"
  },
  "language_info": {
   "codemirror_mode": {
    "name": "ipython",
    "version": 3
   },
   "file_extension": ".py",
   "mimetype": "text/x-python",
   "name": "python",
   "nbconvert_exporter": "python",
   "pygments_lexer": "ipython3",
   "version": "3.8.8"
  }
 },
 "nbformat": 4,
 "nbformat_minor": 4
}
