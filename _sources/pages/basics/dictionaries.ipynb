{
 "cells": [
  {
   "cell_type": "markdown",
   "metadata": {},
   "source": [
    "# Lesson 12 - Dictionaries\n",
    "\n",
    "### The following topics are discussed in this notebook:\n",
    "* The `dict` data type.\n",
    "* Using dictionaries to store structured data.\n"
   ]
  },
  {
   "cell_type": "markdown",
   "metadata": {},
   "source": [
    "## Dictionaries\n",
    "\n",
    "Like a list, a **dictionary**, or `dict`, is a collection of values. Dictionaries consist of several **key-value** pairs. Each pair has a **key** which is used to access the **value** associated with it. The key in a dictionary is much like an index in a list, but whereas an index must be an integer, a key can be of many different data types. \n",
    "\n",
    "Dictionaries are created using the following syntax:\n",
    "\n",
    "    my_dict = {key1:value1, key2:value2, ..., keyN:valueN}"
   ]
  },
  {
   "cell_type": "markdown",
   "metadata": {},
   "source": [
    "## Basic Dictionary Operations\n",
    "\n",
    "The cell below defines a simple dictionary that is used to store salary information for employees. "
   ]
  },
  {
   "cell_type": "code",
   "execution_count": 1,
   "metadata": {},
   "outputs": [
    {
     "name": "stdout",
     "output_type": "stream",
     "text": [
      "{'Anna': 43700, 'Beth': 50250}\n"
     ]
    }
   ],
   "source": [
    "salary_dict = {'Anna':43700, 'Beth': 50250}\n",
    "\n",
    "print(salary_dict)"
   ]
  },
  {
   "cell_type": "markdown",
   "metadata": {},
   "source": [
    "We can access individual values of the dictionary using the associated keys."
   ]
  },
  {
   "cell_type": "code",
   "execution_count": 2,
   "metadata": {},
   "outputs": [
    {
     "name": "stdout",
     "output_type": "stream",
     "text": [
      "43700\n",
      "50250\n"
     ]
    }
   ],
   "source": [
    "print(salary_dict['Anna'])\n",
    "print(salary_dict['Beth'])"
   ]
  },
  {
   "cell_type": "markdown",
   "metadata": {},
   "source": [
    "We can add new key-value pairs to a dictionary as follows:"
   ]
  },
  {
   "cell_type": "code",
   "execution_count": 3,
   "metadata": {},
   "outputs": [
    {
     "name": "stdout",
     "output_type": "stream",
     "text": [
      "{'Anna': 43700, 'Beth': 50250, 'Craig': 47600, 'Drew': 37400}\n"
     ]
    }
   ],
   "source": [
    "salary_dict['Craig'] = 47600\n",
    "salary_dict['Drew'] = 37400\n",
    "\n",
    "print(salary_dict)"
   ]
  },
  {
   "cell_type": "markdown",
   "metadata": {},
   "source": [
    "We can also update values in a dictionary."
   ]
  },
  {
   "cell_type": "code",
   "execution_count": 4,
   "metadata": {},
   "outputs": [
    {
     "name": "stdout",
     "output_type": "stream",
     "text": [
      "{'Anna': 43700, 'Beth': 50250, 'Craig': 47600, 'Drew': 39800}\n"
     ]
    }
   ],
   "source": [
    "salary_dict['Drew'] = 39800\n",
    "print(salary_dict)"
   ]
  },
  {
   "cell_type": "markdown",
   "metadata": {},
   "source": [
    "We can delete entries from a dictionary using the **del** keyword. "
   ]
  },
  {
   "cell_type": "code",
   "execution_count": 5,
   "metadata": {},
   "outputs": [
    {
     "name": "stdout",
     "output_type": "stream",
     "text": [
      "{'Anna': 43700, 'Beth': 50250, 'Drew': 39800}\n"
     ]
    }
   ],
   "source": [
    "del salary_dict['Craig']\n",
    "print(salary_dict)"
   ]
  },
  {
   "cell_type": "markdown",
   "metadata": {},
   "source": [
    "We can use the `len()` function on dictionaries to determine the number of values that they contain. "
   ]
  },
  {
   "cell_type": "code",
   "execution_count": 6,
   "metadata": {},
   "outputs": [
    {
     "name": "stdout",
     "output_type": "stream",
     "text": [
      "3\n"
     ]
    }
   ],
   "source": [
    "print(len(salary_dict))"
   ]
  },
  {
   "cell_type": "markdown",
   "metadata": {},
   "source": [
    "## Dictionary Methods\n",
    "\n",
    "Each dictionary come equipped with methods that can be used to access its keys, its values, or both. We will now explore each of the following methods:\n",
    "\n",
    "* The `keys()` method of a dictionary returns a collection of the keys for items that dictionary. \n",
    "* The `values()` method of a dictionary returns a collection of the values for items in that dictionary. \n",
    "* The `items()` method of a dictionary returns a collection of the key/value tuples for items in that dictionary. \n",
    "\n",
    "We will illustrate the use of these methods in the cell below. "
   ]
  },
  {
   "cell_type": "markdown",
   "metadata": {},
   "source": [
    "Dictionary elements are not ordered, and so dictionaries don't allow for slicing. You can, however, loop over the elements of a dictionary. "
   ]
  },
  {
   "cell_type": "code",
   "execution_count": 7,
   "metadata": {},
   "outputs": [
    {
     "name": "stdout",
     "output_type": "stream",
     "text": [
      "dict_keys(['Anna', 'Beth', 'Drew'])\n",
      "dict_values([43700, 50250, 39800])\n",
      "dict_items([('Anna', 43700), ('Beth', 50250), ('Drew', 39800)])\n"
     ]
    }
   ],
   "source": [
    "print(salary_dict.keys())\n",
    "print(salary_dict.values())\n",
    "print(salary_dict.items())"
   ]
  },
  {
   "cell_type": "markdown",
   "metadata": {},
   "source": [
    "The objects returned by the `keys()`, `values()`, and `items()` methods are not lists. Each method instead returns an object with a type specific to that function (`dict_keys`, `dict_values`, and `dict_items`). We can convert these objects to list using the `list()` function, if necessary. We can also use a for loop to iterate over these objects without first converting them to lists. \n",
    "\n",
    "In the cell below, the `values()` in a loop to display the values stored in our dictionary. "
   ]
  },
  {
   "cell_type": "code",
   "execution_count": 8,
   "metadata": {},
   "outputs": [
    {
     "name": "stdout",
     "output_type": "stream",
     "text": [
      "43700\n",
      "50250\n",
      "39800\n"
     ]
    }
   ],
   "source": [
    "for v in salary_dict.values():\n",
    "    print(v)"
   ]
  },
  {
   "cell_type": "markdown",
   "metadata": {},
   "source": [
    "The `values()` method gives us no way of accessing the keys associated with individual values. If we want to display both keys and values, we can use `keys()`  in a loop to iterate over the keys, displaying each key along with the value associated with it. We display the results using an f-string. "
   ]
  },
  {
   "cell_type": "code",
   "execution_count": 9,
   "metadata": {},
   "outputs": [
    {
     "name": "stdout",
     "output_type": "stream",
     "text": [
      "Anna: 43700\n",
      "Beth: 50250\n",
      "Drew: 39800\n"
     ]
    }
   ],
   "source": [
    "for k in salary_dict.keys():\n",
    "    print(f'{k}: {salary_dict[k]}')"
   ]
  },
  {
   "cell_type": "markdown",
   "metadata": {},
   "source": [
    "We can obtain the same results as above by instead using the `items()` method. When iterate over the dictionary items, we are provided a tuple of key values pairs at each step. We can unpack this tuple into separate variables. This saves us from having to use the keys to look up the associated values. "
   ]
  },
  {
   "cell_type": "code",
   "execution_count": 10,
   "metadata": {},
   "outputs": [
    {
     "name": "stdout",
     "output_type": "stream",
     "text": [
      "Anna: 43700\n",
      "Beth: 50250\n",
      "Drew: 39800\n"
     ]
    }
   ],
   "source": [
    "for k, v in salary_dict.items():\n",
    "    print(f'{k}: {v}')"
   ]
  },
  {
   "cell_type": "markdown",
   "metadata": {},
   "source": [
    "## Lookup Tables\n",
    "\n",
    "One common application of dictionaries is to create lookup tables. Let's say that you have several objects, and each one has a unique identifier assigned to it. Assume that your code has to frequently look up characteristics of the objects based on their identifier. This can be easily done with a dictionary. \n",
    "\n",
    "The code below illustrates how you might use a dictionary to store ID-Name pairs in a student database. "
   ]
  },
  {
   "cell_type": "code",
   "execution_count": 11,
   "metadata": {},
   "outputs": [],
   "source": [
    "student_lookup = {\n",
    "    601814: 'Brown, Mary',\n",
    "    716978: 'Green, John',\n",
    "    617945: 'Jones, Lana',\n",
    "    863794: 'Smith, Hank',\n",
    "    816773: 'Green, John'\n",
    "}"
   ]
  },
  {
   "cell_type": "markdown",
   "metadata": {},
   "source": [
    "We will now use the lookup table to find the names of two students based on their student ID numbers. "
   ]
  },
  {
   "cell_type": "code",
   "execution_count": 12,
   "metadata": {},
   "outputs": [
    {
     "name": "stdout",
     "output_type": "stream",
     "text": [
      "Jones, Lana\n",
      "Green, John\n"
     ]
    }
   ],
   "source": [
    "print(student_lookup[617945])\n",
    "print(student_lookup[816773])"
   ]
  },
  {
   "cell_type": "markdown",
   "metadata": {},
   "source": [
    "## Using Dictionaries to Store Structured Data\n",
    "\n",
    "The values in a dictionary can be lists. This is convenient if we would like use a dictionary to store records of some type. In this case, we can imagine the keys of the dictionary as indicating columns in a table. "
   ]
  },
  {
   "cell_type": "code",
   "execution_count": 13,
   "metadata": {},
   "outputs": [],
   "source": [
    "employee_dict = {\n",
    "    'EID': [103, 105, 101, 106, 108],\n",
    "    'Name': ['Anna', 'Beth', 'Craig', 'Drew', 'Emma'],\n",
    "    'Salary': [43700, 50250, 47600, 39800, 38750],\n",
    "    'Rank': [2, 1, 1, 2, 3]\n",
    "}"
   ]
  },
  {
   "cell_type": "markdown",
   "metadata": {},
   "source": [
    "Each key in the dictionary represents a particular type of information. The associated value is a list that represents this piece of information for each record (row) in our table. "
   ]
  },
  {
   "cell_type": "code",
   "execution_count": 14,
   "metadata": {},
   "outputs": [
    {
     "name": "stdout",
     "output_type": "stream",
     "text": [
      "['Anna', 'Beth', 'Craig', 'Drew', 'Emma']\n"
     ]
    }
   ],
   "source": [
    "print(employee_dict['Name'])"
   ]
  },
  {
   "cell_type": "markdown",
   "metadata": {},
   "source": [
    "If we want to see the information for a specific entry in the table, we can provide the same index to each of the lists stored within the dictionary. "
   ]
  },
  {
   "cell_type": "code",
   "execution_count": 15,
   "metadata": {},
   "outputs": [
    {
     "name": "stdout",
     "output_type": "stream",
     "text": [
      "EID   Name    Salary  Rank\n",
      "---------------------------------\n",
      "103   Anna    43700      2\n",
      "105   Beth    50250      1\n",
      "101   Craig   47600      1\n",
      "106   Drew    39800      2\n",
      "108   Emma    38750      3\n"
     ]
    }
   ],
   "source": [
    "print('EID   Name    Salary  Rank')\n",
    "print('---------------------------------')\n",
    "for i in range(len(employee_dict['Name'])):\n",
    "    e = employee_dict['EID'][i]\n",
    "    n = employee_dict['Name'][i] \n",
    "    s = employee_dict['Salary'][i]\n",
    "    r = employee_dict['Rank'][i]\n",
    "    \n",
    "    print(f'{e:<6}{n:<8}{s:<8}{r:>4}')\n",
    "    "
   ]
  },
  {
   "cell_type": "markdown",
   "metadata": {},
   "source": [
    "One limitation of using a dictionary in this way is that there is no convenient way to extract all of the information related to a single individual at once."
   ]
  },
  {
   "cell_type": "markdown",
   "metadata": {},
   "source": [
    "As an alternate approach to using dictionaries to store structured data, we can store individual records in dictionaries, and then collect them together into a list (or another dictionary). In the setup, we could imaging the dictionaries as representing rows in a table rather than columns. "
   ]
  },
  {
   "cell_type": "code",
   "execution_count": 16,
   "metadata": {},
   "outputs": [],
   "source": [
    "my_cats = [\n",
    "    {\n",
    "        'name':'Luna', \n",
    "        'birthplace':'State College, PA', \n",
    "        'weight':14.3, \n",
    "        'age':11, \n",
    "        'characteristics':['lazy', 'hungry', 'cranky']\n",
    "    },\n",
    "    {\n",
    "        'name':'Garbanzo', \n",
    "        'birthplace':'State College, PA',\n",
    "        'weight':8.9,\n",
    "        'age':11,\n",
    "        'characteristics':['talkative', 'friendly', 'skittish']\n",
    "    },\n",
    "    {\n",
    "        'name':'Cauchy',\n",
    "        'birthplace':'St. Louis, MO',\n",
    "        'weight':10.6,\n",
    "        'age':4,\n",
    "        'characteristics':['insane', 'destructive', 'scoundrel']\n",
    "    }\n",
    "]"
   ]
  },
  {
   "cell_type": "markdown",
   "metadata": {},
   "source": [
    "We will display the contents of the list above by looping over the dictionaries contained inside of it. We will use an f-string to print the values stored in each of the dictionaries. "
   ]
  },
  {
   "cell_type": "code",
   "execution_count": 17,
   "metadata": {},
   "outputs": [
    {
     "name": "stdout",
     "output_type": "stream",
     "text": [
      "Name        Birthplace          Weight   Age   Characteristics\n",
      "-------------------------------------------------------------------------------------\n",
      "Luna        State College, PA     14.3    11   ['lazy', 'hungry', 'cranky']\n",
      "Garbanzo    State College, PA      8.9    11   ['talkative', 'friendly', 'skittish']\n",
      "Cauchy      St. Louis, MO         10.6     4   ['insane', 'destructive', 'scoundrel']\n"
     ]
    }
   ],
   "source": [
    "print(f'{\"Name\":<12}{\"Birthplace\":<20}{\"Weight\":>6}{\"Age\":>6}   {\"Characteristics\":<10}')\n",
    "print('-'*85)\n",
    "for cat in my_cats:\n",
    "        \n",
    "    n = cat['name'] \n",
    "    b = cat['birthplace'] \n",
    "    w = cat['weight'] \n",
    "    a = cat['age'] \n",
    "    c = cat['characteristics'] \n",
    "    \n",
    "    print(f'{n:<12}{b:<20}{w:>6}{a:>6}   {str(c):<10}')\n",
    "    "
   ]
  }
 ],
 "metadata": {
  "kernelspec": {
   "display_name": "Python 3",
   "language": "python",
   "name": "python3"
  },
  "language_info": {
   "codemirror_mode": {
    "name": "ipython",
    "version": 3
   },
   "file_extension": ".py",
   "mimetype": "text/x-python",
   "name": "python",
   "nbconvert_exporter": "python",
   "pygments_lexer": "ipython3",
   "version": "3.7.1"
  }
 },
 "nbformat": 4,
 "nbformat_minor": 4
}
