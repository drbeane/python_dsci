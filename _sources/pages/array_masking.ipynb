{
 "cells": [
  {
   "cell_type": "markdown",
   "id": "1ada3f7c-2b59-4de5-814e-dd28106421e3",
   "metadata": {},
   "source": [
    "# Boolean Masking"
   ]
  },
  {
   "cell_type": "markdown",
   "id": "06283bdf-3560-4cfc-a68c-35321d46dddd",
   "metadata": {},
   "source": [
    "**Boolean masking** is a tool for creating subsets of NumPy arrays, or in other words, to **filter** arrays. Boolean masking is performed by providing an array of Boolean values to another array of the same size, as if it were an index. This returns a subset of elements of the outer array that correspond to `True` values within the Boolean array. \n",
    "\n",
    "Let's see an example. "
   ]
  },
  {
   "cell_type": "code",
   "execution_count": null,
   "id": "6b6b8184-9a68-4410-9e21-6fc05172facf",
   "metadata": {},
   "outputs": [],
   "source": [
    "boolArray = np.array([True, True, False, True, False])\n",
    "myArray = np.array([1,2,3,4,5])\n",
    "\n",
    "subArray = myArray[boolArray]\n",
    "print(subArray)"
   ]
  },
  {
   "cell_type": "markdown",
   "id": "ddc3ca4e-129d-468c-8902-3780a6dfce58",
   "metadata": {},
   "source": [
    "Since array comparisons return Boolean arrays, we can use array comparisons inside of square braces to quickly filter an array based on some criteria."
   ]
  },
  {
   "cell_type": "code",
   "execution_count": null,
   "id": "d7734d6a-2bf7-4491-b5e7-de4f6548dce4",
   "metadata": {},
   "outputs": [],
   "source": [
    "cat = np.array(['A', 'C', 'A', 'B', 'B', 'C', 'A', 'A' ,\n",
    "                'C', 'B', 'C', 'C', 'A', 'B', 'A', 'A'])\n",
    "\n",
    "val = np.array([8, 1, 3, 6, 10, 6, 12, 4,\n",
    "                6, 1, 4, 8,  5, 4, 12, 4])"
   ]
  },
  {
   "cell_type": "markdown",
   "id": "a109a17a-2c8e-4f72-9e63-e151045211b9",
   "metadata": {},
   "source": [
    "The first line of the cell below selects and displays only the elements of `val` that are greater than 6. The second line selects and displays only the elements that are less than or equal to 6. "
   ]
  },
  {
   "cell_type": "code",
   "execution_count": null,
   "id": "4c3cb642-e9cc-43ba-bd92-d56357ba3462",
   "metadata": {},
   "outputs": [],
   "source": [
    "print(val[val > 6])\n",
    "print(val[val <= 6])"
   ]
  },
  {
   "cell_type": "markdown",
   "id": "9da3cbcd-be83-45be-92fe-7f57bd0b6994",
   "metadata": {},
   "source": [
    "We can perform Boolean making using array comparisons involving the modulus operator to select elements of a list that are odd or those that are even. "
   ]
  },
  {
   "cell_type": "code",
   "execution_count": null,
   "id": "c4d67c7c-bccd-43c0-8911-6242a90e8c72",
   "metadata": {},
   "outputs": [],
   "source": [
    "print(val[val % 2 == 0])\n",
    "print(val[val % 2 != 0])"
   ]
  },
  {
   "cell_type": "markdown",
   "id": "0274d464-e887-4d4a-bcaf-0a824ca34112",
   "metadata": {},
   "source": [
    "When we are working with parallel lists, we can use comparisons involving one list to select elements out of another list. "
   ]
  },
  {
   "cell_type": "code",
   "execution_count": null,
   "id": "00ce74b2-2ab0-4293-897b-dda6a1a766f1",
   "metadata": {},
   "outputs": [],
   "source": [
    "print(val[cat == 'A'])\n",
    "print(val[cat == 'B'])\n",
    "print(val[cat == 'C'])"
   ]
  },
  {
   "cell_type": "markdown",
   "id": "2b848b60-e15f-4481-9fa5-ef5d0e8c912e",
   "metadata": {},
   "source": [
    "In the cell below, we calculate the total value for objects in each of the three categories, `A`, `B`, and `C`. "
   ]
  },
  {
   "cell_type": "code",
   "execution_count": null,
   "id": "68ee548a-3991-4683-b399-e79afbfeec7a",
   "metadata": {},
   "outputs": [],
   "source": [
    "print(np.sum(val[cat == 'A']))\n",
    "print(np.sum(val[cat == 'B']))\n",
    "print(np.sum(val[cat == 'C']))"
   ]
  },
  {
   "cell_type": "markdown",
   "id": "14bf5720-39cc-40bb-a6ed-8262f69581b2",
   "metadata": {},
   "source": [
    "## Fancy Indexing\n",
    "\n",
    "Python lists and numpy arrays both allow for basic indexing, as well as slicing. We have seen that we can also use Boolean arrays for selecting elements out of an array. Numpy provides us with one more tool for indexing that is not available in lists: **fancy indexing**. Fancy indexing refers to providing a list or array of indices to an array. This will return a subarray of elements associated with those indices, in the order determined by the indexing list/array. "
   ]
  },
  {
   "cell_type": "code",
   "execution_count": null,
   "id": "e8182bd3-56bd-4196-8ab9-e347c07d5f5e",
   "metadata": {},
   "outputs": [],
   "source": [
    "my_array = np.array([10, 20, 30, 40, 50, 60, 70, 80, 90])\n",
    "print(my_array[[6, 3, 8]])"
   ]
  }
 ],
 "metadata": {
  "kernelspec": {
   "display_name": "Python 3 (ipykernel)",
   "language": "python",
   "name": "python3"
  },
  "language_info": {
   "codemirror_mode": {
    "name": "ipython",
    "version": 3
   },
   "file_extension": ".py",
   "mimetype": "text/x-python",
   "name": "python",
   "nbconvert_exporter": "python",
   "pygments_lexer": "ipython3",
   "version": "3.8.12"
  }
 },
 "nbformat": 4,
 "nbformat_minor": 5
}
