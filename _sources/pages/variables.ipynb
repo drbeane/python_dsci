{
 "cells": [
  {
   "cell_type": "markdown",
   "metadata": {},
   "source": [
    "# Variables\n",
    "\n",
    "A **variable** can be thought of as a container or storage location for a piece of information. Every variable in Python consists of two features: a name and a value.\n",
    "\n",
    "* A variable's **value** refers to the piece of information which is stored within the variable. This could be a single number, a list of numbers, a string of characters, or some more complex type of information. \n",
    "* A variable's **name** is used to refer to the variable. We use the name of a variable to access its contents. \n",
    "\n",
    "In the first section of this chapter, we will discuss how to define a variable."
   ]
  },
  {
   "cell_type": "markdown",
   "metadata": {},
   "source": [
    "## Defining Variables\n",
    "\n",
    "We define new variables in Python using the **assignment operator**, which is represented by a single equals sign (`=`). The syntax for using the assignment operator is demonstrated in the callout below. \n",
    "\n",
    "```{admonition} Concept: Defining a Variable\n",
    "The pseudocode code below illustrates how to define a variable with a specific name and value. \n",
    "\n",
    "    Name = Value\n",
    "```\n",
    "\n",
    "Note that the name of the new variable must always appear on the left side of the assignment operator and the value to be stored in the variable must appear on the right. \n",
    "\n",
    "In the cell below, we define two new variables, `x` and `y`. "
   ]
  },
  {
   "cell_type": "code",
   "execution_count": 2,
   "metadata": {},
   "outputs": [],
   "source": [
    "x = 4\n",
    "y = 9"
   ]
  },
  {
   "cell_type": "markdown",
   "metadata": {},
   "source": [
    "After running the cell above, we will have two variables named `x` and `y` stored in memory for the duration of our Python session. Any time we reference the names of either of these variables, Python will substitute in the value contained in the variable. \n",
    "\n",
    "We can use the `print()` function to confirm that the values stored in `x` and `y` are as expected."
   ]
  },
  {
   "cell_type": "code",
   "execution_count": 3,
   "metadata": {},
   "outputs": [
    {
     "name": "stdout",
     "output_type": "stream",
     "text": [
      "4\n",
      "9\n"
     ]
    }
   ],
   "source": [
    "print(x)\n",
    "print(y)"
   ]
  },
  {
   "cell_type": "markdown",
   "metadata": {},
   "source": [
    "## Using Variables in Arithmetic Expressions\n",
    "\n",
    "We can perform arithmetic operations using variables that we have previously created. Suppose that we have created two variables `x` and `y` as shown below. "
   ]
  },
  {
   "cell_type": "code",
   "execution_count": 4,
   "metadata": {},
   "outputs": [],
   "source": [
    "x = 4\n",
    "y = 9"
   ]
  },
  {
   "cell_type": "markdown",
   "metadata": {},
   "source": [
    "We will now print the value of 2 times `x` and the value of `x` minus `y`. "
   ]
  },
  {
   "cell_type": "code",
   "execution_count": 6,
   "metadata": {},
   "outputs": [
    {
     "name": "stdout",
     "output_type": "stream",
     "text": [
      "8\n",
      "-5\n"
     ]
    }
   ],
   "source": [
    "print(2 * x)\n",
    "print(x - y)"
   ]
  },
  {
   "cell_type": "markdown",
   "metadata": {},
   "source": [
    "We can also use previously defined variables in an expression for the value when defining a new variable. \n",
    "\n",
    "In the cell below, we create a new variable `z` and set it equal to the product of `x` and `y`. "
   ]
  },
  {
   "cell_type": "code",
   "execution_count": 5,
   "metadata": {},
   "outputs": [
    {
     "name": "stdout",
     "output_type": "stream",
     "text": [
      "36\n"
     ]
    }
   ],
   "source": [
    "z = x * y\n",
    "\n",
    "print(z)"
   ]
  },
  {
   "cell_type": "markdown",
   "metadata": {},
   "source": [
    "```{admonition} Note\n",
    ":class: attention\n",
    "\n",
    "Note that the code in the cell above simply sets the value of the variabe `z` to 36. It does NOT establish a relationship between the variables `x`, `y`, and `z`. As we will see later, the value stored in a variable can be changed. If we were to change the value of either `x` or `y`, that would have no effect on the value of `z`.\n",
    "```"
   ]
  },
  {
   "cell_type": "markdown",
   "metadata": {},
   "source": [
    "Using variables in arithmetic operations does not affect the values of those variables. We will confirm this by printing the values of `x` and `y`.  "
   ]
  },
  {
   "cell_type": "code",
   "execution_count": 7,
   "metadata": {},
   "outputs": [
    {
     "name": "stdout",
     "output_type": "stream",
     "text": [
      "4\n",
      "9\n"
     ]
    }
   ],
   "source": [
    "print(x)\n",
    "print(y)"
   ]
  },
  {
   "cell_type": "markdown",
   "metadata": {},
   "source": [
    "## Changing Variable Values\n",
    "\n",
    "We can change the value of a previously created variable by simply assigning a new value to it. This is demonstrated in the cell below. "
   ]
  },
  {
   "cell_type": "code",
   "execution_count": 7,
   "metadata": {},
   "outputs": [
    {
     "name": "stdout",
     "output_type": "stream",
     "text": [
      "13\n",
      "7.5\n"
     ]
    }
   ],
   "source": [
    "a = 2 * 6 + 1\n",
    "print(a)\n",
    "\n",
    "a = 3 * 5 / 2\n",
    "print(a)"
   ]
  },
  {
   "cell_type": "markdown",
   "metadata": {},
   "source": [
    "## Self-Referential Variable Definitions\n",
    "\n",
    "We have seen that using a variable in an arithmetic operation does not affect the value of that variable. To illustrate this point, in the cell below, we will create a variable `k` and multiply it by 2 to create a new variable `c`. We will then use `print()` to confirm that the value of `k` has not been changed. "
   ]
  },
  {
   "cell_type": "code",
   "execution_count": 8,
   "metadata": {},
   "outputs": [
    {
     "name": "stdout",
     "output_type": "stream",
     "text": [
      "7\n",
      "14\n"
     ]
    }
   ],
   "source": [
    "k = 7\n",
    "c = 2*k\n",
    "\n",
    "print(k)\n",
    "print(c)"
   ]
  },
  {
   "cell_type": "markdown",
   "metadata": {},
   "source": [
    "But what if we actually did want to double the value stored in the variable `k`? It is also possible to reassign the value of a variable in such a way that its new value depends upon its previous value. In order to accomplish this, you would use the assignment operator `=` to redefine the variable, and you would use an expression involving the variable itself on the right side of the assignment operator. \n",
    "\n",
    "We demonstrate this in the cell below by creating a variable `k` and then doubling the value stored in `k`. "
   ]
  },
  {
   "cell_type": "code",
   "execution_count": 10,
   "metadata": {},
   "outputs": [
    {
     "name": "stdout",
     "output_type": "stream",
     "text": [
      "7\n",
      "14\n"
     ]
    }
   ],
   "source": [
    "k = 7\n",
    "print(k)\n",
    "\n",
    "k = 2 * k\n",
    "print(k)"
   ]
  },
  {
   "cell_type": "markdown",
   "metadata": {},
   "source": [
    "## Incrementing Variables\n",
    "\n",
    "One of the most commonly encountered ways of updating the value of a variable is to increase it by a fixed amount. This process is know as **incrementation**.\n",
    "\n",
    "In the cell below, we define a variable `n` to be equal to 5 and we then increment its value by 3. "
   ]
  },
  {
   "cell_type": "code",
   "execution_count": 11,
   "metadata": {},
   "outputs": [
    {
     "name": "stdout",
     "output_type": "stream",
     "text": [
      "5\n",
      "8\n"
     ]
    }
   ],
   "source": [
    "n = 5\n",
    "print(n)\n",
    "\n",
    "n = n + 3\n",
    "print(n)"
   ]
  },
  {
   "cell_type": "markdown",
   "metadata": {},
   "source": [
    "As you will see in examples presented later in the material, the most common number to increment a variable by is 1. In the cell below, we further increment `n` by increasing it by 1 a few times. "
   ]
  },
  {
   "cell_type": "code",
   "execution_count": 12,
   "metadata": {},
   "outputs": [
    {
     "name": "stdout",
     "output_type": "stream",
     "text": [
      "9\n",
      "10\n",
      "11\n"
     ]
    }
   ],
   "source": [
    "n = n + 1\n",
    "print(n)\n",
    "\n",
    "n = n + 1\n",
    "print(n)\n",
    "\n",
    "n = n + 1\n",
    "print(n)"
   ]
  },
  {
   "cell_type": "markdown",
   "metadata": {},
   "source": [
    "Incrementation has many practical applications in programming. It is used frequently enough that Python (as well as most other programming languages) has offered a shortcut for performing this task. Specifically, the \"plus-equals\" operator `+=` can be used to increment a variable by a certain amount. The callout below demonstrates the syntax for using this operator.\n",
    "\n",
    "```{admonition} Concept: Incrementation\n",
    "The two lines of code presented below are equivalent. Each line will result in the variable `x` being incremented by the value stored in `k`.\n",
    "\n",
    "    x = x + k\n",
    "    x += k\n",
    "```\n",
    "\n",
    "We will now demonstrate the use of the `+=` operator by defining a variable and then incrementing it by 1 a few times. "
   ]
  },
  {
   "cell_type": "code",
   "execution_count": 13,
   "metadata": {},
   "outputs": [
    {
     "name": "stdout",
     "output_type": "stream",
     "text": [
      "5\n",
      "6\n",
      "7\n",
      "8\n"
     ]
    }
   ],
   "source": [
    "i = 5        # Set initial value of i to 5. \n",
    "print(i)\n",
    "\n",
    "i += 1       # Increment i by 1.\n",
    "print(i)\n",
    "\n",
    "i += 1       # Increment i by 1.\n",
    "print(i)\n",
    "\n",
    "i += 1       # Increment i by 1.\n",
    "print(i)"
   ]
  },
  {
   "cell_type": "markdown",
   "metadata": {},
   "source": [
    "## Variable Names\n",
    "\n",
    "Up to this point, we have used simple, one-letter names for our variables. Python allows to to create longer, more descriptive names for variables. There are a few rules that need to be followed when naming a variable, however. These are described in the callout below. \n",
    "\n",
    "```{admonition} Concept: Rules for Variable Names\n",
    "A variable name in Python can be set to any sequence of characters that following rules:\n",
    "\n",
    "* Variable names can include numbers, letters (uppercase or lowercase), and underscores. \n",
    "* Variable names cannot contain spaces or any characters not mentioned above. \n",
    "* Variable names must always start with a letter or underscore. \n",
    "```\n",
    "\n",
    "In the cell below, we provide a few examples of valid variable names. "
   ]
  },
  {
   "cell_type": "code",
   "execution_count": 30,
   "metadata": {},
   "outputs": [],
   "source": [
    "var1 = 42\n",
    "var2 = 37\n",
    "this_is_a_valid_name = 2.71828\n",
    "myVariable = 3.14159"
   ]
  },
  {
   "cell_type": "markdown",
   "metadata": {},
   "source": [
    "Each of the lines of code below illustrates an attempt to define a variable using an invalid variable name. In each case, determine which rule was violated. \n",
    "\n",
    "    1var = 7\n",
    "    my variable = 3\n",
    "    thi$_is_inv@lid = 19\n",
    "\n",
    "Attempting to run any of the lines of code shown above would result in the following error: `SyntaxError: invalid syntax`"
   ]
  },
  {
   "cell_type": "markdown",
   "metadata": {},
   "source": [
    "**<font size=4>Case Sensitivity</font>**\n",
    "\n",
    "Python variable names are case sensitive. Variable names that use different cominations of uppercase and lowercase letters, but are otherwise identical will refer to different variables. For example, the three lines of code in the cell below will create three separate variables. "
   ]
  },
  {
   "cell_type": "code",
   "execution_count": 14,
   "metadata": {},
   "outputs": [],
   "source": [
    "var = 12\n",
    "Var = 45\n",
    "vAr = 139"
   ]
  },
  {
   "cell_type": "markdown",
   "metadata": {},
   "source": [
    "To confirm that the variables `var`, `Var`, and `vAr` are distinct, we will now print their values. "
   ]
  },
  {
   "cell_type": "code",
   "execution_count": 35,
   "metadata": {},
   "outputs": [
    {
     "name": "stdout",
     "output_type": "stream",
     "text": [
      "12\n",
      "45\n",
      "139\n"
     ]
    }
   ],
   "source": [
    "print(var)\n",
    "print(Var)\n",
    "print(vAr)"
   ]
  },
  {
   "cell_type": "markdown",
   "metadata": {},
   "source": [
    "```{admonition} PEP 8 Standards for Variable Names\n",
    ":class: attention\n",
    "\n",
    "While Python allows for a wide range of variable names, certain naming formats should be avoided for the sake of readability. Python community has developed a set of conventions and guidelines for writing Python code known as the PEP 8 Style Guide. This style guide covers a wide range of topics, including variable names. The PEP 8 standards adopt the following conventions for variable names:\n",
    "\n",
    "* Variable names should not include uppercase letters.\n",
    "* Variable names can be single letters, or can consist of multiple words.\n",
    "* Different words in a variable name should be separated with underscores.\n",
    "* Descriptive variable names are generally preferred. \n",
    "\n",
    "Keep in mind that the PEP 8 guidelines are conventions and not rules of the language itself. Violating these conventions will not results in errors, and there are occasions when it might make sense to name a variable in a way that violates these standards. However, it is a good idea for a Python programmer to be aware of the PEP 8 guidelines and to adhere to them when possible. \n",
    "\n",
    "You can learn more about the PEP 8 guidelines here: [How to write Beautiful Python Code with PEP 8](https://realpython.com/python-pep8/). The complete PEP 8 Style Guide can be found on the python.org site: [PEP 8 Style Guide](https://www.python.org/dev/peps/pep-0008/)\n",
    "```"
   ]
  },
  {
   "cell_type": "markdown",
   "metadata": {},
   "source": [
    "## Data Types\n",
    "\n",
    "Every value in Python has a **data type** that describes what kind of information is represented by the value. There are many different types that a value can have, but the three most basic types in Python are integers, floating-point numbers (or floats), and strings. \n",
    "\n",
    "* An **integer** is value that represents a whole number. For example: 7, 42, and 1337. \n",
    "* A **float** is a value that represents a decimal number. For example, 0.33, 3.14, and 25.1. \n",
    "* A **string** is a value that represents a piece of text. For example: `'cat'`, `'Python'`, and `'Hello World!'`.\n",
    "\n",
    "Every variable also has a data type determined by the value stored inside it. We can use the `type()` function to check the type of a variable. This is demonstrated below. "
   ]
  },
  {
   "cell_type": "code",
   "execution_count": 21,
   "metadata": {},
   "outputs": [
    {
     "name": "stdout",
     "output_type": "stream",
     "text": [
      "The type of x is: <class 'int'>\n",
      "The type of y is: <class 'float'>\n",
      "The type of z is: <class 'str'>\n"
     ]
    }
   ],
   "source": [
    "x = 17\n",
    "y = 4.3\n",
    "z = 'blah'\n",
    "\n",
    "print('The type of x is:', type(x))\n",
    "print('The type of y is:', type(y))\n",
    "print('The type of z is:', type(z))"
   ]
  },
  {
   "cell_type": "markdown",
   "metadata": {},
   "source": [
    "## Data Types and Operations\n",
    "\n",
    "The data type for a value determines the ways that the value can be used in operations. For example, since `float` and `int` are both numeric data types, Python allows use to add values of this type. On the other hand, if we try to add an `int` value and a `str` value, we will get an error. \n",
    "\n",
    "We demonstrate the addition of a `float` and an `int` in the cell below. "
   ]
  },
  {
   "cell_type": "code",
   "execution_count": 22,
   "metadata": {},
   "outputs": [
    {
     "name": "stdout",
     "output_type": "stream",
     "text": [
      "21.3\n",
      "<class 'float'>\n"
     ]
    }
   ],
   "source": [
    "x = 17\n",
    "y = 4.3\n",
    "\n",
    "u = x + y\n",
    "\n",
    "print(u)\n",
    "print(type(u))"
   ]
  },
  {
   "cell_type": "markdown",
   "metadata": {},
   "source": [
    "We will now demonstrate that adding an `int` to a `str` will result in an error. "
   ]
  },
  {
   "cell_type": "code",
   "execution_count": 23,
   "metadata": {},
   "outputs": [
    {
     "ename": "TypeError",
     "evalue": "unsupported operand type(s) for +: 'int' and 'str'",
     "output_type": "error",
     "traceback": [
      "\u001b[1;31m---------------------------------------------------------------------------\u001b[0m",
      "\u001b[1;31mTypeError\u001b[0m                                 Traceback (most recent call last)",
      "\u001b[1;32m<ipython-input-23-35cd780ac07a>\u001b[0m in \u001b[0;36m<module>\u001b[1;34m\u001b[0m\n\u001b[0;32m      2\u001b[0m \u001b[0my\u001b[0m \u001b[1;33m=\u001b[0m \u001b[1;34m\"seventeen\"\u001b[0m\u001b[1;33m\u001b[0m\u001b[1;33m\u001b[0m\u001b[0m\n\u001b[0;32m      3\u001b[0m \u001b[1;33m\u001b[0m\u001b[0m\n\u001b[1;32m----> 4\u001b[1;33m \u001b[0mw\u001b[0m \u001b[1;33m=\u001b[0m \u001b[0mx\u001b[0m \u001b[1;33m+\u001b[0m \u001b[0my\u001b[0m\u001b[1;33m\u001b[0m\u001b[1;33m\u001b[0m\u001b[0m\n\u001b[0m",
      "\u001b[1;31mTypeError\u001b[0m: unsupported operand type(s) for +: 'int' and 'str'"
     ]
    }
   ],
   "source": [
    "x = 17\n",
    "y = \"seventeen\"\n",
    "\n",
    "w = x + y"
   ]
  },
  {
   "cell_type": "markdown",
   "metadata": {},
   "source": [
    "Notice that the error above is classified as a `TypeError`. This tells us that we are trying to use one or more values in a way that is not allowed based on their types. The error message goes on to tell us that the addition operator `+` is not supported between values of type `int` and `str`. It is important to be able to interpret error messages like this since they can help you to identify the source of an error. \n",
    "\n",
    "We will discuss data types in more detail in later chapters. "
   ]
  },
  {
   "cell_type": "markdown",
   "metadata": {},
   "source": [
    "```{error}\n",
    "Add NoneType\n",
    "```"
   ]
  }
 ],
 "metadata": {
  "kernelspec": {
   "display_name": "Python 3",
   "language": "python",
   "name": "python3"
  },
  "language_info": {
   "codemirror_mode": {
    "name": "ipython",
    "version": 3
   },
   "file_extension": ".py",
   "mimetype": "text/x-python",
   "name": "python",
   "nbconvert_exporter": "python",
   "pygments_lexer": "ipython3",
   "version": "3.8.8"
  }
 },
 "nbformat": 4,
 "nbformat_minor": 4
}
