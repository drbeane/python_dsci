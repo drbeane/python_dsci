{
 "cells": [
  {
   "cell_type": "markdown",
   "metadata": {},
   "source": [
    "## Lookup Tables\n",
    "\n",
    "One common application of dictionaries is to create lookup tables. Let's say that you have several objects, and each one has a unique identifier assigned to it. Assume that your code has to frequently look up characteristics of the objects based on their identifier. This can be easily done with a dictionary. \n",
    "\n",
    "The code below illustrates how you might use a dictionary to store ID-Name pairs in a student database. "
   ]
  },
  {
   "cell_type": "code",
   "execution_count": 11,
   "metadata": {},
   "outputs": [],
   "source": [
    "student_lookup = {\n",
    "    601814: 'Brown, Mary',\n",
    "    716978: 'Green, John',\n",
    "    617945: 'Jones, Lana',\n",
    "    863794: 'Smith, Hank',\n",
    "    816773: 'Green, John'\n",
    "}"
   ]
  },
  {
   "cell_type": "markdown",
   "metadata": {},
   "source": [
    "We will now use the lookup table to find the names of two students based on their student ID numbers. "
   ]
  },
  {
   "cell_type": "code",
   "execution_count": 12,
   "metadata": {},
   "outputs": [
    {
     "name": "stdout",
     "output_type": "stream",
     "text": [
      "Jones, Lana\n",
      "Green, John\n"
     ]
    }
   ],
   "source": [
    "print(student_lookup[617945])\n",
    "print(student_lookup[816773])"
   ]
  }
 ],
 "metadata": {
  "kernelspec": {
   "display_name": "Python 3",
   "language": "python",
   "name": "python3"
  },
  "language_info": {
   "codemirror_mode": {
    "name": "ipython",
    "version": 3
   },
   "file_extension": ".py",
   "mimetype": "text/x-python",
   "name": "python",
   "nbconvert_exporter": "python",
   "pygments_lexer": "ipython3",
   "version": "3.8.5"
  }
 },
 "nbformat": 4,
 "nbformat_minor": 4
}
