{
 "cells": [
  {
   "cell_type": "markdown",
   "metadata": {},
   "source": [
    "## List Concatenation and Replication\n",
    "\n",
    "As with strings, we can use the operators `+` and `*` to concatenate and replicate lists.\n",
    "\n",
    "* When `+` appears between two lists, the expression will be evaluated as a new list that contains the elements from both lists. The elements in the list on the left of `+` will appear first, and the elements on the right will appear last.\n",
    "\n",
    "* When `*` appears between a list and an integer, the expression will be evaluated as a new list that consists of several copies of the original list concatenated together. The number of copies is set by the integer."
   ]
  },
  {
   "cell_type": "code",
   "execution_count": null,
   "metadata": {},
   "outputs": [],
   "source": [
    "letter_list = ['A', 'B', 'C']\n",
    "number_list = [1, 2, 3]\n",
    "\n",
    "print(letter_list + number_list)\n",
    "print(number_list * 4)"
   ]
  }
 ],
 "metadata": {
  "kernelspec": {
   "display_name": "Python 3",
   "language": "python",
   "name": "python3"
  },
  "language_info": {
   "codemirror_mode": {
    "name": "ipython",
    "version": 3
   },
   "file_extension": ".py",
   "mimetype": "text/x-python",
   "name": "python",
   "nbconvert_exporter": "python",
   "pygments_lexer": "ipython3",
   "version": "3.8.5"
  }
 },
 "nbformat": 4,
 "nbformat_minor": 4
}
