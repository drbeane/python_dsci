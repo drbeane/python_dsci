{
 "cells": [
  {
   "cell_type": "markdown",
   "metadata": {},
   "source": [
    "# Dictionaries\n",
    "\n",
    "Like a list, a **dictionary**, or `dict`, is a collection of values. Dictionaries consist of several **key-value** pairs. Each pair has a **key** which is used to access the **value** associated with it. The key in a dictionary is much like an index in a list, but whereas an index must be an integer, a key can be of many different data types. \n",
    "\n",
    "Dictionaries are created using the following syntax:\n",
    "\n",
    "    my_dict = {key1:value1, key2:value2, ..., keyN:valueN}"
   ]
  },
  {
   "cell_type": "markdown",
   "metadata": {},
   "source": [
    "## Basic Dictionary Operations\n",
    "\n",
    "The cell below defines a simple dictionary that is used to store salary information for employees. "
   ]
  },
  {
   "cell_type": "code",
   "execution_count": 1,
   "metadata": {},
   "outputs": [
    {
     "name": "stdout",
     "output_type": "stream",
     "text": [
      "{'Anna': 43700, 'Beth': 50250}\n"
     ]
    }
   ],
   "source": [
    "salary_dict = {'Anna':43700, 'Beth': 50250}\n",
    "\n",
    "print(salary_dict)"
   ]
  },
  {
   "cell_type": "markdown",
   "metadata": {},
   "source": [
    "We can access individual values of the dictionary using the associated keys."
   ]
  },
  {
   "cell_type": "code",
   "execution_count": 2,
   "metadata": {},
   "outputs": [
    {
     "name": "stdout",
     "output_type": "stream",
     "text": [
      "43700\n",
      "50250\n"
     ]
    }
   ],
   "source": [
    "print(salary_dict['Anna'])\n",
    "print(salary_dict['Beth'])"
   ]
  },
  {
   "cell_type": "markdown",
   "metadata": {},
   "source": [
    "We can add new key-value pairs to a dictionary as follows:"
   ]
  },
  {
   "cell_type": "code",
   "execution_count": 3,
   "metadata": {},
   "outputs": [
    {
     "name": "stdout",
     "output_type": "stream",
     "text": [
      "{'Anna': 43700, 'Beth': 50250, 'Craig': 47600, 'Drew': 37400}\n"
     ]
    }
   ],
   "source": [
    "salary_dict['Craig'] = 47600\n",
    "salary_dict['Drew'] = 37400\n",
    "\n",
    "print(salary_dict)"
   ]
  },
  {
   "cell_type": "markdown",
   "metadata": {},
   "source": [
    "We can also update values in a dictionary."
   ]
  },
  {
   "cell_type": "code",
   "execution_count": 4,
   "metadata": {},
   "outputs": [
    {
     "name": "stdout",
     "output_type": "stream",
     "text": [
      "{'Anna': 43700, 'Beth': 50250, 'Craig': 47600, 'Drew': 39800}\n"
     ]
    }
   ],
   "source": [
    "salary_dict['Drew'] = 39800\n",
    "print(salary_dict)"
   ]
  },
  {
   "cell_type": "markdown",
   "metadata": {},
   "source": [
    "We can delete entries from a dictionary using the **del** keyword. "
   ]
  },
  {
   "cell_type": "code",
   "execution_count": 5,
   "metadata": {},
   "outputs": [
    {
     "name": "stdout",
     "output_type": "stream",
     "text": [
      "{'Anna': 43700, 'Beth': 50250, 'Drew': 39800}\n"
     ]
    }
   ],
   "source": [
    "del salary_dict['Craig']\n",
    "print(salary_dict)"
   ]
  },
  {
   "cell_type": "markdown",
   "metadata": {},
   "source": [
    "We can use the `len()` function on dictionaries to determine the number of values that they contain. "
   ]
  },
  {
   "cell_type": "code",
   "execution_count": 6,
   "metadata": {},
   "outputs": [
    {
     "name": "stdout",
     "output_type": "stream",
     "text": [
      "3\n"
     ]
    }
   ],
   "source": [
    "print(len(salary_dict))"
   ]
  }
 ],
 "metadata": {
  "kernelspec": {
   "display_name": "Python 3",
   "language": "python",
   "name": "python3"
  },
  "language_info": {
   "codemirror_mode": {
    "name": "ipython",
    "version": 3
   },
   "file_extension": ".py",
   "mimetype": "text/x-python",
   "name": "python",
   "nbconvert_exporter": "python",
   "pygments_lexer": "ipython3",
   "version": "3.8.5"
  }
 },
 "nbformat": 4,
 "nbformat_minor": 4
}
