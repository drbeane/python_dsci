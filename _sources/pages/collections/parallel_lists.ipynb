{
 "cells": [
  {
   "cell_type": "markdown",
   "metadata": {},
   "source": [
    "## Working with Data Stored in Parallel Lists\n",
    "\n",
    "Occasionally, we will need to use multiple lists to store different types of data collected for several people or objects. When doing so, the lists are typically created so that entries of different lists at the same position provide different pieces of information all relating to the same entity. \n",
    "\n",
    "As an example, the cell below creates a list `names` that contains the names of 10 people as well as a list called `ages` that stores the ages of the same 10 people. The two lists correspond in the sense that for each index `i`, the age of the person with name `name[i]` is equal to `age[i]`."
   ]
  },
  {
   "cell_type": "code",
   "execution_count": null,
   "metadata": {},
   "outputs": [],
   "source": [
    "names = ['Ivan', 'Dawn', 'Eric', 'Fred', 'Anna', 'Beth', 'Chad', 'Judy', 'Gary', 'Hana']\n",
    "ages = [19, 61, 56, 26, 40, 38, 49, 57, 17, 13]"
   ]
  },
  {
   "cell_type": "markdown",
   "metadata": {},
   "source": [
    "When we store data in \"parallel\" lists, Python will not be aware that the lists are meant to be related. The `index()` method can be useful for working with lists of this type. \n",
    "\n",
    "Assume that we wish to determine the names and ages of the youngest and oldest people in these lists. We could certainly get the answer by manually inspecting the contents of the list, but that would be tedious to do if the lists were very long. The `index()` method can be used to develop a programmatic solution to this task. \n",
    "\n",
    "In the cell below, we will write code to obtain and print the following information:\n",
    "\n",
    "* The name, age, and index for the youngest individual whose information is stored in the lists.\n",
    "* The name, age, and index for the oldest individual whose information is stored in the lists."
   ]
  },
  {
   "cell_type": "code",
   "execution_count": null,
   "metadata": {},
   "outputs": [],
   "source": [
    "# Obtain information about youngest person.\n",
    "min_age = min(ages)\n",
    "idx_min = ages.index(min_age)\n",
    "min_name = names[idx_min]\n",
    "\n",
    "# Obtain information about oldest person.\n",
    "max_age = max(ages)\n",
    "idx_max = ages.index(max_age)\n",
    "max_name = names[idx_max]\n",
    "\n",
    "# Print results.\n",
    "print('The youngest person is ', min_name, '. Their age is ', min_age, \n",
    "      '. Their information is stored at index ', idx_min, '.', sep='')\n",
    "\n",
    "print('The oldest person is ', max_name, '. Their age is ', max_age, \n",
    "      '. Their information is stored at index ', idx_max, '.', sep='')"
   ]
  }
 ],
 "metadata": {
  "kernelspec": {
   "display_name": "Python 3",
   "language": "python",
   "name": "python3"
  },
  "language_info": {
   "codemirror_mode": {
    "name": "ipython",
    "version": 3
   },
   "file_extension": ".py",
   "mimetype": "text/x-python",
   "name": "python",
   "nbconvert_exporter": "python",
   "pygments_lexer": "ipython3",
   "version": "3.8.5"
  }
 },
 "nbformat": 4,
 "nbformat_minor": 4
}
