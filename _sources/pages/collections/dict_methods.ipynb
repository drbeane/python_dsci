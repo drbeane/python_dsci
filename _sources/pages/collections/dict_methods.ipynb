{
 "cells": [
  {
   "cell_type": "markdown",
   "metadata": {},
   "source": [
    "## Dictionary Methods\n",
    "\n",
    "Each dictionary come equipped with methods that can be used to access its keys, its values, or both. We will now explore each of the following methods:\n",
    "\n",
    "* The `keys()` method of a dictionary returns a collection of the keys for items that dictionary. \n",
    "* The `values()` method of a dictionary returns a collection of the values for items in that dictionary. \n",
    "* The `items()` method of a dictionary returns a collection of the key/value tuples for items in that dictionary. \n",
    "\n",
    "We will illustrate the use of these methods in the cell below. "
   ]
  },
  {
   "cell_type": "markdown",
   "metadata": {},
   "source": [
    "Dictionary elements are not ordered, and so dictionaries don't allow for slicing. You can, however, loop over the elements of a dictionary. "
   ]
  },
  {
   "cell_type": "code",
   "execution_count": 7,
   "metadata": {},
   "outputs": [
    {
     "name": "stdout",
     "output_type": "stream",
     "text": [
      "dict_keys(['Anna', 'Beth', 'Drew'])\n",
      "dict_values([43700, 50250, 39800])\n",
      "dict_items([('Anna', 43700), ('Beth', 50250), ('Drew', 39800)])\n"
     ]
    }
   ],
   "source": [
    "print(salary_dict.keys())\n",
    "print(salary_dict.values())\n",
    "print(salary_dict.items())"
   ]
  },
  {
   "cell_type": "markdown",
   "metadata": {},
   "source": [
    "The objects returned by the `keys()`, `values()`, and `items()` methods are not lists. Each method instead returns an object with a type specific to that function (`dict_keys`, `dict_values`, and `dict_items`). We can convert these objects to list using the `list()` function, if necessary. We can also use a for loop to iterate over these objects without first converting them to lists. \n",
    "\n",
    "In the cell below, the `values()` in a loop to display the values stored in our dictionary. "
   ]
  },
  {
   "cell_type": "code",
   "execution_count": 8,
   "metadata": {},
   "outputs": [
    {
     "name": "stdout",
     "output_type": "stream",
     "text": [
      "43700\n",
      "50250\n",
      "39800\n"
     ]
    }
   ],
   "source": [
    "for v in salary_dict.values():\n",
    "    print(v)"
   ]
  },
  {
   "cell_type": "markdown",
   "metadata": {},
   "source": [
    "The `values()` method gives us no way of accessing the keys associated with individual values. If we want to display both keys and values, we can use `keys()`  in a loop to iterate over the keys, displaying each key along with the value associated with it. We display the results using an f-string. "
   ]
  },
  {
   "cell_type": "code",
   "execution_count": 9,
   "metadata": {},
   "outputs": [
    {
     "name": "stdout",
     "output_type": "stream",
     "text": [
      "Anna: 43700\n",
      "Beth: 50250\n",
      "Drew: 39800\n"
     ]
    }
   ],
   "source": [
    "for k in salary_dict.keys():\n",
    "    print(f'{k}: {salary_dict[k]}')"
   ]
  },
  {
   "cell_type": "markdown",
   "metadata": {},
   "source": [
    "We can obtain the same results as above by instead using the `items()` method. When iterate over the dictionary items, we are provided a tuple of key values pairs at each step. We can unpack this tuple into separate variables. This saves us from having to use the keys to look up the associated values. "
   ]
  },
  {
   "cell_type": "code",
   "execution_count": 10,
   "metadata": {},
   "outputs": [
    {
     "name": "stdout",
     "output_type": "stream",
     "text": [
      "Anna: 43700\n",
      "Beth: 50250\n",
      "Drew: 39800\n"
     ]
    }
   ],
   "source": [
    "for k, v in salary_dict.items():\n",
    "    print(f'{k}: {v}')"
   ]
  }
 ],
 "metadata": {
  "kernelspec": {
   "display_name": "Python 3",
   "language": "python",
   "name": "python3"
  },
  "language_info": {
   "codemirror_mode": {
    "name": "ipython",
    "version": 3
   },
   "file_extension": ".py",
   "mimetype": "text/x-python",
   "name": "python",
   "nbconvert_exporter": "python",
   "pygments_lexer": "ipython3",
   "version": "3.8.5"
  }
 },
 "nbformat": 4,
 "nbformat_minor": 4
}
