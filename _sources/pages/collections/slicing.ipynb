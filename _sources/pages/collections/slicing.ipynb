{
 "cells": [
  {
   "cell_type": "markdown",
   "metadata": {},
   "source": [
    "# Slicing Lists\n",
    "\n",
    "Occasionally, we will need to need to work with a portion of a list, rather than the entire list. **Slicing** is a method of creating a sublist of consecutive elements drawn from another list. \n",
    "Assume that `myList` is a Python list, and let `i` and `j` be integers. \n",
    "* `myList[i:j]` will generate a sublist of `myList` that begins with the element at index `i` and contains all elements up to **but not including** the element at index `j`.  \n",
    "* `myList[i:]` will generate a sublist of `myList` that begins with the element at index `i` and contains all later elements. \n",
    "* `myList[:j]` will generate a sublist of `myList` that contains all elements up to **but not including** the element at index `j`."
   ]
  },
  {
   "cell_type": "code",
   "execution_count": null,
   "metadata": {
    "scrolled": true
   },
   "outputs": [],
   "source": [
    "# Simple Slicing Example\n",
    "simpleList = [0, 2, 4, 6, 8, 10, 12, 14, 16, 18, 20]\n",
    "\n",
    "print(simpleList[3:7])\n",
    "print(simpleList[5:])\n",
    "print(simpleList[:8])"
   ]
  },
  {
   "cell_type": "markdown",
   "metadata": {},
   "source": [
    "We can also use negative indices when specifying a slice of a list."
   ]
  },
  {
   "cell_type": "code",
   "execution_count": null,
   "metadata": {
    "scrolled": true
   },
   "outputs": [],
   "source": [
    "# Print the last 6 elements of simpleList\n",
    "print(simpleList[-6:])"
   ]
  },
  {
   "cell_type": "code",
   "execution_count": null,
   "metadata": {
    "scrolled": true
   },
   "outputs": [],
   "source": [
    "# Print all but the first two and last two elements of simpleList\n",
    "print(simpleList[2:-2])"
   ]
  },
  {
   "cell_type": "markdown",
   "metadata": {},
   "source": [
    "## Example: Quarterly Sales\n",
    "\n",
    "CompCo is an company that manufactures laptop computers. The list `sales` below provides CompCo's total monthly sales for each month of 2016, measured in US dollars. The results are listed in order of month. "
   ]
  },
  {
   "cell_type": "code",
   "execution_count": null,
   "metadata": {},
   "outputs": [],
   "source": [
    "sales = [52353, 43724, 32191, 34914, 44671, 37139, 49341, \n",
    "         57139, 55104, 45193, 52167, 61294]"
   ]
  },
  {
   "cell_type": "markdown",
   "metadata": {},
   "source": [
    "CompCo needs to calculate their quarterly sales for each quarter in 2016. \n",
    "\n",
    "Define four new variables Q1, Q2, Q3, and Q4 in the next cell. \n",
    "* Q1 contains the total sales for Quarter 1 (January, February, March).\n",
    "* Q2 contains the total sales for Quarter 2 (April, May, June).\n",
    "* Q3 contains the total sales for Quarter 3 (July, August, September).\n",
    "* Q4 contains the total sales for Quarter 4 (October, November, December). \n",
    "\n",
    "Use a combination of slicing and the `sum()` function. "
   ]
  },
  {
   "cell_type": "code",
   "execution_count": null,
   "metadata": {},
   "outputs": [],
   "source": [
    "Q1 = sum(sales[0:3])\n",
    "Q2 = sum(sales[3:6])\n",
    "Q3 = sum(sales[6:9])\n",
    "Q4 = sum(sales[9:])"
   ]
  },
  {
   "cell_type": "markdown",
   "metadata": {},
   "source": [
    "Print the variables Q1, Q2, Q3, and Q4. "
   ]
  },
  {
   "cell_type": "code",
   "execution_count": null,
   "metadata": {},
   "outputs": [],
   "source": [
    "print(Q1)\n",
    "print(Q2)\n",
    "print(Q3)\n",
    "print(Q4)"
   ]
  }
 ],
 "metadata": {
  "kernelspec": {
   "display_name": "Python 3",
   "language": "python",
   "name": "python3"
  },
  "language_info": {
   "codemirror_mode": {
    "name": "ipython",
    "version": 3
   },
   "file_extension": ".py",
   "mimetype": "text/x-python",
   "name": "python",
   "nbconvert_exporter": "python",
   "pygments_lexer": "ipython3",
   "version": "3.8.5"
  }
 },
 "nbformat": 4,
 "nbformat_minor": 4
}
