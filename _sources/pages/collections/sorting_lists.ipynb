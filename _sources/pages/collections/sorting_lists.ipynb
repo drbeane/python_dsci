{
 "cells": [
  {
   "cell_type": "markdown",
   "metadata": {},
   "source": [
    "# Sorting Lists\n",
    "\n",
    "Python provides us with a few tools for sorting and reordering the elements of a list. In this section, we will discuss the following functions: the `sorted()` function, the `sort()` method, and the `reverse()` method.\n",
    "\n",
    "## sorted() Function\n",
    "\n",
    "We can use `sorted()` to obtain a sorted version of the list. Note that this does not alter the order of the original list. It creates list which contains the same elements of the original list, but in sorted order. We can then store this new list in a variable, print it, or provide it to another function.\n",
    " "
   ]
  },
  {
   "cell_type": "code",
   "execution_count": null,
   "metadata": {},
   "outputs": [],
   "source": [
    "listA = [6, 9, 1, 4, 7, 3, 6, 4, 5, 2]\n",
    "listA_asc = sorted(listA)\n",
    "\n",
    "print('Sorted List:  ', listA_asc)\n",
    "print('Original List:', listA)"
   ]
  },
  {
   "cell_type": "markdown",
   "metadata": {},
   "source": [
    "The `sorted()` function sorts items in ascending order by default. We can change this behavior by setting an optional parameter named `reverse`. This parameter accepts a Boolean value, and is set equal to `False` by default. If `reverse` is set to `True`, then the list will be sorted in descending order."
   ]
  },
  {
   "cell_type": "code",
   "execution_count": null,
   "metadata": {},
   "outputs": [],
   "source": [
    "listA_desc = sorted(listA, reverse=True)\n",
    "\n",
    "print('Sorted List:  ', listA_desc)\n",
    "print('Original List:', listA)"
   ]
  },
  {
   "cell_type": "markdown",
   "metadata": {},
   "source": [
    "## The sort() Method\n",
    "\n",
    "As mentioned above, the `sorted()` function does not alter the order of the original list, but instead creates a new list. There are occasions when we only intend to work with a sorted version of the list, and would thus perfer to perform the sort on the original list itself, rather than creating a new list. One option would be to use `sorted()`, and then store the results back into the variable that held the original list. However, a simpler approach would be to use the `sort()` list method.\n",
    "\n",
    "The `sort()` method for lists will sort the elements of a list in ascending order. The method does not create any new lists, but instead rearranges the elements of the orignal list. This is referred to as \"in place\" sorting."
   ]
  },
  {
   "cell_type": "code",
   "execution_count": null,
   "metadata": {},
   "outputs": [],
   "source": [
    "listB = [6, 9, 1, 4, 7, 3, 6, 4, 5, 2]\n",
    "listB.sort()\n",
    "print(listB)"
   ]
  },
  {
   "cell_type": "markdown",
   "metadata": {},
   "source": [
    "Like the `sorted()` function, the `sort()` method has an optional `reverse` parameter that can be used to sort the list in descending order."
   ]
  },
  {
   "cell_type": "code",
   "execution_count": null,
   "metadata": {},
   "outputs": [],
   "source": [
    "listC = [6, 9, 1, 4, 7, 3, 6, 4, 5, 2]\n",
    "listC.sort(reverse=True)\n",
    "print(listC)"
   ]
  },
  {
   "cell_type": "markdown",
   "metadata": {},
   "source": [
    "## sorted() vs sort()\n",
    "\n",
    "The fact that `sort()` performs an in-place sort while `sorted()` creates a new list illustrates a difference between methods and lists. Methods can have permission to directly alter the value of the object that they are working on, while other types of function generally do not.\n",
    "\n",
    "You might be asking how to decide which of these sorting functions to use if you need to sort a list. The answer essentially boils down to whether or not you need to preserve the original list, or if you only intend to ever work with the sorted version of the list. If you need need to preserve the original order, then you should sort using `sorted()`. However, if don't need the original ordering and will only work with the sorted version of the list, then you should use `sort()`.\n",
    "\n",
    "### The reverse() Method\n",
    "Lists also have a `reverse()` method when reverses the order of a list. This re-ordering is performed on the elements of the original list, and does not create any new lists. That is, it is done \"in place\"."
   ]
  },
  {
   "cell_type": "code",
   "execution_count": null,
   "metadata": {},
   "outputs": [],
   "source": [
    "listD = [6, 9, 1, 4, 7, 3, 6, 4, 5, 2]\n",
    "listD.reverse()\n",
    "print(listD)"
   ]
  },
  {
   "cell_type": "markdown",
   "metadata": {},
   "source": [
    "Note that `reverse()` does not sort the list in descending order. It simply reverses the current order of the list. We saw previously that we can obtain an in-place sort of a list in descending order by specifying `reverse=True` when using the `sort()` method. We could also call the `sort()` method on a list to first sort the list in ascending order, and then call the `reverse()` method on the list to put the list into descending order. However, this would require two lines of code. We illustrate this technique in the cell below. "
   ]
  },
  {
   "cell_type": "code",
   "execution_count": null,
   "metadata": {},
   "outputs": [],
   "source": [
    "listE = [6, 9, 1, 4, 7, 3, 6, 4, 5, 2]\n",
    "listE.sort()\n",
    "listE.reverse()\n",
    "print(listE)"
   ]
  }
 ],
 "metadata": {
  "kernelspec": {
   "display_name": "Python 3",
   "language": "python",
   "name": "python3"
  },
  "language_info": {
   "codemirror_mode": {
    "name": "ipython",
    "version": 3
   },
   "file_extension": ".py",
   "mimetype": "text/x-python",
   "name": "python",
   "nbconvert_exporter": "python",
   "pygments_lexer": "ipython3",
   "version": "3.8.5"
  }
 },
 "nbformat": 4,
 "nbformat_minor": 4
}
