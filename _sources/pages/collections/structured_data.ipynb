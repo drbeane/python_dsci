{
 "cells": [
  {
   "cell_type": "markdown",
   "metadata": {},
   "source": [
    "## Using Dictionaries to Store Structured Data\n",
    "\n",
    "The values in a dictionary can be lists. This is convenient if we would like use a dictionary to store records of some type. In this case, we can imagine the keys of the dictionary as indicating columns in a table. "
   ]
  },
  {
   "cell_type": "code",
   "execution_count": 13,
   "metadata": {},
   "outputs": [],
   "source": [
    "employee_dict = {\n",
    "    'EID': [103, 105, 101, 106, 108],\n",
    "    'Name': ['Anna', 'Beth', 'Craig', 'Drew', 'Emma'],\n",
    "    'Salary': [43700, 50250, 47600, 39800, 38750],\n",
    "    'Rank': [2, 1, 1, 2, 3]\n",
    "}"
   ]
  },
  {
   "cell_type": "markdown",
   "metadata": {},
   "source": [
    "Each key in the dictionary represents a particular type of information. The associated value is a list that represents this piece of information for each record (row) in our table. "
   ]
  },
  {
   "cell_type": "code",
   "execution_count": 14,
   "metadata": {},
   "outputs": [
    {
     "name": "stdout",
     "output_type": "stream",
     "text": [
      "['Anna', 'Beth', 'Craig', 'Drew', 'Emma']\n"
     ]
    }
   ],
   "source": [
    "print(employee_dict['Name'])"
   ]
  },
  {
   "cell_type": "markdown",
   "metadata": {},
   "source": [
    "If we want to see the information for a specific entry in the table, we can provide the same index to each of the lists stored within the dictionary. "
   ]
  },
  {
   "cell_type": "code",
   "execution_count": 15,
   "metadata": {},
   "outputs": [
    {
     "name": "stdout",
     "output_type": "stream",
     "text": [
      "EID   Name    Salary  Rank\n",
      "---------------------------------\n",
      "103   Anna    43700      2\n",
      "105   Beth    50250      1\n",
      "101   Craig   47600      1\n",
      "106   Drew    39800      2\n",
      "108   Emma    38750      3\n"
     ]
    }
   ],
   "source": [
    "print('EID   Name    Salary  Rank')\n",
    "print('---------------------------------')\n",
    "for i in range(len(employee_dict['Name'])):\n",
    "    e = employee_dict['EID'][i]\n",
    "    n = employee_dict['Name'][i] \n",
    "    s = employee_dict['Salary'][i]\n",
    "    r = employee_dict['Rank'][i]\n",
    "    \n",
    "    print(f'{e:<6}{n:<8}{s:<8}{r:>4}')\n",
    "    "
   ]
  },
  {
   "cell_type": "markdown",
   "metadata": {},
   "source": [
    "One limitation of using a dictionary in this way is that there is no convenient way to extract all of the information related to a single individual at once."
   ]
  },
  {
   "cell_type": "markdown",
   "metadata": {},
   "source": [
    "As an alternate approach to using dictionaries to store structured data, we can store individual records in dictionaries, and then collect them together into a list (or another dictionary). In the setup, we could imaging the dictionaries as representing rows in a table rather than columns. "
   ]
  },
  {
   "cell_type": "code",
   "execution_count": 16,
   "metadata": {},
   "outputs": [],
   "source": [
    "my_cats = [\n",
    "    {\n",
    "        'name':'Luna', \n",
    "        'birthplace':'State College, PA', \n",
    "        'weight':14.3, \n",
    "        'age':11, \n",
    "        'characteristics':['lazy', 'hungry', 'cranky']\n",
    "    },\n",
    "    {\n",
    "        'name':'Garbanzo', \n",
    "        'birthplace':'State College, PA',\n",
    "        'weight':8.9,\n",
    "        'age':11,\n",
    "        'characteristics':['talkative', 'friendly', 'skittish']\n",
    "    },\n",
    "    {\n",
    "        'name':'Cauchy',\n",
    "        'birthplace':'St. Louis, MO',\n",
    "        'weight':10.6,\n",
    "        'age':4,\n",
    "        'characteristics':['insane', 'destructive', 'scoundrel']\n",
    "    }\n",
    "]"
   ]
  },
  {
   "cell_type": "markdown",
   "metadata": {},
   "source": [
    "We will display the contents of the list above by looping over the dictionaries contained inside of it. We will use an f-string to print the values stored in each of the dictionaries. "
   ]
  },
  {
   "cell_type": "code",
   "execution_count": 17,
   "metadata": {},
   "outputs": [
    {
     "name": "stdout",
     "output_type": "stream",
     "text": [
      "Name        Birthplace          Weight   Age   Characteristics\n",
      "-------------------------------------------------------------------------------------\n",
      "Luna        State College, PA     14.3    11   ['lazy', 'hungry', 'cranky']\n",
      "Garbanzo    State College, PA      8.9    11   ['talkative', 'friendly', 'skittish']\n",
      "Cauchy      St. Louis, MO         10.6     4   ['insane', 'destructive', 'scoundrel']\n"
     ]
    }
   ],
   "source": [
    "print(f'{\"Name\":<12}{\"Birthplace\":<20}{\"Weight\":>6}{\"Age\":>6}   {\"Characteristics\":<10}')\n",
    "print('-'*85)\n",
    "for cat in my_cats:\n",
    "        \n",
    "    n = cat['name'] \n",
    "    b = cat['birthplace'] \n",
    "    w = cat['weight'] \n",
    "    a = cat['age'] \n",
    "    c = cat['characteristics'] \n",
    "    \n",
    "    print(f'{n:<12}{b:<20}{w:>6}{a:>6}   {str(c):<10}')\n",
    "    "
   ]
  }
 ],
 "metadata": {
  "kernelspec": {
   "display_name": "Python 3",
   "language": "python",
   "name": "python3"
  },
  "language_info": {
   "codemirror_mode": {
    "name": "ipython",
    "version": 3
   },
   "file_extension": ".py",
   "mimetype": "text/x-python",
   "name": "python",
   "nbconvert_exporter": "python",
   "pygments_lexer": "ipython3",
   "version": "3.8.5"
  }
 },
 "nbformat": 4,
 "nbformat_minor": 4
}
