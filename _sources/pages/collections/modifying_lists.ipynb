{
 "cells": [
  {
   "cell_type": "markdown",
   "metadata": {},
   "source": [
    "# Altering Lists\n",
    "\n",
    "The elements of a list can be altered after the list has been created. We can make changes to the elements of a list in the following ways:\n",
    "\n",
    "1. **Updating elements** We can replace the value stored at a particular index with any other value. \n",
    "2. **Adding elements** We can insert new elements into a list at any position that we choose. \n",
    "3. **Removing elements** We can delete any element from a list. \n",
    "\n",
    "We illustrated each of these concepts below."
   ]
  },
  {
   "cell_type": "code",
   "execution_count": null,
   "metadata": {},
   "outputs": [],
   "source": [
    "# Define the list Fruit.\n",
    "Fruit = ['apple', 'ornge', 'lemon', 'grap', 'peach']\n",
    "print(Fruit)"
   ]
  },
  {
   "cell_type": "markdown",
   "metadata": {},
   "source": [
    "### Modifying elements of a list\n",
    "Two of the elements in our list were misspelled. We will replace these elements with correctly spelled entries."
   ]
  },
  {
   "cell_type": "code",
   "execution_count": null,
   "metadata": {},
   "outputs": [],
   "source": [
    "Fruit[1] = 'orange'\n",
    "Fruit[3] = 'grape'\n",
    "print(Fruit)"
   ]
  },
  {
   "cell_type": "markdown",
   "metadata": {},
   "source": [
    "### Inserting elements into a list\n",
    "The `insert()` list method allows us to add elements to a list at a specified position. Any elements whose previous indices were  greater than or equal to the index of the newly inserted element will be pushed back one position. "
   ]
  },
  {
   "cell_type": "code",
   "execution_count": null,
   "metadata": {},
   "outputs": [],
   "source": [
    "# Insert plum as the second element of the list.\n",
    "Fruit.insert(1, 'plum')\n",
    "print(Fruit)"
   ]
  },
  {
   "cell_type": "code",
   "execution_count": null,
   "metadata": {},
   "outputs": [],
   "source": [
    "# Insert lime as the fifth element of the list.\n",
    "Fruit.insert(4, 'lime')\n",
    "print(Fruit)"
   ]
  },
  {
   "cell_type": "markdown",
   "metadata": {},
   "source": [
    "### Appending elements to a list\n",
    "The `append()` method is similar to `insert()`, except that no position is specified. Appended elements are always added to the end of the list. "
   ]
  },
  {
   "cell_type": "code",
   "execution_count": null,
   "metadata": {},
   "outputs": [],
   "source": [
    "# Add strawberry and raspberry to the end of the Fruit list.\n",
    "Fruit.append('strawberry')\n",
    "Fruit.append('raspberry')\n",
    "print(Fruit)"
   ]
  },
  {
   "cell_type": "markdown",
   "metadata": {},
   "source": [
    "### Deleting list elements by index\n",
    "We may use the `del` keyword to delete the element of a list at a certain index."
   ]
  },
  {
   "cell_type": "code",
   "execution_count": null,
   "metadata": {},
   "outputs": [],
   "source": [
    "# Delete the third element of the Fruit list.\n",
    "del Fruit[2]\n",
    "print(Fruit)"
   ]
  },
  {
   "cell_type": "markdown",
   "metadata": {},
   "source": [
    "Keep in mind that once an element is deleted (or inserted), all later elements will have their indices updated."
   ]
  },
  {
   "cell_type": "code",
   "execution_count": null,
   "metadata": {},
   "outputs": [],
   "source": [
    "# Delete the first two elements of the Fruit list.\n",
    "del Fruit[0]\n",
    "del Fruit[0]\n",
    "print(Fruit)"
   ]
  },
  {
   "cell_type": "markdown",
   "metadata": {},
   "source": [
    "### Deleting list elements by value\n",
    "\n",
    "The `remove()` method will search through a list and remove the first element that matches the supplied argument. If there are multiple elements equal to the given argument, only the one with the lowest index will be deleted."
   ]
  },
  {
   "cell_type": "code",
   "execution_count": null,
   "metadata": {},
   "outputs": [],
   "source": [
    "# Remove the first instance of peach from the list.\n",
    "Fruit.remove('peach')\n",
    "print(Fruit)"
   ]
  },
  {
   "cell_type": "code",
   "execution_count": null,
   "metadata": {},
   "outputs": [],
   "source": [
    "# Add a second lime element to the end of the list.\n",
    "Fruit.append('lime')\n",
    "print(Fruit)"
   ]
  },
  {
   "cell_type": "code",
   "execution_count": null,
   "metadata": {},
   "outputs": [],
   "source": [
    "# Remove the first instance of lime from the list. \n",
    "Fruit.remove('lime')\n",
    "print(Fruit)"
   ]
  },
  {
   "cell_type": "markdown",
   "metadata": {},
   "source": [
    "## Example: Altering Lists\n",
    "\n",
    "\n",
    "A list of integers is defined in the next cell. Perform the requested tasks on this list."
   ]
  },
  {
   "cell_type": "code",
   "execution_count": null,
   "metadata": {},
   "outputs": [],
   "source": [
    "intList = [3, 11, 45, 14, 47, 18, 42, 41, 20, 13, 33, 6]"
   ]
  },
  {
   "cell_type": "markdown",
   "metadata": {},
   "source": [
    "Update the element whose value is 18 to have a value of 28. Print `intList`."
   ]
  },
  {
   "cell_type": "code",
   "execution_count": null,
   "metadata": {},
   "outputs": [],
   "source": [
    "intList[5] = 28\n",
    "print(intList)"
   ]
  },
  {
   "cell_type": "markdown",
   "metadata": {},
   "source": [
    "Insert an element with a value of 42 between the elements whose values are 20 and 13. Print `intList`."
   ]
  },
  {
   "cell_type": "code",
   "execution_count": null,
   "metadata": {},
   "outputs": [],
   "source": [
    "intList.insert(9, 42)\n",
    "print(intList)"
   ]
  },
  {
   "cell_type": "markdown",
   "metadata": {},
   "source": [
    "Use the `append()` method to add an element with a value of 34 to the end of the list. Print `intList`."
   ]
  },
  {
   "cell_type": "code",
   "execution_count": null,
   "metadata": {},
   "outputs": [],
   "source": [
    "intList.append(34)\n",
    "print(intList)"
   ]
  },
  {
   "cell_type": "markdown",
   "metadata": {},
   "source": [
    "Use the `remove()` method to delete the first occurence of 42 in the list. Print `intList`."
   ]
  },
  {
   "cell_type": "code",
   "execution_count": null,
   "metadata": {},
   "outputs": [],
   "source": [
    "intList.remove(42)\n",
    "print(intList)"
   ]
  },
  {
   "cell_type": "markdown",
   "metadata": {},
   "source": [
    "Use the `del` keyword to delete the first three elements of `intList`. Print `intList`."
   ]
  },
  {
   "cell_type": "code",
   "execution_count": null,
   "metadata": {},
   "outputs": [],
   "source": [
    "del intList[0]\n",
    "del intList[0]\n",
    "del intList[0]\n",
    "print(intList)"
   ]
  },
  {
   "cell_type": "markdown",
   "metadata": {},
   "source": [
    "The output of the last cell should be: [14, 47, 28, 41, 20, 42, 13, 33, 6, 34]\n"
   ]
  }
 ],
 "metadata": {
  "kernelspec": {
   "display_name": "Python 3",
   "language": "python",
   "name": "python3"
  },
  "language_info": {
   "codemirror_mode": {
    "name": "ipython",
    "version": 3
   },
   "file_extension": ".py",
   "mimetype": "text/x-python",
   "name": "python",
   "nbconvert_exporter": "python",
   "pygments_lexer": "ipython3",
   "version": "3.8.5"
  }
 },
 "nbformat": 4,
 "nbformat_minor": 4
}
