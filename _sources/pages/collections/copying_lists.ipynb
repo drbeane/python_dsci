{
 "cells": [
  {
   "cell_type": "markdown",
   "metadata": {},
   "source": [
    "# Copying Lists\n",
    "\n",
    "Assume that `var1` is a variables of type `int`, `float`, `str`, or `bool`. We have seen before that if we create a new variable `var2` and set its initial value to be equal to that of `var1`, then `var2` will initially contain the same value as `var1`, but will be its own distinct variable whose value can be changed independent of `var1`. This is illustrated in the following two cells. "
   ]
  },
  {
   "cell_type": "code",
   "execution_count": null,
   "metadata": {},
   "outputs": [],
   "source": [
    "var1 = 37\n",
    "var2 = var1 \n",
    "print(var1)\n",
    "print(var2)"
   ]
  },
  {
   "cell_type": "code",
   "execution_count": null,
   "metadata": {},
   "outputs": [],
   "source": [
    "var2 = \"blah\"\n",
    "print(var1)\n",
    "print(var2)"
   ]
  },
  {
   "cell_type": "markdown",
   "metadata": {},
   "source": [
    "The situation is different for lists, however. If we have a list called `list1` and we set `list2` to be equal to `list1`, then `list1` and `list2` will be two different names of the same list. Any changes made to `list1` will also effect `list2` and vice versa."
   ]
  },
  {
   "cell_type": "code",
   "execution_count": null,
   "metadata": {},
   "outputs": [],
   "source": [
    "list1 = [3, 8, 2]\n",
    "list2 = list1\n",
    "print(list1)\n",
    "print(list2)"
   ]
  },
  {
   "cell_type": "code",
   "execution_count": null,
   "metadata": {},
   "outputs": [],
   "source": [
    "list2.append(37)\n",
    "print(list1)\n",
    "print(list2)"
   ]
  },
  {
   "cell_type": "markdown",
   "metadata": {},
   "source": [
    "What if we want to actually create a new, entirely separate, copy of an already existing list? It turns out that Python provides two ways of doing a such. \n",
    "1. We may use the `copy()` method of the list that we wish to duplicate.\n",
    "2. We can return a copy of a list by using slicing. \n",
    "\n",
    "Let's see first see how to duplicate a list using the `copy()` method."
   ]
  },
  {
   "cell_type": "code",
   "execution_count": null,
   "metadata": {
    "scrolled": true
   },
   "outputs": [],
   "source": [
    "dup1 = list1.copy()\n",
    "print(list1)\n",
    "print(dup1)"
   ]
  },
  {
   "cell_type": "code",
   "execution_count": null,
   "metadata": {},
   "outputs": [],
   "source": [
    "dup1.append(42)\n",
    "print(list1)\n",
    "print(dup1)"
   ]
  },
  {
   "cell_type": "markdown",
   "metadata": {},
   "source": [
    "We will now see how to duplicate a list by using slicing. "
   ]
  },
  {
   "cell_type": "code",
   "execution_count": null,
   "metadata": {},
   "outputs": [],
   "source": [
    "dup2 = list1[:]\n",
    "print(list1)\n",
    "print(dup2)"
   ]
  },
  {
   "cell_type": "code",
   "execution_count": null,
   "metadata": {
    "scrolled": true
   },
   "outputs": [],
   "source": [
    "dup2.remove(8)\n",
    "print(list1)\n",
    "print(dup2)"
   ]
  },
  {
   "cell_type": "markdown",
   "metadata": {},
   "source": [
    "## Example: Copying and Sorting Lists\n",
    "\n",
    "A list called `Avengers` is provided in the cell below. Add code to accomplish the following tasks:\n",
    "1. Create two new copies of the list, one called `Avengers_Asc` and one called `Avengers_Desc`. \n",
    "2. Sort `Avengers_Asc` in ascending alphabetical order. \n",
    "3. Sort `Avengers_Desc` in descending alphabetical order. \n",
    "4. Print all three lists."
   ]
  },
  {
   "cell_type": "code",
   "execution_count": null,
   "metadata": {
    "scrolled": true
   },
   "outputs": [],
   "source": [
    "Avengers = ['Capt. America', 'Black Widow', 'Iron Man', 'Hulk', 'Thor', 'Hawkeye']\n",
    "\n",
    "Avengers_Asc = Avengers.copy()\n",
    "Avengers_Desc = Avengers.copy()\n",
    "\n",
    "Avengers_Asc.sort()\n",
    "Avengers_Desc.sort(reverse=True)\n",
    "\n",
    "print(Avengers)\n",
    "print(Avengers_Asc)\n",
    "print(Avengers_Desc)"
   ]
  },
  {
   "cell_type": "code",
   "execution_count": null,
   "metadata": {},
   "outputs": [],
   "source": [
    "Avengers_Asc = sorted(Avengers)\n",
    "Avengers_Desc = sorted(Avengers)\n",
    "Avengers_Desc.reverse()\n",
    "\n",
    "print(Avengers)\n",
    "print(Avengers_Asc)\n",
    "print(Avengers_Desc)"
   ]
  }
 ],
 "metadata": {
  "kernelspec": {
   "display_name": "Python 3",
   "language": "python",
   "name": "python3"
  },
  "language_info": {
   "codemirror_mode": {
    "name": "ipython",
    "version": 3
   },
   "file_extension": ".py",
   "mimetype": "text/x-python",
   "name": "python",
   "nbconvert_exporter": "python",
   "pygments_lexer": "ipython3",
   "version": "3.8.5"
  }
 },
 "nbformat": 4,
 "nbformat_minor": 4
}
