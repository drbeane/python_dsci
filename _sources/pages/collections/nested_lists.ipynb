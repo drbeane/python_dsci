{
 "cells": [
  {
   "cell_type": "markdown",
   "metadata": {},
   "source": [
    "# Nested Lists\n",
    "\n",
    "It is possible for the elements of a list to be lists themselves. Let's consider a simple example. "
   ]
  },
  {
   "cell_type": "code",
   "execution_count": null,
   "metadata": {},
   "outputs": [],
   "source": [
    "metaList = [ \n",
    "    [4, 2], \n",
    "    ['a', 'b', 'c', 'd'], \n",
    "    [1.1, 2.2, 3.3] \n",
    "]"
   ]
  },
  {
   "cell_type": "markdown",
   "metadata": {},
   "source": [
    "Notice that `metalist` is a list that contains three elements, each of which is also a list.\n",
    "* `metaList[0]` is a list of two `int` values, `[4, 2]`.\n",
    "* `metaList[1]` is a list of four `str`, `['a', 'b', 'c', 'd']`.\n",
    "* `metaList[2]` is a list of three `float` values, `[1.1, 2.2, 3.3]`.\n",
    "\n",
    "We can access elements of the inner lists by using two sets of square braces and two indices. \n",
    "\n",
    "For example, since  `metaList[1]` is the list `['a', 'b', 'c', 'd']`, we can access the `str` `'c'` with `metaList[1][2]`."
   ]
  },
  {
   "cell_type": "code",
   "execution_count": null,
   "metadata": {},
   "outputs": [],
   "source": [
    "print(metaList[1][2])"
   ]
  },
  {
   "cell_type": "markdown",
   "metadata": {},
   "source": [
    "## Example: Working with a List of Lists\n",
    "\n",
    "In the cell below, we have created lists for 9 midwest states. Each state list contains the names of the cities in that state with a population of 100,000 or greater. "
   ]
  },
  {
   "cell_type": "code",
   "execution_count": null,
   "metadata": {},
   "outputs": [],
   "source": [
    "MO_list = ['Independence', 'Kansas City', 'Springfield', 'St. Louis']\n",
    "IL_list = ['Aurora', 'Chicago', 'Joliet', 'Napierville', 'Peoria', 'Rockford', 'Springfield']\n",
    "AR_list = ['Little Rock']\n",
    "KS_list = ['Kansas City', 'Olathe', 'Overland Park', 'Topeka', 'Wichita']\n",
    "IA_list = ['Cedar Rapids', 'Des Moines']\n",
    "NE_list = ['Lincoln', 'Omaha']\n",
    "OK_list = ['Norman', 'Oklahoma City', 'Tulsa']\n",
    "TN_list = ['Chattanooga', 'Clarksville', 'Knoxville', 'Memphis', 'Nashville']\n",
    "KY_list = ['Lexington', 'Louisville']"
   ]
  },
  {
   "cell_type": "markdown",
   "metadata": {},
   "source": [
    "We will now create a list that contains each of these 9 lists as its elements."
   ]
  },
  {
   "cell_type": "code",
   "execution_count": null,
   "metadata": {},
   "outputs": [],
   "source": [
    "state_list = [MO_list, IL_list, AR_list, KS_list, IA_list, \n",
    "              NE_list, OK_list, TN_list, KY_list]"
   ]
  },
  {
   "cell_type": "markdown",
   "metadata": {},
   "source": [
    "Without referring directly to any of the 9 original lists, print out a list of the cities in Kansas with a population of 100,000 or greater. "
   ]
  },
  {
   "cell_type": "code",
   "execution_count": null,
   "metadata": {},
   "outputs": [],
   "source": [
    "print(state_list[3])"
   ]
  },
  {
   "cell_type": "markdown",
   "metadata": {},
   "source": [
    "Without referring directly to any of the 9 original lists, print out a list of the cities in Nebraska with a population of 100,000 or greater. "
   ]
  },
  {
   "cell_type": "code",
   "execution_count": null,
   "metadata": {},
   "outputs": [],
   "source": [
    "print(state_list[5])"
   ]
  },
  {
   "cell_type": "markdown",
   "metadata": {},
   "source": [
    "Using only the list `cities_100K`, print the element `'St. Louis'`."
   ]
  },
  {
   "cell_type": "code",
   "execution_count": null,
   "metadata": {},
   "outputs": [],
   "source": [
    "print(state_list[0][3])"
   ]
  },
  {
   "cell_type": "markdown",
   "metadata": {},
   "source": [
    "Using only the list `cities_100K`, print the element `'Joliet'`."
   ]
  },
  {
   "cell_type": "code",
   "execution_count": null,
   "metadata": {},
   "outputs": [],
   "source": [
    "print(state_list[1][2])"
   ]
  }
 ],
 "metadata": {
  "kernelspec": {
   "display_name": "Python 3",
   "language": "python",
   "name": "python3"
  },
  "language_info": {
   "codemirror_mode": {
    "name": "ipython",
    "version": 3
   },
   "file_extension": ".py",
   "mimetype": "text/x-python",
   "name": "python",
   "nbconvert_exporter": "python",
   "pygments_lexer": "ipython3",
   "version": "3.8.5"
  }
 },
 "nbformat": 4,
 "nbformat_minor": 4
}
