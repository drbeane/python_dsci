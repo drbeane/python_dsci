{
 "cells": [
  {
   "cell_type": "markdown",
   "metadata": {},
   "source": [
    "# Lesson 07 - Additional List Topics\n",
    "\n",
    "\n",
    "### The following topics are discussed in this notebook:\n",
    "* List functions and methods.\n",
    "* Slicing.\n",
    "* Lists of lists. \n",
    "* Copying lists.  \n"
   ]
  },
  {
   "cell_type": "markdown",
   "metadata": {},
   "source": [
    "## List Functions\n",
    "\n",
    "Python has several functions that can take lists as inputs. We will present four such functions here. \n",
    "\n",
    "* `len()` returns the number of items in the list. \n",
    "* `sum()` returns the sum of the elements in a list. This only works on numerical lists.\n",
    "* `max()` returns the largest item in the list. \n",
    "* `min()` returns the smallest item in the list. \n",
    "\n",
    "We will illustrate the use of these functions using the two lists below."
   ]
  },
  {
   "cell_type": "code",
   "execution_count": null,
   "metadata": {},
   "outputs": [],
   "source": [
    "names = ['beth', 'drew', 'fred', 'chad', 'anna', 'emma']\n",
    "sales = [126, 81, 135, 114, 163, 92]"
   ]
  },
  {
   "cell_type": "code",
   "execution_count": null,
   "metadata": {},
   "outputs": [],
   "source": [
    "# Find the length of the lists.\n",
    "print(len(names))\n",
    "print(len(sales))"
   ]
  },
  {
   "cell_type": "code",
   "execution_count": null,
   "metadata": {},
   "outputs": [],
   "source": [
    "# Sum the sales list.\n",
    "print(sum(sales))"
   ]
  },
  {
   "cell_type": "code",
   "execution_count": null,
   "metadata": {},
   "outputs": [],
   "source": [
    "# Find min and max of names list.\n",
    "print(min(names))\n",
    "print(max(names))"
   ]
  },
  {
   "cell_type": "code",
   "execution_count": null,
   "metadata": {},
   "outputs": [],
   "source": [
    "# Find min and max of sales list.\n",
    "print(min(sales))\n",
    "print(max(sales))"
   ]
  },
  {
   "cell_type": "markdown",
   "metadata": {},
   "source": [
    "## List Concatenation and Replication\n",
    "\n",
    "As with strings, we can use the operators `+` and `*` to concatenate and replicate lists.\n",
    "\n",
    "* When `+` appears between two lists, the expression will be evaluated as a new list that contains the elements from both lists. The elements in the list on the left of `+` will appear first, and the elements on the right will appear last.\n",
    "\n",
    "* When `*` appears between a list and an integer, the expression will be evaluated as a new list that consists of several copies of the original list concatenated together. The number of copies is set by the integer."
   ]
  },
  {
   "cell_type": "code",
   "execution_count": null,
   "metadata": {},
   "outputs": [],
   "source": [
    "letter_list = ['A', 'B', 'C']\n",
    "number_list = [1, 2, 3]\n",
    "\n",
    "print(letter_list + number_list)\n",
    "print(number_list * 4)"
   ]
  },
  {
   "cell_type": "markdown",
   "metadata": {},
   "source": [
    "## Sorting Lists\n",
    "\n",
    "Python provides us with a few tools for sorting and reordering the elements of a list. In this section, we will discuss the following functions: the `sorted()` function, the `sort()` method, and the `reverse()` method.\n",
    "\n",
    "### sorted() Function\n",
    "\n",
    "We can use `sorted()` to obtain a sorted version of the list. Note that this does not alter the order of the original list. It creates list which contains the same elements of the original list, but in sorted order. We can then store this new list in a variable, print it, or provide it to another function.\n",
    " "
   ]
  },
  {
   "cell_type": "code",
   "execution_count": null,
   "metadata": {},
   "outputs": [],
   "source": [
    "listA = [6, 9, 1, 4, 7, 3, 6, 4, 5, 2]\n",
    "listA_asc = sorted(listA)\n",
    "\n",
    "print('Sorted List:  ', listA_asc)\n",
    "print('Original List:', listA)"
   ]
  },
  {
   "cell_type": "markdown",
   "metadata": {},
   "source": [
    "The `sorted()` function sorts items in ascending order by default. We can change this behavior by setting an optional parameter named `reverse`. This parameter accepts a Boolean value, and is set equal to `False` by default. If `reverse` is set to `True`, then the list will be sorted in descending order."
   ]
  },
  {
   "cell_type": "code",
   "execution_count": null,
   "metadata": {},
   "outputs": [],
   "source": [
    "listA_desc = sorted(listA, reverse=True)\n",
    "\n",
    "print('Sorted List:  ', listA_desc)\n",
    "print('Original List:', listA)"
   ]
  },
  {
   "cell_type": "markdown",
   "metadata": {},
   "source": [
    "## The sort() Method\n",
    "\n",
    "As mentioned above, the `sorted()` function does not alter the order of the original list, but instead creates a new list. There are occasions when we only intend to work with a sorted version of the list, and would thus perfer to perform the sort on the original list itself, rather than creating a new list. One option would be to use `sorted()`, and then store the results back into the variable that held the original list. However, a simpler approach would be to use the `sort()` list method.\n",
    "\n",
    "The `sort()` method for lists will sort the elements of a list in ascending order. The method does not create any new lists, but instead rearranges the elements of the orignal list. This is referred to as \"in place\" sorting."
   ]
  },
  {
   "cell_type": "code",
   "execution_count": null,
   "metadata": {},
   "outputs": [],
   "source": [
    "listB = [6, 9, 1, 4, 7, 3, 6, 4, 5, 2]\n",
    "listB.sort()\n",
    "print(listB)"
   ]
  },
  {
   "cell_type": "markdown",
   "metadata": {},
   "source": [
    "Like the `sorted()` function, the `sort()` method has an optional `reverse` parameter that can be used to sort the list in descending order."
   ]
  },
  {
   "cell_type": "code",
   "execution_count": null,
   "metadata": {},
   "outputs": [],
   "source": [
    "listC = [6, 9, 1, 4, 7, 3, 6, 4, 5, 2]\n",
    "listC.sort(reverse=True)\n",
    "print(listC)"
   ]
  },
  {
   "cell_type": "markdown",
   "metadata": {},
   "source": [
    "## sorted() vs sort()\n",
    "\n",
    "The fact that `sort()` performs an in-place sort while `sorted()` creates a new list illustrates a difference between methods and lists. Methods can have permission to directly alter the value of the object that they are working on, while other types of function generally do not.\n",
    "\n",
    "You might be asking how to decide which of these sorting functions to use if you need to sort a list. The answer essentially boils down to whether or not you need to preserve the original list, or if you only intend to ever work with the sorted version of the list. If you need need to preserve the original order, then you should sort using `sorted()`. However, if don't need the original ordering and will only work with the sorted version of the list, then you should use `sort()`.\n",
    "\n",
    "### The reverse() Method\n",
    "Lists also have a `reverse()` method when reverses the order of a list. This re-ordering is performed on the elements of the original list, and does not create any new lists. That is, it is done \"in place\"."
   ]
  },
  {
   "cell_type": "code",
   "execution_count": null,
   "metadata": {},
   "outputs": [],
   "source": [
    "listD = [6, 9, 1, 4, 7, 3, 6, 4, 5, 2]\n",
    "listD.reverse()\n",
    "print(listD)"
   ]
  },
  {
   "cell_type": "markdown",
   "metadata": {},
   "source": [
    "Note that `reverse()` does not sort the list in descending order. It simply reverses the current order of the list. We saw previously that we can obtain an in-place sort of a list in descending order by specifying `reverse=True` when using the `sort()` method. We could also call the `sort()` method on a list to first sort the list in ascending order, and then call the `reverse()` method on the list to put the list into descending order. However, this would require two lines of code. We illustrate this technique in the cell below. "
   ]
  },
  {
   "cell_type": "code",
   "execution_count": null,
   "metadata": {},
   "outputs": [],
   "source": [
    "listE = [6, 9, 1, 4, 7, 3, 6, 4, 5, 2]\n",
    "listE.sort()\n",
    "listE.reverse()\n",
    "print(listE)"
   ]
  },
  {
   "cell_type": "markdown",
   "metadata": {},
   "source": [
    "## Finding Index of List Elements\n",
    "\n",
    "Lists have an `index()` method that accepts a single parameter. The method will return the index of the first occurrence of the supplied value within the list. If the value does not appear in the list, the method will produce an error.\n",
    "\n",
    "The cell below creates a randomly generate list of 30 elements. Run this cell as is."
   ]
  },
  {
   "cell_type": "code",
   "execution_count": null,
   "metadata": {},
   "outputs": [],
   "source": [
    "import random\n",
    "random.seed(1)\n",
    "rand_list = random.choices(range(0,50), k=30)\n",
    "print(rand_list)"
   ]
  },
  {
   "cell_type": "markdown",
   "metadata": {},
   "source": [
    "The value 1 appears multiple times in this list. The code in the cell below will return the index of the first occurrence of 1. "
   ]
  },
  {
   "cell_type": "code",
   "execution_count": null,
   "metadata": {},
   "outputs": [],
   "source": [
    "rand_list.index(1)"
   ]
  },
  {
   "cell_type": "markdown",
   "metadata": {},
   "source": [
    "The value 2 does not appear in the list. The code below will result in an error."
   ]
  },
  {
   "cell_type": "code",
   "execution_count": null,
   "metadata": {},
   "outputs": [],
   "source": [
    "rand_list.index(2)"
   ]
  },
  {
   "cell_type": "markdown",
   "metadata": {},
   "source": [
    "## Working with Data Stored in Parallel Lists\n",
    "\n",
    "Occasionally, we will need to use multiple lists to store different types of data collected for several people or objects. When doing so, the lists are typically created so that entries of different lists at the same position provide different pieces of information all relating to the same entity. \n",
    "\n",
    "As an example, the cell below creates a list `names` that contains the names of 10 people as well as a list called `ages` that stores the ages of the same 10 people. The two lists correspond in the sense that for each index `i`, the age of the person with name `name[i]` is equal to `age[i]`."
   ]
  },
  {
   "cell_type": "code",
   "execution_count": null,
   "metadata": {},
   "outputs": [],
   "source": [
    "names = ['Ivan', 'Dawn', 'Eric', 'Fred', 'Anna', 'Beth', 'Chad', 'Judy', 'Gary', 'Hana']\n",
    "ages = [19, 61, 56, 26, 40, 38, 49, 57, 17, 13]"
   ]
  },
  {
   "cell_type": "markdown",
   "metadata": {},
   "source": [
    "When we store data in \"parallel\" lists, Python will not be aware that the lists are meant to be related. The `index()` method can be useful for working with lists of this type. \n",
    "\n",
    "Assume that we wish to determine the names and ages of the youngest and oldest people in these lists. We could certainly get the answer by manually inspecting the contents of the list, but that would be tedious to do if the lists were very long. The `index()` method can be used to develop a programmatic solution to this task. \n",
    "\n",
    "In the cell below, we will write code to obtain and print the following information:\n",
    "\n",
    "* The name, age, and index for the youngest individual whose information is stored in the lists.\n",
    "* The name, age, and index for the oldest individual whose information is stored in the lists."
   ]
  },
  {
   "cell_type": "code",
   "execution_count": null,
   "metadata": {},
   "outputs": [],
   "source": [
    "# Obtain information about youngest person.\n",
    "min_age = min(ages)\n",
    "idx_min = ages.index(min_age)\n",
    "min_name = names[idx_min]\n",
    "\n",
    "# Obtain information about oldest person.\n",
    "max_age = max(ages)\n",
    "idx_max = ages.index(max_age)\n",
    "max_name = names[idx_max]\n",
    "\n",
    "# Print results.\n",
    "print('The youngest person is ', min_name, '. Their age is ', min_age, \n",
    "      '. Their information is stored at index ', idx_min, '.', sep='')\n",
    "\n",
    "print('The oldest person is ', max_name, '. Their age is ', max_age, \n",
    "      '. Their information is stored at index ', idx_max, '.', sep='')"
   ]
  },
  {
   "cell_type": "markdown",
   "metadata": {},
   "source": [
    "## Slicing Lists\n",
    "\n",
    "Occasionally, we will need to need to work with a portion of a list, rather than the entire list. **Slicing** is a method of creating a sublist of consecutive elements drawn from another list. \n",
    "Assume that `myList` is a Python list, and let `i` and `j` be integers. \n",
    "* `myList[i:j]` will generate a sublist of `myList` that begins with the element at index `i` and contains all elements up to **but not including** the element at index `j`.  \n",
    "* `myList[i:]` will generate a sublist of `myList` that begins with the element at index `i` and contains all later elements. \n",
    "* `myList[:j]` will generate a sublist of `myList` that contains all elements up to **but not including** the element at index `j`."
   ]
  },
  {
   "cell_type": "code",
   "execution_count": null,
   "metadata": {
    "scrolled": true
   },
   "outputs": [],
   "source": [
    "# Simple Slicing Example\n",
    "simpleList = [0, 2, 4, 6, 8, 10, 12, 14, 16, 18, 20]\n",
    "\n",
    "print(simpleList[3:7])\n",
    "print(simpleList[5:])\n",
    "print(simpleList[:8])"
   ]
  },
  {
   "cell_type": "markdown",
   "metadata": {},
   "source": [
    "We can also use negative indices when specifying a slice of a list."
   ]
  },
  {
   "cell_type": "code",
   "execution_count": null,
   "metadata": {
    "scrolled": true
   },
   "outputs": [],
   "source": [
    "# Print the last 6 elements of simpleList\n",
    "print(simpleList[-6:])"
   ]
  },
  {
   "cell_type": "code",
   "execution_count": null,
   "metadata": {
    "scrolled": true
   },
   "outputs": [],
   "source": [
    "# Print all but the first two and last two elements of simpleList\n",
    "print(simpleList[2:-2])"
   ]
  },
  {
   "cell_type": "markdown",
   "metadata": {},
   "source": [
    "## Example: Quarterly Sales\n",
    "\n",
    "CompCo is an company that manufactures laptop computers. The list `sales` below provides CompCo's total monthly sales for each month of 2016, measured in US dollars. The results are listed in order of month. "
   ]
  },
  {
   "cell_type": "code",
   "execution_count": null,
   "metadata": {},
   "outputs": [],
   "source": [
    "sales = [52353, 43724, 32191, 34914, 44671, 37139, 49341, \n",
    "         57139, 55104, 45193, 52167, 61294]"
   ]
  },
  {
   "cell_type": "markdown",
   "metadata": {},
   "source": [
    "CompCo needs to calculate their quarterly sales for each quarter in 2016. \n",
    "\n",
    "Define four new variables Q1, Q2, Q3, and Q4 in the next cell. \n",
    "* Q1 contains the total sales for Quarter 1 (January, February, March).\n",
    "* Q2 contains the total sales for Quarter 2 (April, May, June).\n",
    "* Q3 contains the total sales for Quarter 3 (July, August, September).\n",
    "* Q4 contains the total sales for Quarter 4 (October, November, December). \n",
    "\n",
    "Use a combination of slicing and the `sum()` function. "
   ]
  },
  {
   "cell_type": "code",
   "execution_count": null,
   "metadata": {},
   "outputs": [],
   "source": [
    "Q1 = sum(sales[0:3])\n",
    "Q2 = sum(sales[3:6])\n",
    "Q3 = sum(sales[6:9])\n",
    "Q4 = sum(sales[9:])"
   ]
  },
  {
   "cell_type": "markdown",
   "metadata": {},
   "source": [
    "Print the variables Q1, Q2, Q3, and Q4. "
   ]
  },
  {
   "cell_type": "code",
   "execution_count": null,
   "metadata": {},
   "outputs": [],
   "source": [
    "print(Q1)\n",
    "print(Q2)\n",
    "print(Q3)\n",
    "print(Q4)"
   ]
  },
  {
   "cell_type": "markdown",
   "metadata": {},
   "source": [
    "## Lists of Lists\n",
    "\n",
    "It is possible for the elements of a list to be lists themselves. Let's consider a simple example. "
   ]
  },
  {
   "cell_type": "code",
   "execution_count": null,
   "metadata": {},
   "outputs": [],
   "source": [
    "metaList = [ \n",
    "    [4, 2], \n",
    "    ['a', 'b', 'c', 'd'], \n",
    "    [1.1, 2.2, 3.3] \n",
    "]"
   ]
  },
  {
   "cell_type": "markdown",
   "metadata": {},
   "source": [
    "Notice that `metalist` is a list that contains three elements, each of which is also a list.\n",
    "* `metaList[0]` is a list of two `int` values, `[4, 2]`.\n",
    "* `metaList[1]` is a list of four `str`, `['a', 'b', 'c', 'd']`.\n",
    "* `metaList[2]` is a list of three `float` values, `[1.1, 2.2, 3.3]`.\n",
    "\n",
    "We can access elements of the inner lists by using two sets of square braces and two indices. \n",
    "\n",
    "For example, since  `metaList[1]` is the list `['a', 'b', 'c', 'd']`, we can access the `str` `'c'` with `metaList[1][2]`."
   ]
  },
  {
   "cell_type": "code",
   "execution_count": null,
   "metadata": {},
   "outputs": [],
   "source": [
    "print(metaList[1][2])"
   ]
  },
  {
   "cell_type": "markdown",
   "metadata": {},
   "source": [
    "## Example: Working with a List of Lists\n",
    "\n",
    "In the cell below, we have created lists for 9 midwest states. Each state list contains the names of the cities in that state with a population of 100,000 or greater. "
   ]
  },
  {
   "cell_type": "code",
   "execution_count": null,
   "metadata": {},
   "outputs": [],
   "source": [
    "MO_list = ['Independence', 'Kansas City', 'Springfield', 'St. Louis']\n",
    "IL_list = ['Aurora', 'Chicago', 'Joliet', 'Napierville', 'Peoria', 'Rockford', 'Springfield']\n",
    "AR_list = ['Little Rock']\n",
    "KS_list = ['Kansas City', 'Olathe', 'Overland Park', 'Topeka', 'Wichita']\n",
    "IA_list = ['Cedar Rapids', 'Des Moines']\n",
    "NE_list = ['Lincoln', 'Omaha']\n",
    "OK_list = ['Norman', 'Oklahoma City', 'Tulsa']\n",
    "TN_list = ['Chattanooga', 'Clarksville', 'Knoxville', 'Memphis', 'Nashville']\n",
    "KY_list = ['Lexington', 'Louisville']"
   ]
  },
  {
   "cell_type": "markdown",
   "metadata": {},
   "source": [
    "We will now create a list that contains each of these 9 lists as its elements."
   ]
  },
  {
   "cell_type": "code",
   "execution_count": null,
   "metadata": {},
   "outputs": [],
   "source": [
    "state_list = [MO_list, IL_list, AR_list, KS_list, IA_list, \n",
    "              NE_list, OK_list, TN_list, KY_list]"
   ]
  },
  {
   "cell_type": "markdown",
   "metadata": {},
   "source": [
    "Without referring directly to any of the 9 original lists, print out a list of the cities in Kansas with a population of 100,000 or greater. "
   ]
  },
  {
   "cell_type": "code",
   "execution_count": null,
   "metadata": {},
   "outputs": [],
   "source": [
    "print(state_list[3])"
   ]
  },
  {
   "cell_type": "markdown",
   "metadata": {},
   "source": [
    "Without referring directly to any of the 9 original lists, print out a list of the cities in Nebraska with a population of 100,000 or greater. "
   ]
  },
  {
   "cell_type": "code",
   "execution_count": null,
   "metadata": {},
   "outputs": [],
   "source": [
    "print(state_list[5])"
   ]
  },
  {
   "cell_type": "markdown",
   "metadata": {},
   "source": [
    "Using only the list `cities_100K`, print the element `'St. Louis'`."
   ]
  },
  {
   "cell_type": "code",
   "execution_count": null,
   "metadata": {},
   "outputs": [],
   "source": [
    "print(state_list[0][3])"
   ]
  },
  {
   "cell_type": "markdown",
   "metadata": {},
   "source": [
    "Using only the list `cities_100K`, print the element `'Joliet'`."
   ]
  },
  {
   "cell_type": "code",
   "execution_count": null,
   "metadata": {},
   "outputs": [],
   "source": [
    "print(state_list[1][2])"
   ]
  },
  {
   "cell_type": "markdown",
   "metadata": {},
   "source": [
    "## Copying Lists\n",
    "\n",
    "Assume that `var1` is a variables of type `int`, `float`, `str`, or `bool`. We have seen before that if we create a new variable `var2` and set its initial value to be equal to that of `var1`, then `var2` will initially contain the same value as `var1`, but will be its own distinct variable whose value can be changed independent of `var1`. This is illustrated in the following two cells. "
   ]
  },
  {
   "cell_type": "code",
   "execution_count": null,
   "metadata": {},
   "outputs": [],
   "source": [
    "var1 = 37\n",
    "var2 = var1 \n",
    "print(var1)\n",
    "print(var2)"
   ]
  },
  {
   "cell_type": "code",
   "execution_count": null,
   "metadata": {},
   "outputs": [],
   "source": [
    "var2 = \"blah\"\n",
    "print(var1)\n",
    "print(var2)"
   ]
  },
  {
   "cell_type": "markdown",
   "metadata": {},
   "source": [
    "The situation is different for lists, however. If we have a list called `list1` and we set `list2` to be equal to `list1`, then `list1` and `list2` will be two different names of the same list. Any changes made to `list1` will also effect `list2` and vice versa."
   ]
  },
  {
   "cell_type": "code",
   "execution_count": null,
   "metadata": {},
   "outputs": [],
   "source": [
    "list1 = [3, 8, 2]\n",
    "list2 = list1\n",
    "print(list1)\n",
    "print(list2)"
   ]
  },
  {
   "cell_type": "code",
   "execution_count": null,
   "metadata": {},
   "outputs": [],
   "source": [
    "list2.append(37)\n",
    "print(list1)\n",
    "print(list2)"
   ]
  },
  {
   "cell_type": "markdown",
   "metadata": {},
   "source": [
    "What if we want to actually create a new, entirely separate, copy of an already existing list? It turns out that Python provides two ways of doing a such. \n",
    "1. We may use the `copy()` method of the list that we wish to duplicate.\n",
    "2. We can return a copy of a list by using slicing. \n",
    "\n",
    "Let's see first see how to duplicate a list using the `copy()` method."
   ]
  },
  {
   "cell_type": "code",
   "execution_count": null,
   "metadata": {
    "scrolled": true
   },
   "outputs": [],
   "source": [
    "dup1 = list1.copy()\n",
    "print(list1)\n",
    "print(dup1)"
   ]
  },
  {
   "cell_type": "code",
   "execution_count": null,
   "metadata": {},
   "outputs": [],
   "source": [
    "dup1.append(42)\n",
    "print(list1)\n",
    "print(dup1)"
   ]
  },
  {
   "cell_type": "markdown",
   "metadata": {},
   "source": [
    "We will now see how to duplicate a list by using slicing. "
   ]
  },
  {
   "cell_type": "code",
   "execution_count": null,
   "metadata": {},
   "outputs": [],
   "source": [
    "dup2 = list1[:]\n",
    "print(list1)\n",
    "print(dup2)"
   ]
  },
  {
   "cell_type": "code",
   "execution_count": null,
   "metadata": {
    "scrolled": true
   },
   "outputs": [],
   "source": [
    "dup2.remove(8)\n",
    "print(list1)\n",
    "print(dup2)"
   ]
  },
  {
   "cell_type": "markdown",
   "metadata": {},
   "source": [
    "## Example: Copying and Sorting Lists\n",
    "\n",
    "A list called `Avengers` is provided in the cell below. Add code to accomplish the following tasks:\n",
    "1. Create two new copies of the list, one called `Avengers_Asc` and one called `Avengers_Desc`. \n",
    "2. Sort `Avengers_Asc` in ascending alphabetical order. \n",
    "3. Sort `Avengers_Desc` in descending alphabetical order. \n",
    "4. Print all three lists."
   ]
  },
  {
   "cell_type": "code",
   "execution_count": null,
   "metadata": {
    "scrolled": true
   },
   "outputs": [],
   "source": [
    "Avengers = ['Capt. America', 'Black Widow', 'Iron Man', 'Hulk', 'Thor', 'Hawkeye']\n",
    "\n",
    "Avengers_Asc = Avengers.copy()\n",
    "Avengers_Desc = Avengers.copy()\n",
    "\n",
    "Avengers_Asc.sort()\n",
    "Avengers_Desc.sort(reverse=True)\n",
    "\n",
    "print(Avengers)\n",
    "print(Avengers_Asc)\n",
    "print(Avengers_Desc)"
   ]
  },
  {
   "cell_type": "code",
   "execution_count": null,
   "metadata": {},
   "outputs": [],
   "source": [
    "Avengers_Asc = sorted(Avengers)\n",
    "Avengers_Desc = sorted(Avengers)\n",
    "Avengers_Desc.reverse()\n",
    "\n",
    "print(Avengers)\n",
    "print(Avengers_Asc)\n",
    "print(Avengers_Desc)"
   ]
  }
 ],
 "metadata": {
  "kernelspec": {
   "display_name": "Python 3",
   "language": "python",
   "name": "python3"
  },
  "language_info": {
   "codemirror_mode": {
    "name": "ipython",
    "version": 3
   },
   "file_extension": ".py",
   "mimetype": "text/x-python",
   "name": "python",
   "nbconvert_exporter": "python",
   "pygments_lexer": "ipython3",
   "version": "3.8.5"
  }
 },
 "nbformat": 4,
 "nbformat_minor": 4
}
