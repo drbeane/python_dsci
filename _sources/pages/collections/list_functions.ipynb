{
 "cells": [
  {
   "cell_type": "markdown",
   "metadata": {},
   "source": [
    "## List Functions\n",
    "\n",
    "Python has several functions that can take lists as inputs. We will present four such functions here. \n",
    "\n",
    "* `len()` returns the number of items in the list. \n",
    "* `sum()` returns the sum of the elements in a list. This only works on numerical lists.\n",
    "* `max()` returns the largest item in the list. \n",
    "* `min()` returns the smallest item in the list. \n",
    "\n",
    "We will illustrate the use of these functions using the two lists below."
   ]
  },
  {
   "cell_type": "code",
   "execution_count": null,
   "metadata": {},
   "outputs": [],
   "source": [
    "names = ['beth', 'drew', 'fred', 'chad', 'anna', 'emma']\n",
    "sales = [126, 81, 135, 114, 163, 92]"
   ]
  },
  {
   "cell_type": "code",
   "execution_count": null,
   "metadata": {},
   "outputs": [],
   "source": [
    "# Find the length of the lists.\n",
    "print(len(names))\n",
    "print(len(sales))"
   ]
  },
  {
   "cell_type": "code",
   "execution_count": null,
   "metadata": {},
   "outputs": [],
   "source": [
    "# Sum the sales list.\n",
    "print(sum(sales))"
   ]
  },
  {
   "cell_type": "code",
   "execution_count": null,
   "metadata": {},
   "outputs": [],
   "source": [
    "# Find min and max of names list.\n",
    "print(min(names))\n",
    "print(max(names))"
   ]
  },
  {
   "cell_type": "code",
   "execution_count": null,
   "metadata": {},
   "outputs": [],
   "source": [
    "# Find min and max of sales list.\n",
    "print(min(sales))\n",
    "print(max(sales))"
   ]
  }
 ],
 "metadata": {
  "kernelspec": {
   "display_name": "Python 3",
   "language": "python",
   "name": "python3"
  },
  "language_info": {
   "codemirror_mode": {
    "name": "ipython",
    "version": 3
   },
   "file_extension": ".py",
   "mimetype": "text/x-python",
   "name": "python",
   "nbconvert_exporter": "python",
   "pygments_lexer": "ipython3",
   "version": "3.8.5"
  }
 },
 "nbformat": 4,
 "nbformat_minor": 4
}
