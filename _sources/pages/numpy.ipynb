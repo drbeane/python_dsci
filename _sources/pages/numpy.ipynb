{
 "cells": [
  {
   "cell_type": "markdown",
   "id": "bf544ade-ba6b-4791-a8f9-bafc115a20af",
   "metadata": {},
   "source": [
    "# NumPy"
   ]
  },
  {
   "cell_type": "markdown",
   "id": "b8348f8c-39dc-4c61-a289-9d1d9d745f43",
   "metadata": {
    "tags": []
   },
   "source": [
    "NumPy (which is short for \"Numerical Python\") is an essential package for performing scientific computing in Python. It provides additional functionality for performing numerical calculations involving collections of values, such as arrays and matrices. NumPy is a critical tool for analyzing and manipulating data in Python, and nearly ever prominent Python package used for Data Science is either build on top of NumPy or intended to work with it. "
   ]
  },
  {
   "cell_type": "markdown",
   "id": "fb8dc3eb-d6fa-4762-a048-e4ef45026f28",
   "metadata": {},
   "source": [
    "NumPy is not part of the Python standard library, but does comes packaged with the Anaconda distribution. By convention, it is typically imported under the alias `np`, as demonstrated below. "
   ]
  },
  {
   "cell_type": "code",
   "execution_count": 1,
   "id": "c5387567-c51c-4236-8621-5c3b2a4c1899",
   "metadata": {},
   "outputs": [],
   "source": [
    "import numpy as np"
   ]
  },
  {
   "cell_type": "markdown",
   "id": "d2e71264-fff0-4dae-a2cc-22555b91ccf7",
   "metadata": {},
   "source": [
    "The version of NumPy installed on in an environment can be checked by printing the `__version__` variable contained within the package. "
   ]
  },
  {
   "cell_type": "code",
   "execution_count": 2,
   "id": "837a2d4f-fcde-4b15-b5bc-8a4faa5afcfe",
   "metadata": {},
   "outputs": [
    {
     "name": "stdout",
     "output_type": "stream",
     "text": [
      "1.21.4\n"
     ]
    }
   ],
   "source": [
    "print(np.__version__)"
   ]
  },
  {
   "cell_type": "markdown",
   "id": "751743c7-c8ac-4126-9e6e-5574ee6b5177",
   "metadata": {},
   "source": [
    "## Chapter 1 Contents\n",
    "\n",
    "1. [NumPy Arrays](arrays)\n",
    "2. [Array Functions](array_functions)\n",
    "3. [Array Comparisons](array_comparisons)\n",
    "4. [Masking and Indexing](array_masking)\n",
    "6. [2-Dimensional Arrays](array_2d)\n",
    "7. [Higher-Dimensional Arrays](array_nd)\n",
    "8. [Numpy Examples](np_examples)\n",
    "9. [Additional NumPy Topics](np_topics)"
   ]
  },
  {
   "cell_type": "markdown",
   "id": "e4a95c32-42da-4a69-8d88-23a2b43e9dbe",
   "metadata": {},
   "source": [
    "## Additional Resources\n",
    "\n",
    "The following resources contain additional information about NumPy.\n",
    "\n",
    "* [NumPy.org](https://numpy.org/)\n",
    "* [NumPy Documentation](https://numpy.org/doc/stable/)"
   ]
  },
  {
   "cell_type": "markdown",
   "id": "d50e4539-cc9d-493e-8a1d-d6b1bcf118f0",
   "metadata": {},
   "source": [
    "<div>\n",
    "    <center>\n",
    "<img src=\"https://upload.wikimedia.org/wikipedia/commons/3/31/NumPy_logo_2020.svg\" width=\"400\"/>\n",
    "    </center>\n",
    "</div>"
   ]
  }
 ],
 "metadata": {
  "kernelspec": {
   "display_name": "Python 3 (ipykernel)",
   "language": "python",
   "name": "python3"
  },
  "language_info": {
   "codemirror_mode": {
    "name": "ipython",
    "version": 3
   },
   "file_extension": ".py",
   "mimetype": "text/x-python",
   "name": "python",
   "nbconvert_exporter": "python",
   "pygments_lexer": "ipython3",
   "version": "3.8.12"
  }
 },
 "nbformat": 4,
 "nbformat_minor": 5
}
