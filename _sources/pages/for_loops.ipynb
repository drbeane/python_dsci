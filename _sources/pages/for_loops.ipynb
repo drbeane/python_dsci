{
 "cells": [
  {
   "cell_type": "markdown",
   "metadata": {},
   "source": [
    "# For Loops"
   ]
  },
  {
   "cell_type": "markdown",
   "metadata": {},
   "source": [
    "## Loops\n",
    "\n",
    "A loop is a tool that allows us to instruct Python to repeat a task several times, usually with slight variations each time. We will consider two types of loops in this course: for loops and while loops.\n",
    "\n",
    "We will begin with for loops, but before we can do so, we need to introduce the concept of a range. "
   ]
  },
  {
   "cell_type": "markdown",
   "metadata": {},
   "source": [
    "## For Loops\n",
    "\n",
    "We can use for loops to ask Python to repeat a task a certain number of times. The syntax for constructing a for loop is as follows:\n",
    "\n",
    "<pre>\n",
    "for i in range(a,b): \n",
    "    # Body of for loop\n",
    "</pre>\n",
    "\n",
    "This code asks Python to execute the body of the for loop 5 times - once for each integer in the specified range. The variable `i` is referred to as a **loop counter**. The counter will have a value of `a` during the first iteration of the loop, and will increment at the start of each new iteration. "
   ]
  },
  {
   "cell_type": "markdown",
   "metadata": {},
   "source": [
    "## Looping over Lists"
   ]
  },
  {
   "cell_type": "code",
   "execution_count": 1,
   "metadata": {},
   "outputs": [
    {
     "name": "stdout",
     "output_type": "stream",
     "text": [
      "Hello, Alex!\n",
      "Hello, Beth!\n",
      "Hello, Chad!\n",
      "Hello, Drew!\n",
      "Hello, Emma!\n"
     ]
    }
   ],
   "source": [
    "names_list = ['Alex', 'Beth', 'Chad', 'Drew', 'Emma']\n",
    "\n",
    "for name in names_list:\n",
    "    print(f'Hello, {name}!')"
   ]
  },
  {
   "cell_type": "markdown",
   "metadata": {},
   "source": [
    "## Ranges\n",
    "\n",
    "The `range(a, b)` function generates a list of integers beginning with `a` and continuing up to, but **NOT INCLUDING** `b`. \n",
    "\n",
    "A range is not a list, but can be converted into a list.  "
   ]
  },
  {
   "cell_type": "code",
   "execution_count": null,
   "metadata": {},
   "outputs": [],
   "source": [
    "my_range = range(3,8)\n",
    "print(type(my_range))\n",
    "print(my_range)\n",
    "print(list(my_range))"
   ]
  },
  {
   "cell_type": "code",
   "execution_count": null,
   "metadata": {},
   "outputs": [],
   "source": [
    "for i in range(0,5):\n",
    "    print('The value of i is', i)"
   ]
  },
  {
   "cell_type": "markdown",
   "metadata": {},
   "source": [
    "The code in the cell above is equivalent to that in cell below. Notice that using a for loop for this task is much more concise. "
   ]
  },
  {
   "cell_type": "code",
   "execution_count": null,
   "metadata": {},
   "outputs": [],
   "source": [
    "i = 0\n",
    "print('The value of i is', i)\n",
    "i = 1\n",
    "print('The value of i is', i)\n",
    "i = 2\n",
    "print('The value of i is', i)\n",
    "i = 3\n",
    "print('The value of i is', i)\n",
    "i = 4\n",
    "print('The value of i is', i)"
   ]
  },
  {
   "cell_type": "markdown",
   "metadata": {},
   "source": [
    "Note the following five points regarding `for` loops:\n",
    "1. We can use any variable name that we wish for the loop counter. \n",
    "2. We can use the counter in arithmetic operations, or as a list index. \n",
    "3. The range over which we are looping does not have to begin with 0. \n",
    "4. We can include multiple lines of code within a for loop. \n",
    "5. Each line in the body of a loop must be indented one level beyond the `for` statement. \n",
    "\n",
    "These ideas are all illustrated in the following example, which prints the squares of the first 10 positive integers. "
   ]
  },
  {
   "cell_type": "code",
   "execution_count": null,
   "metadata": {},
   "outputs": [],
   "source": [
    "for n in range(1,11):\n",
    "    message = \"The square of \" + str(n) + \" is \" + str(n**2) + \".\"\n",
    "    print(message)"
   ]
  },
  {
   "cell_type": "markdown",
   "metadata": {},
   "source": [
    "We can also use loops to alter variables that are defined outside of the loop. This is useful for calculating running totals. The code in the cell below calculates the sum of the squares of the first 100 integers. That is, it calculates $1^2 + 2^2 + 3^2 + ... + 99^2 + 100^2$. "
   ]
  },
  {
   "cell_type": "code",
   "execution_count": null,
   "metadata": {},
   "outputs": [],
   "source": [
    "# Sum the first 100 positive integers\n",
    "total = 0\n",
    "for i in range(1,101):\n",
    "    total += i**2\n",
    "\n",
    "print(total)"
   ]
  },
  {
   "cell_type": "markdown",
   "metadata": {},
   "source": [
    "## For Loop Examples"
   ]
  },
  {
   "cell_type": "markdown",
   "metadata": {},
   "source": [
    "## Sum of First 100 Integers"
   ]
  },
  {
   "cell_type": "code",
   "execution_count": 2,
   "metadata": {},
   "outputs": [],
   "source": [
    "# using range"
   ]
  },
  {
   "cell_type": "code",
   "execution_count": null,
   "metadata": {},
   "outputs": [],
   "source": [
    "# Sum the first 100 positive integers\n",
    "total = 0\n",
    "for i in range(1,101):\n",
    "    total += i**2\n",
    "\n",
    "print(total)"
   ]
  },
  {
   "cell_type": "markdown",
   "metadata": {},
   "source": [
    "## Sum of Square of First 100 Integers"
   ]
  },
  {
   "cell_type": "code",
   "execution_count": 3,
   "metadata": {},
   "outputs": [],
   "source": [
    "# Using range"
   ]
  },
  {
   "cell_type": "code",
   "execution_count": null,
   "metadata": {},
   "outputs": [],
   "source": []
  },
  {
   "cell_type": "markdown",
   "metadata": {},
   "source": [
    "## Sum of Squares of Elements in a List"
   ]
  },
  {
   "cell_type": "code",
   "execution_count": null,
   "metadata": {},
   "outputs": [],
   "source": [
    "# Using range(len(...))\n",
    "\n",
    "# Using elements"
   ]
  },
  {
   "cell_type": "code",
   "execution_count": null,
   "metadata": {},
   "outputs": [],
   "source": []
  },
  {
   "cell_type": "markdown",
   "metadata": {},
   "source": [
    "## Pairwise Sum"
   ]
  },
  {
   "cell_type": "code",
   "execution_count": 4,
   "metadata": {},
   "outputs": [],
   "source": [
    "# Using range"
   ]
  },
  {
   "cell_type": "code",
   "execution_count": null,
   "metadata": {},
   "outputs": [],
   "source": []
  },
  {
   "cell_type": "markdown",
   "metadata": {},
   "source": [
    "## Something involving Strings"
   ]
  },
  {
   "cell_type": "code",
   "execution_count": null,
   "metadata": {},
   "outputs": [],
   "source": []
  },
  {
   "cell_type": "code",
   "execution_count": null,
   "metadata": {},
   "outputs": [],
   "source": []
  },
  {
   "cell_type": "code",
   "execution_count": null,
   "metadata": {},
   "outputs": [],
   "source": []
  },
  {
   "cell_type": "markdown",
   "metadata": {},
   "source": [
    "## Using Loops to Work with Lists\n",
    "One common use of a loop is to perform an action on every element of a list. In this case, we typically use the loop counter as an index for elements in the list. \n",
    "\n",
    "The list below contains 30 integer values, several of which are negative. "
   ]
  },
  {
   "cell_type": "code",
   "execution_count": null,
   "metadata": {},
   "outputs": [],
   "source": [
    "big_list = [ 17, -72,  97, -18, 32, -15, -63, -57,  40,  83,\n",
    "            -48,  26,  12, -62, 16,  49,  55, -77, -30,  92,\n",
    "             34, -29, -75,  13, 40, -85,  62, -74, -69, -31]"
   ]
  },
  {
   "cell_type": "markdown",
   "metadata": {},
   "source": [
    "Assume that we wish to sum the absolute values of the numbers in `big_list`. We can do so using a for loop and the `abs()` value function. "
   ]
  },
  {
   "cell_type": "code",
   "execution_count": null,
   "metadata": {},
   "outputs": [],
   "source": [
    "total = 0\n",
    "for i in range(0, len(big_list)):\n",
    "    total += abs(big_list[i])\n",
    "    \n",
    "print(total)"
   ]
  },
  {
   "cell_type": "markdown",
   "metadata": {},
   "source": [
    "There are occasions when we might want to create a new list based on the values in one or more already existing lists. Depending on the task, we might be able to accomplish it by starting with an empty list, and then appending elements to it as we loop over another list. \n",
    "\n",
    "As an example, assume that we have been provided with two equally sized lists, `listA` and `listB`, as follows:"
   ]
  },
  {
   "cell_type": "code",
   "execution_count": null,
   "metadata": {},
   "outputs": [],
   "source": [
    "listA = [13, 18, 23, 42, 27, 22, 36, 17, 44, 34, 35, 33, 41, 43, 12, 45, 29, 37, 14, 15]\n",
    "\n",
    "listB = [42, 14, 31, 39, 40, 48, 47, 36, 28, 32, 11, 27, 16, 17, 34, 33, 46, 22, 26, 15]"
   ]
  },
  {
   "cell_type": "markdown",
   "metadata": {},
   "source": [
    "Assume that we need to create a new list, `listC`, that has the same number of elements as `listA` and `listB`, such that an particular element in `listC` is the sum of the numbers with the same index in `listA` and `listB`. The cell below includes code for accomplishing such a task. "
   ]
  },
  {
   "cell_type": "code",
   "execution_count": null,
   "metadata": {},
   "outputs": [],
   "source": [
    "listC = []\n",
    "\n",
    "M = min(len(listA), len(listB))\n",
    "\n",
    "for i in range(0, M):\n",
    "    temp = listA[i] + listB[i]\n",
    "    listC.append(temp)\n",
    "    \n",
    "print(listC)"
   ]
  },
  {
   "cell_type": "code",
   "execution_count": null,
   "metadata": {},
   "outputs": [],
   "source": []
  },
  {
   "cell_type": "markdown",
   "metadata": {},
   "source": [
    "## Nested Loops\n",
    "\n",
    "For some complex tasks, it is necessary to include loops inside of other loops. This is called a **nested loop**. The simplest case of a nested loops is when we have one loop that itself contains another loop. In this case, we call the first loop that Python encounters the **outer loop**, and the loop inside of that is called the **inner loop**. Each time the outer loop runs, the entire inner loop will process, running through all of it's possible iterations. \n",
    "\n",
    "To get an introduction to how nested loops work, consider the following example. "
   ]
  },
  {
   "cell_type": "code",
   "execution_count": null,
   "metadata": {},
   "outputs": [],
   "source": [
    "for i in range(0, 6):\n",
    "    \n",
    "    for j in range(0, 3):\n",
    "        \n",
    "        print(\"i is equal to \" + str(i) + \"; j is equal to \" + str(j))\n",
    "        \n",
    "    print()"
   ]
  },
  {
   "cell_type": "markdown",
   "metadata": {},
   "source": [
    "## Example: Matrix Addition\n",
    "\n",
    "The following cell contains a list of lists, named `A`. This list is intended to represent a 3x5 matrix. Each of the three lists inside `A` represents a single row with 5 elements."
   ]
  },
  {
   "cell_type": "code",
   "execution_count": null,
   "metadata": {},
   "outputs": [],
   "source": [
    "A = [ [11,12,13,14,15], [16,17,18,19,20], [21,22,23,24,25]  ]"
   ]
  },
  {
   "cell_type": "markdown",
   "metadata": {},
   "source": [
    "The cell below prints the rows of `A` one at a time. This output will more closely resemble a matrix. "
   ]
  },
  {
   "cell_type": "code",
   "execution_count": null,
   "metadata": {},
   "outputs": [],
   "source": [
    "for row in A:\n",
    "    print(row)"
   ]
  },
  {
   "cell_type": "markdown",
   "metadata": {},
   "source": [
    "Assume that we wish to create a new list called `ASquare`. This list should also represent a 3x5 matrix, and each element of `ASquare` should be the square of the corresponding element of `A`. This will require two loops. The first loop will loop over the rows of `A`. The second loop will loop over the elements of a given row. "
   ]
  },
  {
   "cell_type": "code",
   "execution_count": null,
   "metadata": {},
   "outputs": [],
   "source": [
    "ASquare = []\n",
    "\n",
    "for i in range(0,len(A)):\n",
    "    \n",
    "    tempRow = []    \n",
    "    for j in range(0,len(A[i])):\n",
    "        tempRow.append(A[i][j] ** 2)\n",
    "        \n",
    "    ASquare.append(tempRow)"
   ]
  },
  {
   "cell_type": "markdown",
   "metadata": {},
   "source": [
    "Notice that we build up each row in `ASquare` one element at a time, and when we are finished with a row, we add that to `ASquare`. We will now print the rows of `ASquare`. "
   ]
  },
  {
   "cell_type": "code",
   "execution_count": null,
   "metadata": {},
   "outputs": [],
   "source": [
    "for row in ASquare:\n",
    "    print(row)"
   ]
  },
  {
   "cell_type": "markdown",
   "metadata": {},
   "source": [
    "## `enumerate()`"
   ]
  },
  {
   "cell_type": "code",
   "execution_count": 1,
   "metadata": {
    "jupyter": {
     "source_hidden": true
    },
    "tags": []
   },
   "outputs": [],
   "source": [
    "# to be added"
   ]
  },
  {
   "cell_type": "markdown",
   "metadata": {},
   "source": [
    "## `zip()`"
   ]
  },
  {
   "cell_type": "code",
   "execution_count": 1,
   "metadata": {},
   "outputs": [],
   "source": [
    "# to be added"
   ]
  },
  {
   "cell_type": "markdown",
   "metadata": {},
   "source": [
    "## List Comprehensions\n",
    "\n",
    "Python creates a shortcut for iteratively creating lists. This shortcut is called a **list comprehension**. We know that we can create a list iteratively using a for loop as follows:\n",
    "\n",
    "    my_list = []\n",
    "    for i in range(a,b):\n",
    "        value = whatever\n",
    "        my_list.append(value)\n",
    "        \n",
    "The same result can be obtained in a more compact fashion using a list comprehension as follows:\n",
    "\n",
    "    my_list = [value for i in range(a,b)]\n",
    "      \n",
    "Lets see a few examples. In the first example, we will create a list containing the square of all elements in a range. "
   ]
  },
  {
   "cell_type": "code",
   "execution_count": null,
   "metadata": {},
   "outputs": [],
   "source": [
    "sq_list = [n**2 for n in range(1,10)]\n",
    "print(sq_list)"
   ]
  },
  {
   "cell_type": "markdown",
   "metadata": {},
   "source": [
    "In a previous example, we were given lists `listA` and `listB`, and were asked to create a list `listC` that contained an elementwise sum of the `listA` and `listB`. Let's see how this could be accomplished with a list comprehension. "
   ]
  },
  {
   "cell_type": "code",
   "execution_count": null,
   "metadata": {},
   "outputs": [],
   "source": [
    "listA = [13, 18, 23, 42, 27, 22, 36, 17, 44, 34, 35, 33, 41, 43, 12, 45, 29, 37, 14, 15]\n",
    "\n",
    "listB = [42, 14, 31, 39, 40, 48, 47, 36, 28, 32, 11, 27, 16, 17, 34, 33, 46, 22, 26, 15]"
   ]
  },
  {
   "cell_type": "code",
   "execution_count": null,
   "metadata": {},
   "outputs": [],
   "source": [
    "listC = [listA[i] + listB[i] for i in range(0, len(listA))]\n",
    "\n",
    "print(listC)"
   ]
  },
  {
   "cell_type": "markdown",
   "metadata": {},
   "source": [
    "## Dictionary Comprehensions"
   ]
  },
  {
   "cell_type": "markdown",
   "metadata": {},
   "source": [
    "## `break` and `continue`"
   ]
  },
  {
   "cell_type": "code",
   "execution_count": 1,
   "metadata": {},
   "outputs": [],
   "source": [
    "# to be added"
   ]
  }
 ],
 "metadata": {
  "kernelspec": {
   "display_name": "Python 3",
   "language": "python",
   "name": "python3"
  },
  "language_info": {
   "codemirror_mode": {
    "name": "ipython",
    "version": 3
   },
   "file_extension": ".py",
   "mimetype": "text/x-python",
   "name": "python",
   "nbconvert_exporter": "python",
   "pygments_lexer": "ipython3",
   "version": "3.8.8"
  }
 },
 "nbformat": 4,
 "nbformat_minor": 4
}
