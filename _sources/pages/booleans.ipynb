{
 "cells": [
  {
   "cell_type": "markdown",
   "metadata": {},
   "source": [
    "# Boolean Values"
   ]
  },
  {
   "cell_type": "markdown",
   "metadata": {},
   "source": [
    "When writing a program to automate a task, it is often necessary for the program to be able to check whether or not a certain logical condition is true, and then select an action based on this evaluation. As a tool for working with evaluation logical expressions, Python provides us with a **Boolean** data type. Boolean variables can take only one of only two values: `True` or `False`. \n",
    "\n",
    "In the next two cells, we will create two boolean variables. For each variable, we will print its value, as well as its type. \n"
   ]
  },
  {
   "cell_type": "code",
   "execution_count": null,
   "metadata": {},
   "outputs": [],
   "source": [
    "varT = True\n",
    "print(varT)\n",
    "print(type(varT))"
   ]
  },
  {
   "cell_type": "code",
   "execution_count": null,
   "metadata": {},
   "outputs": [],
   "source": [
    "varF = False\n",
    "print(varF)\n",
    "print(type(varF))"
   ]
  },
  {
   "cell_type": "markdown",
   "metadata": {
    "jupyter": {
     "source_hidden": true
    },
    "tags": []
   },
   "source": [
    "# Comparison Operators\n",
    "\n",
    "Provide provides many **comparison operators** for checking to see if certain relationships exist between two values. Each comparison operator will evaluate as single Boolean value. The most commonly used comparison operators are:\n",
    "\n",
    "| Operator  | Meaning |\n",
    "|:---:|-----|\n",
    "| <   | Less than |\n",
    "| >   | Greater than |\n",
    "| <=  | Less than or equal to |\n",
    "| =>  | Greater than or equal to |\n",
    "| ==  | Equal to |\n",
    "| !=  | Not equal to |\n",
    "\n",
    "Note that the \"equal to\" comparison operator (`==`) consists of two equals signs, while the assignment operator (`=`) consists of one equal sign. Mixing up these operators is a very common mistake, even for experienced programmers. \n",
    "\n",
    "When one of the comparison operators appears between two values, Python will perform the indicated comparison, which will evaluate to either `True` or `False`. "
   ]
  },
  {
   "cell_type": "markdown",
   "metadata": {},
   "source": [
    "## Numerical Comparisons\n",
    "\n",
    "Comparison operators are most commonly used to compare numerical values. When used between two numbers, as comparison operator will have the same meaning as the associator comparison from mathematics. Let's see some examples. "
   ]
  },
  {
   "cell_type": "code",
   "execution_count": null,
   "metadata": {},
   "outputs": [],
   "source": [
    "# Less than\n",
    "2 < 6"
   ]
  },
  {
   "cell_type": "code",
   "execution_count": null,
   "metadata": {},
   "outputs": [],
   "source": [
    "# Greater than\n",
    "2 > 9"
   ]
  },
  {
   "cell_type": "code",
   "execution_count": null,
   "metadata": {},
   "outputs": [],
   "source": [
    "# Equality operator\n",
    "1 == 7"
   ]
  },
  {
   "cell_type": "code",
   "execution_count": null,
   "metadata": {},
   "outputs": [],
   "source": [
    "6 == 2*3"
   ]
  },
  {
   "cell_type": "code",
   "execution_count": null,
   "metadata": {},
   "outputs": [],
   "source": [
    "# Not equal\n",
    "6 != 10 - 3"
   ]
  },
  {
   "cell_type": "markdown",
   "metadata": {},
   "source": [
    "All of the comparison examples above involved comparisons between integers. It is worth mentioning that Python will compare integers and floats without complaint. "
   ]
  },
  {
   "cell_type": "code",
   "execution_count": null,
   "metadata": {},
   "outputs": [],
   "source": [
    "a = 17\n",
    "b = 17.0\n",
    "\n",
    "print(type(a))\n",
    "print(type(b))"
   ]
  },
  {
   "cell_type": "code",
   "execution_count": null,
   "metadata": {},
   "outputs": [],
   "source": [
    "a == b"
   ]
  },
  {
   "cell_type": "markdown",
   "metadata": {},
   "source": [
    "## String Comparisons\n",
    "\n",
    "We can also perform comparisons between strings. In this case, a Python performs a lexicographical comparison in which strings are ordered alphabetically, with letters appearing earlier in the alphabet being \"less than\" those later in the alphabet. The comparison is case sensitive, with uppercase letters appearing before lowercase letters in the ordering. "
   ]
  },
  {
   "cell_type": "code",
   "execution_count": null,
   "metadata": {},
   "outputs": [],
   "source": [
    "'zebra' > 'aardvark'"
   ]
  },
  {
   "cell_type": "code",
   "execution_count": null,
   "metadata": {},
   "outputs": [],
   "source": [
    "'aardvark' < 'ant'"
   ]
  },
  {
   "cell_type": "code",
   "execution_count": null,
   "metadata": {},
   "outputs": [],
   "source": [
    "'aardvark' < 'Bat'"
   ]
  },
  {
   "cell_type": "code",
   "execution_count": null,
   "metadata": {},
   "outputs": [],
   "source": [
    "'Ant' == 'ant'"
   ]
  },
  {
   "cell_type": "markdown",
   "metadata": {},
   "source": [
    "If you ever wish to compare two strings in a case-insensitive way, then you can first convert both strings to lowercase using the `lower()` string method. "
   ]
  },
  {
   "cell_type": "code",
   "execution_count": null,
   "metadata": {
    "scrolled": true
   },
   "outputs": [],
   "source": [
    "s1 = 'Zebra'\n",
    "s2 = 'zebra'\n",
    "\n",
    "s1.lower() == s2.lower()"
   ]
  },
  {
   "cell_type": "markdown",
   "metadata": {},
   "source": [
    "Python has a few special comparison operators that can be used to detect specific types of relationships between strings. For example, strings can be compared using the `in` and `not in` operators. \n",
    "* The `in` operator will return `True` if the string on the left side of the operator appears within the string on the right side, and `False` otherwise.\n",
    "* The `not in` operator will return `True` if the string on the left of the operator DOES NOT appear within the string on the right side, and `False` otherwise."
   ]
  },
  {
   "cell_type": "code",
   "execution_count": null,
   "metadata": {},
   "outputs": [],
   "source": [
    "my_string = 'This land is my land.'\n",
    "\n",
    "print('land' in my_string)\n",
    "print('island' in my_string)\n",
    "print('Land' not in my_string)"
   ]
  },
  {
   "cell_type": "markdown",
   "metadata": {},
   "source": [
    "## Comparings Strings and Integers\n",
    "\n",
    "In some situations, it is valid to use the comparison operators between values of different data types. Although (with the notable exception of comparisons between `int` and `float` values) the results are often not that interesting. \n",
    "\n",
    "For example, you can use `!=` and `==` to compare a string with a numerical value, but Python will always interpret the two items as being unequal, regardless of the values. "
   ]
  },
  {
   "cell_type": "code",
   "execution_count": null,
   "metadata": {},
   "outputs": [],
   "source": [
    "str7 = \"7\"\n",
    "int7 = 7\n",
    "\n",
    "str7 == int7"
   ]
  },
  {
   "cell_type": "markdown",
   "metadata": {},
   "source": [
    "Attempting to compare a strings with a number using `<`, `>`, `<=`, or `>=` will produce an error. "
   ]
  },
  {
   "cell_type": "code",
   "execution_count": null,
   "metadata": {
    "jupyter": {
     "source_hidden": true
    },
    "tags": []
   },
   "outputs": [],
   "source": [
    "str7 < int7"
   ]
  },
  {
   "cell_type": "markdown",
   "metadata": {},
   "source": [
    "## Arithmetic with Boolean Values\n",
    "\n",
    "Boolean values can be used in expressions as if they were numbers. When used in a numerical calculation, Boolean Values are evaluated as follows:\n",
    "* 'True' evaluates to 1\n",
    "* 'False' evaluates to 0\n",
    "\n",
    "We illustrate this concept with a few examples below. "
   ]
  },
  {
   "cell_type": "code",
   "execution_count": null,
   "metadata": {},
   "outputs": [],
   "source": [
    "False + True"
   ]
  },
  {
   "cell_type": "code",
   "execution_count": null,
   "metadata": {},
   "outputs": [],
   "source": [
    "False * True"
   ]
  },
  {
   "cell_type": "code",
   "execution_count": null,
   "metadata": {},
   "outputs": [],
   "source": [
    "True * 2"
   ]
  },
  {
   "cell_type": "code",
   "execution_count": null,
   "metadata": {
    "scrolled": true
   },
   "outputs": [],
   "source": [
    "False * 5"
   ]
  },
  {
   "cell_type": "code",
   "execution_count": null,
   "metadata": {},
   "outputs": [],
   "source": [
    "True + 5"
   ]
  },
  {
   "cell_type": "markdown",
   "metadata": {},
   "source": [
    "It might seem strange to assign logical values a numerical interpretation, but it is quite common within mathematics and computer science. And, as we will see later, it does have a number of useful applications. "
   ]
  },
  {
   "cell_type": "markdown",
   "metadata": {},
   "source": [
    "## Logical Operators\n",
    "\n",
    "We can use the **logical operators** (or **Boolean Operators**) `and`, `or`, and `not` to perform a certain kind of arithmetic on Boolean values. These rules for evaluating these operators are as follows:\n",
    "\n",
    "* When `and` appears between two Boolean values, it will evaluate to `True` if and only if **both** Boolean values are `True`. If either value is `False`, then the `and` operator will evaluate to `False`. \n",
    "\n",
    "* When `or` appears between two Boolean values, it will evaluate to `True` if **either** of the Boolean values are `True`. If both values are `False`, then the `or` operator will evaluate to `False`. \n",
    "\n",
    "* When `not` appears before a Boolean value, it will perform a logical negation, evaluating to the opposite Boolean value. \n",
    "\n",
    "The cells below cover all of the possible cases that can arise from using these operators on Boolean values. "
   ]
  },
  {
   "cell_type": "code",
   "execution_count": null,
   "metadata": {},
   "outputs": [],
   "source": [
    "# Truth values for and operator\n",
    "print(True and True)\n",
    "print(True and False)\n",
    "print(False and True)\n",
    "print(False and False)"
   ]
  },
  {
   "cell_type": "code",
   "execution_count": null,
   "metadata": {},
   "outputs": [],
   "source": [
    "# Truth values for or operator\n",
    "print(True or True)\n",
    "print(True or False)\n",
    "print(False or True)\n",
    "print(False or False)"
   ]
  },
  {
   "cell_type": "code",
   "execution_count": null,
   "metadata": {},
   "outputs": [],
   "source": [
    "# Truth values for not operator\n",
    "print(not True)\n",
    "print(not False)"
   ]
  },
  {
   "cell_type": "markdown",
   "metadata": {},
   "source": [
    "We can use the logical operators to combine basic conditional expressions into more complicated expressions."
   ]
  },
  {
   "cell_type": "code",
   "execution_count": null,
   "metadata": {},
   "outputs": [],
   "source": [
    "x = 7\n",
    "print( (x > 2) and (x < 9) )\n",
    "print( (x > 2) and (x < 6) )"
   ]
  },
  {
   "cell_type": "code",
   "execution_count": null,
   "metadata": {
    "scrolled": true
   },
   "outputs": [],
   "source": [
    "print( (x > 2) or (x < 6) )\n",
    "print( (x > 9) or (x < 6) )"
   ]
  },
  {
   "cell_type": "code",
   "execution_count": null,
   "metadata": {
    "scrolled": true
   },
   "outputs": [],
   "source": [
    "print( not (x < 9))"
   ]
  },
  {
   "cell_type": "markdown",
   "metadata": {},
   "source": [
    "## Modulus Operator\n",
    "\n",
    "The **modulus operator** `%` can be used to find the remainder resulting from dividing one integer by another. If `a` and `b` are integers, then the expression `a % b` will evaluate to the remainder resulting from dividing `a` by `b`. "
   ]
  },
  {
   "cell_type": "code",
   "execution_count": null,
   "metadata": {},
   "outputs": [],
   "source": [
    "print(37 % 5)"
   ]
  },
  {
   "cell_type": "code",
   "execution_count": null,
   "metadata": {},
   "outputs": [],
   "source": [
    "print(38 % 5)"
   ]
  },
  {
   "cell_type": "markdown",
   "metadata": {},
   "source": [
    "We can use the modulus operator to determine if one number is evenly divisible by another. "
   ]
  },
  {
   "cell_type": "code",
   "execution_count": null,
   "metadata": {},
   "outputs": [],
   "source": [
    "x = 42\n",
    "print(x % 7 == 0)"
   ]
  },
  {
   "cell_type": "code",
   "execution_count": null,
   "metadata": {},
   "outputs": [],
   "source": [
    "x = 32\n",
    "print(x % 7 == 0)"
   ]
  },
  {
   "cell_type": "code",
   "execution_count": null,
   "metadata": {},
   "outputs": [],
   "source": [
    "x = 17\n",
    "print((x > 5) and (x % 2 == 1))"
   ]
  }
 ],
 "metadata": {
  "kernelspec": {
   "display_name": "Python 3",
   "language": "python",
   "name": "python3"
  },
  "language_info": {
   "codemirror_mode": {
    "name": "ipython",
    "version": 3
   },
   "file_extension": ".py",
   "mimetype": "text/x-python",
   "name": "python",
   "nbconvert_exporter": "python",
   "pygments_lexer": "ipython3",
   "version": "3.8.8"
  }
 },
 "nbformat": 4,
 "nbformat_minor": 4
}
