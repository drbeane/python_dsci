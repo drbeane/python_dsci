{
 "cells": [
  {
   "cell_type": "markdown",
   "metadata": {},
   "source": [
    "## Logical Operators\n",
    "\n",
    "We can use the **logical operators** (or **Boolean Operators**) `and`, `or`, and `not` to perform a certain kind of arithmetic on Boolean values. These rules for evaluating these operators are as follows:\n",
    "\n",
    "* When `and` appears between two Boolean values, it will evaluate to `True` if and only if **both** Boolean values are `True`. If either value is `False`, then the `and` operator will evaluate to `False`. \n",
    "\n",
    "* When `or` appears between two Boolean values, it will evaluate to `True` if **either** of the Boolean values are `True`. If both values are `False`, then the `or` operator will evaluate to `False`. \n",
    "\n",
    "* When `not` appears before a Boolean value, it will perform a logical negation, evaluating to the opposite Boolean value. \n",
    "\n",
    "The cells below cover all of the possible cases that can arise from using these operators on Boolean values. "
   ]
  },
  {
   "cell_type": "code",
   "execution_count": null,
   "metadata": {},
   "outputs": [],
   "source": [
    "# Truth values for and operator\n",
    "print(True and True)\n",
    "print(True and False)\n",
    "print(False and True)\n",
    "print(False and False)"
   ]
  },
  {
   "cell_type": "code",
   "execution_count": null,
   "metadata": {},
   "outputs": [],
   "source": [
    "# Truth values for or operator\n",
    "print(True or True)\n",
    "print(True or False)\n",
    "print(False or True)\n",
    "print(False or False)"
   ]
  },
  {
   "cell_type": "code",
   "execution_count": null,
   "metadata": {},
   "outputs": [],
   "source": [
    "# Truth values for not operator\n",
    "print(not True)\n",
    "print(not False)"
   ]
  },
  {
   "cell_type": "markdown",
   "metadata": {},
   "source": [
    "We can use the logical operators to combine basic conditional expressions into more complicated expressions."
   ]
  },
  {
   "cell_type": "code",
   "execution_count": null,
   "metadata": {},
   "outputs": [],
   "source": [
    "x = 7\n",
    "print( (x > 2) and (x < 9) )\n",
    "print( (x > 2) and (x < 6) )"
   ]
  },
  {
   "cell_type": "code",
   "execution_count": null,
   "metadata": {
    "scrolled": true
   },
   "outputs": [],
   "source": [
    "print( (x > 2) or (x < 6) )\n",
    "print( (x > 9) or (x < 6) )"
   ]
  },
  {
   "cell_type": "code",
   "execution_count": null,
   "metadata": {
    "scrolled": true
   },
   "outputs": [],
   "source": [
    "print( not (x < 9))"
   ]
  }
 ],
 "metadata": {
  "kernelspec": {
   "display_name": "Python 3",
   "language": "python",
   "name": "python3"
  },
  "language_info": {
   "codemirror_mode": {
    "name": "ipython",
    "version": 3
   },
   "file_extension": ".py",
   "mimetype": "text/x-python",
   "name": "python",
   "nbconvert_exporter": "python",
   "pygments_lexer": "ipython3",
   "version": "3.8.5"
  }
 },
 "nbformat": 4,
 "nbformat_minor": 4
}
