{
 "cells": [
  {
   "cell_type": "markdown",
   "metadata": {},
   "source": [
    "# Working with Text Files\n"
   ]
  },
  {
   "cell_type": "markdown",
   "metadata": {},
   "source": [
    "In this lesson, we will see how to use the `open()` function to open an existing text file, or to create a new text file. We will see how to read text from a file and how to write text to a file. \n",
    "\n",
    "In several of the examples we see in this lesson, we will be working with the file `my_file.txt` in the `data/` directory. This file is a text file containing the three lines of text shown below. "
   ]
  },
  {
   "cell_type": "markdown",
   "metadata": {},
   "source": [
    "    This is the first line. \n",
    "    This is the second line. \n",
    "    This is the third line. "
   ]
  },
  {
   "cell_type": "markdown",
   "metadata": {},
   "source": [
    "## Opening and Closing Files\n",
    "\n",
    "We will start by discussing how to open and close files. These tasks can be accomplished using the `open()` and `close()` functions. The `open()` function requires a parameter named `file` that is expected to be a string representing the path to a file. This function also accepts a number of optional parameters. The most important of these is `mode`, which we will consider later in the lesson. \n",
    "\n",
    "In the cell below, we open the file `my_file.txt`, storing the value returned into a variable named `fin` (which stands for file input). We then print the type of `fin`, and see that it has type `_io.TextIOWrapper`. This object does not contain the actual text from the file, but instead provides a link through which we can access the contents of the file. "
   ]
  },
  {
   "cell_type": "code",
   "execution_count": 1,
   "metadata": {},
   "outputs": [],
   "source": [
    "fin = open('data/my_file.txt')\n",
    "print(type(fin))"
   ]
  },
  {
   "cell_type": "markdown",
   "metadata": {},
   "source": [
    "After running the cell above, the file will be open in Python. You won't see the contents of the file as a window in your operating system, but the file is none-the-less open. If you were to try to delete the file at this point, you would likely see a message similar to the one below:\n",
    "\n",
    "    \"The action can't be completed because the file is open in Python.\"\n",
    "    \n",
    "We can confirm that the file is open by printing the `closed` attribute of the `TextIOWrapper` object. "
   ]
  },
  {
   "cell_type": "code",
   "execution_count": 2,
   "metadata": {},
   "outputs": [
    {
     "name": "stdout",
     "output_type": "stream",
     "text": [
      "False\n"
     ]
    }
   ],
   "source": [
    "print(fin.closed)"
   ]
  },
  {
   "cell_type": "markdown",
   "metadata": {},
   "source": [
    "It is good practice to always close files when you are done working with them. This can be accomplished using the `close()` method of the `TextIOWrapper` object. \n",
    "\n",
    "Python will automatically close any open files when the Python sessions ends, but closing the files manually will free up valuable resources, and is particularly important in programs that work with multiple files, or very large files."
   ]
  },
  {
   "cell_type": "code",
   "execution_count": 3,
   "metadata": {},
   "outputs": [],
   "source": [
    "fin.close()"
   ]
  },
  {
   "cell_type": "markdown",
   "metadata": {},
   "source": [
    "We will again check the value of the `closed` attribute to confirm that the file has been closed. "
   ]
  },
  {
   "cell_type": "code",
   "execution_count": 4,
   "metadata": {},
   "outputs": [
    {
     "name": "stdout",
     "output_type": "stream",
     "text": [
      "True\n"
     ]
    }
   ],
   "source": [
    "print(fin.closed)"
   ]
  },
  {
   "cell_type": "markdown",
   "metadata": {},
   "source": [
    "## The Mode Parameter \n",
    "\n",
    "We can use the `mode` parameter to specify the time of file operations should be allowed on the file we have opened. In particular, we can use `mode` to specify if we would like for the text file to be read-only, or if writing to the file should be allowed. \n",
    "\n",
    "A list of possible values for the `mode` parameter is provided below, along with explanations of the purpose of these values. \n",
    "* `r` means \"read\". A file opened in this model will be read-only. \n",
    "* `w` means \"write\". If the file does not exist, it is created. If the file does exist, it is overwritten.\n",
    "* `x` means \"write\". This mode will only works if the file does not already exist. If the file already exists, an error will occur.\n",
    "* `a` means \"append\". This mode allows for new lines to be added to the end of a file. \n",
    "\n",
    "The default value for `mode` is `r`, so if we only wish to read the contents of a file, we do not need to specify the `mode` parameter. "
   ]
  },
  {
   "cell_type": "markdown",
   "metadata": {},
   "source": [
    "## Reading File  Contents\n",
    "\n",
    "There are several tools available for reading the contents of an open file. The three most common such tools are the methods `read()`, `read_lines()`, and `read_line()`. \n",
    "\n",
    "* The **`read()`** method will return a string that contains the entire content of the file. \n",
    "* The **`readlines()`** method will return a list of strings, with each string representing a single line of the file. \n",
    "* The **`readline()`** method will return an iterator, each value of which will be a string representing a single line of the file. \n",
    "\n",
    "### read()\n",
    "\n",
    "We will now take a look at an example of using the `read()` method. "
   ]
  },
  {
   "cell_type": "code",
   "execution_count": 5,
   "metadata": {},
   "outputs": [],
   "source": [
    "fin = open('data/my_file.txt')\n",
    "contents = fin.read()\n",
    "fin.close()"
   ]
  },
  {
   "cell_type": "markdown",
   "metadata": {},
   "source": [
    "We will print the data type of the `contents` variable to confirm that it is a string. "
   ]
  },
  {
   "cell_type": "code",
   "execution_count": 6,
   "metadata": {},
   "outputs": [
    {
     "name": "stdout",
     "output_type": "stream",
     "text": [
      "<class 'str'>\n"
     ]
    }
   ],
   "source": [
    "print(type(contents))"
   ]
  },
  {
   "cell_type": "markdown",
   "metadata": {},
   "source": [
    "If we print `contents`, we will see that it contains all three lines of `my_file.txt`. "
   ]
  },
  {
   "cell_type": "code",
   "execution_count": 7,
   "metadata": {},
   "outputs": [
    {
     "name": "stdout",
     "output_type": "stream",
     "text": [
      "This is the first line.\n",
      "This is the second line.\n",
      "This is the third line.\n"
     ]
    }
   ],
   "source": [
    "print(contents)"
   ]
  },
  {
   "cell_type": "markdown",
   "metadata": {},
   "source": [
    "If we disply the `contents` variable without using `print()`, we can see that the string contains newline characters used to separate the lines. "
   ]
  },
  {
   "cell_type": "code",
   "execution_count": 8,
   "metadata": {},
   "outputs": [
    {
     "data": {
      "text/plain": [
       "'This is the first line.\\nThis is the second line.\\nThis is the third line.'"
      ]
     },
     "execution_count": 8,
     "metadata": {},
     "output_type": "execute_result"
    }
   ],
   "source": [
    "contents"
   ]
  },
  {
   "cell_type": "markdown",
   "metadata": {},
   "source": [
    "If we wanted to separate each line of the file into its own string, we could use the `split()` method, splitting the string on newline characters. "
   ]
  },
  {
   "cell_type": "code",
   "execution_count": 9,
   "metadata": {},
   "outputs": [
    {
     "name": "stdout",
     "output_type": "stream",
     "text": [
      "['This is the first line.', 'This is the second line.', 'This is the third line.']\n"
     ]
    }
   ],
   "source": [
    "contents_list = contents.split('\\n')\n",
    "print(contents_list)"
   ]
  },
  {
   "cell_type": "markdown",
   "metadata": {},
   "source": [
    "### readlines()\n",
    "\n",
    "We will now explore the `readlines()` method. In the cell below, we open the file `my_files.txt`, read its contents using `readlines()`, and then close the file. We also dispay the results returned by `readlines()` to confirm that this is a list of strings. "
   ]
  },
  {
   "cell_type": "code",
   "execution_count": 10,
   "metadata": {},
   "outputs": [
    {
     "name": "stdout",
     "output_type": "stream",
     "text": [
      "['This is the first line.\\n', 'This is the second line.\\n', 'This is the third line.']\n"
     ]
    }
   ],
   "source": [
    "fin = open('data/my_file.txt')\n",
    "contents_list = fin.readlines()\n",
    "fin.close()\n",
    "\n",
    "print(contents_list)"
   ]
  },
  {
   "cell_type": "markdown",
   "metadata": {},
   "source": [
    "Notice that each string  above ends with a newline character. If we wish to remove these, we can use the `strip()` method which removes whitespace characters from the end of a string. "
   ]
  },
  {
   "cell_type": "code",
   "execution_count": 11,
   "metadata": {},
   "outputs": [
    {
     "name": "stdout",
     "output_type": "stream",
     "text": [
      "['This is the first line.', 'This is the second line.', 'This is the third line.']\n"
     ]
    }
   ],
   "source": [
    "for i in range(len(contents_list)):\n",
    "    contents_list[i] = contents_list[i].strip()\n",
    "    \n",
    "print(contents_list)"
   ]
  },
  {
   "cell_type": "markdown",
   "metadata": {},
   "source": [
    "## Using With\n",
    "\n",
    "We can use the `with` keyword to reduce the number of steps involved in working with a file. When we open a file using `with`, the file will be automatically closed when we leave the `with` block. The usage of this keyword is illustrated in the example below. "
   ]
  },
  {
   "cell_type": "code",
   "execution_count": 12,
   "metadata": {},
   "outputs": [
    {
     "name": "stdout",
     "output_type": "stream",
     "text": [
      "['This is the first line.', 'This is the second line.', 'This is the third line.']\n"
     ]
    }
   ],
   "source": [
    "with open('data/my_file.txt') as fin:\n",
    "    contents = fin.read()\n",
    "\n",
    "contents_list = contents.split('\\n')\n",
    "print(contents_list)"
   ]
  },
  {
   "cell_type": "markdown",
   "metadata": {},
   "source": [
    "## Writing to a File \n",
    "\n",
    "We will see how to write to a file by setting the `mode` parameter of `open` to `w`. When using `mode='w'`, a new file will be created if one does not already exist with the specified name. If the file does already exist, then it will be overwritten. \n",
    "\n",
    "In the cell below, we will create a file named `new_file.txt` within the `data/` folder, and will then write three lines to it. "
   ]
  },
  {
   "cell_type": "code",
   "execution_count": 13,
   "metadata": {},
   "outputs": [],
   "source": [
    "line1 = 'This is the first line.\\n'\n",
    "line2 = 'This is the second line.\\n'\n",
    "line3 = 'This is the third line.'\n",
    "\n",
    "with open('data/new_file.txt', 'w') as fout:\n",
    "    fout.write(line1)\n",
    "    fout.write(line2)\n",
    "    fout.write(line3)"
   ]
  },
  {
   "cell_type": "markdown",
   "metadata": {},
   "source": [
    "We will confirm that the file was written correctly by opening the file in read-only mode and printing its contents. "
   ]
  },
  {
   "cell_type": "code",
   "execution_count": 14,
   "metadata": {},
   "outputs": [
    {
     "name": "stdout",
     "output_type": "stream",
     "text": [
      "This is the first line.\n",
      "This is the second line.\n",
      "This is the third line.\n"
     ]
    }
   ],
   "source": [
    "with open('data/new_file.txt') as fin:\n",
    "    print(fin.read())"
   ]
  },
  {
   "cell_type": "markdown",
   "metadata": {},
   "source": [
    "## Appending\n",
    "\n",
    "If we open a file using `mode='a'`, then we can write to the end of the file. This will not delete the current content of the file, but will instead append new lines to the end of the file. "
   ]
  },
  {
   "cell_type": "code",
   "execution_count": 15,
   "metadata": {},
   "outputs": [],
   "source": [
    "line4 = '\\nThis is the fourth line.'\n",
    "line5 = '\\nThis is the fifth line.'\n",
    "\n",
    "with open('data/new_file.txt', 'a') as fout:\n",
    "    fout.write(line4)\n",
    "    fout.write(line5)"
   ]
  },
  {
   "cell_type": "markdown",
   "metadata": {},
   "source": [
    "We will confirm that the new content was written to the file by opening the file in read-only mode and printing its contents. "
   ]
  },
  {
   "cell_type": "code",
   "execution_count": 16,
   "metadata": {},
   "outputs": [
    {
     "name": "stdout",
     "output_type": "stream",
     "text": [
      "This is the first line.\n",
      "This is the second line.\n",
      "This is the third line.\n",
      "This is the fourth line.\n",
      "This is the fifth line.\n"
     ]
    }
   ],
   "source": [
    "with open('data/new_file.txt') as fin:\n",
    "    print(fin.read())"
   ]
  },
  {
   "cell_type": "markdown",
   "metadata": {},
   "source": [
    "## Processing Strings of Text\n",
    "\n",
    "Occasionally, you will need to break each line of a text file up into smaller pieces called tokens. It is particularly necessary in situations in which we are reading tabular data that has been stored as a text file. \n",
    "\n",
    "In the exampe below, we will open the file `titanic.txt` and read its contents using `readlines()`. We will then split each line into tokens, and print the contents of each line in a tabular format. "
   ]
  },
  {
   "cell_type": "code",
   "execution_count": 17,
   "metadata": {},
   "outputs": [
    {
     "name": "stdout",
     "output_type": "stream",
     "text": [
      "Survived  Pclass  Sex       Age     Name                                                        \n",
      "0         3       male      22      Mr. Owen Harris Braund                                      \n",
      "1         1       female    38      Mrs. John Bradley (Florence Briggs Thayer) Cumings          \n",
      "1         3       female    26      Miss. Laina Heikkinen                                       \n",
      "1         1       female    35      Mrs. Jacques Heath (Lily May Peel) Futrelle                 \n",
      "0         3       male      35      Mr. William Henry Allen                                     \n",
      "0         3       male      27      Mr. James Moran                                             \n",
      "0         1       male      54      Mr. Timothy J McCarthy                                      \n",
      "0         3       male      2       Master. Gosta Leonard Palsson                               \n",
      "1         3       female    27      Mrs. Oscar W (Elisabeth Vilhelmina Berg) Johnson            \n",
      "1         2       female    14      Mrs. Nicholas (Adele Achem) Nasser                          \n",
      "1         3       female    4       Miss. Marguerite Rut Sandstrom                              \n",
      "1         1       female    58      Miss. Elizabeth Bonnell                                     \n",
      "0         3       male      20      Mr. William Henry Saundercock                               \n",
      "0         3       male      39      Mr. Anders Johan Andersson                                  \n",
      "0         3       female    14      Miss. Hulda Amanda Adolfina Vestrom                         \n",
      "1         2       female    55      Mrs. (Mary D Kingcome) Hewlett                              \n",
      "0         3       male      2       Master. Eugene Rice                                         \n",
      "1         2       male      23      Mr. Charles Eugene Williams                                 \n",
      "0         3       female    31      Mrs. Julius (Emelia Maria Vandemoortele) Vander Planke      \n"
     ]
    }
   ],
   "source": [
    "with open('data/titanic.txt') as fin:\n",
    "    line_list = fin.readlines()\n",
    "    \n",
    "for line in line_list[:20]:\n",
    "    tokens = line.split('\\t')\n",
    "    print(f'{tokens[0]:<10}{tokens[1]:<8}{tokens[3]:<10}{tokens[4]:<8}{tokens[2]:<60}')\n",
    "        "
   ]
  }
 ],
 "metadata": {
  "kernelspec": {
   "display_name": "Python 3",
   "language": "python",
   "name": "python3"
  },
  "language_info": {
   "codemirror_mode": {
    "name": "ipython",
    "version": 3
   },
   "file_extension": ".py",
   "mimetype": "text/x-python",
   "name": "python",
   "nbconvert_exporter": "python",
   "pygments_lexer": "ipython3",
   "version": "3.8.5"
  }
 },
 "nbformat": 4,
 "nbformat_minor": 4
}
