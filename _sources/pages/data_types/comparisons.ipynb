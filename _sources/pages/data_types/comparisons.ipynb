{
 "cells": [
  {
   "cell_type": "markdown",
   "metadata": {},
   "source": [
    "# Comparison Operators\n",
    "\n",
    "Provide provides many **comparison operators** for checking to see if certain relationships exist between two values. Each comparison operator will evaluate as single Boolean value. The most commonly used comparison operators are:\n",
    "\n",
    "| Operator  | Meaning |\n",
    "|:---:|-----|\n",
    "| <   | Less than |\n",
    "| >   | Greater than |\n",
    "| <=  | Less than or equal to |\n",
    "| =>  | Greater than or equal to |\n",
    "| ==  | Equal to |\n",
    "| !=  | Not equal to |\n",
    "\n",
    "Note that the \"equal to\" comparison operator (`==`) consists of two equals signs, while the assignment operator (`=`) consists of one equal sign. Mixing up these operators is a very common mistake, even for experienced programmers. \n",
    "\n",
    "When one of the comparison operators appears between two values, Python will perform the indicated comparison, which will evaluate to either `True` or `False`. "
   ]
  },
  {
   "cell_type": "markdown",
   "metadata": {},
   "source": [
    "## Numerical Comparisons\n",
    "\n",
    "Comparison operators are most commonly used to compare numerical values. When used between two numbers, as comparison operator will have the same meaning as the associator comparison from mathematics. Let's see some examples. "
   ]
  },
  {
   "cell_type": "code",
   "execution_count": null,
   "metadata": {},
   "outputs": [],
   "source": [
    "# Less than\n",
    "2 < 6"
   ]
  },
  {
   "cell_type": "code",
   "execution_count": null,
   "metadata": {},
   "outputs": [],
   "source": [
    "# Greater than\n",
    "2 > 9"
   ]
  },
  {
   "cell_type": "code",
   "execution_count": null,
   "metadata": {},
   "outputs": [],
   "source": [
    "# Equality operator\n",
    "1 == 7"
   ]
  },
  {
   "cell_type": "code",
   "execution_count": null,
   "metadata": {},
   "outputs": [],
   "source": [
    "6 == 2*3"
   ]
  },
  {
   "cell_type": "code",
   "execution_count": null,
   "metadata": {},
   "outputs": [],
   "source": [
    "# Not equal\n",
    "6 != 10 - 3"
   ]
  },
  {
   "cell_type": "markdown",
   "metadata": {},
   "source": [
    "All of the comparison examples above involved comparisons between integers. It is worth mentioning that Python will compare integers and floats without complaint. "
   ]
  },
  {
   "cell_type": "code",
   "execution_count": null,
   "metadata": {},
   "outputs": [],
   "source": [
    "a = 17\n",
    "b = 17.0\n",
    "\n",
    "print(type(a))\n",
    "print(type(b))"
   ]
  },
  {
   "cell_type": "code",
   "execution_count": null,
   "metadata": {},
   "outputs": [],
   "source": [
    "a == b"
   ]
  },
  {
   "cell_type": "markdown",
   "metadata": {},
   "source": [
    "## String Comparisons\n",
    "\n",
    "We can also perform comparisons between strings. In this case, a Python performs a lexicographical comparison in which strings are ordered alphabetically, with letters appearing earlier in the alphabet being \"less than\" those later in the alphabet. The comparison is case sensitive, with uppercase letters appearing before lowercase letters in the ordering. "
   ]
  },
  {
   "cell_type": "code",
   "execution_count": null,
   "metadata": {},
   "outputs": [],
   "source": [
    "'zebra' > 'aardvark'"
   ]
  },
  {
   "cell_type": "code",
   "execution_count": null,
   "metadata": {},
   "outputs": [],
   "source": [
    "'aardvark' < 'ant'"
   ]
  },
  {
   "cell_type": "code",
   "execution_count": null,
   "metadata": {},
   "outputs": [],
   "source": [
    "'aardvark' < 'Bat'"
   ]
  },
  {
   "cell_type": "code",
   "execution_count": null,
   "metadata": {},
   "outputs": [],
   "source": [
    "'Ant' == 'ant'"
   ]
  },
  {
   "cell_type": "markdown",
   "metadata": {},
   "source": [
    "If you ever wish to compare two strings in a case-insensitive way, then you can first convert both strings to lowercase using the `lower()` string method. "
   ]
  },
  {
   "cell_type": "code",
   "execution_count": null,
   "metadata": {
    "scrolled": true
   },
   "outputs": [],
   "source": [
    "s1 = 'Zebra'\n",
    "s2 = 'zebra'\n",
    "\n",
    "s1.lower() == s2.lower()"
   ]
  },
  {
   "cell_type": "markdown",
   "metadata": {},
   "source": [
    "Python has a few special comparison operators that can be used to detect specific types of relationships between strings. For example, strings can be compared using the `in` and `not in` operators. \n",
    "* The `in` operator will return `True` if the string on the left side of the operator appears within the string on the right side, and `False` otherwise.\n",
    "* The `not in` operator will return `True` if the string on the left of the operator DOES NOT appear within the string on the right side, and `False` otherwise."
   ]
  },
  {
   "cell_type": "code",
   "execution_count": null,
   "metadata": {},
   "outputs": [],
   "source": [
    "my_string = 'This land is my land.'\n",
    "\n",
    "print('land' in my_string)\n",
    "print('island' in my_string)\n",
    "print('Land' not in my_string)"
   ]
  },
  {
   "cell_type": "markdown",
   "metadata": {},
   "source": [
    "## Comparings Strings and Integers\n",
    "\n",
    "In some situations, it is valid to use the comparison operators between values of different data types. Although (with the notable exception of comparisons between `int` and `float` values) the results are often not that interesting. \n",
    "\n",
    "For example, you can use `!=` and `==` to compare a string with a numerical value, but Python will always interpret the two items as being unequal, regardless of the values. "
   ]
  },
  {
   "cell_type": "code",
   "execution_count": null,
   "metadata": {},
   "outputs": [],
   "source": [
    "str7 = \"7\"\n",
    "int7 = 7\n",
    "\n",
    "str7 == int7"
   ]
  },
  {
   "cell_type": "markdown",
   "metadata": {},
   "source": [
    "Attempting to compare a strings with a number using `<`, `>`, `<=`, or `>=` will produce an error. "
   ]
  },
  {
   "cell_type": "code",
   "execution_count": null,
   "metadata": {},
   "outputs": [],
   "source": [
    "str7 < int7"
   ]
  }
 ],
 "metadata": {
  "kernelspec": {
   "display_name": "Python 3",
   "language": "python",
   "name": "python3"
  },
  "language_info": {
   "codemirror_mode": {
    "name": "ipython",
    "version": 3
   },
   "file_extension": ".py",
   "mimetype": "text/x-python",
   "name": "python",
   "nbconvert_exporter": "python",
   "pygments_lexer": "ipython3",
   "version": "3.8.5"
  }
 },
 "nbformat": 4,
 "nbformat_minor": 4
}
