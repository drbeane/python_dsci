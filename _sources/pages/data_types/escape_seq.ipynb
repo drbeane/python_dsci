{
 "cells": [
  {
   "cell_type": "markdown",
   "metadata": {},
   "source": [
    "## Escape Sequences\n",
    "An **escape sequence** is a sequence of characters that Python applies special meaning to when they are encountered in a string. Several common escape sequences are listed below.\n",
    "\n",
    "| Escape Sequence  | Result |\n",
    "|:---:|-----|\n",
    "| **`\\'`**  | Prints a single quote. |\n",
    "| **`\\\"`**  | Prints a double quote. |\n",
    "| **`\\n`**  | Inserts a newline. |\n",
    "| **`\\t`**  | Inserts a tab. |\n",
    "| **`\\\\`**  | Inserts a backslash. |\n",
    "\n",
    "For an example use case for escape sequences, assume that we want to define a variable containing the following string of characters: \n",
    "\n",
    "    He yelled, \"I've had enough!\" before storming out of the room.\n",
    "    \n",
    "As before, the presence of double quotes within the string prohibit us from being able to use double quotes to define the string. Furthermore, since the character for the apostrophe is the same as the character for a single quote, we are now no longer able to use single quotes to define our string. One solution is to use an escape sequence for the apostrophe so that Python knows to interpret it as text. "
   ]
  },
  {
   "cell_type": "code",
   "execution_count": null,
   "metadata": {},
   "outputs": [],
   "source": [
    "sentence = 'He yelled, \"I\\'ve had enough!\" before storming out of the room.'\n",
    "print(sentence)"
   ]
  },
  {
   "cell_type": "markdown",
   "metadata": {},
   "source": [
    "Had we wished, we could have escaped the double quotes within the string as well as the apostrophe. In this case, we could have used either single or double quotes to define our string. "
   ]
  },
  {
   "cell_type": "markdown",
   "metadata": {},
   "source": [
    "We can use the `\\n` escape sequence to insert a newline inside of a string. "
   ]
  },
  {
   "cell_type": "code",
   "execution_count": null,
   "metadata": {},
   "outputs": [],
   "source": [
    "tale2cities = \"It was the best of times.\\nIt was the worst of times.\"\n",
    "print(tale2cities)"
   ]
  },
  {
   "cell_type": "markdown",
   "metadata": {},
   "source": [
    "We can use `\\t` to insert tabs in our string. This can be used for indenting lines, or for aligning output. "
   ]
  },
  {
   "cell_type": "code",
   "execution_count": null,
   "metadata": {},
   "outputs": [],
   "source": [
    "print(\"Regular.\")\n",
    "print(\"\\tIndented.\")\n",
    "print(\"\\t\\tDouble indented.\")"
   ]
  },
  {
   "cell_type": "markdown",
   "metadata": {},
   "source": [
    "The tab escape sequence can be used to align portions of multi-line output. The following example shows how we might use tabs to align columns in the printout of an employee database. "
   ]
  },
  {
   "cell_type": "code",
   "execution_count": null,
   "metadata": {},
   "outputs": [],
   "source": [
    "print('ID\\tEmployee Name\\tSalary')\n",
    "print('-------------------------------')\n",
    "print('107\\tJane Doe\\t$54,000')\n",
    "print('139\\tJohn Smith\\t$48,300')\n",
    "print('162\\tPat Jones\\t$52,500')"
   ]
  }
 ],
 "metadata": {
  "kernelspec": {
   "display_name": "Python 3",
   "language": "python",
   "name": "python3"
  },
  "language_info": {
   "codemirror_mode": {
    "name": "ipython",
    "version": 3
   },
   "file_extension": ".py",
   "mimetype": "text/x-python",
   "name": "python",
   "nbconvert_exporter": "python",
   "pygments_lexer": "ipython3",
   "version": "3.8.5"
  }
 },
 "nbformat": 4,
 "nbformat_minor": 4
}
