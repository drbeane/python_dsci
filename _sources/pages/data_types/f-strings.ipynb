{
 "cells": [
  {
   "cell_type": "markdown",
   "metadata": {},
   "source": [
    "## f-Strings\n",
    "\n",
    "Beginning with Version 3.6, Python has come equipped with a powerful tool for creating and formatting strings known as **f-strings**. We can define an f-string by simply placing an `f` character in front of the string, immediately before the initial quote. "
   ]
  },
  {
   "cell_type": "code",
   "execution_count": null,
   "metadata": {},
   "outputs": [],
   "source": [
    "boring_fstring = f'This is an example of an f-string.'\n",
    "print(boring_fstring)"
   ]
  },
  {
   "cell_type": "markdown",
   "metadata": {},
   "source": [
    "The example above illustrates the basic syntax for creating an f-string, but it is not particularly useful. We could have obtained the same result using an ordinary string. The benefits of f-strings arise from situation in which we would like to define a string that incorporates values stored in variables. If we place a set of brackets containing a variable name within an f-string, then the value of that variable will be inserted into the string at that location. This is illustrated in the next example. "
   ]
  },
  {
   "cell_type": "code",
   "execution_count": null,
   "metadata": {},
   "outputs": [],
   "source": [
    "first = 'Robbie'\n",
    "last = 'Beane'\n",
    "\n",
    "name_message = f'Hello. My first name is {first} and my last name is {last}.'\n",
    "print(name_message)"
   ]
  },
  {
   "cell_type": "markdown",
   "metadata": {},
   "source": [
    "In the example above, the values we inserted into the f-string were both strings themselves. However, we can place variables containing numerical values inside of the brackets as well. When doing so, it is NOT necessary to coerce the variable into a string.\n",
    "\n",
    "We are not restricted to using names of variables inside of brackets in an f-string. We can, in fact, place any expression that we would like inside of the brackets. \n",
    "\n",
    "These concepts are illustrated in the next example. "
   ]
  },
  {
   "cell_type": "code",
   "execution_count": null,
   "metadata": {},
   "outputs": [],
   "source": [
    "z = 3.56\n",
    "print(f'The square of {z} is {z**2}.')"
   ]
  },
  {
   "cell_type": "markdown",
   "metadata": {},
   "source": [
    "### Aligning Text with f-Strings\n",
    "\n",
    "Occasionally, we would like to insert a value into a string with additional spaces padding the value on the left or the right so that the printed value and the additional spaces together constitute a specific number of characters. We can accomplish this using f-strings by following the expression within the braces with a colon `:`, one of the symbols `<` or `>`, and then an integer value. The integer indicates the number of characters that should be set aside for the inserted value, and the selected arrow symbol controls whether the value should be left-justified (`<`) or right-justified (`>`). \n",
    "\n",
    "We illustrated this in the cell below. "
   ]
  },
  {
   "cell_type": "code",
   "execution_count": null,
   "metadata": {},
   "outputs": [],
   "source": [
    "my_text = 'text'\n",
    "\n",
    "print(f'--{my_text:>6}--')\n",
    "print(f'--{my_text:<6}--')"
   ]
  },
  {
   "cell_type": "markdown",
   "metadata": {},
   "source": [
    "This feature of f-strings is particularly useful when we would like to display output in a tabular format, consisting of multiple rows and columns. We can use f-strings to make sure that each entry in a column takes the same amount of space, and is aligned on either the left or the right. This is illustrated below. "
   ]
  },
  {
   "cell_type": "code",
   "execution_count": null,
   "metadata": {},
   "outputs": [],
   "source": [
    "num1 = 1\n",
    "fname1 = 'George'\n",
    "lname1 = 'Washington'\n",
    "\n",
    "num2 = 2\n",
    "fname2 = 'John'\n",
    "lname2 = 'Adams'\n",
    "\n",
    "num3 = 16\n",
    "fname3 = 'Abraham'\n",
    "lname3 = 'Lincoln'\n",
    "\n",
    "\n",
    "print('First Name     Last Name      Number')\n",
    "print('--------------------------------------')\n",
    "print(f'{fname1:<15}{lname1:<15}{num1:>6}')\n",
    "print(f'{fname2:<15}{lname2:<15}{num2:>6}')\n",
    "print(f'{fname3:<15}{lname3:<15}{num3:>6}')"
   ]
  }
 ],
 "metadata": {
  "kernelspec": {
   "display_name": "Python 3",
   "language": "python",
   "name": "python3"
  },
  "language_info": {
   "codemirror_mode": {
    "name": "ipython",
    "version": 3
   },
   "file_extension": ".py",
   "mimetype": "text/x-python",
   "name": "python",
   "nbconvert_exporter": "python",
   "pygments_lexer": "ipython3",
   "version": "3.8.5"
  }
 },
 "nbformat": 4,
 "nbformat_minor": 4
}
