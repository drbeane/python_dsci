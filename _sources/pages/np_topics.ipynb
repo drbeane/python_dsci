{
 "cells": [
  {
   "cell_type": "markdown",
   "id": "3d80b389-46de-4038-88a1-be6c0a996002",
   "metadata": {},
   "source": [
    "# Additional NumPy Topics"
   ]
  },
  {
   "cell_type": "markdown",
   "id": "64b97965-502f-48fd-9a03-cc8270bc4893",
   "metadata": {},
   "source": [
    "## np.where()\n",
    "\n",
    "The numpy function `np.where()` is a useful tool for creating new arrays by applying logical rules to currently existing arrays. Assume that `A`, `B`, and `C` are arrays. The syntax for using `np.where()` is as follows:\n",
    "\n",
    "    D = np.where(condition involving elements of A, B, C)\n",
    "    \n",
    "In terms of the results, this code is equivalent to the following:\n",
    "\n",
    "    D = []\n",
    "    for i in range(0, len(A)):\n",
    "        if condition is True for A[i]:\n",
    "            D.append(B[i])\n",
    "        else:\n",
    "            D.append(C[i])\n",
    "    D = np.array(D)\n",
    "    \n",
    "Although the results are the same, the numpy version of this code will run significantly faster. "
   ]
  },
  {
   "cell_type": "markdown",
   "id": "a12b5439-ec77-4d2a-923e-36a3c31e3234",
   "metadata": {},
   "source": [
    "## Example of np.where()\n",
    "\n",
    "In the cell below, we provide a simple example of `np.where()`. In this example, we define three arrays, `cond_array`, `arrayA`, and `arrayB`. The elements of `cond_array` are all strings of the form `'A'` or `'B'`. The other two arrays contain integer values, with `arrayA` containing positive values and `arrayB` containing negative values. We will use the `np.where()` to create an array that selects elements out of either `arrayA` or `arrayB`, as indicated by the elements of `cond_array`. "
   ]
  },
  {
   "cell_type": "code",
   "execution_count": null,
   "id": "0c63be61-b3e7-4f14-b0ad-823b356aebda",
   "metadata": {},
   "outputs": [],
   "source": [
    "cond_array = np.array(['A', 'B', 'B', 'A', 'B'])\n",
    "arrayA = np.array([ 1,  2,  3,  4,  5])\n",
    "arrayB = np.array([-1, -2, -3, -4, -5])\n",
    "\n",
    "result = np.where(cond_array == 'A', arrayA, arrayB)\n",
    "print(result)"
   ]
  },
  {
   "cell_type": "markdown",
   "id": "cd2231d6-fb65-4fed-93c1-0c30cb3531ed",
   "metadata": {},
   "source": [
    "## Example: Calculating Likelihood\n",
    "\n",
    "To see an example of using `np.where()`, assume that we have created a statistical model that estimates the probability that students will pass a certain profession exam based on several factors, such as the amount of time they spent studying, whether or not they attended a workshop, and so on. Assume that the model is applied to five students. In the cell below, we have two arrays. The array `prob_of_passing` tells us the probability of each student passing the exam, as determined by the model. The array `result` tells us whether or not the student actually passed. "
   ]
  },
  {
   "cell_type": "code",
   "execution_count": null,
   "id": "b287edfa-2e79-4002-be25-14a50727998b",
   "metadata": {},
   "outputs": [],
   "source": [
    "prob_of_passing = np.array([0.3, 0.8, 0.6, 0.9, 0.1])\n",
    "results = np.array(['F', 'P', 'F', 'P', 'F'])"
   ]
  },
  {
   "cell_type": "markdown",
   "id": "3846f82c-2d0b-4be4-ab9c-81251c5586d5",
   "metadata": {},
   "source": [
    "We want to score how well the model did by calculating its **likelihood** score. This is equal to the probability that the students got exactly the results observed, according to the model. Since the model only directly estimates the probability of passing and some students failed, we will also need to find the probability of failing. "
   ]
  },
  {
   "cell_type": "code",
   "execution_count": null,
   "id": "4745ebbb-8752-4a5d-8ea3-b914cc8461c8",
   "metadata": {},
   "outputs": [],
   "source": [
    "prob_of_failing = 1 - prob_of_passing\n",
    "print(prob_of_failing)"
   ]
  },
  {
   "cell_type": "markdown",
   "id": "66a222af-94eb-4420-8016-a23c0ff5af62",
   "metadata": {},
   "source": [
    "We will now use `np.where()` to create an array that contains the model's estimate of probability that each individual student got the outcome observed. "
   ]
  },
  {
   "cell_type": "code",
   "execution_count": null,
   "id": "31aad19f-b6de-407f-a1b4-b15530fa69f3",
   "metadata": {},
   "outputs": [],
   "source": [
    "prob_observed = np.where(results == 'P', prob_of_passing, prob_of_failing)\n",
    "print(prob_observed)"
   ]
  },
  {
   "cell_type": "markdown",
   "id": "6e597657-1c78-4827-a1ae-a869f2accc95",
   "metadata": {},
   "source": [
    "Finally, the model's likelihood score is calculated by multiplying together all of the probabilities in `prob_observed`. "
   ]
  },
  {
   "cell_type": "code",
   "execution_count": null,
   "id": "8c00dd96-e6ce-4219-8b9e-9663e3c5d0ce",
   "metadata": {},
   "outputs": [],
   "source": [
    "L = np.prod(prob_observed)\n",
    "print(L)"
   ]
  },
  {
   "cell_type": "markdown",
   "id": "c3511af4-b041-4716-a4c5-7647a31407de",
   "metadata": {},
   "source": [
    "## Example: Assigning Grades\n",
    "\n",
    "When using `np.where(condition, B, C)`, we are allowed to use values with basic data types such (`int`, `float`, `bool`, `str`) instead of arrays for either or both of the values `B` and `C`. To see an example of this, assume that we have a list of exam scores for 10 students, and we want to create an array that contains strings `Pass` or `Fail`, to indicate whether each student passed or failed the exam. Assume that a grade of 70 or higher is required for passing. "
   ]
  },
  {
   "cell_type": "code",
   "execution_count": null,
   "id": "8f7adbed-bb76-4b5b-a53f-475348cc3382",
   "metadata": {},
   "outputs": [],
   "source": [
    "scores = np.array([73, 92, 56, 61, 43, 87, 99, 75, 12, 94])\n",
    "results = np.where(scores >= 70, 'Pass', 'Fail')\n",
    "print(results)"
   ]
  },
  {
   "cell_type": "markdown",
   "id": "19213946-6b8e-438e-a5f6-d297a2c876d6",
   "metadata": {},
   "source": [
    "A single `np.where()` statement behaves like an if-else statement inside of a loop. We can replicate the effects of an if-elif-else statment by nesting calls to `np.where()`. In the example below, we will assign letter grades to each of the students based on their exam scores."
   ]
  },
  {
   "cell_type": "code",
   "execution_count": null,
   "id": "7c8d307d-caad-4d0e-b962-8356d890ff86",
   "metadata": {},
   "outputs": [],
   "source": [
    "grades = np.array(['A'] * len(scores))\n",
    "grades = np.where(scores < 90, 'B', grades)\n",
    "grades = np.where(scores < 80, 'C', grades)\n",
    "grades = np.where(scores < 70, 'D', grades)\n",
    "grades = np.where(scores < 60, 'F', grades)                 \n",
    "print(grades)"
   ]
  },
  {
   "cell_type": "code",
   "execution_count": null,
   "id": "887c1f0e-0854-45ef-bea7-a6d77ff5ebc3",
   "metadata": {},
   "outputs": [],
   "source": []
  },
  {
   "cell_type": "code",
   "execution_count": null,
   "id": "773bc320-ac6a-452f-80b1-c0faa12935c3",
   "metadata": {},
   "outputs": [],
   "source": []
  }
 ],
 "metadata": {
  "kernelspec": {
   "display_name": "Python 3 (ipykernel)",
   "language": "python",
   "name": "python3"
  },
  "language_info": {
   "codemirror_mode": {
    "name": "ipython",
    "version": 3
   },
   "file_extension": ".py",
   "mimetype": "text/x-python",
   "name": "python",
   "nbconvert_exporter": "python",
   "pygments_lexer": "ipython3",
   "version": "3.8.12"
  }
 },
 "nbformat": 4,
 "nbformat_minor": 5
}
