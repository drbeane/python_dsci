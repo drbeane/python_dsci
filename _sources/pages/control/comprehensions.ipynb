{
 "cells": [
  {
   "cell_type": "markdown",
   "metadata": {},
   "source": [
    "# List Comprehensions\n",
    "\n",
    "Python creates a shortcut for iteratively creating lists. This shortcut is called a **list comprehension**. We know that we can create a list iteratively using a for loop as follows:\n",
    "\n",
    "    my_list = []\n",
    "    for i in range(a,b):\n",
    "        value = whatever\n",
    "        my_list.append(value)\n",
    "        \n",
    "The same result can be obtained in a more compact fashion using a list comprehension as follows:\n",
    "\n",
    "    my_list = [value for i in range(a,b)]\n",
    "      \n",
    "Lets see a few examples. In the first example, we will create a list containing the square of all elements in a range. "
   ]
  },
  {
   "cell_type": "code",
   "execution_count": null,
   "metadata": {},
   "outputs": [],
   "source": [
    "sq_list = [n**2 for n in range(1,10)]\n",
    "print(sq_list)"
   ]
  },
  {
   "cell_type": "markdown",
   "metadata": {},
   "source": [
    "In a previous example, we were given lists `listA` and `listB`, and were asked to create a list `listC` that contained an elementwise sum of the `listA` and `listB`. Let's see how this could be accomplished with a list comprehension. "
   ]
  },
  {
   "cell_type": "code",
   "execution_count": null,
   "metadata": {},
   "outputs": [],
   "source": [
    "listA = [13, 18, 23, 42, 27, 22, 36, 17, 44, 34, 35, 33, 41, 43, 12, 45, 29, 37, 14, 15]\n",
    "\n",
    "listB = [42, 14, 31, 39, 40, 48, 47, 36, 28, 32, 11, 27, 16, 17, 34, 33, 46, 22, 26, 15]"
   ]
  },
  {
   "cell_type": "code",
   "execution_count": null,
   "metadata": {},
   "outputs": [],
   "source": [
    "listC = [listA[i] + listB[i] for i in range(0, len(listA))]\n",
    "\n",
    "print(listC)"
   ]
  },
  {
   "cell_type": "markdown",
   "metadata": {},
   "source": [
    "## Dictionary Comprehensions"
   ]
  }
 ],
 "metadata": {
  "kernelspec": {
   "display_name": "Python 3",
   "language": "python",
   "name": "python3"
  },
  "language_info": {
   "codemirror_mode": {
    "name": "ipython",
    "version": 3
   },
   "file_extension": ".py",
   "mimetype": "text/x-python",
   "name": "python",
   "nbconvert_exporter": "python",
   "pygments_lexer": "ipython3",
   "version": "3.8.5"
  }
 },
 "nbformat": 4,
 "nbformat_minor": 4
}
