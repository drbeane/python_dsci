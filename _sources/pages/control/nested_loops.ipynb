{
 "cells": [
  {
   "cell_type": "markdown",
   "metadata": {},
   "source": [
    "## Nested Loops\n",
    "\n",
    "For some complex tasks, it is necessary to include loops inside of other loops. This is called a **nested loop**. The simplest case of a nested loops is when we have one loop that itself contains another loop. In this case, we call the first loop that Python encounters the **outer loop**, and the loop inside of that is called the **inner loop**. Each time the outer loop runs, the entire inner loop will process, running through all of it's possible iterations. \n",
    "\n",
    "To get an introduction to how nested loops work, consider the following example. "
   ]
  },
  {
   "cell_type": "code",
   "execution_count": null,
   "metadata": {},
   "outputs": [],
   "source": [
    "for i in range(0, 6):\n",
    "    \n",
    "    for j in range(0, 3):\n",
    "        \n",
    "        print(\"i is equal to \" + str(i) + \"; j is equal to \" + str(j))\n",
    "        \n",
    "    print()"
   ]
  },
  {
   "cell_type": "markdown",
   "metadata": {},
   "source": [
    "## Example: Matrix Addition\n",
    "\n",
    "The following cell contains a list of lists, named `A`. This list is intended to represent a 3x5 matrix. Each of the three lists inside `A` represents a single row with 5 elements."
   ]
  },
  {
   "cell_type": "code",
   "execution_count": null,
   "metadata": {},
   "outputs": [],
   "source": [
    "A = [ [11,12,13,14,15], [16,17,18,19,20], [21,22,23,24,25]  ]"
   ]
  },
  {
   "cell_type": "markdown",
   "metadata": {},
   "source": [
    "The cell below prints the rows of `A` one at a time. This output will more closely resemble a matrix. "
   ]
  },
  {
   "cell_type": "code",
   "execution_count": null,
   "metadata": {},
   "outputs": [],
   "source": [
    "for row in A:\n",
    "    print(row)"
   ]
  },
  {
   "cell_type": "markdown",
   "metadata": {},
   "source": [
    "Assume that we wish to create a new list called `ASquare`. This list should also represent a 3x5 matrix, and each element of `ASquare` should be the square of the corresponding element of `A`. This will require two loops. The first loop will loop over the rows of `A`. The second loop will loop over the elements of a given row. "
   ]
  },
  {
   "cell_type": "code",
   "execution_count": null,
   "metadata": {},
   "outputs": [],
   "source": [
    "ASquare = []\n",
    "\n",
    "for i in range(0,len(A)):\n",
    "    \n",
    "    tempRow = []    \n",
    "    for j in range(0,len(A[i])):\n",
    "        tempRow.append(A[i][j] ** 2)\n",
    "        \n",
    "    ASquare.append(tempRow)"
   ]
  },
  {
   "cell_type": "markdown",
   "metadata": {},
   "source": [
    "Notice that we build up each row in `ASquare` one element at a time, and when we are finished with a row, we add that to `ASquare`. We will now print the rows of `ASquare`. "
   ]
  },
  {
   "cell_type": "code",
   "execution_count": null,
   "metadata": {},
   "outputs": [],
   "source": [
    "for row in ASquare:\n",
    "    print(row)"
   ]
  }
 ],
 "metadata": {
  "kernelspec": {
   "display_name": "Python 3",
   "language": "python",
   "name": "python3"
  },
  "language_info": {
   "codemirror_mode": {
    "name": "ipython",
    "version": 3
   },
   "file_extension": ".py",
   "mimetype": "text/x-python",
   "name": "python",
   "nbconvert_exporter": "python",
   "pygments_lexer": "ipython3",
   "version": "3.8.5"
  }
 },
 "nbformat": 4,
 "nbformat_minor": 4
}
