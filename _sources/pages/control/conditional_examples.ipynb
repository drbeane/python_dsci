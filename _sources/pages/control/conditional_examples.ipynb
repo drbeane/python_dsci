{
 "cells": [
  {
   "cell_type": "markdown",
   "metadata": {},
   "source": [
    "# Examples of Conditional Statements"
   ]
  },
  {
   "cell_type": "markdown",
   "metadata": {},
   "source": [
    "## Conditional Statements and Loops\n",
    "\n",
    "We will often use if statements in conjunctions with loops. In the example below, we are provided with two lists, one that contains the names of several students, and one that contains the grades that these students got on an exam. We will loop over these lists, printing a different message for each student.  "
   ]
  },
  {
   "cell_type": "code",
   "execution_count": null,
   "metadata": {},
   "outputs": [],
   "source": [
    "names = ['Anna', 'Beth', 'Chad', 'Drew', 'Elsa', 'Fred']\n",
    "grades = [56, 92, 87, 43, 75, 62]\n",
    "\n",
    "for i in range(0, len(names) ):\n",
    "    \n",
    "    if grades[i] >= 90:\n",
    "        print(names[i] + \" got a grade of 'A' on the exam.\")\n",
    "    elif grades[i] >= 80:\n",
    "        print(names[i] + \" got a grade of 'B' on the exam.\")\n",
    "    elif grades[i] >= 70:\n",
    "        print(names[i] + \" got a grade of 'C' on the exam.\")\n",
    "    elif grades[i] >= 60:\n",
    "        print(names[i] + \" got a grade of 'D' on the exam.\")\n",
    "    else:\n",
    "        print(names[i] + \" got a grade of 'F' on the exam.\")\n",
    "    "
   ]
  },
  {
   "cell_type": "markdown",
   "metadata": {},
   "source": [
    "## Example: Determining if Elements of a List are Odd or Even\n",
    "\n",
    "The modulus `%` is a mathematical operator that can be used to test for divisibilitiy. The expression `a % b` returns the remainder of `a` after division by `b`. If that remainder is 0, then that means that `a` is divisible by `b`. \n",
    "\n",
    "For example:"
   ]
  },
  {
   "cell_type": "code",
   "execution_count": null,
   "metadata": {},
   "outputs": [],
   "source": [
    "print(27 % 3 == 0)\n",
    "print(17 % 3 == 0)"
   ]
  },
  {
   "cell_type": "markdown",
   "metadata": {},
   "source": [
    "One common use of the modulus operator is to check if a number is odd or even."
   ]
  },
  {
   "cell_type": "code",
   "execution_count": null,
   "metadata": {},
   "outputs": [],
   "source": [
    "print(19 % 2 == 0 )\n",
    "print(16 % 2 == 0 )"
   ]
  },
  {
   "cell_type": "markdown",
   "metadata": {},
   "source": [
    "\n",
    "A list of integers is provided below. The for loop shown will loop over all of the elements of this list, displaying one of the following messages for each element of the list:\n",
    "\n",
    "    [x] is even.\n",
    "    [x] is odd."
   ]
  },
  {
   "cell_type": "code",
   "execution_count": null,
   "metadata": {},
   "outputs": [],
   "source": [
    "my_list = [74, -55, -77, 58, 0, 91, 62, 0, -91, 61]\n",
    "\n",
    "for i in range(0, len(my_list)):\n",
    "    if my_list[i] % 2 == 0:\n",
    "        print(str(my_list[i]) + \" is even.\")\n",
    "    else:\n",
    "        print(str(my_list[i]) + \" is odd.\")"
   ]
  },
  {
   "cell_type": "markdown",
   "metadata": {},
   "source": [
    "## Example: Determining if Elements of a List are Positive, Negative, or Neither"
   ]
  },
  {
   "cell_type": "markdown",
   "metadata": {},
   "source": [
    "The cell below contains a look that will print out one of the following messages for each item in `my_list`. \n",
    "\n",
    "    [x] is positive.\n",
    "    [x] is negative.\n",
    "    [x] is neither positive nor negative.\n"
   ]
  },
  {
   "cell_type": "code",
   "execution_count": null,
   "metadata": {},
   "outputs": [],
   "source": [
    "for i in range(0, len(my_list)):\n",
    "    \n",
    "    if my_list[i] < 0:\n",
    "        print(str(my_list[i]) + \" is negative.\")\n",
    "    elif my_list[i] > 0:\n",
    "        print(str(my_list[i]) + \" is positive.\")\n",
    "    else:\n",
    "        print(str(my_list[i]) + \" is neither positive nor negative.\")"
   ]
  },
  {
   "cell_type": "markdown",
   "metadata": {},
   "source": [
    "## Example: Classifying Credit Scores\n",
    "\n",
    "Two lists are given below. One provides a list of names. The other provides a list of credit scores associated with each of the people in the first list. Assume that credit scores are classified as follows:\n",
    "\n",
    "* 0 - 599 is considered \"bad\". \n",
    "* 600 - 649 is considered \"poor\". \n",
    "* 650 - 699 is considered \"fair\".\n",
    "* 700 - 749 is considered \"good\". \n",
    "* 750 and up is considered \"excellent\". "
   ]
  },
  {
   "cell_type": "code",
   "execution_count": null,
   "metadata": {},
   "outputs": [],
   "source": [
    "names = ['Anna', 'Beth', 'Chad', 'Drew', 'Elsa', 'Fred']\n",
    "credit = [683, 580, 752, 607, 615, 703]"
   ]
  },
  {
   "cell_type": "markdown",
   "metadata": {},
   "source": [
    "The cell below contains a loop that prints a statement of the following form for each individuals:\n",
    "\n",
    "    [name] has a [bad/poor/fair/good/excellent] credit score. "
   ]
  },
  {
   "cell_type": "code",
   "execution_count": null,
   "metadata": {
    "scrolled": true
   },
   "outputs": [],
   "source": [
    "for i in range(0, len(names)):\n",
    "    \n",
    "    if(credit[i] <= 599):\n",
    "        print(names[i] + \" has a bad credit score.\")\n",
    "    elif(credit[i] <= 649):\n",
    "        print(names[i] + \" has a poor credit score.\")\n",
    "    elif(credit[i] <= 699):\n",
    "        print(names[i] + \" has a fair credit score.\")\n",
    "    elif(credit[i] <= 749):\n",
    "        print(names[i] + \" has a good credit score.\")\n",
    "    else:\n",
    "        print(names[i] + \" has a excellent credit score.\")"
   ]
  },
  {
   "cell_type": "code",
   "execution_count": null,
   "metadata": {},
   "outputs": [],
   "source": [
    "credit_group = []\n",
    "\n",
    "for i in range(0, len(names)):\n",
    "    \n",
    "    if credit[i] >= 750:\n",
    "        credit_group.append(4)\n",
    "    elif credit[i] >= 700:\n",
    "        credit_group.append(3)\n",
    "    elif credit[i] >= 650:\n",
    "        credit_group.append(2)\n",
    "    elif credit[i] >= 600:\n",
    "        credit_group.append(1)\n",
    "    else:\n",
    "        credit_group.append(0)\n",
    "        \n",
    "print(credit)\n",
    "print(credit_group)"
   ]
  },
  {
   "cell_type": "markdown",
   "metadata": {},
   "source": [
    "## Example: Exam Results\n",
    "\n",
    "In the cell below, we are provided with three lists. The list `names` contains the names of students, `grades1` contains scores for Exam 1, and `grades2` contains scores for Exam 2.   "
   ]
  },
  {
   "cell_type": "code",
   "execution_count": null,
   "metadata": {},
   "outputs": [],
   "source": [
    "names = ['Anna', 'Beth', 'Chad', 'Drew', 'Elsa', 'Fred']\n",
    "grades1 = [56, 92, 87, 43, 75, 62]\n",
    "grades2 = [81, 95, 72, 21, 58, 64]"
   ]
  },
  {
   "cell_type": "markdown",
   "metadata": {},
   "source": [
    "Assume that a grade of 60 or higher is a passing grade. The cell below contains a loop that prints one of the following messages for each student:\n",
    "\n",
    "    [name] passed both exams. \n",
    "    [name] passed exam 1, but not exam 2. \n",
    "    [name] passed exam 2, but not exam 1. \n",
    "    [name] failed both exams. "
   ]
  },
  {
   "cell_type": "code",
   "execution_count": null,
   "metadata": {},
   "outputs": [],
   "source": [
    "for i in range(len(names)):\n",
    "    \n",
    "    if (grades1[i] >= 60) and (grades2[i] >= 60):\n",
    "        print(names[i], 'passed both exams.')\n",
    "        \n",
    "    elif (grades1[i] >= 60) and (grades2[i] < 60):\n",
    "        print(names[i], 'passed exam 1, but not exam 2.')\n",
    "        \n",
    "    elif (grades1[i] < 60) and (grades2[i] >= 60):\n",
    "        print(names[i], 'passed exam 2, but not exam 1.')\n",
    "        \n",
    "    elif (grades1[i] < 60) and (grades2[i] < 60):\n",
    "        print(names[i], 'failed both exams.')"
   ]
  },
  {
   "cell_type": "code",
   "execution_count": null,
   "metadata": {},
   "outputs": [],
   "source": [
    "for i in range(len(names)):\n",
    "    \n",
    "    if (grades1[i] >= 60) and (grades2[i] >= 60):\n",
    "        print(names[i] + ' passed both exams.')\n",
    "        \n",
    "    elif grades1[i] >= 60:\n",
    "        print(names[i] + ' passed exam 1, but not exam 2.')\n",
    "        \n",
    "    elif grades2[i] >= 60:\n",
    "        print(names[i] + ' passed exam 2, but not exam 1.')\n",
    "        \n",
    "    else:\n",
    "        print(names[i] + ' failed both exams.')\n",
    "        "
   ]
  }
 ],
 "metadata": {
  "kernelspec": {
   "display_name": "Python 3",
   "language": "python",
   "name": "python3"
  },
  "language_info": {
   "codemirror_mode": {
    "name": "ipython",
    "version": 3
   },
   "file_extension": ".py",
   "mimetype": "text/x-python",
   "name": "python",
   "nbconvert_exporter": "python",
   "pygments_lexer": "ipython3",
   "version": "3.8.5"
  }
 },
 "nbformat": 4,
 "nbformat_minor": 4
}
