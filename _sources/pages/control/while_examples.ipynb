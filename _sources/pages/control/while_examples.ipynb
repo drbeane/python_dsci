{
 "cells": [
  {
   "cell_type": "markdown",
   "metadata": {},
   "source": [
    "# While Examples"
   ]
  },
  {
   "cell_type": "markdown",
   "metadata": {},
   "source": [
    "### Example: Counting Loan Payments\n",
    "\n",
    "Assume that a loan of \\\\$225,000 is being repaid with monthly payments of \\\\$850, which occur at the end of the month. The loan is collecting interest at a monthly rate of 0.3%. So, at the end of each month, the remaining balance wil be multiplied by 1.003, and then \\\\$850 is deducted from this balance. We can use a `while` loop to determine the number of monthly payments required to fully repay the loan. "
   ]
  },
  {
   "cell_type": "code",
   "execution_count": null,
   "metadata": {},
   "outputs": [],
   "source": [
    "balance = 225000\n",
    "rate = 0.003\n",
    "pmt = 950\n",
    "count = 0\n",
    "\n",
    "while balance > 0:\n",
    "    balance = balance * (1 + rate) - pmt\n",
    "    count += 1\n",
    "    \n",
    "print(count)"
   ]
  },
  {
   "cell_type": "markdown",
   "metadata": {},
   "source": [
    "It is very unlikely that amount owed during the last month was exactly \\\\$850. As a result, after the loop finished executing, the `balance` was likely negative. We can add the payment amount back to the balance to get the amount owed just before the final payment, and thus determine the true size of the last payment. "
   ]
  },
  {
   "cell_type": "code",
   "execution_count": null,
   "metadata": {},
   "outputs": [],
   "source": [
    "print(balance + pmt)"
   ]
  },
  {
   "cell_type": "markdown",
   "metadata": {},
   "source": [
    "### Example: Guessing Game\n",
    "\n",
    "Programs often require input from the user. Python's `input()` function provides a method of prompting the user for input. For example, consider the following code:\n",
    "\n",
    "    name = input(\"What is your name? \")\n",
    "    \n",
    "This code will print the string, \"What is your name? \" and will then wait for user input. The value entered by the user will then be stored in the variable `name`. \n"
   ]
  },
  {
   "cell_type": "code",
   "execution_count": null,
   "metadata": {
    "scrolled": true
   },
   "outputs": [],
   "source": [
    "name = input(\"What is your name? \")\n",
    "print(\"Hello, \" + name + \"!\")"
   ]
  },
  {
   "cell_type": "markdown",
   "metadata": {},
   "source": [
    "User input can be combined with `while` loops to create interactive programs. Here we implement a simple guessing game in which the user is prompted to try to guess a randomly generate number between 0 and 500. "
   ]
  },
  {
   "cell_type": "code",
   "execution_count": null,
   "metadata": {},
   "outputs": [],
   "source": [
    "import random\n",
    "n = random.choice(range(0, 501))\n",
    "\n",
    "print(\"I have selected a random number between 0 and 500, inclusive. Can you guess it?\")\n",
    "\n",
    "done = False\n",
    "count = 1\n",
    "while done == False:\n",
    "    \n",
    "    guess = int(input(\"Please enter guess number \" + str(count) + \": \"))\n",
    "    \n",
    "    if(guess < n):\n",
    "        print(\"Your guess was too small.\")\n",
    "    elif(guess > n):\n",
    "        print(\"Your guess was too large.\")\n",
    "    else:\n",
    "        print(\"That's it! It took you \" + str(count) + \" guesses to find the right answer.\")\n",
    "        done = True\n",
    "        \n",
    "    count += 1\n",
    "    "
   ]
  }
 ],
 "metadata": {
  "kernelspec": {
   "display_name": "Python 3",
   "language": "python",
   "name": "python3"
  },
  "language_info": {
   "codemirror_mode": {
    "name": "ipython",
    "version": 3
   },
   "file_extension": ".py",
   "mimetype": "text/x-python",
   "name": "python",
   "nbconvert_exporter": "python",
   "pygments_lexer": "ipython3",
   "version": "3.8.5"
  }
 },
 "nbformat": 4,
 "nbformat_minor": 4
}
