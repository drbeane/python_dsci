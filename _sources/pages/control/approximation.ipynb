{
 "cells": [
  {
   "cell_type": "markdown",
   "metadata": {},
   "source": [
    "## Approximation"
   ]
  },
  {
   "cell_type": "markdown",
   "metadata": {},
   "source": [
    "### Example: Approximating a Square Root\n",
    "\n",
    "It is often the case in Computer science and Data Science that some value of interest is calculated by performing a sequence of better and better approximations. In these situations, we might tell our program precisely how many approximations we want it to perform (likely with a `for` loop). Alternately, we might ask our program to continue to calculate approximations until we have met some condition, such as two subsequent approximations being very near to each other. \n",
    "\n",
    "In the example below, we will approximate the square root of `K = 7,341,234,543,244,549`. Our approach will be fairly simple. We will make an initial guess for the square root, which we will call `x`. We will divide `K` by `x`, naming the result `y`. If our guess was good, then `x` and `y` will be very close to each other, and thus close to the actual solution. If our guess was bad, we will set `x` to be equal to the average of `x` and `y`, since the true answer will have to be somewhere between these two approximations. \n",
    "\n",
    "We will continue this process until `x` and `y` are within 1/10000 of each other. So that we know how many times the loop had to run, we will also create a counter `n`."
   ]
  },
  {
   "cell_type": "code",
   "execution_count": null,
   "metadata": {},
   "outputs": [],
   "source": [
    "K = 7341234543244549\n",
    "\n",
    "x = 1\n",
    "y = K/x\n",
    "\n",
    "n = 0\n",
    "while abs(x - y) > 0.0001:\n",
    "    x = (x + y) / 2\n",
    "    y = K / x\n",
    "    n += 1\n",
    "\n",
    "print('Value of x:  ', x)\n",
    "print('Value of y:  ', y)\n",
    "print('Value of x*y:', x**2)\n",
    "print('Iterations:  ', n)"
   ]
  },
  {
   "cell_type": "markdown",
   "metadata": {},
   "source": [
    "### Example: Estimating Pi\n",
    "\n",
    "We will close with one more example drawn from the world of mathematics. It can be proven that the transcendental number $\\pi$ can be written as a sum of infinitely many fractions as follows:\n",
    "\n",
    "$$\\pi = \\frac{4}{1} - \\frac{4}{3} + \\frac{4}{5} - \\frac{4}{7} + \\frac{4}{9} - \\frac{4}{11} + ...$$\n",
    "\n",
    "The more numbers we add in this never-ending series of fractions, the closer our approximation will be to the true value of $\\pi$. It can be shown that the amount of error involved in our approximation will be less than the absolute value of the first term from the series that we DID NOT add into the total. \n",
    "\n",
    "In the cell below, we will add together several terms of this series, stopping when we reach a term whose absolute value is less than 0.00001."
   ]
  },
  {
   "cell_type": "code",
   "execution_count": null,
   "metadata": {},
   "outputs": [],
   "source": [
    "pi_approx = 0\n",
    "\n",
    "keep_adding = True\n",
    "\n",
    "n = 0\n",
    "while keep_adding:\n",
    "    new_term = 4 / (2*n + 1)\n",
    "    pi_approx = pi_approx + new_term * (-1)**n\n",
    "    n += 1\n",
    "    \n",
    "    next_term = 4 / (2*n + 1)\n",
    "    if next_term < 0.00001:\n",
    "        keep_adding = False\n",
    "        \n",
    "print(pi_approx)\n",
    "print(n)"
   ]
  },
  {
   "cell_type": "markdown",
   "metadata": {},
   "source": [
    "Note that the first 8 decimal digits of pi are: 3.14159265"
   ]
  }
 ],
 "metadata": {
  "kernelspec": {
   "display_name": "Python 3",
   "language": "python",
   "name": "python3"
  },
  "language_info": {
   "codemirror_mode": {
    "name": "ipython",
    "version": 3
   },
   "file_extension": ".py",
   "mimetype": "text/x-python",
   "name": "python",
   "nbconvert_exporter": "python",
   "pygments_lexer": "ipython3",
   "version": "3.8.5"
  }
 },
 "nbformat": 4,
 "nbformat_minor": 4
}
