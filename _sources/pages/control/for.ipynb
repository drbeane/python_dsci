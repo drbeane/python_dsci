{
 "cells": [
  {
   "cell_type": "markdown",
   "metadata": {},
   "source": [
    "# For Loops"
   ]
  },
  {
   "cell_type": "markdown",
   "metadata": {},
   "source": [
    "## Loops\n",
    "\n",
    "A loop is a tool that allows us to instruct Python to repeat a task several times, usually with slight variations each time. We will consider two types of loops in this course: for loops and while loops.\n",
    "\n",
    "We will begin with for loops, but before we can do so, we need to introduce the concept of a range. "
   ]
  },
  {
   "cell_type": "markdown",
   "metadata": {},
   "source": [
    "## For Loops\n",
    "\n",
    "We can use for loops to ask Python to repeat a task a certain number of times. The syntax for constructing a for loop is as follows:\n",
    "\n",
    "<pre>\n",
    "for i in range(a,b): \n",
    "    # Body of for loop\n",
    "</pre>\n",
    "\n",
    "This code asks Python to execute the body of the for loop 5 times - once for each integer in the specified range. The variable `i` is referred to as a **loop counter**. The counter will have a value of `a` during the first iteration of the loop, and will increment at the start of each new iteration. "
   ]
  },
  {
   "cell_type": "markdown",
   "metadata": {},
   "source": [
    "## Looping over Lists"
   ]
  },
  {
   "cell_type": "code",
   "execution_count": 1,
   "metadata": {},
   "outputs": [
    {
     "name": "stdout",
     "output_type": "stream",
     "text": [
      "Hello, Alex!\n",
      "Hello, Beth!\n",
      "Hello, Chad!\n",
      "Hello, Drew!\n",
      "Hello, Emma!\n"
     ]
    }
   ],
   "source": [
    "names_list = ['Alex', 'Beth', 'Chad', 'Drew', 'Emma']\n",
    "\n",
    "for name in names_list:\n",
    "    print(f'Hello, {name}!')"
   ]
  },
  {
   "cell_type": "markdown",
   "metadata": {},
   "source": [
    "## Ranges\n",
    "\n",
    "The `range(a, b)` function generates a list of integers beginning with `a` and continuing up to, but **NOT INCLUDING** `b`. \n",
    "\n",
    "A range is not a list, but can be converted into a list.  "
   ]
  },
  {
   "cell_type": "code",
   "execution_count": null,
   "metadata": {},
   "outputs": [],
   "source": [
    "my_range = range(3,8)\n",
    "print(type(my_range))\n",
    "print(my_range)\n",
    "print(list(my_range))"
   ]
  },
  {
   "cell_type": "code",
   "execution_count": null,
   "metadata": {},
   "outputs": [],
   "source": [
    "for i in range(0,5):\n",
    "    print('The value of i is', i)"
   ]
  },
  {
   "cell_type": "markdown",
   "metadata": {},
   "source": [
    "The code in the cell above is equivalent to that in cell below. Notice that using a for loop for this task is much more concise. "
   ]
  },
  {
   "cell_type": "code",
   "execution_count": null,
   "metadata": {},
   "outputs": [],
   "source": [
    "i = 0\n",
    "print('The value of i is', i)\n",
    "i = 1\n",
    "print('The value of i is', i)\n",
    "i = 2\n",
    "print('The value of i is', i)\n",
    "i = 3\n",
    "print('The value of i is', i)\n",
    "i = 4\n",
    "print('The value of i is', i)"
   ]
  },
  {
   "cell_type": "markdown",
   "metadata": {},
   "source": [
    "Note the following five points regarding `for` loops:\n",
    "1. We can use any variable name that we wish for the loop counter. \n",
    "2. We can use the counter in arithmetic operations, or as a list index. \n",
    "3. The range over which we are looping does not have to begin with 0. \n",
    "4. We can include multiple lines of code within a for loop. \n",
    "5. Each line in the body of a loop must be indented one level beyond the `for` statement. \n",
    "\n",
    "These ideas are all illustrated in the following example, which prints the squares of the first 10 positive integers. "
   ]
  },
  {
   "cell_type": "code",
   "execution_count": null,
   "metadata": {},
   "outputs": [],
   "source": [
    "for n in range(1,11):\n",
    "    message = \"The square of \" + str(n) + \" is \" + str(n**2) + \".\"\n",
    "    print(message)"
   ]
  },
  {
   "cell_type": "markdown",
   "metadata": {},
   "source": [
    "We can also use loops to alter variables that are defined outside of the loop. This is useful for calculating running totals. The code in the cell below calculates the sum of the squares of the first 100 integers. That is, it calculates $1^2 + 2^2 + 3^2 + ... + 99^2 + 100^2$. "
   ]
  },
  {
   "cell_type": "code",
   "execution_count": null,
   "metadata": {},
   "outputs": [],
   "source": [
    "# Sum the first 100 positive integers\n",
    "total = 0\n",
    "for i in range(1,101):\n",
    "    total += i**2\n",
    "\n",
    "print(total)"
   ]
  }
 ],
 "metadata": {
  "kernelspec": {
   "display_name": "Python 3",
   "language": "python",
   "name": "python3"
  },
  "language_info": {
   "codemirror_mode": {
    "name": "ipython",
    "version": 3
   },
   "file_extension": ".py",
   "mimetype": "text/x-python",
   "name": "python",
   "nbconvert_exporter": "python",
   "pygments_lexer": "ipython3",
   "version": "3.8.5"
  }
 },
 "nbformat": 4,
 "nbformat_minor": 4
}
