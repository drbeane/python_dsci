{
 "cells": [
  {
   "cell_type": "markdown",
   "metadata": {},
   "source": [
    "# While Loops"
   ]
  },
  {
   "cell_type": "markdown",
   "metadata": {},
   "source": [
    "A `while` loop is similar to a `for` loop in that it is a tool used to automate a repetive task. The core difference between `while` and `for` loops is as follows:\n",
    "\n",
    "* A `for` loop executes a predetermined number of times. A `for` loop that begins with **`\"for i in range(a,b)\"`** will execute exactly once for each value of the counter `i` that falls within the given range. \n",
    "* A `while` loop executes as long as some supplied condition is true. Depending on the nature of this condition, we do not necessarily know ahead of time how many times the loop will execute. \n",
    "\n",
    "The syntax for creating a `while` loop is as follow:\n",
    "\n",
    "<pre>\n",
    "while condition:\n",
    "    code to be executed each iteration\n",
    "</pre>\n",
    "\n",
    "The `condition` in a while statement should be an expression that evaluates to a Boolean value. When Python encounters a `while` loop, it will check to see if the condition evaluates to `True`. If it does, then it will step into the loop and perform the first iteration. Each time the loop executes, Python returns to the start of the loop and checks the condition again. As long as the condition evaluates to `True`, Python will continue executing iterations of the loop. If the condition ever evaluates to `False`, then Python will stop executing the body of the loop, and will move on to the next lines of code. \n",
    "\n",
    "The following cell illustrates a simple example of a `while` loop. The cell prints out the squares of the first five positive integers. "
   ]
  },
  {
   "cell_type": "code",
   "execution_count": null,
   "metadata": {},
   "outputs": [],
   "source": [
    "n = 1\n",
    "while n <= 5:\n",
    "    print(n**2)\n",
    "    n += 1"
   ]
  },
  {
   "cell_type": "markdown",
   "metadata": {},
   "source": [
    "The task above could have been accomplished more succinctly using a `for` loop:"
   ]
  },
  {
   "cell_type": "code",
   "execution_count": null,
   "metadata": {},
   "outputs": [],
   "source": [
    "for n in range(1,6):\n",
    "    print(n**2)"
   ]
  },
  {
   "cell_type": "code",
   "execution_count": null,
   "metadata": {},
   "outputs": [],
   "source": []
  },
  {
   "cell_type": "markdown",
   "metadata": {},
   "source": [
    "## Mention Break and Continue"
   ]
  }
 ],
 "metadata": {
  "kernelspec": {
   "display_name": "Python 3",
   "language": "python",
   "name": "python3"
  },
  "language_info": {
   "codemirror_mode": {
    "name": "ipython",
    "version": 3
   },
   "file_extension": ".py",
   "mimetype": "text/x-python",
   "name": "python",
   "nbconvert_exporter": "python",
   "pygments_lexer": "ipython3",
   "version": "3.8.5"
  }
 },
 "nbformat": 4,
 "nbformat_minor": 4
}
