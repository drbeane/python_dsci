{
 "cells": [
  {
   "cell_type": "markdown",
   "metadata": {},
   "source": [
    "# Conditional Statements\n"
   ]
  },
  {
   "cell_type": "markdown",
   "metadata": {},
   "source": [
    "We can use **conditional statements** to control how or if portions of our code will execute, based on logical criteria that we provide. The most basic type of conditional statement is an **if statement**. The syntax for an if statement is as follows:\n",
    "\n",
    "<pre>\n",
    "if condition:\n",
    "    code to be executed if condition is true\n",
    "</pre>"
   ]
  },
  {
   "cell_type": "code",
   "execution_count": null,
   "metadata": {},
   "outputs": [],
   "source": [
    "grade = 34\n",
    "\n",
    "if grade >= 60:\n",
    "    print('You passed the exam.')\n",
    "    print('Congratulations!')"
   ]
  },
  {
   "cell_type": "markdown",
   "metadata": {},
   "source": [
    "## If-Else Statements\n",
    "\n",
    "We can use an if statemnt to determine whether or not a particular set of actions will be satisfied. But we will occasionally want to use a condition to determine which of two sets of actions will be completed. This functionality is provided to us by an **if-else** statement. The syntax for an if-else statement is as follows:\n",
    "\n",
    "<pre>\n",
    "if condition:\n",
    "    code to be executed if condition is true\n",
    "else:\n",
    "    code to be executed if condition is false\n",
    "</pre>\n"
   ]
  },
  {
   "cell_type": "code",
   "execution_count": null,
   "metadata": {},
   "outputs": [],
   "source": [
    "grade = 34\n",
    "\n",
    "if grade >= 60:\n",
    "    print(\"You passed the exam.\")\n",
    "    print(\"Congratulations!\")\n",
    "else:\n",
    "    print(\"You failed the exam.\")\n",
    "    print(\"Better luck next time.\")"
   ]
  },
  {
   "cell_type": "markdown",
   "metadata": {},
   "source": [
    "## If-Elif-Else Statements\n",
    "\n",
    "If statements allow us to determine whether or not a single set of actions will be taken, and if-else statments allow us to determine which of two sets of actions will be taken. If we require our program to select from more than two options when making a decision, we can use an **if-elif-else** statment. The syntax for this sort of statement is as follows:\n",
    "\n",
    "<pre>\n",
    "if condition1:\n",
    "    code to be executed if condition is true\n",
    "elif condition2:  \n",
    "    code to be executed if condition1 is false, but condition2 is true\n",
    "elif condition3:  \n",
    "    code to be executed if all above conditions are false, but condition3 is true\n",
    "elif condition4:  \n",
    "    code to be executed if all above conditions are false, but condition4 is true\n",
    "...\n",
    "else:\n",
    "    code to be executed if all above conditions are false. \n",
    "</pre>\n",
    "\n",
    "\n",
    "We can include as many conditions as we would like in an **if-elif-else** statement. However, It is important to note that only one portion of the code will be allowed to execute. It is possible that multiple conditions might potentially evaluate to `True`, but as soon as the **if-elif-else** statement encounters its first `True` condition, it will execute the code for that condition, and will then skip the rest of the statment. \n",
    "\n",
    "The example below provides an example with a single `elif` clause. "
   ]
  },
  {
   "cell_type": "code",
   "execution_count": null,
   "metadata": {},
   "outputs": [],
   "source": [
    "grade = 85\n",
    "\n",
    "if grade >= 90:\n",
    "    print(\"You got an 'A' on the exam.\")\n",
    "elif grade >= 80:\n",
    "    print(\"You got a 'B' on the exam.\")\n",
    "elif grade >= 70:\n",
    "    print(\"You got a 'C' on the exam.\")\n",
    "elif grade >= 60:\n",
    "    print(\"You got a 'D' on the exam.\")\n",
    "else:\n",
    "    print(\"You got an 'F' on the exam.\")"
   ]
  }
 ],
 "metadata": {
  "kernelspec": {
   "display_name": "Python 3",
   "language": "python",
   "name": "python3"
  },
  "language_info": {
   "codemirror_mode": {
    "name": "ipython",
    "version": 3
   },
   "file_extension": ".py",
   "mimetype": "text/x-python",
   "name": "python",
   "nbconvert_exporter": "python",
   "pygments_lexer": "ipython3",
   "version": "3.8.5"
  }
 },
 "nbformat": 4,
 "nbformat_minor": 4
}
