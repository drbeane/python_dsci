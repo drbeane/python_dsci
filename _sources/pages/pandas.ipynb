{
 "cells": [
  {
   "cell_type": "markdown",
   "id": "3adfba96-1882-40e5-bab6-9f2ba95ba476",
   "metadata": {},
   "source": [
    "# Pandas"
   ]
  },
  {
   "cell_type": "markdown",
   "id": "12a7de4b-cd25-4f39-8923-53a127a1a0a6",
   "metadata": {
    "tags": []
   },
   "source": [
    "The pandas package provides us with the DataFrame data type for working with structured data, or in other words, data that is organized in a tabular format with defined rows and columns. \n",
    "\n",
    "We have previously seen two tools that can be used for working with structured data: 2D Numpy arrays and dictionaries. DataFrames provide the following advantages over these other data structures:\n",
    "\n",
    "1. The elements of a Numpy array must all be of the same data type. While individual columns of a pandas DataFrame must have a consistent data type, different columns can contain different types. \n",
    "\n",
    "2. Unlike a Numpy array, we can assign names to the columns and (less importantly) to the rows of a DataFrame. \n",
    "\n",
    "3. We have seen that we can use dictionaries to represent tabular data. For example, we can set the values in a dictionary to be lists representing columns, in which case the keys will represent column names. However, there would be no explicit concept of a row in such a setup. DataFrames explicitly define both rows and columns. \n",
    "\n",
    "It is a common convention to import pandas under the alias `pd`."
   ]
  },
  {
   "cell_type": "code",
   "execution_count": null,
   "id": "3d30616d-cd7f-4936-8039-8d81ba7fa0f0",
   "metadata": {},
   "outputs": [],
   "source": [
    "import pandas as pd"
   ]
  },
  {
   "cell_type": "code",
   "execution_count": null,
   "id": "8dd747d4-dce5-4290-9941-dc03e3c2e391",
   "metadata": {},
   "outputs": [],
   "source": []
  },
  {
   "cell_type": "code",
   "execution_count": null,
   "id": "995b73d9-e325-43b2-befe-478142c8a9f5",
   "metadata": {},
   "outputs": [],
   "source": []
  }
 ],
 "metadata": {
  "kernelspec": {
   "display_name": "Python 3 (ipykernel)",
   "language": "python",
   "name": "python3"
  },
  "language_info": {
   "codemirror_mode": {
    "name": "ipython",
    "version": 3
   },
   "file_extension": ".py",
   "mimetype": "text/x-python",
   "name": "python",
   "nbconvert_exporter": "python",
   "pygments_lexer": "ipython3",
   "version": "3.8.12"
  }
 },
 "nbformat": 4,
 "nbformat_minor": 5
}
