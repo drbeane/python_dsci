{
 "cells": [
  {
   "cell_type": "markdown",
   "id": "a7a328f3-29b8-4c44-ba32-47a247823cbd",
   "metadata": {},
   "source": [
    "# Higher Dimensional Arrays"
   ]
  }
 ],
 "metadata": {
  "kernelspec": {
   "display_name": "Python 3 (ipykernel)",
   "language": "python",
   "name": "python3"
  },
  "language_info": {
   "codemirror_mode": {
    "name": "ipython",
    "version": 3
   },
   "file_extension": ".py",
   "mimetype": "text/x-python",
   "name": "python",
   "nbconvert_exporter": "python",
   "pygments_lexer": "ipython3",
   "version": "3.8.12"
  }
 },
 "nbformat": 4,
 "nbformat_minor": 5
}
